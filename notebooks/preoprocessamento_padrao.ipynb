{
  "cells": [
    {
      "cell_type": "code",
      "execution_count": 1,
      "metadata": {
        "id": "mNEYaYrr_Li4"
      },
      "outputs": [],
      "source": [
        "import pandas as pd\n",
        "import numpy as np"
      ]
    },
    {
      "cell_type": "code",
      "execution_count": 2,
      "metadata": {
        "id": "CI3BFHqE_Li4",
        "colab": {
          "base_uri": "https://localhost:8080/"
        },
        "outputId": "ed27993a-932d-4eab-cf30-44949d767509"
      },
      "outputs": [
        {
          "output_type": "stream",
          "name": "stdout",
          "text": [
            "Downloading 1teoxduT3bJAkrD0k1YIPn-mbVI83oQox into ./dados_cvm.csv... \n",
            "82.9 MiB Done.\n",
            "Downloading 1J0fF-82tDg70wjaNg2Q8OGxPikA7phqp into ./dados_classes.csv... \n",
            "15.0 MiB Done.\n"
          ]
        }
      ],
      "source": [
        "google_id = '1teoxduT3bJAkrD0k1YIPn-mbVI83oQox'\n",
        "from google_drive_downloader import GoogleDriveDownloader as gdd\n",
        "gdd.download_file_from_google_drive(file_id=google_id,\n",
        "                                    dest_path = './dados_cvm.csv',\n",
        "                                    showsize = True)\n",
        "\n",
        "\n",
        "google_id = '1J0fF-82tDg70wjaNg2Q8OGxPikA7phqp'\n",
        "gdd.download_file_from_google_drive(file_id=google_id,\n",
        "                                    dest_path = './dados_classes.csv',\n",
        "                                    showsize = True)"
      ]
    },
    {
      "cell_type": "code",
      "source": [
        "df_1 = pd.read_csv('dados_cvm.csv')\n",
        "df_2 = pd.read_csv('dados_classes.csv')\n",
        "df = pd.merge(df_1, df_2, on='SK_Documento', how='inner')"
      ],
      "metadata": {
        "id": "S8gKqA5hBhsH",
        "colab": {
          "base_uri": "https://localhost:8080/"
        },
        "outputId": "704067f3-7ef2-4bce-ce9f-361df84f7077"
      },
      "execution_count": 3,
      "outputs": [
        {
          "output_type": "stream",
          "name": "stderr",
          "text": [
            "<ipython-input-3-83f4cfa87e7c>:1: DtypeWarning: Columns (12,14) have mixed types. Specify dtype option on import or set low_memory=False.\n",
            "  df_1 = pd.read_csv('dados_cvm.csv')\n"
          ]
        }
      ]
    },
    {
      "cell_type": "markdown",
      "source": [
        "# Passo 1: Agregar cotas em Subordinadas e Senior por fundo"
      ],
      "metadata": {
        "id": "tbBDYoZYjlzE"
      }
    },
    {
      "cell_type": "code",
      "source": [
        "print(f\"{len(df.loc[df['Patrimonio_Liquido'] == 0]) / len(df.index) * 100}% dos fundos tem PL == 0\")"
      ],
      "metadata": {
        "colab": {
          "base_uri": "https://localhost:8080/"
        },
        "id": "rrifa-TKARRI",
        "outputId": "bc7051bd-df2d-407f-b1ba-8d077947e4d2"
      },
      "execution_count": 4,
      "outputs": [
        {
          "output_type": "stream",
          "name": "stdout",
          "text": [
            "1.281484012254751% dos fundos tem PL == 0\n"
          ]
        }
      ]
    },
    {
      "cell_type": "code",
      "source": [
        "print(f\"{len(df.loc[df['Patrimonio_Liquido'] < 0]) / len(df.index) * 100}% dos fundos tem PL < 0\")"
      ],
      "metadata": {
        "colab": {
          "base_uri": "https://localhost:8080/"
        },
        "id": "UKNxhHEAATrd",
        "outputId": "89f31b01-6abe-4720-aa84-bc511d5d8fcb"
      },
      "execution_count": 5,
      "outputs": [
        {
          "output_type": "stream",
          "name": "stdout",
          "text": [
            "0.09073444492363185% dos fundos tem PL < 0\n"
          ]
        }
      ]
    },
    {
      "cell_type": "code",
      "source": [
        "print(f\"Pré-operação tinhamos {len(df.columns)} colunas e {len(df.index)} linhas\")\n",
        "print(f\"Pré-operação tinhamos {df['Classe_Serie'].nunique()} dados únicos na coluna Classe_Serie\")\n",
        "\n",
        "df.loc[df['Classe_Serie'].str.contains(\"sub\", case=False), 'Classe_Serie'] = \"Subordinada\"\n",
        "df.loc[df['Classe_Serie'].str.contains(\"nior\", case=False), 'Classe_Serie'] = \"Senior\"\n",
        "\n",
        "print(f\"Agora temos {len(df.columns)} colunas e {len(df.index)} linhas\")\n",
        "print(f\"Agora temos {df['Classe_Serie'].nunique()} dados únicos na coluna Classe_Serie\")\n"
      ],
      "metadata": {
        "colab": {
          "base_uri": "https://localhost:8080/"
        },
        "id": "68-YGJrOjlfw",
        "outputId": "5995e807-e3a6-4c95-f71a-8080a8766bf2"
      },
      "execution_count": 6,
      "outputs": [
        {
          "output_type": "stream",
          "name": "stdout",
          "text": [
            "Pré-operação tinhamos 336 colunas e 178543 linhas\n",
            "Pré-operação tinhamos 57 dados únicos na coluna Classe_Serie\n",
            "Agora temos 336 colunas e 178543 linhas\n",
            "Agora temos 2 dados únicos na coluna Classe_Serie\n"
          ]
        }
      ]
    },
    {
      "cell_type": "code",
      "source": [
        "# Agora vamos criar colunas agregando as 'cols_to_sum' por Subordinada e Senior\n",
        "classe_serie_types = [\"Subordinada\", \"Senior\"]\n",
        "cols_to_sum = [\"Numero_Cotistas\", \"Quantidade_Cotas\", \"Valor_Cota\", \"Rentabilidade\", \"Valor_Total_Captado\", \"Quantidade_Cotas_Emitidas\", \"Valor_Total_Resgates\", \"Quantidade_Cotas_Resgatadas\", \"Valor_A_Pagar\", \"Quantidade_Cotas_A_Resgatar\", \"Valor_Amortizado_Cota\", \"Valor_Total_Amortizacao\", \"Desempenho_Esperado\", \"Desempenho_Realizado\"]\n",
        "for classe_serie_type in classe_serie_types:\n",
        "  for col in cols_to_sum:\n",
        "    df[col + \"_\" + classe_serie_type] = df[df['Classe_Serie'] == classe_serie_type].groupby('ID_Documento')[col].transform('sum')\n",
        "\n",
        "print(f\"Agora temos {len(df.columns)} colunas e {len(df.index)} linhas\")"
      ],
      "metadata": {
        "colab": {
          "base_uri": "https://localhost:8080/"
        },
        "id": "xEWEoCzLnOzj",
        "outputId": "f728e57e-7cc4-4897-a85c-70c2d2860071"
      },
      "execution_count": 7,
      "outputs": [
        {
          "output_type": "stream",
          "name": "stdout",
          "text": [
            "Agora temos 364 colunas e 178543 linhas\n"
          ]
        }
      ]
    },
    {
      "cell_type": "code",
      "source": [
        "# Agora vamos remover fileiras duplicadas\n",
        "df.drop(cols_to_sum, axis=1, inplace=True)\n",
        "df = df.drop_duplicates()\n",
        "print(f\"Agora temos {len(df.columns)} colunas e {len(df.index)} linhas\")"
      ],
      "metadata": {
        "colab": {
          "base_uri": "https://localhost:8080/"
        },
        "id": "mDFDAse1vHIT",
        "outputId": "56cecd1b-e5c3-45c2-adfd-7b37594d1a04"
      },
      "execution_count": 8,
      "outputs": [
        {
          "output_type": "stream",
          "name": "stdout",
          "text": [
            "Agora temos 350 colunas e 111476 linhas\n"
          ]
        }
      ]
    },
    {
      "cell_type": "code",
      "source": [
        "df = df.groupby(\"ID_Documento\", as_index=False).agg(\"first\")\n",
        "print(f\"Agora temos {len(df.columns)} colunas e {len(df.index)} linhas\")"
      ],
      "metadata": {
        "colab": {
          "base_uri": "https://localhost:8080/"
        },
        "id": "AZus-ERC24P7",
        "outputId": "ffcb6299-955c-4142-c9ff-fc1399354d70"
      },
      "execution_count": 9,
      "outputs": [
        {
          "output_type": "stream",
          "name": "stdout",
          "text": [
            "Agora temos 350 colunas e 57275 linhas\n"
          ]
        }
      ]
    },
    {
      "cell_type": "markdown",
      "source": [
        "## Passo 2: Agregar Colunas por Prazo\n",
        "Precisamos reduzir o número de colunas, o primeiro passo para isso é juntar as colunas que envolvem prazo da seguinte maneira:\n",
        "\n",
        "- Somar campos entre 0 e 90 dias como `Curto Prazo (CP)`\n",
        "- Somar campos entre 90 e 365 dias como `Médio Prazo (MP)`\n",
        "- Somar campos acima de 365 dias como `Longo Prazo (LP)`"
      ],
      "metadata": {
        "id": "d1Qwmi9kqLqq"
      }
    },
    {
      "cell_type": "code",
      "source": [
        "# Create Aggregate Columns\n",
        "step_2_pretreat_col_count = len(df.columns)\n",
        "df['Carteira_Direitos_Aquisicao_Prazo_CP'] = df['Carteira_Direitos_Aquisicao_Prazo_1_30_dias'] + df['Carteira_Direitos_Aquisicao_Prazo_31_60_Dias'] + df['Carteira_Direitos_Aquisicao_Prazo_61_90_Dias']\n",
        "df['Carteira_Direitos_Aquisicao_Prazo_MP'] = df['Carteira_Direitos_Aquisicao_Prazo_91_120_Dias'] + df['Carteira_Direitos_Aquisicao_Prazo_121_150_Dias'] + df['Carteira_Direitos_Aquisicao_Prazo_151_180_Dias'] + df['Carteira_Direitos_Aquisicao_Prazo_181_360_Dias']\n",
        "df['Carteira_Direitos_Aquisicao_Prazo_LP'] = df['Carteira_Direitos_Aquisicao_Prazo_361_720_Dias'] + df['Carteira_Direitos_Aquisicao_Prazo_721_1080_Dias'] + df['Carteira_Direitos_Aquisicao_Prazo_Acima_1080_Dias']\n",
        "df['Carteira_Direitos_Aquisicao_Inadimplentes_CP'] = df['Carteira_Direitos_Aquisicao_Inadimplentes_1_30_Dias'] + df['Carteira_Direitos_Aquisicao_Inadimplentes_31_60_Dias'] + df['Carteira_Direitos_Aquisicao_Inadimplentes_61_90_Dias']\n",
        "df['Carteira_Direitos_Aquisicao_Inadimplentes_MP'] = df['Carteira_Direitos_Aquisicao_Inadimplentes_91_120_Dias'] + df['Carteira_Direitos_Aquisicao_Inadimplentes_121_150_Dias'] + df['Carteira_Direitos_Aquisicao_Inadimplentes_151_180_Dias'] + df['Carteira_Direitos_Aquisicao_Inadimplentes_181_360_Dias']\n",
        "df['Carteira_Direitos_Aquisicao_Inadimplentes_LP'] = df['Carteira_Direitos_Aquisicao_Inadimplentes_361_720_Dias'] + df['Carteira_Direitos_Aquisicao_Inadimplentes_721_1080_Dias'] + df['Carteira_Direitos_Aquisicao_Inadimplentes_Acima_1080_Dias']\n",
        "df['Carteira_Direitos_Aquisicao_Pagos_CP'] = df['Carteira_Direitos_Aquisicao_Pagos_1_30_Dias'] + df['Carteira_Direitos_Aquisicao_Pagos_31_60_Dias'] + df['Carteira_Direitos_Aquisicao_Pagos_61_90_Dias']\n",
        "df['Carteira_Direitos_Aquisicao_Pagos_MP'] = df['Carteira_Direitos_Aquisicao_Pagos_91_120_Dias'] + df['Carteira_Direitos_Aquisicao_Pagos_121_150_Dias'] + df['Carteira_Direitos_Aquisicao_Pagos_151_180_Dias'] + df['Carteira_Direitos_Aquisicao_Pagos_181_360_Dias']\n",
        "df['Carteira_Direitos_Aquisicao_Pagos_LP'] = df['Carteira_Direitos_Aquisicao_Pagos_361_720_Dias'] + df['Carteira_Direitos_Aquisicao_Pagos_721_1080_Dias'] + df['Carteira_Direitos_Aquisicao_Pagos_Acima_1080_Dias']\n",
        "df['Carteira_Direitos_Sem_Aquisicao_Prazo_CP'] = df['Carteira_Direitos_Sem_Aquisicao_Prazo_1_30_dias'] + df['Carteira_Direitos_Sem_Aquisicao_Prazo_31_60_Dias'] + df['Carteira_Direitos_Sem_Aquisicao_Prazo_61_90_Dias']\n",
        "df['Carteira_Direitos_Sem_Aquisicao_Prazo_MP'] = df['Carteira_Direitos_Sem_Aquisicao_Prazo_91_120_Dias'] + df['Carteira_Direitos_Sem_Aquisicao_Prazo_121_150_Dias'] + df['Carteira_Direitos_Sem_Aquisicao_Prazo_151_180_Dias'] + df['Carteira_Direitos_Sem_Aquisicao_Prazo_181_360_Dias']\n",
        "df['Carteira_Direitos_Sem_Aquisicao_Prazo_LP'] = df['Carteira_Direitos_Sem_Aquisicao_Prazo_361_720_Dias'] + df['Carteira_Direitos_Sem_Aquisicao_Prazo_721_1080_Dias'] + df['Carteira_Direitos_Sem_Aquisicao_Prazo_Acima_1080_Dias']\n",
        "df['Carteira_Direitos_Sem_Aquisicao_Inadimplentes_CP'] = df['Carteira_Direitos_Sem_Aquisicao_Inadimplentes_1_30_Dias'] + df['Carteira_Direitos_Sem_Aquisicao_Inadimplentes_31_60_Dias'] + df['Carteira_Direitos_Sem_Aquisicao_Inadimplentes_61_90_Dias']\n",
        "df['Carteira_Direitos_Sem_Aquisicao_Inadimplentes_MP'] = df['Carteira_Direitos_Sem_Aquisicao_Inadimplentes_91_120_Dias'] + df['Carteira_Direitos_Sem_Aquisicao_Inadimplentes_121_150_Dias'] + df['Carteira_Direitos_Sem_Aquisicao_Inadimplentes_151_180_Dias'] + df['Carteira_Direitos_Sem_Aquisicao_Inadimplentes_181_360_Dias']\n",
        "df['Carteira_Direitos_Sem_Aquisicao_Inadimplentes_LP'] = df['Carteira_Direitos_Sem_Aquisicao_Inadimplentes_361_720_Dias'] + df['Carteira_Direitos_Sem_Aquisicao_Inadimplentes_721_1080_Dias'] + df['Carteira_Direitos_Sem_Aquisicao_Inadimplentes_Acima_1080_Dias']\n",
        "df['Carteira_Direitos_Sem_Aquisicao_Pagos_CP'] = df['Carteira_Direitos_Sem_Aquisicao_Pagos_1_30_Dias'] + df['Carteira_Direitos_Sem_Aquisicao_Pagos_31_60_Dias'] + df['Carteira_Direitos_Sem_Aquisicao_Pagos_61_90_Dias']\n",
        "df['Carteira_Direitos_Sem_Aquisicao_Pagos_MP'] = df['Carteira_Direitos_Sem_Aquisicao_Pagos_91_120_Dias'] + df['Carteira_Direitos_Sem_Aquisicao_Pagos_121_150_Dias'] + df['Carteira_Direitos_Sem_Aquisicao_Pagos_151_180_Dias'] + df['Carteira_Direitos_Sem_Aquisicao_Pagos_181_360_Dias']\n",
        "df['Carteira_Direitos_Sem_Aquisicao_Pagos_LP'] = df['Carteira_Direitos_Sem_Aquisicao_Pagos_361_720_Dias'] + df['Carteira_Direitos_Sem_Aquisicao_Pagos_721_1080_Dias'] + df['Carteira_Direitos_Sem_Aquisicao_Pagos_Acima_1080_Dias']\n",
        "df['Liquidez_CP'] = df['Liquidez_Ate_30_Dias'] + df['Liquidez_Ate_60_Dias'] + df['Liquidez_Ate_90_Dias']\n",
        "df['Liquidez_MP'] = df['Liquidez_Ate_180_Dias'] + df['Liquidez_Ate_360_Dias']\n",
        "df['Liquidez_LP'] = df['Liquidez_Acima_360_Dias']\n",
        "\n",
        "agg_cols_to_drop = ['Carteira_Direitos_Aquisicao_Prazo_1_30_dias', 'Carteira_Direitos_Aquisicao_Prazo_31_60_Dias', 'Carteira_Direitos_Aquisicao_Prazo_61_90_Dias', 'Carteira_Direitos_Aquisicao_Prazo_91_120_Dias', 'Carteira_Direitos_Aquisicao_Prazo_121_150_Dias', 'Carteira_Direitos_Aquisicao_Prazo_151_180_Dias', 'Carteira_Direitos_Aquisicao_Prazo_181_360_Dias', 'Carteira_Direitos_Aquisicao_Prazo_361_720_Dias', 'Carteira_Direitos_Aquisicao_Prazo_721_1080_Dias', 'Carteira_Direitos_Aquisicao_Prazo_Acima_1080_Dias', 'Carteira_Direitos_Aquisicao_Inadimplentes_1_30_Dias', 'Carteira_Direitos_Aquisicao_Inadimplentes_31_60_Dias', 'Carteira_Direitos_Aquisicao_Inadimplentes_61_90_Dias', 'Carteira_Direitos_Aquisicao_Inadimplentes_91_120_Dias', 'Carteira_Direitos_Aquisicao_Inadimplentes_121_150_Dias', 'Carteira_Direitos_Aquisicao_Inadimplentes_151_180_Dias', 'Carteira_Direitos_Aquisicao_Inadimplentes_181_360_Dias', 'Carteira_Direitos_Aquisicao_Inadimplentes_361_720_Dias', 'Carteira_Direitos_Aquisicao_Inadimplentes_721_1080_Dias', 'Carteira_Direitos_Aquisicao_Inadimplentes_Acima_1080_Dias', 'Carteira_Direitos_Aquisicao_Pagos_1_30_Dias', 'Carteira_Direitos_Aquisicao_Pagos_31_60_Dias', 'Carteira_Direitos_Aquisicao_Pagos_61_90_Dias', 'Carteira_Direitos_Aquisicao_Pagos_91_120_Dias', 'Carteira_Direitos_Aquisicao_Pagos_121_150_Dias', 'Carteira_Direitos_Aquisicao_Pagos_151_180_Dias', 'Carteira_Direitos_Aquisicao_Pagos_181_360_Dias', 'Carteira_Direitos_Aquisicao_Pagos_361_720_Dias', 'Carteira_Direitos_Aquisicao_Pagos_721_1080_Dias', 'Carteira_Direitos_Aquisicao_Pagos_Acima_1080_Dias', 'Carteira_Direitos_Sem_Aquisicao_Prazo_1_30_dias', 'Carteira_Direitos_Sem_Aquisicao_Prazo_31_60_Dias', 'Carteira_Direitos_Sem_Aquisicao_Prazo_61_90_Dias', 'Carteira_Direitos_Sem_Aquisicao_Prazo_91_120_Dias', 'Carteira_Direitos_Sem_Aquisicao_Prazo_121_150_Dias', 'Carteira_Direitos_Sem_Aquisicao_Prazo_151_180_Dias', 'Carteira_Direitos_Sem_Aquisicao_Prazo_181_360_Dias', 'Carteira_Direitos_Sem_Aquisicao_Prazo_361_720_Dias', 'Carteira_Direitos_Sem_Aquisicao_Prazo_721_1080_Dias', 'Carteira_Direitos_Sem_Aquisicao_Prazo_Acima_1080_Dias', 'Carteira_Direitos_Sem_Aquisicao_Inadimplentes_1_30_Dias', 'Carteira_Direitos_Sem_Aquisicao_Inadimplentes_31_60_Dias', 'Carteira_Direitos_Sem_Aquisicao_Inadimplentes_61_90_Dias', 'Carteira_Direitos_Sem_Aquisicao_Inadimplentes_91_120_Dias', 'Carteira_Direitos_Sem_Aquisicao_Inadimplentes_121_150_Dias', 'Carteira_Direitos_Sem_Aquisicao_Inadimplentes_151_180_Dias', 'Carteira_Direitos_Sem_Aquisicao_Inadimplentes_181_360_Dias', 'Carteira_Direitos_Sem_Aquisicao_Inadimplentes_361_720_Dias', 'Carteira_Direitos_Sem_Aquisicao_Inadimplentes_721_1080_Dias', 'Carteira_Direitos_Sem_Aquisicao_Inadimplentes_Acima_1080_Dias', 'Carteira_Direitos_Sem_Aquisicao_Pagos_1_30_Dias', 'Carteira_Direitos_Sem_Aquisicao_Pagos_31_60_Dias', 'Carteira_Direitos_Sem_Aquisicao_Pagos_61_90_Dias', 'Carteira_Direitos_Sem_Aquisicao_Pagos_91_120_Dias', 'Carteira_Direitos_Sem_Aquisicao_Pagos_121_150_Dias', 'Carteira_Direitos_Sem_Aquisicao_Pagos_151_180_Dias', 'Carteira_Direitos_Sem_Aquisicao_Pagos_181_360_Dias', 'Carteira_Direitos_Sem_Aquisicao_Pagos_361_720_Dias', 'Carteira_Direitos_Sem_Aquisicao_Pagos_721_1080_Dias', 'Carteira_Direitos_Sem_Aquisicao_Pagos_Acima_1080_Dias', 'Liquidez_Ate_30_Dias', 'Liquidez_Ate_60_Dias', 'Liquidez_Ate_90_Dias', 'Liquidez_Ate_180_Dias', 'Liquidez_Ate_360_Dias', 'Liquidez_Acima_360_Dias']\n",
        "df.drop(agg_cols_to_drop, axis=1, inplace=True)\n",
        "step_2_posttreat_col_count = len(df.columns)\n",
        "\n",
        "print(f\"Dropamos {step_2_pretreat_col_count - step_2_posttreat_col_count} colunas\")\n",
        "print(f\"Agora temos {len(df.columns)} colunas e {len(df.index)} linhas\")"
      ],
      "metadata": {
        "colab": {
          "base_uri": "https://localhost:8080/"
        },
        "id": "AFy7iHNLqL1u",
        "outputId": "4fea83ae-98f6-47e2-bddb-6a744d9340b6"
      },
      "execution_count": 10,
      "outputs": [
        {
          "output_type": "stream",
          "name": "stdout",
          "text": [
            "Dropamos 45 colunas\n",
            "Agora temos 305 colunas e 57275 linhas\n"
          ]
        }
      ]
    },
    {
      "cell_type": "markdown",
      "source": [
        "# Passo 3: Dropas colunas onde todos os valores são iguais"
      ],
      "metadata": {
        "id": "dLNV-EHIqnfr"
      }
    },
    {
      "cell_type": "code",
      "source": [
        "# Dropar Colunas onde todos os valores são iguais\n",
        "nunique = df.nunique()\n",
        "cols_to_drop = nunique[nunique == 1].index\n",
        "\n",
        "print(f\"Dropando {len(cols_to_drop)} colunas onde todos os valores são iguais: \")\n",
        "print(cols_to_drop)\n",
        "df = df.drop(cols_to_drop, axis=1)\n",
        "\n",
        "print(f\"Agora temos {len(df.columns)} colunas e {len(df.index)} linhas\")"
      ],
      "metadata": {
        "colab": {
          "base_uri": "https://localhost:8080/"
        },
        "id": "PNrUMfOYqn6B",
        "outputId": "88798541-db78-4d86-f794-ead9218da3ff"
      },
      "execution_count": 11,
      "outputs": [
        {
          "output_type": "stream",
          "name": "stdout",
          "text": [
            "Dropando 15 colunas onde todos os valores são iguais: \n",
            "Index(['Ativo_Direitos_Sem_Aquisicao_Creditos_Performar',\n",
            "       'Ativo_Direitos_Sem_Aquisicao_Creditos_Empresas_Recuperacao',\n",
            "       'Ativo_Direitos_Sem_Aquisicao_Creditos_Receitas_Publicas',\n",
            "       'Ativo_Direitos_Sem_Aquisicao_Creditos_Fator_Risco',\n",
            "       'Ativo_Coberturas_Prestadas', 'Carteira_Creditos_Tributarios',\n",
            "       'Carteira_Royalties', 'Taxas_Titulos_Federais_Juros_Venda_Minina',\n",
            "       'Taxas_Titulos_Federais_Juros_Venda_Maxima',\n",
            "       'Taxas_CDB_Desconto_Venda_Minina',\n",
            "       'Taxas_CDB_Desconto_Venda_Media_Ponderada',\n",
            "       'Taxas_CDB_Desconto_Venda_Maxima', 'Taxas_CDB_Juros_Venda_Minina',\n",
            "       'Taxas_CDB_Juros_Venda_Media_Ponderada',\n",
            "       'Taxas_CDB_Juros_Venda_Maxima'],\n",
            "      dtype='object')\n",
            "Agora temos 290 colunas e 57275 linhas\n"
          ]
        }
      ]
    },
    {
      "cell_type": "markdown",
      "source": [
        "# Passo 4: Somar outros ativos em uma coluna resumida\n",
        "Aqui vamos somar as seguintas colunas em `Ativo_Outros`\n",
        "\n",
        "- `Ativo_Valores_Mobiliarios`\n",
        "- `Ativo_Titulos_Federais`\n",
        "- `Ativo_CDB`\n",
        "- `Ativo_Operacoes_Compromissadas`\n",
        "- `Ativo_Outros_Ativos_Renda_Fixa`\n",
        "- `Ativo_Cotas_FIDC`\n",
        "- `Ativo_Warrants`\n",
        "- `Ativo_Posicao_Derivativos`\n",
        "- `Ativo_Mercado_Termo`\n",
        "- `Ativo_Mercado_Opcoes`\n",
        "- `Ativo_Mercado_Futuro`\n",
        "- `Ativo_Diferencial_Swap`\n",
        "- `Ativo_Depositos_Margem`"
      ],
      "metadata": {
        "id": "k837WXp8qydd"
      }
    },
    {
      "cell_type": "code",
      "source": [
        "# Vamos somar outros ativos\n",
        "ativos_drop = [\"Ativo_Valores_Mobiliarios\", \"Ativo_Titulos_Federais\", \"Ativo_CDB\", \"Ativo_Operacoes_Compromissadas\", \"Ativo_Outros_Ativos_Renda_Fixa\", \"Ativo_Cotas_FIDC\", \"Ativo_Warrants\", \"Ativo_Posicao_Derivativos\", \"Ativo_Mercado_Termo\", \"Ativo_Mercado_Opcoes\", \"Ativo_Mercado_Futuro\", \"Ativo_Diferencial_Swap\", \"Ativo_Depositos_Margem\", \"Ativo_Debentures\", \"Ativo_CRI\", \"Ativo_Notas_Promissorias\", \"Ativo_Letras Financeiras\", \"Ativo_Cotas_Fundos_ICVM_555\", \"Ativo_Outros_Valores_Mobiliarios\", \"Ativo_Cotas_FIDC_NP\", \"Ativo_Provisao_Debentures_CRI_NP_LF\", \"Ativo_Provisao_Cotas_FIDC\", \"Ativo_Provisao_Outros_Ativos\"]\n",
        "\n",
        "for ativo in ativos_drop:\n",
        "  df[\"Ativo_Outros\"] = df[\"Ativo_Outros\"] +  df[ativo]\n",
        "\n",
        "df = df.drop(ativos_drop, axis=1)\n",
        "\n",
        "print(f\"Dropamos {len(ativos_drop)} colunas\")\n",
        "print(f\"Agora temos {len(df.columns)} colunas e {len(df.index)} linhas\")"
      ],
      "metadata": {
        "colab": {
          "base_uri": "https://localhost:8080/"
        },
        "id": "hMogXtXeqzJB",
        "outputId": "c14b86fd-4242-4c50-f062-b9ae9955be72"
      },
      "execution_count": 12,
      "outputs": [
        {
          "output_type": "stream",
          "name": "stdout",
          "text": [
            "Dropamos 23 colunas\n",
            "Agora temos 267 colunas e 57275 linhas\n"
          ]
        }
      ]
    },
    {
      "cell_type": "markdown",
      "source": [
        "# Passo 5: Criar uma coluna de `Provisao`"
      ],
      "metadata": {
        "id": "tP6mB-aysJcc"
      }
    },
    {
      "cell_type": "code",
      "source": [
        "df[\"Provisao\"] = df[\"Ativo_Direitos_Aquisicao_Provisao_Reducao\"] + df[\"Ativo_Direitos_Sem_Aquisicao_Provisao_Reducao\"]\n",
        "print(f\"Agora temos {len(df.columns)} colunas e {len(df.index)} linhas\")"
      ],
      "metadata": {
        "colab": {
          "base_uri": "https://localhost:8080/"
        },
        "id": "R_3wt-b1sJr-",
        "outputId": "102277e2-f93b-44f0-8b4a-a25f0db59361"
      },
      "execution_count": 13,
      "outputs": [
        {
          "output_type": "stream",
          "name": "stdout",
          "text": [
            "Agora temos 268 colunas e 57275 linhas\n"
          ]
        }
      ]
    },
    {
      "cell_type": "markdown",
      "source": [
        "# Manter apenas as colunas selecionadas"
      ],
      "metadata": {
        "id": "1iY_LbGzqi8B"
      }
    },
    {
      "cell_type": "code",
      "source": [
        "columns_to_keep = [\"CNPJ\", \"Data_Competencia\", \"Patrimonio_Liquido\", \"CNPJ_Administrador\", \"Forma_Condominio\", \"Carteira_Direitos_Aquisicao_Inadimplentes_CP\", \"Carteira_Direitos_Aquisicao_Inadimplentes_MP\", \"Carteira_Direitos_Aquisicao_Inadimplentes_LP\", \"Carteira_Direitos_Sem_Aquisicao_Inadimplentes_CP\", \"Carteira_Direitos_Sem_Aquisicao_Inadimplentes_MP\", \"Carteira_Direitos_Sem_Aquisicao_Inadimplentes_LP\", \"Liquidez_CP\", \"Liquidez_MP\", \"Liquidez_LP\", \"Carteira_Financeiro\", \"Provisao\", \"Quantidade_Cotas_Senior\", \"Valor_Cota_Senior\", \"Rentabilidade_Senior\", \"Valor_Total_Captado_Senior\", \"Valor_Total_Resgates_Senior\", \"Valor_A_Pagar_Senior\", \"Quantidade_Cotas_A_Resgatar_Senior\", \"Valor_Amortizado_Cota_Senior\", \"Valor_Total_Amortizacao_Senior\", \"Desempenho_Esperado_Senior\", \"Desempenho_Realizado_Senior\", \"Quantidade_Cotas_Subordinada\", \"Valor_Cota_Subordinada\", \"Rentabilidade_Subordinada\", \"Valor_Total_Captado_Subordinada\", \"Valor_Total_Resgates_Subordinada\", \"Valor_A_Pagar_Subordinada\", \"Quantidade_Cotas_A_Resgatar_Subordinada\", \"Valor_Amortizado_Cota_Subordinada\", \"Valor_Total_Amortizacao_Subordinada\", \"Desempenho_Esperado_Subordinada\", \"Desempenho_Realizado_Subordinada\"]\n",
        "df = df[columns_to_keep]\n",
        "\n",
        "print(f\"Agora temos {len(df.columns)} colunas e {len(df.index)} linhas\")"
      ],
      "metadata": {
        "id": "2iu5NBEDpAub",
        "colab": {
          "base_uri": "https://localhost:8080/"
        },
        "outputId": "032f9b6e-3033-4d13-9b86-0b6856bbd056"
      },
      "execution_count": 14,
      "outputs": [
        {
          "output_type": "stream",
          "name": "stdout",
          "text": [
            "Agora temos 38 colunas e 57275 linhas\n"
          ]
        }
      ]
    },
    {
      "cell_type": "markdown",
      "source": [
        "# Calcular índice de subordinação\n",
        "\n",
        "Índice de Subordinação = Valor Total das Cotas Subordinadas / PL do Fundo"
      ],
      "metadata": {
        "id": "dZznfOaqtB0i"
      }
    },
    {
      "cell_type": "code",
      "source": [],
      "metadata": {
        "id": "-R5CE0008K-Z"
      },
      "execution_count": null,
      "outputs": []
    }
  ],
  "metadata": {
    "kernelspec": {
      "display_name": "Python 3",
      "language": "python",
      "name": "python3"
    },
    "language_info": {
      "codemirror_mode": {
        "name": "ipython",
        "version": 3
      },
      "file_extension": ".py",
      "mimetype": "text/x-python",
      "name": "python",
      "nbconvert_exporter": "python",
      "pygments_lexer": "ipython3",
      "version": "3.10.5"
    },
    "orig_nbformat": 4,
    "colab": {
      "provenance": []
    }
  },
  "nbformat": 4,
  "nbformat_minor": 0
}
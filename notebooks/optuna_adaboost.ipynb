{
  "cells": [
    {
      "cell_type": "code",
      "execution_count": null,
      "metadata": {
        "colab": {
          "base_uri": "https://localhost:8080/"
        },
        "id": "28VnnqomLK9B",
        "outputId": "43ee7345-662c-42e2-e8f2-cb9786c595cf"
      },
      "outputs": [
        {
          "output_type": "stream",
          "name": "stdout",
          "text": [
            "sys.path = [\n",
            "    '/content',\n",
            "    '/env/python',\n",
            "    '/usr/lib/python310.zip',\n",
            "    '/usr/lib/python3.10',\n",
            "    '/usr/lib/python3.10/lib-dynload',\n",
            "    '/usr/local/lib/python3.10/dist-packages',\n",
            "    '/usr/lib/python3/dist-packages',\n",
            "]\n",
            "USER_BASE: '/root/.local' (exists)\n",
            "USER_SITE: '/root/.local/lib/python3.10/site-packages' (doesn't exist)\n",
            "ENABLE_USER_SITE: True\n"
          ]
        }
      ],
      "source": [
        "!python -m site"
      ]
    },
    {
      "cell_type": "code",
      "execution_count": null,
      "metadata": {
        "colab": {
          "base_uri": "https://localhost:8080/"
        },
        "id": "yUfd8IreP8vc",
        "outputId": "ffdcd24b-8ea2-4cff-8153-0610d693db5d"
      },
      "outputs": [
        {
          "output_type": "stream",
          "name": "stdout",
          "text": [
            "nvcc: NVIDIA (R) Cuda compiler driver\n",
            "Copyright (c) 2005-2022 NVIDIA Corporation\n",
            "Built on Wed_Sep_21_10:33:58_PDT_2022\n",
            "Cuda compilation tools, release 11.8, V11.8.89\n",
            "Build cuda_11.8.r11.8/compiler.31833905_0\n"
          ]
        }
      ],
      "source": [
        "!nvcc --version\n"
      ]
    },
    {
      "cell_type": "code",
      "execution_count": null,
      "metadata": {
        "colab": {
          "base_uri": "https://localhost:8080/"
        },
        "id": "_MJUcqQlrjnl",
        "outputId": "071cb977-76b2-4734-a6c6-156fdb676a88"
      },
      "outputs": [
        {
          "output_type": "stream",
          "name": "stdout",
          "text": [
            "Collecting optuna\n",
            "  Downloading optuna-3.3.0-py3-none-any.whl (404 kB)\n",
            "\u001b[2K     \u001b[90m━━━━━━━━━━━━━━━━━━━━━━━━━━━━━━━━━━━━━━━\u001b[0m \u001b[32m404.2/404.2 kB\u001b[0m \u001b[31m3.3 MB/s\u001b[0m eta \u001b[36m0:00:00\u001b[0m\n",
            "\u001b[?25hCollecting alembic>=1.5.0 (from optuna)\n",
            "  Downloading alembic-1.12.0-py3-none-any.whl (226 kB)\n",
            "\u001b[2K     \u001b[90m━━━━━━━━━━━━━━━━━━━━━━━━━━━━━━━━━━━━━━━\u001b[0m \u001b[32m226.0/226.0 kB\u001b[0m \u001b[31m7.4 MB/s\u001b[0m eta \u001b[36m0:00:00\u001b[0m\n",
            "\u001b[?25hCollecting cmaes>=0.10.0 (from optuna)\n",
            "  Downloading cmaes-0.10.0-py3-none-any.whl (29 kB)\n",
            "Collecting colorlog (from optuna)\n",
            "  Downloading colorlog-6.7.0-py2.py3-none-any.whl (11 kB)\n",
            "Requirement already satisfied: numpy in /usr/local/lib/python3.10/dist-packages (from optuna) (1.23.5)\n",
            "Requirement already satisfied: packaging>=20.0 in /usr/local/lib/python3.10/dist-packages (from optuna) (23.1)\n",
            "Requirement already satisfied: sqlalchemy>=1.3.0 in /usr/local/lib/python3.10/dist-packages (from optuna) (2.0.21)\n",
            "Requirement already satisfied: tqdm in /usr/local/lib/python3.10/dist-packages (from optuna) (4.66.1)\n",
            "Requirement already satisfied: PyYAML in /usr/local/lib/python3.10/dist-packages (from optuna) (6.0.1)\n",
            "Collecting Mako (from alembic>=1.5.0->optuna)\n",
            "  Downloading Mako-1.2.4-py3-none-any.whl (78 kB)\n",
            "\u001b[2K     \u001b[90m━━━━━━━━━━━━━━━━━━━━━━━━━━━━━━━━━━━━━━━━\u001b[0m \u001b[32m78.7/78.7 kB\u001b[0m \u001b[31m9.5 MB/s\u001b[0m eta \u001b[36m0:00:00\u001b[0m\n",
            "\u001b[?25hRequirement already satisfied: typing-extensions>=4 in /usr/local/lib/python3.10/dist-packages (from alembic>=1.5.0->optuna) (4.5.0)\n",
            "Requirement already satisfied: greenlet!=0.4.17 in /usr/local/lib/python3.10/dist-packages (from sqlalchemy>=1.3.0->optuna) (2.0.2)\n",
            "Requirement already satisfied: MarkupSafe>=0.9.2 in /usr/local/lib/python3.10/dist-packages (from Mako->alembic>=1.5.0->optuna) (2.1.3)\n",
            "Installing collected packages: Mako, colorlog, cmaes, alembic, optuna\n",
            "Successfully installed Mako-1.2.4 alembic-1.12.0 cmaes-0.10.0 colorlog-6.7.0 optuna-3.3.0\n"
          ]
        }
      ],
      "source": [
        "!pip install optuna"
      ]
    },
    {
      "cell_type": "code",
      "execution_count": null,
      "metadata": {
        "id": "mNEYaYrr_Li4"
      },
      "outputs": [],
      "source": [
        "import pandas as pd\n",
        "import numpy as np\n",
        "import matplotlib.pyplot as plt\n",
        "import seaborn as sns\n",
        "import math"
      ]
    },
    {
      "cell_type": "code",
      "execution_count": null,
      "metadata": {
        "id": "DV5djok9tHKR"
      },
      "outputs": [],
      "source": [
        "import os\n",
        "os.environ['KMP_DUPLICATE_LIB_OK']='True'"
      ]
    },
    {
      "cell_type": "code",
      "execution_count": null,
      "metadata": {
        "id": "CI3BFHqE_Li4",
        "colab": {
          "base_uri": "https://localhost:8080/"
        },
        "outputId": "45ad3310-54ed-4e62-a23c-9fbd9373052a"
      },
      "outputs": [
        {
          "output_type": "stream",
          "name": "stdout",
          "text": [
            "Downloading 1teoxduT3bJAkrD0k1YIPn-mbVI83oQox into ./dados_cvm.csv... \n",
            "82.9 MiB Done.\n",
            "Downloading 1J0fF-82tDg70wjaNg2Q8OGxPikA7phqp into ./dados_classes.csv... \n",
            "15.0 MiB Done.\n",
            "Downloading 12Ior9IH6xpACUIP0qRWCvGNRs9774150 into ./synthetic_data_realistic.csv... \n",
            "26.9 MiB Done.\n"
          ]
        }
      ],
      "source": [
        "google_id = '1teoxduT3bJAkrD0k1YIPn-mbVI83oQox'\n",
        "from google_drive_downloader import GoogleDriveDownloader as gdd\n",
        "gdd.download_file_from_google_drive(file_id=google_id,\n",
        "                                    dest_path = './dados_cvm.csv',\n",
        "                                    showsize = True)\n",
        "\n",
        "\n",
        "google_id = '1J0fF-82tDg70wjaNg2Q8OGxPikA7phqp'\n",
        "gdd.download_file_from_google_drive(file_id=google_id,\n",
        "                                    dest_path = './dados_classes.csv',\n",
        "                                    showsize = True)\n",
        "\n",
        "\n",
        "google_id = '12Ior9IH6xpACUIP0qRWCvGNRs9774150'\n",
        "gdd.download_file_from_google_drive(file_id=google_id,\n",
        "                                    dest_path = './synthetic_data_realistic.csv',\n",
        "                                    showsize = True)"
      ]
    },
    {
      "cell_type": "code",
      "execution_count": null,
      "metadata": {
        "colab": {
          "base_uri": "https://localhost:8080/"
        },
        "id": "S8gKqA5hBhsH",
        "outputId": "d227fa72-e5e6-4816-82af-108f5d715be5"
      },
      "outputs": [
        {
          "output_type": "stream",
          "name": "stderr",
          "text": [
            "<ipython-input-7-83f4cfa87e7c>:1: DtypeWarning: Columns (12,14) have mixed types. Specify dtype option on import or set low_memory=False.\n",
            "  df_1 = pd.read_csv('dados_cvm.csv')\n"
          ]
        }
      ],
      "source": [
        "df_1 = pd.read_csv('dados_cvm.csv')\n",
        "df_2 = pd.read_csv('dados_classes.csv')\n",
        "df = pd.merge(df_1, df_2, on='SK_Documento', how='inner')"
      ]
    },
    {
      "cell_type": "markdown",
      "metadata": {
        "id": "tbBDYoZYjlzE"
      },
      "source": [
        "# Passo 1: Agregar cotas em Subordinadas e Senior por fundo"
      ]
    },
    {
      "cell_type": "code",
      "execution_count": null,
      "metadata": {
        "colab": {
          "base_uri": "https://localhost:8080/"
        },
        "id": "rrifa-TKARRI",
        "outputId": "19e8b0d9-29d3-4285-b80a-6c8bcd26475e"
      },
      "outputs": [
        {
          "output_type": "stream",
          "name": "stdout",
          "text": [
            "1.281484012254751% dos fundos tem PL == 0\n"
          ]
        }
      ],
      "source": [
        "print(f\"{len(df.loc[df['Patrimonio_Liquido'] == 0]) / len(df.index) * 100}% dos fundos tem PL == 0\")"
      ]
    },
    {
      "cell_type": "code",
      "execution_count": null,
      "metadata": {
        "colab": {
          "base_uri": "https://localhost:8080/"
        },
        "id": "UKNxhHEAATrd",
        "outputId": "74b2e5ef-a832-4412-98e6-a592cb1dc454"
      },
      "outputs": [
        {
          "output_type": "stream",
          "name": "stdout",
          "text": [
            "0.09073444492363185% dos fundos tem PL < 0\n"
          ]
        }
      ],
      "source": [
        "print(f\"{len(df.loc[df['Patrimonio_Liquido'] < 0]) / len(df.index) * 100}% dos fundos tem PL < 0\")"
      ]
    },
    {
      "cell_type": "code",
      "execution_count": null,
      "metadata": {
        "colab": {
          "base_uri": "https://localhost:8080/"
        },
        "id": "68-YGJrOjlfw",
        "outputId": "ee07b53e-b522-41be-a3bd-2e59f4253319"
      },
      "outputs": [
        {
          "output_type": "stream",
          "name": "stdout",
          "text": [
            "Pré-operação tinhamos 336 colunas e 178543 linhas\n",
            "Pré-operação tinhamos 57 dados únicos na coluna Classe_Serie\n",
            "Agora temos 336 colunas e 178543 linhas\n",
            "Agora temos 2 dados únicos na coluna Classe_Serie\n"
          ]
        }
      ],
      "source": [
        "print(f\"Pré-operação tinhamos {len(df.columns)} colunas e {len(df.index)} linhas\")\n",
        "print(f\"Pré-operação tinhamos {df['Classe_Serie'].nunique()} dados únicos na coluna Classe_Serie\")\n",
        "\n",
        "df.loc[df['Classe_Serie'].str.contains(\"sub\", case=False), 'Classe_Serie'] = \"Subordinada\"\n",
        "df.loc[df['Classe_Serie'].str.contains(\"nior\", case=False), 'Classe_Serie'] = \"Senior\"\n",
        "\n",
        "print(f\"Agora temos {len(df.columns)} colunas e {len(df.index)} linhas\")\n",
        "print(f\"Agora temos {df['Classe_Serie'].nunique()} dados únicos na coluna Classe_Serie\")\n"
      ]
    },
    {
      "cell_type": "code",
      "execution_count": null,
      "metadata": {
        "colab": {
          "base_uri": "https://localhost:8080/"
        },
        "id": "xEWEoCzLnOzj",
        "outputId": "4bd5cf7a-d00e-47d2-862d-b423370db7a1"
      },
      "outputs": [
        {
          "output_type": "stream",
          "name": "stdout",
          "text": [
            "Agora temos 364 colunas e 178543 linhas\n"
          ]
        }
      ],
      "source": [
        "# Agora vamos criar colunas agregando as 'cols_to_sum' por Subordinada e Senior\n",
        "classe_serie_types = [\"Subordinada\", \"Senior\"]\n",
        "cols_to_sum = [\"Numero_Cotistas\", \"Quantidade_Cotas\", \"Valor_Cota\", \"Rentabilidade\", \"Valor_Total_Captado\", \"Quantidade_Cotas_Emitidas\", \"Valor_Total_Resgates\", \"Quantidade_Cotas_Resgatadas\", \"Valor_A_Pagar\", \"Quantidade_Cotas_A_Resgatar\", \"Valor_Amortizado_Cota\", \"Valor_Total_Amortizacao\", \"Desempenho_Esperado\", \"Desempenho_Realizado\"]\n",
        "for classe_serie_type in classe_serie_types:\n",
        "  for col in cols_to_sum:\n",
        "    df[col + \"_\" + classe_serie_type] = df[df['Classe_Serie'] == classe_serie_type].groupby('ID_Documento')[col].transform('sum')\n",
        "\n",
        "print(f\"Agora temos {len(df.columns)} colunas e {len(df.index)} linhas\")"
      ]
    },
    {
      "cell_type": "code",
      "execution_count": null,
      "metadata": {
        "colab": {
          "base_uri": "https://localhost:8080/"
        },
        "id": "mDFDAse1vHIT",
        "outputId": "e5f00fb3-43f4-4693-b543-9b953f4168aa"
      },
      "outputs": [
        {
          "output_type": "stream",
          "name": "stdout",
          "text": [
            "Agora temos 350 colunas e 111476 linhas\n"
          ]
        }
      ],
      "source": [
        "# Agora vamos remover fileiras duplicadas\n",
        "df.drop(cols_to_sum, axis=1, inplace=True)\n",
        "df = df.drop_duplicates()\n",
        "print(f\"Agora temos {len(df.columns)} colunas e {len(df.index)} linhas\")"
      ]
    },
    {
      "cell_type": "code",
      "execution_count": null,
      "metadata": {
        "colab": {
          "base_uri": "https://localhost:8080/"
        },
        "id": "AZus-ERC24P7",
        "outputId": "ec976fc5-6b6a-44dc-8817-bbb6f795d680"
      },
      "outputs": [
        {
          "output_type": "stream",
          "name": "stdout",
          "text": [
            "Agora temos 350 colunas e 57275 linhas\n"
          ]
        }
      ],
      "source": [
        "df = df.groupby(\"ID_Documento\", as_index=False).agg(\"first\")\n",
        "print(f\"Agora temos {len(df.columns)} colunas e {len(df.index)} linhas\")"
      ]
    },
    {
      "cell_type": "markdown",
      "metadata": {
        "id": "d1Qwmi9kqLqq"
      },
      "source": [
        "## Passo 2: Agregar Colunas por Prazo\n",
        "Precisamos reduzir o número de colunas, o primeiro passo para isso é juntar as colunas que envolvem prazo da seguinte maneira:\n",
        "\n",
        "- Somar campos entre 0 e 90 dias como `Curto Prazo (CP)`\n",
        "- Somar campos entre 90 e 365 dias como `Médio Prazo (MP)`\n",
        "- Somar campos acima de 365 dias como `Longo Prazo (LP)`"
      ]
    },
    {
      "cell_type": "code",
      "execution_count": null,
      "metadata": {
        "colab": {
          "base_uri": "https://localhost:8080/"
        },
        "id": "AFy7iHNLqL1u",
        "outputId": "c82198ff-847e-46a4-a576-fa265209cf90"
      },
      "outputs": [
        {
          "output_type": "stream",
          "name": "stdout",
          "text": [
            "Dropamos 45 colunas\n",
            "Agora temos 305 colunas e 57275 linhas\n"
          ]
        }
      ],
      "source": [
        "# Create Aggregate Columns\n",
        "step_2_pretreat_col_count = len(df.columns)\n",
        "df['Carteira_Direitos_Aquisicao_Prazo_CP'] = df['Carteira_Direitos_Aquisicao_Prazo_1_30_dias'] + df['Carteira_Direitos_Aquisicao_Prazo_31_60_Dias'] + df['Carteira_Direitos_Aquisicao_Prazo_61_90_Dias']\n",
        "df['Carteira_Direitos_Aquisicao_Prazo_MP'] = df['Carteira_Direitos_Aquisicao_Prazo_91_120_Dias'] + df['Carteira_Direitos_Aquisicao_Prazo_121_150_Dias'] + df['Carteira_Direitos_Aquisicao_Prazo_151_180_Dias'] + df['Carteira_Direitos_Aquisicao_Prazo_181_360_Dias']\n",
        "df['Carteira_Direitos_Aquisicao_Prazo_LP'] = df['Carteira_Direitos_Aquisicao_Prazo_361_720_Dias'] + df['Carteira_Direitos_Aquisicao_Prazo_721_1080_Dias'] + df['Carteira_Direitos_Aquisicao_Prazo_Acima_1080_Dias']\n",
        "df['Carteira_Direitos_Aquisicao_Inadimplentes_CP'] = df['Carteira_Direitos_Aquisicao_Inadimplentes_1_30_Dias'] + df['Carteira_Direitos_Aquisicao_Inadimplentes_31_60_Dias'] + df['Carteira_Direitos_Aquisicao_Inadimplentes_61_90_Dias']\n",
        "df['Carteira_Direitos_Aquisicao_Inadimplentes_MP'] = df['Carteira_Direitos_Aquisicao_Inadimplentes_91_120_Dias'] + df['Carteira_Direitos_Aquisicao_Inadimplentes_121_150_Dias'] + df['Carteira_Direitos_Aquisicao_Inadimplentes_151_180_Dias'] + df['Carteira_Direitos_Aquisicao_Inadimplentes_181_360_Dias']\n",
        "df['Carteira_Direitos_Aquisicao_Inadimplentes_LP'] = df['Carteira_Direitos_Aquisicao_Inadimplentes_361_720_Dias'] + df['Carteira_Direitos_Aquisicao_Inadimplentes_721_1080_Dias'] + df['Carteira_Direitos_Aquisicao_Inadimplentes_Acima_1080_Dias']\n",
        "df['Carteira_Direitos_Aquisicao_Pagos_CP'] = df['Carteira_Direitos_Aquisicao_Pagos_1_30_Dias'] + df['Carteira_Direitos_Aquisicao_Pagos_31_60_Dias'] + df['Carteira_Direitos_Aquisicao_Pagos_61_90_Dias']\n",
        "df['Carteira_Direitos_Aquisicao_Pagos_MP'] = df['Carteira_Direitos_Aquisicao_Pagos_91_120_Dias'] + df['Carteira_Direitos_Aquisicao_Pagos_121_150_Dias'] + df['Carteira_Direitos_Aquisicao_Pagos_151_180_Dias'] + df['Carteira_Direitos_Aquisicao_Pagos_181_360_Dias']\n",
        "df['Carteira_Direitos_Aquisicao_Pagos_LP'] = df['Carteira_Direitos_Aquisicao_Pagos_361_720_Dias'] + df['Carteira_Direitos_Aquisicao_Pagos_721_1080_Dias'] + df['Carteira_Direitos_Aquisicao_Pagos_Acima_1080_Dias']\n",
        "df['Carteira_Direitos_Sem_Aquisicao_Prazo_CP'] = df['Carteira_Direitos_Sem_Aquisicao_Prazo_1_30_dias'] + df['Carteira_Direitos_Sem_Aquisicao_Prazo_31_60_Dias'] + df['Carteira_Direitos_Sem_Aquisicao_Prazo_61_90_Dias']\n",
        "df['Carteira_Direitos_Sem_Aquisicao_Prazo_MP'] = df['Carteira_Direitos_Sem_Aquisicao_Prazo_91_120_Dias'] + df['Carteira_Direitos_Sem_Aquisicao_Prazo_121_150_Dias'] + df['Carteira_Direitos_Sem_Aquisicao_Prazo_151_180_Dias'] + df['Carteira_Direitos_Sem_Aquisicao_Prazo_181_360_Dias']\n",
        "df['Carteira_Direitos_Sem_Aquisicao_Prazo_LP'] = df['Carteira_Direitos_Sem_Aquisicao_Prazo_361_720_Dias'] + df['Carteira_Direitos_Sem_Aquisicao_Prazo_721_1080_Dias'] + df['Carteira_Direitos_Sem_Aquisicao_Prazo_Acima_1080_Dias']\n",
        "df['Carteira_Direitos_Sem_Aquisicao_Inadimplentes_CP'] = df['Carteira_Direitos_Sem_Aquisicao_Inadimplentes_1_30_Dias'] + df['Carteira_Direitos_Sem_Aquisicao_Inadimplentes_31_60_Dias'] + df['Carteira_Direitos_Sem_Aquisicao_Inadimplentes_61_90_Dias']\n",
        "df['Carteira_Direitos_Sem_Aquisicao_Inadimplentes_MP'] = df['Carteira_Direitos_Sem_Aquisicao_Inadimplentes_91_120_Dias'] + df['Carteira_Direitos_Sem_Aquisicao_Inadimplentes_121_150_Dias'] + df['Carteira_Direitos_Sem_Aquisicao_Inadimplentes_151_180_Dias'] + df['Carteira_Direitos_Sem_Aquisicao_Inadimplentes_181_360_Dias']\n",
        "df['Carteira_Direitos_Sem_Aquisicao_Inadimplentes_LP'] = df['Carteira_Direitos_Sem_Aquisicao_Inadimplentes_361_720_Dias'] + df['Carteira_Direitos_Sem_Aquisicao_Inadimplentes_721_1080_Dias'] + df['Carteira_Direitos_Sem_Aquisicao_Inadimplentes_Acima_1080_Dias']\n",
        "df['Carteira_Direitos_Sem_Aquisicao_Pagos_CP'] = df['Carteira_Direitos_Sem_Aquisicao_Pagos_1_30_Dias'] + df['Carteira_Direitos_Sem_Aquisicao_Pagos_31_60_Dias'] + df['Carteira_Direitos_Sem_Aquisicao_Pagos_61_90_Dias']\n",
        "df['Carteira_Direitos_Sem_Aquisicao_Pagos_MP'] = df['Carteira_Direitos_Sem_Aquisicao_Pagos_91_120_Dias'] + df['Carteira_Direitos_Sem_Aquisicao_Pagos_121_150_Dias'] + df['Carteira_Direitos_Sem_Aquisicao_Pagos_151_180_Dias'] + df['Carteira_Direitos_Sem_Aquisicao_Pagos_181_360_Dias']\n",
        "df['Carteira_Direitos_Sem_Aquisicao_Pagos_LP'] = df['Carteira_Direitos_Sem_Aquisicao_Pagos_361_720_Dias'] + df['Carteira_Direitos_Sem_Aquisicao_Pagos_721_1080_Dias'] + df['Carteira_Direitos_Sem_Aquisicao_Pagos_Acima_1080_Dias']\n",
        "df['Liquidez_CP'] = df['Liquidez_Ate_30_Dias'] + df['Liquidez_Ate_60_Dias'] + df['Liquidez_Ate_90_Dias']\n",
        "df['Liquidez_MP'] = df['Liquidez_Ate_180_Dias'] + df['Liquidez_Ate_360_Dias']\n",
        "df['Liquidez_LP'] = df['Liquidez_Acima_360_Dias']\n",
        "\n",
        "agg_cols_to_drop = ['Carteira_Direitos_Aquisicao_Prazo_1_30_dias', 'Carteira_Direitos_Aquisicao_Prazo_31_60_Dias', 'Carteira_Direitos_Aquisicao_Prazo_61_90_Dias', 'Carteira_Direitos_Aquisicao_Prazo_91_120_Dias', 'Carteira_Direitos_Aquisicao_Prazo_121_150_Dias', 'Carteira_Direitos_Aquisicao_Prazo_151_180_Dias', 'Carteira_Direitos_Aquisicao_Prazo_181_360_Dias', 'Carteira_Direitos_Aquisicao_Prazo_361_720_Dias', 'Carteira_Direitos_Aquisicao_Prazo_721_1080_Dias', 'Carteira_Direitos_Aquisicao_Prazo_Acima_1080_Dias', 'Carteira_Direitos_Aquisicao_Inadimplentes_1_30_Dias', 'Carteira_Direitos_Aquisicao_Inadimplentes_31_60_Dias', 'Carteira_Direitos_Aquisicao_Inadimplentes_61_90_Dias', 'Carteira_Direitos_Aquisicao_Inadimplentes_91_120_Dias', 'Carteira_Direitos_Aquisicao_Inadimplentes_121_150_Dias', 'Carteira_Direitos_Aquisicao_Inadimplentes_151_180_Dias', 'Carteira_Direitos_Aquisicao_Inadimplentes_181_360_Dias', 'Carteira_Direitos_Aquisicao_Inadimplentes_361_720_Dias', 'Carteira_Direitos_Aquisicao_Inadimplentes_721_1080_Dias', 'Carteira_Direitos_Aquisicao_Inadimplentes_Acima_1080_Dias', 'Carteira_Direitos_Aquisicao_Pagos_1_30_Dias', 'Carteira_Direitos_Aquisicao_Pagos_31_60_Dias', 'Carteira_Direitos_Aquisicao_Pagos_61_90_Dias', 'Carteira_Direitos_Aquisicao_Pagos_91_120_Dias', 'Carteira_Direitos_Aquisicao_Pagos_121_150_Dias', 'Carteira_Direitos_Aquisicao_Pagos_151_180_Dias', 'Carteira_Direitos_Aquisicao_Pagos_181_360_Dias', 'Carteira_Direitos_Aquisicao_Pagos_361_720_Dias', 'Carteira_Direitos_Aquisicao_Pagos_721_1080_Dias', 'Carteira_Direitos_Aquisicao_Pagos_Acima_1080_Dias', 'Carteira_Direitos_Sem_Aquisicao_Prazo_1_30_dias', 'Carteira_Direitos_Sem_Aquisicao_Prazo_31_60_Dias', 'Carteira_Direitos_Sem_Aquisicao_Prazo_61_90_Dias', 'Carteira_Direitos_Sem_Aquisicao_Prazo_91_120_Dias', 'Carteira_Direitos_Sem_Aquisicao_Prazo_121_150_Dias', 'Carteira_Direitos_Sem_Aquisicao_Prazo_151_180_Dias', 'Carteira_Direitos_Sem_Aquisicao_Prazo_181_360_Dias', 'Carteira_Direitos_Sem_Aquisicao_Prazo_361_720_Dias', 'Carteira_Direitos_Sem_Aquisicao_Prazo_721_1080_Dias', 'Carteira_Direitos_Sem_Aquisicao_Prazo_Acima_1080_Dias', 'Carteira_Direitos_Sem_Aquisicao_Inadimplentes_1_30_Dias', 'Carteira_Direitos_Sem_Aquisicao_Inadimplentes_31_60_Dias', 'Carteira_Direitos_Sem_Aquisicao_Inadimplentes_61_90_Dias', 'Carteira_Direitos_Sem_Aquisicao_Inadimplentes_91_120_Dias', 'Carteira_Direitos_Sem_Aquisicao_Inadimplentes_121_150_Dias', 'Carteira_Direitos_Sem_Aquisicao_Inadimplentes_151_180_Dias', 'Carteira_Direitos_Sem_Aquisicao_Inadimplentes_181_360_Dias', 'Carteira_Direitos_Sem_Aquisicao_Inadimplentes_361_720_Dias', 'Carteira_Direitos_Sem_Aquisicao_Inadimplentes_721_1080_Dias', 'Carteira_Direitos_Sem_Aquisicao_Inadimplentes_Acima_1080_Dias', 'Carteira_Direitos_Sem_Aquisicao_Pagos_1_30_Dias', 'Carteira_Direitos_Sem_Aquisicao_Pagos_31_60_Dias', 'Carteira_Direitos_Sem_Aquisicao_Pagos_61_90_Dias', 'Carteira_Direitos_Sem_Aquisicao_Pagos_91_120_Dias', 'Carteira_Direitos_Sem_Aquisicao_Pagos_121_150_Dias', 'Carteira_Direitos_Sem_Aquisicao_Pagos_151_180_Dias', 'Carteira_Direitos_Sem_Aquisicao_Pagos_181_360_Dias', 'Carteira_Direitos_Sem_Aquisicao_Pagos_361_720_Dias', 'Carteira_Direitos_Sem_Aquisicao_Pagos_721_1080_Dias', 'Carteira_Direitos_Sem_Aquisicao_Pagos_Acima_1080_Dias', 'Liquidez_Ate_30_Dias', 'Liquidez_Ate_60_Dias', 'Liquidez_Ate_90_Dias', 'Liquidez_Ate_180_Dias', 'Liquidez_Ate_360_Dias', 'Liquidez_Acima_360_Dias']\n",
        "df.drop(agg_cols_to_drop, axis=1, inplace=True)\n",
        "step_2_posttreat_col_count = len(df.columns)\n",
        "\n",
        "print(f\"Dropamos {step_2_pretreat_col_count - step_2_posttreat_col_count} colunas\")\n",
        "print(f\"Agora temos {len(df.columns)} colunas e {len(df.index)} linhas\")"
      ]
    },
    {
      "cell_type": "markdown",
      "metadata": {
        "id": "dLNV-EHIqnfr"
      },
      "source": [
        "# Passo 3: Dropas colunas onde todos os valores são iguais"
      ]
    },
    {
      "cell_type": "code",
      "execution_count": null,
      "metadata": {
        "colab": {
          "base_uri": "https://localhost:8080/"
        },
        "id": "PNrUMfOYqn6B",
        "outputId": "093a2a7d-e55f-45d3-fbe3-2bc9c96bb6d3"
      },
      "outputs": [
        {
          "output_type": "stream",
          "name": "stdout",
          "text": [
            "Dropando 15 colunas onde todos os valores são iguais: \n",
            "Index(['Ativo_Direitos_Sem_Aquisicao_Creditos_Performar',\n",
            "       'Ativo_Direitos_Sem_Aquisicao_Creditos_Empresas_Recuperacao',\n",
            "       'Ativo_Direitos_Sem_Aquisicao_Creditos_Receitas_Publicas',\n",
            "       'Ativo_Direitos_Sem_Aquisicao_Creditos_Fator_Risco',\n",
            "       'Ativo_Coberturas_Prestadas', 'Carteira_Creditos_Tributarios',\n",
            "       'Carteira_Royalties', 'Taxas_Titulos_Federais_Juros_Venda_Minina',\n",
            "       'Taxas_Titulos_Federais_Juros_Venda_Maxima',\n",
            "       'Taxas_CDB_Desconto_Venda_Minina',\n",
            "       'Taxas_CDB_Desconto_Venda_Media_Ponderada',\n",
            "       'Taxas_CDB_Desconto_Venda_Maxima', 'Taxas_CDB_Juros_Venda_Minina',\n",
            "       'Taxas_CDB_Juros_Venda_Media_Ponderada',\n",
            "       'Taxas_CDB_Juros_Venda_Maxima'],\n",
            "      dtype='object')\n",
            "Agora temos 290 colunas e 57275 linhas\n"
          ]
        }
      ],
      "source": [
        "# Dropar Colunas onde todos os valores são iguais\n",
        "nunique = df.nunique()\n",
        "cols_to_drop = nunique[nunique == 1].index\n",
        "\n",
        "print(f\"Dropando {len(cols_to_drop)} colunas onde todos os valores são iguais: \")\n",
        "print(cols_to_drop)\n",
        "df = df.drop(cols_to_drop, axis=1)\n",
        "\n",
        "print(f\"Agora temos {len(df.columns)} colunas e {len(df.index)} linhas\")"
      ]
    },
    {
      "cell_type": "markdown",
      "metadata": {
        "id": "k837WXp8qydd"
      },
      "source": [
        "# Passo 4: Somar outros ativos em uma coluna resumida\n",
        "Aqui vamos somar as seguintas colunas em `Ativo_Outros`\n",
        "\n",
        "- `Ativo_Valores_Mobiliarios`\n",
        "- `Ativo_Titulos_Federais`\n",
        "- `Ativo_CDB`\n",
        "- `Ativo_Operacoes_Compromissadas`\n",
        "- `Ativo_Outros_Ativos_Renda_Fixa`\n",
        "- `Ativo_Cotas_FIDC`\n",
        "- `Ativo_Warrants`\n",
        "- `Ativo_Posicao_Derivativos`\n",
        "- `Ativo_Mercado_Termo`\n",
        "- `Ativo_Mercado_Opcoes`\n",
        "- `Ativo_Mercado_Futuro`\n",
        "- `Ativo_Diferencial_Swap`\n",
        "- `Ativo_Depositos_Margem`"
      ]
    },
    {
      "cell_type": "code",
      "execution_count": null,
      "metadata": {
        "colab": {
          "base_uri": "https://localhost:8080/"
        },
        "id": "hMogXtXeqzJB",
        "outputId": "e1302247-54ed-4a84-b212-11292e45316b"
      },
      "outputs": [
        {
          "output_type": "stream",
          "name": "stdout",
          "text": [
            "Dropamos 23 colunas\n",
            "Agora temos 267 colunas e 57275 linhas\n"
          ]
        }
      ],
      "source": [
        "# Vamos somar outros ativos\n",
        "ativos_drop = [\"Ativo_Valores_Mobiliarios\", \"Ativo_Titulos_Federais\", \"Ativo_CDB\", \"Ativo_Operacoes_Compromissadas\", \"Ativo_Outros_Ativos_Renda_Fixa\", \"Ativo_Cotas_FIDC\", \"Ativo_Warrants\", \"Ativo_Posicao_Derivativos\", \"Ativo_Mercado_Termo\", \"Ativo_Mercado_Opcoes\", \"Ativo_Mercado_Futuro\", \"Ativo_Diferencial_Swap\", \"Ativo_Depositos_Margem\", \"Ativo_Debentures\", \"Ativo_CRI\", \"Ativo_Notas_Promissorias\", \"Ativo_Letras Financeiras\", \"Ativo_Cotas_Fundos_ICVM_555\", \"Ativo_Outros_Valores_Mobiliarios\", \"Ativo_Cotas_FIDC_NP\", \"Ativo_Provisao_Debentures_CRI_NP_LF\", \"Ativo_Provisao_Cotas_FIDC\", \"Ativo_Provisao_Outros_Ativos\"]\n",
        "\n",
        "for ativo in ativos_drop:\n",
        "  df[\"Ativo_Outros\"] = df[\"Ativo_Outros\"] +  df[ativo]\n",
        "\n",
        "df = df.drop(ativos_drop, axis=1)\n",
        "\n",
        "print(f\"Dropamos {len(ativos_drop)} colunas\")\n",
        "print(f\"Agora temos {len(df.columns)} colunas e {len(df.index)} linhas\")"
      ]
    },
    {
      "cell_type": "markdown",
      "metadata": {
        "id": "tP6mB-aysJcc"
      },
      "source": [
        "# Passo 5: Criar uma coluna de `Provisao`"
      ]
    },
    {
      "cell_type": "code",
      "execution_count": null,
      "metadata": {
        "colab": {
          "base_uri": "https://localhost:8080/"
        },
        "id": "R_3wt-b1sJr-",
        "outputId": "2fa423b3-f9b1-4219-e760-13f605a7051d"
      },
      "outputs": [
        {
          "output_type": "stream",
          "name": "stdout",
          "text": [
            "Agora temos 268 colunas e 57275 linhas\n"
          ]
        }
      ],
      "source": [
        "df[\"Provisao\"] = df[\"Ativo_Direitos_Aquisicao_Provisao_Reducao\"] + df[\"Ativo_Direitos_Sem_Aquisicao_Provisao_Reducao\"]\n",
        "print(f\"Agora temos {len(df.columns)} colunas e {len(df.index)} linhas\")"
      ]
    },
    {
      "cell_type": "markdown",
      "metadata": {
        "id": "1iY_LbGzqi8B"
      },
      "source": [
        "# Manter apenas as colunas selecionadas"
      ]
    },
    {
      "cell_type": "code",
      "execution_count": null,
      "metadata": {
        "colab": {
          "base_uri": "https://localhost:8080/"
        },
        "id": "2iu5NBEDpAub",
        "outputId": "28a2d45e-ca89-49f5-ce6f-d85267a941d0"
      },
      "outputs": [
        {
          "output_type": "stream",
          "name": "stdout",
          "text": [
            "Agora temos 39 colunas e 57275 linhas\n"
          ]
        }
      ],
      "source": [
        "columns_to_keep = [\"Data_Competencia\", \"CNPJ\", 'Nome_Fundo', \"CNPJ_Administrador\", \"Forma_Condominio\", \"Patrimonio_Liquido\", \"Carteira_Direitos_Aquisicao_Inadimplentes_CP\", \"Carteira_Direitos_Aquisicao_Inadimplentes_MP\", \"Carteira_Direitos_Aquisicao_Inadimplentes_LP\", \"Carteira_Direitos_Sem_Aquisicao_Inadimplentes_CP\", \"Carteira_Direitos_Sem_Aquisicao_Inadimplentes_MP\", \"Carteira_Direitos_Sem_Aquisicao_Inadimplentes_LP\", \"Liquidez_CP\", \"Liquidez_MP\", \"Liquidez_LP\", \"Carteira_Financeiro\", \"Provisao\", \"Quantidade_Cotas_Senior\", \"Valor_Cota_Senior\", \"Rentabilidade_Senior\", \"Valor_Total_Captado_Senior\", \"Valor_Total_Resgates_Senior\", \"Valor_A_Pagar_Senior\", \"Quantidade_Cotas_A_Resgatar_Senior\", \"Valor_Amortizado_Cota_Senior\", \"Valor_Total_Amortizacao_Senior\", \"Desempenho_Esperado_Senior\", \"Desempenho_Realizado_Senior\", \"Quantidade_Cotas_Subordinada\", \"Valor_Cota_Subordinada\", \"Rentabilidade_Subordinada\", \"Valor_Total_Captado_Subordinada\", \"Valor_Total_Resgates_Subordinada\", \"Valor_A_Pagar_Subordinada\", \"Quantidade_Cotas_A_Resgatar_Subordinada\", \"Valor_Amortizado_Cota_Subordinada\", \"Valor_Total_Amortizacao_Subordinada\", \"Desempenho_Esperado_Subordinada\", \"Desempenho_Realizado_Subordinada\"]\n",
        "df = df[columns_to_keep]\n",
        "\n",
        "print(f\"Agora temos {len(df.columns)} colunas e {len(df.index)} linhas\")"
      ]
    },
    {
      "cell_type": "markdown",
      "metadata": {
        "id": "dZznfOaqtB0i"
      },
      "source": [
        "# Retirar linhas liquidadas, ou enviadas erradas\n",
        "\n",
        "Se essa colunas tiverem com valor igual a 0 o fundo está liquidado, ou o informe mensal foi enviado errado\n",
        "\n",
        "- `Patrimonio_Liquido`\n",
        "- `Carteira_Direitos_Aquisicao_Inadimplentes_CP`\n",
        "- `Carteira_Direitos_Aquisicao_Inadimplentes_MP`\n",
        "- `Carteira_Direitos_Aquisicao_Inadimplentes_LP`\n",
        "- `Carteira_Direitos_Sem_Aquisicao_Inadimplentes_CP`\n",
        "- `Carteira_Direitos_Sem_Aquisicao_Inadimplentes_MP`\n",
        "- `Carteira_Direitos_Sem_Aquisicao_Inadimplentes_LP`\n",
        "- `Liquidez_CP`\n",
        "- `Liquidez_MP`\n",
        "- `Liquidez_LP`\n",
        "- `Carteira_Financeiro`\n",
        "- `Provisao`\n",
        "- `Quantidade_Cotas_Senior`\n",
        "- `Valor_Cota_Senior`\n",
        "- `Rentabilidade_Senior`\n",
        "- `Valor_Total_Captado_Senior`\n",
        "- `Valor_Total_Resgates_Senior`\n",
        "- `Valor_A_Pagar_Senior`\n",
        "- `Quantidade_Cotas_A_Resgatar_Senior`\n",
        "- `Valor_Amortizado_Cota_Senior`\n",
        "- `Valor_Total_Amortizacao_Senior`\n",
        "- `Desempenho_Esperado_Senior`\n",
        "- `Desempenho_Realizado_Senior`\n",
        "- `Quantidade_Cotas_Subordinada`\n",
        "- `Valor_Cota_Subordinada`\n",
        "- `Rentabilidade_Subordinada`\n",
        "- `Valor_Total_Captado_Subordinada`\n",
        "- `Valor_Total_Resgates_Subordinada`\n",
        "- `Valor_A_Pagar_Subordinada`\n",
        "- `Quantidade_Cotas_A_Resgatar_Subordinada`\n",
        "- `Valor_Amortizado_Cota_Subordinada`\n",
        "- `Valor_Total_Amortizacao_Subordinada`\n",
        "- `Desempenho_Esperado_Subordinada`\n",
        "- `Desempenho_Realizado_Subordinada`"
      ]
    },
    {
      "cell_type": "code",
      "execution_count": null,
      "metadata": {
        "colab": {
          "base_uri": "https://localhost:8080/"
        },
        "id": "-R5CE0008K-Z",
        "outputId": "a8228b1d-88db-4c02-96ef-8513ffb0db35"
      },
      "outputs": [
        {
          "output_type": "execute_result",
          "data": {
            "text/plain": [
              "['Patrimonio_Liquido',\n",
              " 'Carteira_Direitos_Aquisicao_Inadimplentes_CP',\n",
              " 'Carteira_Direitos_Aquisicao_Inadimplentes_MP',\n",
              " 'Carteira_Direitos_Aquisicao_Inadimplentes_LP',\n",
              " 'Carteira_Direitos_Sem_Aquisicao_Inadimplentes_CP',\n",
              " 'Carteira_Direitos_Sem_Aquisicao_Inadimplentes_MP',\n",
              " 'Carteira_Direitos_Sem_Aquisicao_Inadimplentes_LP',\n",
              " 'Liquidez_CP',\n",
              " 'Liquidez_MP',\n",
              " 'Liquidez_LP',\n",
              " 'Carteira_Financeiro',\n",
              " 'Provisao',\n",
              " 'Quantidade_Cotas_Senior',\n",
              " 'Valor_Cota_Senior',\n",
              " 'Rentabilidade_Senior',\n",
              " 'Valor_Total_Captado_Senior',\n",
              " 'Valor_Total_Resgates_Senior',\n",
              " 'Valor_A_Pagar_Senior',\n",
              " 'Quantidade_Cotas_A_Resgatar_Senior',\n",
              " 'Valor_Amortizado_Cota_Senior',\n",
              " 'Valor_Total_Amortizacao_Senior',\n",
              " 'Desempenho_Esperado_Senior',\n",
              " 'Desempenho_Realizado_Senior',\n",
              " 'Quantidade_Cotas_Subordinada',\n",
              " 'Valor_Cota_Subordinada',\n",
              " 'Rentabilidade_Subordinada',\n",
              " 'Valor_Total_Captado_Subordinada',\n",
              " 'Valor_Total_Resgates_Subordinada',\n",
              " 'Valor_A_Pagar_Subordinada',\n",
              " 'Quantidade_Cotas_A_Resgatar_Subordinada',\n",
              " 'Valor_Amortizado_Cota_Subordinada',\n",
              " 'Valor_Total_Amortizacao_Subordinada',\n",
              " 'Desempenho_Esperado_Subordinada',\n",
              " 'Desempenho_Realizado_Subordinada']"
            ]
          },
          "metadata": {},
          "execution_count": 19
        }
      ],
      "source": [
        "colunas = df.columns.tolist()\n",
        "colunas_padrao = ['CNPJ', 'Nome_Fundo', 'Data_Competencia', 'CNPJ_Administrador', 'Forma_Condominio']\n",
        "for colunasP in colunas_padrao:\n",
        "  colunas.remove(colunasP)\n",
        "colunas"
      ]
    },
    {
      "cell_type": "code",
      "execution_count": null,
      "metadata": {
        "colab": {
          "base_uri": "https://localhost:8080/",
          "height": 982
        },
        "id": "9ZWPp8S9DmUx",
        "outputId": "7eedf29c-a79c-4e0e-f9f5-6477f4ee37ff"
      },
      "outputs": [
        {
          "output_type": "execute_result",
          "data": {
            "text/plain": [
              "      Data_Competencia            CNPJ  \\\n",
              "166         2020-11-30  31809006000138   \n",
              "340         2020-11-30  29883381000186   \n",
              "341         2020-11-30  31151932000169   \n",
              "342         2020-11-30  29492796000129   \n",
              "344         2020-11-30  28472373000184   \n",
              "...                ...             ...   \n",
              "47020       2019-03-31  29044084000147   \n",
              "47518       2019-04-30  22483823000158   \n",
              "54896       2020-07-31  17288447000100   \n",
              "57152       2020-09-30  26648825000100   \n",
              "57158       2020-09-30  21862216000136   \n",
              "\n",
              "                                              Nome_Fundo  CNPJ_Administrador  \\\n",
              "166    FUNDO DE INVES TIMENTO EM DIREITOS CREDITORIOS...        1.348679e+13   \n",
              "340    FIDC RECEBÍVEIS ENEVA - FUNDO DE INVESTIMENTOS...        2.261050e+13   \n",
              "341    FIDC VX XXV - FUNDO DE INVESTIMENTOS EM DIREIT...        2.261050e+13   \n",
              "342    ASIMOV FUNDO DE INVESTIMENTO EM COTAS DE FUNDO...        3.317692e+12   \n",
              "344    FIDC ENEVA RECEBÍVEIS - FUNDO DE INVESTIMENTOS...        2.261050e+13   \n",
              "...                                                  ...                 ...   \n",
              "47020  FUNDO DE INVESTIMENTO EM DIREITOS CREDITÓRIOS ...        2.201501e+12   \n",
              "47518  DRIVER BRASIL THREE BANCO VOLKSWAGEN FIDC FINA...        6.667000e+10   \n",
              "54896  MULTI7 FUNDO DE INVESTIMENTO EM DIREITOS CREDI...        6.228539e+13   \n",
              "57152  ÁTRIO CREDITOO FUNDO DE INVESTIMENTO EM DIREIT...        6.228539e+13   \n",
              "57158  GESTOR TRUST FUNDO DE INVESTIMENTO EM DIREITOS...        3.751794e+12   \n",
              "\n",
              "      Forma_Condominio  Patrimonio_Liquido  \\\n",
              "166            FECHADO                 0.0   \n",
              "340            FECHADO                 0.0   \n",
              "341            FECHADO                 0.0   \n",
              "342            FECHADO                 0.0   \n",
              "344            FECHADO                 0.0   \n",
              "...                ...                 ...   \n",
              "47020          FECHADO                 0.0   \n",
              "47518          FECHADO                 0.0   \n",
              "54896          FECHADO                 0.0   \n",
              "57152          FECHADO                 0.0   \n",
              "57158           ABERTO                 0.0   \n",
              "\n",
              "       Carteira_Direitos_Aquisicao_Inadimplentes_CP  \\\n",
              "166                                             0.0   \n",
              "340                                             0.0   \n",
              "341                                             0.0   \n",
              "342                                             0.0   \n",
              "344                                             0.0   \n",
              "...                                             ...   \n",
              "47020                                           0.0   \n",
              "47518                                           0.0   \n",
              "54896                                           0.0   \n",
              "57152                                           0.0   \n",
              "57158                                           0.0   \n",
              "\n",
              "       Carteira_Direitos_Aquisicao_Inadimplentes_MP  \\\n",
              "166                                             0.0   \n",
              "340                                             0.0   \n",
              "341                                             0.0   \n",
              "342                                             0.0   \n",
              "344                                             0.0   \n",
              "...                                             ...   \n",
              "47020                                           0.0   \n",
              "47518                                           0.0   \n",
              "54896                                           0.0   \n",
              "57152                                           0.0   \n",
              "57158                                           0.0   \n",
              "\n",
              "       Carteira_Direitos_Aquisicao_Inadimplentes_LP  \\\n",
              "166                                             0.0   \n",
              "340                                             0.0   \n",
              "341                                             0.0   \n",
              "342                                             0.0   \n",
              "344                                             0.0   \n",
              "...                                             ...   \n",
              "47020                                           0.0   \n",
              "47518                                           0.0   \n",
              "54896                                           0.0   \n",
              "57152                                           0.0   \n",
              "57158                                           0.0   \n",
              "\n",
              "       Carteira_Direitos_Sem_Aquisicao_Inadimplentes_CP  ...  \\\n",
              "166                                                 0.0  ...   \n",
              "340                                                 0.0  ...   \n",
              "341                                                 0.0  ...   \n",
              "342                                                 0.0  ...   \n",
              "344                                                 0.0  ...   \n",
              "...                                                 ...  ...   \n",
              "47020                                               0.0  ...   \n",
              "47518                                               0.0  ...   \n",
              "54896                                               0.0  ...   \n",
              "57152                                               0.0  ...   \n",
              "57158                                               0.0  ...   \n",
              "\n",
              "       Valor_Cota_Subordinada  Rentabilidade_Subordinada  \\\n",
              "166                       0.0                        0.0   \n",
              "340                       0.0                        0.0   \n",
              "341                       0.0                        0.0   \n",
              "342                       0.0                        0.0   \n",
              "344                       0.0                        0.0   \n",
              "...                       ...                        ...   \n",
              "47020                     0.0                        0.0   \n",
              "47518                     0.0                        0.0   \n",
              "54896                     0.0                        0.0   \n",
              "57152                     0.0                        0.0   \n",
              "57158                     0.0                        0.0   \n",
              "\n",
              "       Valor_Total_Captado_Subordinada  Valor_Total_Resgates_Subordinada  \\\n",
              "166                                0.0                               0.0   \n",
              "340                                0.0                               0.0   \n",
              "341                                0.0                               0.0   \n",
              "342                                0.0                               0.0   \n",
              "344                                0.0                               0.0   \n",
              "...                                ...                               ...   \n",
              "47020                              0.0                               0.0   \n",
              "47518                              0.0                               0.0   \n",
              "54896                              0.0                               0.0   \n",
              "57152                              0.0                               0.0   \n",
              "57158                              0.0                               0.0   \n",
              "\n",
              "       Valor_A_Pagar_Subordinada  Quantidade_Cotas_A_Resgatar_Subordinada  \\\n",
              "166                          0.0                                      0.0   \n",
              "340                          0.0                                      0.0   \n",
              "341                          0.0                                      0.0   \n",
              "342                          0.0                                      0.0   \n",
              "344                          0.0                                      0.0   \n",
              "...                          ...                                      ...   \n",
              "47020                        0.0                                      0.0   \n",
              "47518                        0.0                                      0.0   \n",
              "54896                        0.0                                      0.0   \n",
              "57152                        0.0                                      0.0   \n",
              "57158                        0.0                                      0.0   \n",
              "\n",
              "       Valor_Amortizado_Cota_Subordinada  Valor_Total_Amortizacao_Subordinada  \\\n",
              "166                                  0.0                                  0.0   \n",
              "340                                  0.0                                  0.0   \n",
              "341                                  0.0                                  0.0   \n",
              "342                                  0.0                                  0.0   \n",
              "344                                  0.0                                  0.0   \n",
              "...                                  ...                                  ...   \n",
              "47020                                0.0                                  0.0   \n",
              "47518                                0.0                                  0.0   \n",
              "54896                                0.0                                  0.0   \n",
              "57152                                0.0                                  0.0   \n",
              "57158                                0.0                                  0.0   \n",
              "\n",
              "       Desempenho_Esperado_Subordinada  Desempenho_Realizado_Subordinada  \n",
              "166                                0.0                               0.0  \n",
              "340                                0.0                               0.0  \n",
              "341                                0.0                               0.0  \n",
              "342                                0.0                               0.0  \n",
              "344                                0.0                               0.0  \n",
              "...                                ...                               ...  \n",
              "47020                              0.0                               0.0  \n",
              "47518                              0.0                               0.0  \n",
              "54896                              0.0                               0.0  \n",
              "57152                              0.0                               0.0  \n",
              "57158                              0.0                               0.0  \n",
              "\n",
              "[593 rows x 39 columns]"
            ],
            "text/html": [
              "\n",
              "  <div id=\"df-4dca4b02-5fc3-4e86-b261-6557b5bd6c6e\" class=\"colab-df-container\">\n",
              "    <div>\n",
              "<style scoped>\n",
              "    .dataframe tbody tr th:only-of-type {\n",
              "        vertical-align: middle;\n",
              "    }\n",
              "\n",
              "    .dataframe tbody tr th {\n",
              "        vertical-align: top;\n",
              "    }\n",
              "\n",
              "    .dataframe thead th {\n",
              "        text-align: right;\n",
              "    }\n",
              "</style>\n",
              "<table border=\"1\" class=\"dataframe\">\n",
              "  <thead>\n",
              "    <tr style=\"text-align: right;\">\n",
              "      <th></th>\n",
              "      <th>Data_Competencia</th>\n",
              "      <th>CNPJ</th>\n",
              "      <th>Nome_Fundo</th>\n",
              "      <th>CNPJ_Administrador</th>\n",
              "      <th>Forma_Condominio</th>\n",
              "      <th>Patrimonio_Liquido</th>\n",
              "      <th>Carteira_Direitos_Aquisicao_Inadimplentes_CP</th>\n",
              "      <th>Carteira_Direitos_Aquisicao_Inadimplentes_MP</th>\n",
              "      <th>Carteira_Direitos_Aquisicao_Inadimplentes_LP</th>\n",
              "      <th>Carteira_Direitos_Sem_Aquisicao_Inadimplentes_CP</th>\n",
              "      <th>...</th>\n",
              "      <th>Valor_Cota_Subordinada</th>\n",
              "      <th>Rentabilidade_Subordinada</th>\n",
              "      <th>Valor_Total_Captado_Subordinada</th>\n",
              "      <th>Valor_Total_Resgates_Subordinada</th>\n",
              "      <th>Valor_A_Pagar_Subordinada</th>\n",
              "      <th>Quantidade_Cotas_A_Resgatar_Subordinada</th>\n",
              "      <th>Valor_Amortizado_Cota_Subordinada</th>\n",
              "      <th>Valor_Total_Amortizacao_Subordinada</th>\n",
              "      <th>Desempenho_Esperado_Subordinada</th>\n",
              "      <th>Desempenho_Realizado_Subordinada</th>\n",
              "    </tr>\n",
              "  </thead>\n",
              "  <tbody>\n",
              "    <tr>\n",
              "      <th>166</th>\n",
              "      <td>2020-11-30</td>\n",
              "      <td>31809006000138</td>\n",
              "      <td>FUNDO DE INVES TIMENTO EM DIREITOS CREDITORIOS...</td>\n",
              "      <td>1.348679e+13</td>\n",
              "      <td>FECHADO</td>\n",
              "      <td>0.0</td>\n",
              "      <td>0.0</td>\n",
              "      <td>0.0</td>\n",
              "      <td>0.0</td>\n",
              "      <td>0.0</td>\n",
              "      <td>...</td>\n",
              "      <td>0.0</td>\n",
              "      <td>0.0</td>\n",
              "      <td>0.0</td>\n",
              "      <td>0.0</td>\n",
              "      <td>0.0</td>\n",
              "      <td>0.0</td>\n",
              "      <td>0.0</td>\n",
              "      <td>0.0</td>\n",
              "      <td>0.0</td>\n",
              "      <td>0.0</td>\n",
              "    </tr>\n",
              "    <tr>\n",
              "      <th>340</th>\n",
              "      <td>2020-11-30</td>\n",
              "      <td>29883381000186</td>\n",
              "      <td>FIDC RECEBÍVEIS ENEVA - FUNDO DE INVESTIMENTOS...</td>\n",
              "      <td>2.261050e+13</td>\n",
              "      <td>FECHADO</td>\n",
              "      <td>0.0</td>\n",
              "      <td>0.0</td>\n",
              "      <td>0.0</td>\n",
              "      <td>0.0</td>\n",
              "      <td>0.0</td>\n",
              "      <td>...</td>\n",
              "      <td>0.0</td>\n",
              "      <td>0.0</td>\n",
              "      <td>0.0</td>\n",
              "      <td>0.0</td>\n",
              "      <td>0.0</td>\n",
              "      <td>0.0</td>\n",
              "      <td>0.0</td>\n",
              "      <td>0.0</td>\n",
              "      <td>0.0</td>\n",
              "      <td>0.0</td>\n",
              "    </tr>\n",
              "    <tr>\n",
              "      <th>341</th>\n",
              "      <td>2020-11-30</td>\n",
              "      <td>31151932000169</td>\n",
              "      <td>FIDC VX XXV - FUNDO DE INVESTIMENTOS EM DIREIT...</td>\n",
              "      <td>2.261050e+13</td>\n",
              "      <td>FECHADO</td>\n",
              "      <td>0.0</td>\n",
              "      <td>0.0</td>\n",
              "      <td>0.0</td>\n",
              "      <td>0.0</td>\n",
              "      <td>0.0</td>\n",
              "      <td>...</td>\n",
              "      <td>0.0</td>\n",
              "      <td>0.0</td>\n",
              "      <td>0.0</td>\n",
              "      <td>0.0</td>\n",
              "      <td>0.0</td>\n",
              "      <td>0.0</td>\n",
              "      <td>0.0</td>\n",
              "      <td>0.0</td>\n",
              "      <td>0.0</td>\n",
              "      <td>0.0</td>\n",
              "    </tr>\n",
              "    <tr>\n",
              "      <th>342</th>\n",
              "      <td>2020-11-30</td>\n",
              "      <td>29492796000129</td>\n",
              "      <td>ASIMOV FUNDO DE INVESTIMENTO EM COTAS DE FUNDO...</td>\n",
              "      <td>3.317692e+12</td>\n",
              "      <td>FECHADO</td>\n",
              "      <td>0.0</td>\n",
              "      <td>0.0</td>\n",
              "      <td>0.0</td>\n",
              "      <td>0.0</td>\n",
              "      <td>0.0</td>\n",
              "      <td>...</td>\n",
              "      <td>0.0</td>\n",
              "      <td>0.0</td>\n",
              "      <td>0.0</td>\n",
              "      <td>0.0</td>\n",
              "      <td>0.0</td>\n",
              "      <td>0.0</td>\n",
              "      <td>0.0</td>\n",
              "      <td>0.0</td>\n",
              "      <td>0.0</td>\n",
              "      <td>0.0</td>\n",
              "    </tr>\n",
              "    <tr>\n",
              "      <th>344</th>\n",
              "      <td>2020-11-30</td>\n",
              "      <td>28472373000184</td>\n",
              "      <td>FIDC ENEVA RECEBÍVEIS - FUNDO DE INVESTIMENTOS...</td>\n",
              "      <td>2.261050e+13</td>\n",
              "      <td>FECHADO</td>\n",
              "      <td>0.0</td>\n",
              "      <td>0.0</td>\n",
              "      <td>0.0</td>\n",
              "      <td>0.0</td>\n",
              "      <td>0.0</td>\n",
              "      <td>...</td>\n",
              "      <td>0.0</td>\n",
              "      <td>0.0</td>\n",
              "      <td>0.0</td>\n",
              "      <td>0.0</td>\n",
              "      <td>0.0</td>\n",
              "      <td>0.0</td>\n",
              "      <td>0.0</td>\n",
              "      <td>0.0</td>\n",
              "      <td>0.0</td>\n",
              "      <td>0.0</td>\n",
              "    </tr>\n",
              "    <tr>\n",
              "      <th>...</th>\n",
              "      <td>...</td>\n",
              "      <td>...</td>\n",
              "      <td>...</td>\n",
              "      <td>...</td>\n",
              "      <td>...</td>\n",
              "      <td>...</td>\n",
              "      <td>...</td>\n",
              "      <td>...</td>\n",
              "      <td>...</td>\n",
              "      <td>...</td>\n",
              "      <td>...</td>\n",
              "      <td>...</td>\n",
              "      <td>...</td>\n",
              "      <td>...</td>\n",
              "      <td>...</td>\n",
              "      <td>...</td>\n",
              "      <td>...</td>\n",
              "      <td>...</td>\n",
              "      <td>...</td>\n",
              "      <td>...</td>\n",
              "      <td>...</td>\n",
              "    </tr>\n",
              "    <tr>\n",
              "      <th>47020</th>\n",
              "      <td>2019-03-31</td>\n",
              "      <td>29044084000147</td>\n",
              "      <td>FUNDO DE INVESTIMENTO EM DIREITOS CREDITÓRIOS ...</td>\n",
              "      <td>2.201501e+12</td>\n",
              "      <td>FECHADO</td>\n",
              "      <td>0.0</td>\n",
              "      <td>0.0</td>\n",
              "      <td>0.0</td>\n",
              "      <td>0.0</td>\n",
              "      <td>0.0</td>\n",
              "      <td>...</td>\n",
              "      <td>0.0</td>\n",
              "      <td>0.0</td>\n",
              "      <td>0.0</td>\n",
              "      <td>0.0</td>\n",
              "      <td>0.0</td>\n",
              "      <td>0.0</td>\n",
              "      <td>0.0</td>\n",
              "      <td>0.0</td>\n",
              "      <td>0.0</td>\n",
              "      <td>0.0</td>\n",
              "    </tr>\n",
              "    <tr>\n",
              "      <th>47518</th>\n",
              "      <td>2019-04-30</td>\n",
              "      <td>22483823000158</td>\n",
              "      <td>DRIVER BRASIL THREE BANCO VOLKSWAGEN FIDC FINA...</td>\n",
              "      <td>6.667000e+10</td>\n",
              "      <td>FECHADO</td>\n",
              "      <td>0.0</td>\n",
              "      <td>0.0</td>\n",
              "      <td>0.0</td>\n",
              "      <td>0.0</td>\n",
              "      <td>0.0</td>\n",
              "      <td>...</td>\n",
              "      <td>0.0</td>\n",
              "      <td>0.0</td>\n",
              "      <td>0.0</td>\n",
              "      <td>0.0</td>\n",
              "      <td>0.0</td>\n",
              "      <td>0.0</td>\n",
              "      <td>0.0</td>\n",
              "      <td>0.0</td>\n",
              "      <td>0.0</td>\n",
              "      <td>0.0</td>\n",
              "    </tr>\n",
              "    <tr>\n",
              "      <th>54896</th>\n",
              "      <td>2020-07-31</td>\n",
              "      <td>17288447000100</td>\n",
              "      <td>MULTI7 FUNDO DE INVESTIMENTO EM DIREITOS CREDI...</td>\n",
              "      <td>6.228539e+13</td>\n",
              "      <td>FECHADO</td>\n",
              "      <td>0.0</td>\n",
              "      <td>0.0</td>\n",
              "      <td>0.0</td>\n",
              "      <td>0.0</td>\n",
              "      <td>0.0</td>\n",
              "      <td>...</td>\n",
              "      <td>0.0</td>\n",
              "      <td>0.0</td>\n",
              "      <td>0.0</td>\n",
              "      <td>0.0</td>\n",
              "      <td>0.0</td>\n",
              "      <td>0.0</td>\n",
              "      <td>0.0</td>\n",
              "      <td>0.0</td>\n",
              "      <td>0.0</td>\n",
              "      <td>0.0</td>\n",
              "    </tr>\n",
              "    <tr>\n",
              "      <th>57152</th>\n",
              "      <td>2020-09-30</td>\n",
              "      <td>26648825000100</td>\n",
              "      <td>ÁTRIO CREDITOO FUNDO DE INVESTIMENTO EM DIREIT...</td>\n",
              "      <td>6.228539e+13</td>\n",
              "      <td>FECHADO</td>\n",
              "      <td>0.0</td>\n",
              "      <td>0.0</td>\n",
              "      <td>0.0</td>\n",
              "      <td>0.0</td>\n",
              "      <td>0.0</td>\n",
              "      <td>...</td>\n",
              "      <td>0.0</td>\n",
              "      <td>0.0</td>\n",
              "      <td>0.0</td>\n",
              "      <td>0.0</td>\n",
              "      <td>0.0</td>\n",
              "      <td>0.0</td>\n",
              "      <td>0.0</td>\n",
              "      <td>0.0</td>\n",
              "      <td>0.0</td>\n",
              "      <td>0.0</td>\n",
              "    </tr>\n",
              "    <tr>\n",
              "      <th>57158</th>\n",
              "      <td>2020-09-30</td>\n",
              "      <td>21862216000136</td>\n",
              "      <td>GESTOR TRUST FUNDO DE INVESTIMENTO EM DIREITOS...</td>\n",
              "      <td>3.751794e+12</td>\n",
              "      <td>ABERTO</td>\n",
              "      <td>0.0</td>\n",
              "      <td>0.0</td>\n",
              "      <td>0.0</td>\n",
              "      <td>0.0</td>\n",
              "      <td>0.0</td>\n",
              "      <td>...</td>\n",
              "      <td>0.0</td>\n",
              "      <td>0.0</td>\n",
              "      <td>0.0</td>\n",
              "      <td>0.0</td>\n",
              "      <td>0.0</td>\n",
              "      <td>0.0</td>\n",
              "      <td>0.0</td>\n",
              "      <td>0.0</td>\n",
              "      <td>0.0</td>\n",
              "      <td>0.0</td>\n",
              "    </tr>\n",
              "  </tbody>\n",
              "</table>\n",
              "<p>593 rows × 39 columns</p>\n",
              "</div>\n",
              "    <div class=\"colab-df-buttons\">\n",
              "\n",
              "  <div class=\"colab-df-container\">\n",
              "    <button class=\"colab-df-convert\" onclick=\"convertToInteractive('df-4dca4b02-5fc3-4e86-b261-6557b5bd6c6e')\"\n",
              "            title=\"Convert this dataframe to an interactive table.\"\n",
              "            style=\"display:none;\">\n",
              "\n",
              "  <svg xmlns=\"http://www.w3.org/2000/svg\" height=\"24px\" viewBox=\"0 -960 960 960\">\n",
              "    <path d=\"M120-120v-720h720v720H120Zm60-500h600v-160H180v160Zm220 220h160v-160H400v160Zm0 220h160v-160H400v160ZM180-400h160v-160H180v160Zm440 0h160v-160H620v160ZM180-180h160v-160H180v160Zm440 0h160v-160H620v160Z\"/>\n",
              "  </svg>\n",
              "    </button>\n",
              "\n",
              "  <style>\n",
              "    .colab-df-container {\n",
              "      display:flex;\n",
              "      gap: 12px;\n",
              "    }\n",
              "\n",
              "    .colab-df-convert {\n",
              "      background-color: #E8F0FE;\n",
              "      border: none;\n",
              "      border-radius: 50%;\n",
              "      cursor: pointer;\n",
              "      display: none;\n",
              "      fill: #1967D2;\n",
              "      height: 32px;\n",
              "      padding: 0 0 0 0;\n",
              "      width: 32px;\n",
              "    }\n",
              "\n",
              "    .colab-df-convert:hover {\n",
              "      background-color: #E2EBFA;\n",
              "      box-shadow: 0px 1px 2px rgba(60, 64, 67, 0.3), 0px 1px 3px 1px rgba(60, 64, 67, 0.15);\n",
              "      fill: #174EA6;\n",
              "    }\n",
              "\n",
              "    .colab-df-buttons div {\n",
              "      margin-bottom: 4px;\n",
              "    }\n",
              "\n",
              "    [theme=dark] .colab-df-convert {\n",
              "      background-color: #3B4455;\n",
              "      fill: #D2E3FC;\n",
              "    }\n",
              "\n",
              "    [theme=dark] .colab-df-convert:hover {\n",
              "      background-color: #434B5C;\n",
              "      box-shadow: 0px 1px 3px 1px rgba(0, 0, 0, 0.15);\n",
              "      filter: drop-shadow(0px 1px 2px rgba(0, 0, 0, 0.3));\n",
              "      fill: #FFFFFF;\n",
              "    }\n",
              "  </style>\n",
              "\n",
              "    <script>\n",
              "      const buttonEl =\n",
              "        document.querySelector('#df-4dca4b02-5fc3-4e86-b261-6557b5bd6c6e button.colab-df-convert');\n",
              "      buttonEl.style.display =\n",
              "        google.colab.kernel.accessAllowed ? 'block' : 'none';\n",
              "\n",
              "      async function convertToInteractive(key) {\n",
              "        const element = document.querySelector('#df-4dca4b02-5fc3-4e86-b261-6557b5bd6c6e');\n",
              "        const dataTable =\n",
              "          await google.colab.kernel.invokeFunction('convertToInteractive',\n",
              "                                                    [key], {});\n",
              "        if (!dataTable) return;\n",
              "\n",
              "        const docLinkHtml = 'Like what you see? Visit the ' +\n",
              "          '<a target=\"_blank\" href=https://colab.research.google.com/notebooks/data_table.ipynb>data table notebook</a>'\n",
              "          + ' to learn more about interactive tables.';\n",
              "        element.innerHTML = '';\n",
              "        dataTable['output_type'] = 'display_data';\n",
              "        await google.colab.output.renderOutput(dataTable, element);\n",
              "        const docLink = document.createElement('div');\n",
              "        docLink.innerHTML = docLinkHtml;\n",
              "        element.appendChild(docLink);\n",
              "      }\n",
              "    </script>\n",
              "  </div>\n",
              "\n",
              "\n",
              "<div id=\"df-645c8847-9c83-414d-93ac-6079ee4830b3\">\n",
              "  <button class=\"colab-df-quickchart\" onclick=\"quickchart('df-645c8847-9c83-414d-93ac-6079ee4830b3')\"\n",
              "            title=\"Suggest charts.\"\n",
              "            style=\"display:none;\">\n",
              "\n",
              "<svg xmlns=\"http://www.w3.org/2000/svg\" height=\"24px\"viewBox=\"0 0 24 24\"\n",
              "     width=\"24px\">\n",
              "    <g>\n",
              "        <path d=\"M19 3H5c-1.1 0-2 .9-2 2v14c0 1.1.9 2 2 2h14c1.1 0 2-.9 2-2V5c0-1.1-.9-2-2-2zM9 17H7v-7h2v7zm4 0h-2V7h2v10zm4 0h-2v-4h2v4z\"/>\n",
              "    </g>\n",
              "</svg>\n",
              "  </button>\n",
              "\n",
              "<style>\n",
              "  .colab-df-quickchart {\n",
              "      --bg-color: #E8F0FE;\n",
              "      --fill-color: #1967D2;\n",
              "      --hover-bg-color: #E2EBFA;\n",
              "      --hover-fill-color: #174EA6;\n",
              "      --disabled-fill-color: #AAA;\n",
              "      --disabled-bg-color: #DDD;\n",
              "  }\n",
              "\n",
              "  [theme=dark] .colab-df-quickchart {\n",
              "      --bg-color: #3B4455;\n",
              "      --fill-color: #D2E3FC;\n",
              "      --hover-bg-color: #434B5C;\n",
              "      --hover-fill-color: #FFFFFF;\n",
              "      --disabled-bg-color: #3B4455;\n",
              "      --disabled-fill-color: #666;\n",
              "  }\n",
              "\n",
              "  .colab-df-quickchart {\n",
              "    background-color: var(--bg-color);\n",
              "    border: none;\n",
              "    border-radius: 50%;\n",
              "    cursor: pointer;\n",
              "    display: none;\n",
              "    fill: var(--fill-color);\n",
              "    height: 32px;\n",
              "    padding: 0;\n",
              "    width: 32px;\n",
              "  }\n",
              "\n",
              "  .colab-df-quickchart:hover {\n",
              "    background-color: var(--hover-bg-color);\n",
              "    box-shadow: 0 1px 2px rgba(60, 64, 67, 0.3), 0 1px 3px 1px rgba(60, 64, 67, 0.15);\n",
              "    fill: var(--button-hover-fill-color);\n",
              "  }\n",
              "\n",
              "  .colab-df-quickchart-complete:disabled,\n",
              "  .colab-df-quickchart-complete:disabled:hover {\n",
              "    background-color: var(--disabled-bg-color);\n",
              "    fill: var(--disabled-fill-color);\n",
              "    box-shadow: none;\n",
              "  }\n",
              "\n",
              "  .colab-df-spinner {\n",
              "    border: 2px solid var(--fill-color);\n",
              "    border-color: transparent;\n",
              "    border-bottom-color: var(--fill-color);\n",
              "    animation:\n",
              "      spin 1s steps(1) infinite;\n",
              "  }\n",
              "\n",
              "  @keyframes spin {\n",
              "    0% {\n",
              "      border-color: transparent;\n",
              "      border-bottom-color: var(--fill-color);\n",
              "      border-left-color: var(--fill-color);\n",
              "    }\n",
              "    20% {\n",
              "      border-color: transparent;\n",
              "      border-left-color: var(--fill-color);\n",
              "      border-top-color: var(--fill-color);\n",
              "    }\n",
              "    30% {\n",
              "      border-color: transparent;\n",
              "      border-left-color: var(--fill-color);\n",
              "      border-top-color: var(--fill-color);\n",
              "      border-right-color: var(--fill-color);\n",
              "    }\n",
              "    40% {\n",
              "      border-color: transparent;\n",
              "      border-right-color: var(--fill-color);\n",
              "      border-top-color: var(--fill-color);\n",
              "    }\n",
              "    60% {\n",
              "      border-color: transparent;\n",
              "      border-right-color: var(--fill-color);\n",
              "    }\n",
              "    80% {\n",
              "      border-color: transparent;\n",
              "      border-right-color: var(--fill-color);\n",
              "      border-bottom-color: var(--fill-color);\n",
              "    }\n",
              "    90% {\n",
              "      border-color: transparent;\n",
              "      border-bottom-color: var(--fill-color);\n",
              "    }\n",
              "  }\n",
              "</style>\n",
              "\n",
              "  <script>\n",
              "    async function quickchart(key) {\n",
              "      const quickchartButtonEl =\n",
              "        document.querySelector('#' + key + ' button');\n",
              "      quickchartButtonEl.disabled = true;  // To prevent multiple clicks.\n",
              "      quickchartButtonEl.classList.add('colab-df-spinner');\n",
              "      try {\n",
              "        const charts = await google.colab.kernel.invokeFunction(\n",
              "            'suggestCharts', [key], {});\n",
              "      } catch (error) {\n",
              "        console.error('Error during call to suggestCharts:', error);\n",
              "      }\n",
              "      quickchartButtonEl.classList.remove('colab-df-spinner');\n",
              "      quickchartButtonEl.classList.add('colab-df-quickchart-complete');\n",
              "    }\n",
              "    (() => {\n",
              "      let quickchartButtonEl =\n",
              "        document.querySelector('#df-645c8847-9c83-414d-93ac-6079ee4830b3 button');\n",
              "      quickchartButtonEl.style.display =\n",
              "        google.colab.kernel.accessAllowed ? 'block' : 'none';\n",
              "    })();\n",
              "  </script>\n",
              "</div>\n",
              "    </div>\n",
              "  </div>\n"
            ]
          },
          "metadata": {},
          "execution_count": 20
        }
      ],
      "source": [
        "linhas_liquidadas = df[df[colunas].eq(0).all(axis=1)]\n",
        "linhas_liquidadas"
      ]
    },
    {
      "cell_type": "code",
      "execution_count": null,
      "metadata": {
        "id": "_5MFhsw4LVOL"
      },
      "outputs": [],
      "source": [
        "df = df.drop(linhas_liquidadas.index)"
      ]
    },
    {
      "cell_type": "markdown",
      "metadata": {
        "id": "dD36y7GZ7gUt"
      },
      "source": [
        "### Substituindo valores Nulos"
      ]
    },
    {
      "cell_type": "code",
      "execution_count": null,
      "metadata": {
        "id": "r4mBnr48bCCG"
      },
      "outputs": [],
      "source": [
        "colunas = ['Carteira_Direitos_Aquisicao_Inadimplentes_CP', 'Carteira_Direitos_Aquisicao_Inadimplentes_MP', 'Carteira_Direitos_Aquisicao_Inadimplentes_LP', 'Carteira_Direitos_Sem_Aquisicao_Inadimplentes_CP', 'Carteira_Direitos_Sem_Aquisicao_Inadimplentes_MP', 'Carteira_Direitos_Sem_Aquisicao_Inadimplentes_LP', 'Liquidez_CP', 'Liquidez_MP', 'Liquidez_LP']\n",
        "for coluna in colunas:\n",
        "  df[coluna] = df[coluna].fillna(0)\n"
      ]
    },
    {
      "cell_type": "markdown",
      "metadata": {
        "id": "UE9cI2gbUlay"
      },
      "source": [
        "# Treinando Modelo"
      ]
    },
    {
      "cell_type": "code",
      "execution_count": null,
      "metadata": {
        "id": "FrCSdCbmWm-i"
      },
      "outputs": [],
      "source": [
        "from sklearn.model_selection import train_test_split\n",
        "from sklearn.ensemble import GradientBoostingClassifier\n",
        "from sklearn.naive_bayes import MultinomialNB\n",
        "from sklearn.linear_model import LogisticRegression\n",
        "from sklearn.ensemble import BaggingClassifier, AdaBoostClassifier\n",
        "from sklearn.metrics import precision_score, roc_curve, auc, confusion_matrix, classification_report\n",
        "import xgboost as xgb\n",
        "from sklearn.feature_selection import RFECV\n",
        "from sklearn.model_selection import StratifiedKFold\n",
        "from sklearn.model_selection import cross_val_score\n",
        "from sklearn.preprocessing import StandardScaler\n",
        "from sklearn.preprocessing import MinMaxScaler\n",
        "from sklearn.metrics import mean_squared_error, r2_score, accuracy_score, roc_auc_score, recall_score"
      ]
    },
    {
      "cell_type": "markdown",
      "metadata": {
        "id": "XSfIFo8uBzB-"
      },
      "source": [
        "# Gerar dados sintéticos"
      ]
    },
    {
      "cell_type": "code",
      "execution_count": null,
      "metadata": {
        "id": "C_N2gta3fUx-"
      },
      "outputs": [],
      "source": []
    },
    {
      "cell_type": "code",
      "execution_count": null,
      "metadata": {
        "id": "h9w_wILZsv0_"
      },
      "outputs": [],
      "source": [
        "synthetic_data_realistic = pd.read_csv('synthetic_data_realistic.csv', encoding='latin1')"
      ]
    },
    {
      "cell_type": "code",
      "execution_count": null,
      "metadata": {
        "colab": {
          "base_uri": "https://localhost:8080/"
        },
        "id": "GYARreOdJsej",
        "outputId": "458093b9-9f21-48b5-f82c-93b603c40233"
      },
      "outputs": [
        {
          "output_type": "execute_result",
          "data": {
            "text/plain": [
              "0    56636\n",
              "1       46\n",
              "Name: FIDCs_em_alerta, dtype: int64"
            ]
          },
          "metadata": {},
          "execution_count": 25
        }
      ],
      "source": [
        "nomes = ['FUNDO DE INVESTIMENTO EM DIREITOS CREDITÓRIOS INDIGO BARTER', 'FUNDO DE INVESTIMENTO EM DIREITOS CREDITÓRIOS BRAVA CHALLENGE', 'CREDIHOME FUNDO DE INVESTIMENTO EM DIREITOS CREDITORIOS', 'RUBI FUNDO DE INVESTIMENTO EM DIREITOS CREDITÓRIOS MULTISETORIAL', 'FUNDO DE INVESTIMENTO EM DIREITOS CREDITÓRIOS BULLLA', 'LS INTERBANK FUNDO DE INVESTIMENTO EM DIREITOS CREDITÓRIOS', 'TURQUESA - FUNDO DE INVESTIMENTO EM DIREITOS CREDITÓRIOS']\n",
        "def analisa_nomes(valor):\n",
        "  for nome in nomes:\n",
        "    if valor == nome:\n",
        "      return 1\n",
        "    else:\n",
        "      return 0\n",
        "\n",
        "df['FIDCs_em_alerta'] = df.Nome_Fundo.apply(analisa_nomes)\n",
        "df['FIDCs_em_alerta'].value_counts()"
      ]
    },
    {
      "cell_type": "code",
      "execution_count": null,
      "metadata": {
        "id": "ffsVjvu2nyzl"
      },
      "outputs": [],
      "source": [
        "df = df.dropna(subset=['Forma_Condominio'])"
      ]
    },
    {
      "cell_type": "code",
      "execution_count": null,
      "metadata": {
        "colab": {
          "base_uri": "https://localhost:8080/"
        },
        "id": "GqMZdLn0oEel",
        "outputId": "8b8618ab-ba20-4cd9-aad2-78e33d83081b"
      },
      "outputs": [
        {
          "output_type": "execute_result",
          "data": {
            "text/plain": [
              "array(['ABERTO', 'FECHADO'], dtype=object)"
            ]
          },
          "metadata": {},
          "execution_count": 27
        }
      ],
      "source": [
        "df.Forma_Condominio.unique()"
      ]
    },
    {
      "cell_type": "code",
      "execution_count": null,
      "metadata": {
        "id": "A6R9Wk4rDcz7",
        "colab": {
          "base_uri": "https://localhost:8080/"
        },
        "outputId": "cdb461a0-637b-4b81-c278-8ea9f7c3d977"
      },
      "outputs": [
        {
          "output_type": "stream",
          "name": "stderr",
          "text": [
            "<ipython-input-28-7b18d3f9ec13>:5: SettingWithCopyWarning: \n",
            "A value is trying to be set on a copy of a slice from a DataFrame.\n",
            "Try using .loc[row_indexer,col_indexer] = value instead\n",
            "\n",
            "See the caveats in the documentation: https://pandas.pydata.org/pandas-docs/stable/user_guide/indexing.html#returning-a-view-versus-a-copy\n",
            "  df[i] = le.fit_transform(df[i])\n"
          ]
        }
      ],
      "source": [
        "from sklearn.preprocessing import LabelEncoder\n",
        "var_mod =['Forma_Condominio']\n",
        "le = LabelEncoder()\n",
        "for i in var_mod:\n",
        "  df[i] = le.fit_transform(df[i])"
      ]
    },
    {
      "cell_type": "code",
      "execution_count": null,
      "metadata": {
        "colab": {
          "base_uri": "https://localhost:8080/"
        },
        "id": "s1jv-lcdD3Mj",
        "outputId": "0519f825-cdb3-4a2b-e500-0793991a9ce6"
      },
      "outputs": [
        {
          "output_type": "execute_result",
          "data": {
            "text/plain": [
              "array([0, 1])"
            ]
          },
          "metadata": {},
          "execution_count": 29
        }
      ],
      "source": [
        "df.Forma_Condominio.unique()"
      ]
    },
    {
      "cell_type": "code",
      "execution_count": null,
      "metadata": {
        "id": "AqLqITFEG9eY"
      },
      "outputs": [],
      "source": [
        "df = df.dropna(axis=0)"
      ]
    },
    {
      "cell_type": "code",
      "execution_count": null,
      "metadata": {
        "colab": {
          "base_uri": "https://localhost:8080/"
        },
        "id": "p4Bg9y0HH8Re",
        "outputId": "7c64eae5-2571-448e-832c-5ab771aee397"
      },
      "outputs": [
        {
          "output_type": "execute_result",
          "data": {
            "text/plain": [
              "(53462, 40)"
            ]
          },
          "metadata": {},
          "execution_count": 31
        }
      ],
      "source": [
        "df.shape"
      ]
    },
    {
      "cell_type": "markdown",
      "metadata": {
        "id": "NrSSDleuKv4z"
      },
      "source": [
        "### Fazendo UnderSampling"
      ]
    },
    {
      "cell_type": "code",
      "execution_count": null,
      "metadata": {
        "colab": {
          "base_uri": "https://localhost:8080/"
        },
        "id": "tRpPbC1PI4P2",
        "outputId": "7cff8e31-69ff-4d14-b614-032bd1cc4c1c"
      },
      "outputs": [
        {
          "output_type": "execute_result",
          "data": {
            "text/plain": [
              "0    34756\n",
              "1    15244\n",
              "Name: FIDCs_em_alerta, dtype: int64"
            ]
          },
          "metadata": {},
          "execution_count": 32
        }
      ],
      "source": [
        "synthetic_data_realistic.FIDCs_em_alerta.value_counts()"
      ]
    },
    {
      "cell_type": "markdown",
      "metadata": {
        "id": "mZofqaTzYGNn"
      },
      "source": [
        "Separando os fundos que quebraram e não quebraram"
      ]
    },
    {
      "cell_type": "code",
      "execution_count": null,
      "metadata": {
        "id": "EMhV672WJikO"
      },
      "outputs": [],
      "source": [
        "fundos_Nao_Quebraram_Sinteticos = synthetic_data_realistic.loc[synthetic_data_realistic.FIDCs_em_alerta == 0]\n",
        "fundos_Quebraram_Sinteticos = synthetic_data_realistic.loc[synthetic_data_realistic.FIDCs_em_alerta == 1]"
      ]
    },
    {
      "cell_type": "markdown",
      "metadata": {
        "id": "AjQQ-eeRYOR8"
      },
      "source": [
        "Deixando os fundos que quebraram e não quebraram com o mesmo tamanho"
      ]
    },
    {
      "cell_type": "code",
      "execution_count": null,
      "metadata": {
        "id": "Z6TnehySJ3A1"
      },
      "outputs": [],
      "source": [
        "fundos_Nao_Quebraram_Sinteticos = fundos_Nao_Quebraram_Sinteticos.sample(n=15244, random_state=42)"
      ]
    },
    {
      "cell_type": "markdown",
      "metadata": {
        "id": "zfJbTdS8YYyn"
      },
      "source": [
        "Juntando eles em um DataFrame"
      ]
    },
    {
      "cell_type": "code",
      "execution_count": null,
      "metadata": {
        "id": "dx-BfpdyKGBU"
      },
      "outputs": [],
      "source": [
        "synthetic_data_realistic = pd.concat([fundos_Nao_Quebraram_Sinteticos, fundos_Quebraram_Sinteticos], axis=0)"
      ]
    },
    {
      "cell_type": "code",
      "execution_count": null,
      "metadata": {
        "colab": {
          "base_uri": "https://localhost:8080/"
        },
        "id": "SMPEwAcNKUmm",
        "outputId": "0d17d263-9e1f-4879-a4d6-7451ee2fa0c5"
      },
      "outputs": [
        {
          "output_type": "execute_result",
          "data": {
            "text/plain": [
              "(30488, 40)"
            ]
          },
          "metadata": {},
          "execution_count": 36
        }
      ],
      "source": [
        "synthetic_data_realistic.shape"
      ]
    },
    {
      "cell_type": "code",
      "execution_count": null,
      "metadata": {
        "colab": {
          "base_uri": "https://localhost:8080/"
        },
        "id": "PxUqt8moKqv1",
        "outputId": "7e9be41d-8da3-47b6-8928-271be9deb876"
      },
      "outputs": [
        {
          "output_type": "execute_result",
          "data": {
            "text/plain": [
              "0    15244\n",
              "1    15244\n",
              "Name: FIDCs_em_alerta, dtype: int64"
            ]
          },
          "metadata": {},
          "execution_count": 37
        }
      ],
      "source": [
        "synthetic_data_realistic.FIDCs_em_alerta.value_counts()"
      ]
    },
    {
      "cell_type": "markdown",
      "metadata": {
        "id": "QWHZ5S0uMvwI"
      },
      "source": [
        "# Avaliando as Features utilizadas"
      ]
    },
    {
      "cell_type": "code",
      "execution_count": null,
      "metadata": {
        "id": "KEdPI_hK0oIH"
      },
      "outputs": [],
      "source": [
        "colunas_para_converter = synthetic_data_realistic.select_dtypes(include=['float64']).columns"
      ]
    },
    {
      "cell_type": "code",
      "execution_count": null,
      "metadata": {
        "id": "l-smKX0H01ZH"
      },
      "outputs": [],
      "source": [
        "for coluna in colunas_para_converter:\n",
        "    synthetic_data_realistic[coluna] = synthetic_data_realistic[coluna].astype('float32')\n",
        "    df[coluna] = df[coluna].astype('float32')"
      ]
    },
    {
      "cell_type": "code",
      "execution_count": null,
      "metadata": {
        "id": "353bJ1ceC439"
      },
      "outputs": [],
      "source": [
        "X_train = synthetic_data_realistic.drop(['FIDCs_em_alerta', 'Nome_Fundo', 'CNPJ', 'CNPJ_Administrador', 'Data_Competencia'], axis=1)\n",
        "y_train = synthetic_data_realistic.FIDCs_em_alerta\n",
        "\n",
        "X_test = df.drop(['FIDCs_em_alerta', 'Nome_Fundo', 'CNPJ', 'CNPJ_Administrador', 'Data_Competencia'], axis=1)\n",
        "y_test = df.FIDCs_em_alerta"
      ]
    },
    {
      "cell_type": "code",
      "execution_count": null,
      "metadata": {
        "id": "INdv2TUsRW0j"
      },
      "outputs": [],
      "source": [
        "scaler = MinMaxScaler()\n",
        "X_train = scaler.fit_transform(X_train)\n",
        "X_test = scaler.transform(X_test)"
      ]
    },
    {
      "cell_type": "code",
      "execution_count": null,
      "metadata": {
        "id": "exDNXli7ytij"
      },
      "outputs": [],
      "source": [
        "X_train = np.float32(X_train)\n",
        "y_train = np.float32(y_train)\n",
        "X_test = np.float32(X_test)\n",
        "y_test = np.float32(y_test)"
      ]
    },
    {
      "cell_type": "code",
      "execution_count": null,
      "metadata": {
        "id": "96vlGi3vQTpd"
      },
      "outputs": [],
      "source": [
        "from sklearn.metrics import mean_absolute_error"
      ]
    },
    {
      "cell_type": "code",
      "execution_count": null,
      "metadata": {
        "colab": {
          "base_uri": "https://localhost:8080/",
          "height": 784
        },
        "id": "CVLDjB4EoftP",
        "outputId": "1ed4ec5e-9dce-4f4d-8f7a-41d133e1fc06"
      },
      "outputs": [
        {
          "output_type": "stream",
          "name": "stdout",
          "text": [
            "0.004609680328690249\n",
            "Precision: 0.004609680328690249\n",
            "Accuracy: 0.8142044816879279\n",
            "Confusion Matrix:\n",
            "[[43483  9933]\n",
            " [    0    46]]\n",
            "Classification Report:\n",
            "              precision    recall  f1-score   support\n",
            "\n",
            "         0.0       1.00      0.81      0.90     53416\n",
            "         1.0       0.00      1.00      0.01        46\n",
            "\n",
            "    accuracy                           0.81     53462\n",
            "   macro avg       0.50      0.91      0.45     53462\n",
            "weighted avg       1.00      0.81      0.90     53462\n",
            "\n"
          ]
        },
        {
          "output_type": "display_data",
          "data": {
            "text/plain": [
              "<Figure size 640x480 with 1 Axes>"
            ],
            "image/png": "[encoded data removed]"
          },
          "metadata": {}
        },
        {
          "output_type": "stream",
          "name": "stdout",
          "text": [
            "======================================================================\n",
            "======================================================================\n"
          ]
        }
      ],
      "source": [
        "model = AdaBoostClassifier(n_estimators = 100, random_state=42)\n",
        "model.fit(X_train, y_train)\n",
        "y_pred = model.predict(X_test)\n",
        "\n",
        "accuracy = accuracy_score(y_test, y_pred)\n",
        "confusion = confusion_matrix(y_test, y_pred)\n",
        "classification_rep = classification_report(y_test, y_pred)\n",
        "precision = precision_score(y_test, y_pred)\n",
        "\n",
        "precision_original = precision_score(y_test, y_pred)\n",
        "\n",
        "recall_original = recall_score(y_test, y_pred)\n",
        "recall_original_2 = recall_original**2\n",
        "\n",
        "score_original = precision_original * recall_original_2\n",
        "print(score_original)\n",
        "\n",
        "print(f'Precision: {precision}')\n",
        "print(f'Accuracy: {accuracy}')\n",
        "print(f'Confusion Matrix:\\n{confusion}')\n",
        "print(f'Classification Report:\\n{classification_rep}')\n",
        "\n",
        "\n",
        "fpr, tpr, thresholds = roc_curve(y_test, y_pred)\n",
        "roc_auc = auc(fpr, tpr)\n",
        "\n",
        "# Plote a curva ROC\n",
        "plt.figure()\n",
        "plt.plot(fpr, tpr, color='darkorange', lw=2, label='Curva ROC (area = {:.2f})'.format(roc_auc))\n",
        "plt.plot([0, 1], [0, 1], color='navy', lw=2, linestyle='--')\n",
        "plt.xlim([0.0, 1.0])\n",
        "plt.ylim([0.0, 1.05])\n",
        "plt.xlabel('Taxa de Falso Positivo')\n",
        "plt.ylabel('Taxa de Verdadeiro Positivo')\n",
        "plt.title('Curva ROC')\n",
        "plt.legend(loc=\"lower right\")\n",
        "plt.show()\n",
        "print('=' * 70)\n",
        "print('=' * 70)"
      ]
    },
    {
      "cell_type": "code",
      "execution_count": null,
      "metadata": {
        "id": "30M7nhBVOjnZ"
      },
      "outputs": [],
      "source": [
        "pred = pd.DataFrame(y_pred)"
      ]
    },
    {
      "cell_type": "code",
      "execution_count": null,
      "metadata": {
        "colab": {
          "base_uri": "https://localhost:8080/",
          "height": 301
        },
        "id": "iKqkZWKeO1G1",
        "outputId": "4e47d7ab-df13-4f7e-859e-8c6b294ce36e"
      },
      "outputs": [
        {
          "output_type": "execute_result",
          "data": {
            "text/plain": [
              "                  0\n",
              "count  53462.000000\n",
              "mean       0.186656\n",
              "std        0.389639\n",
              "min        0.000000\n",
              "25%        0.000000\n",
              "50%        0.000000\n",
              "75%        0.000000\n",
              "max        1.000000"
            ],
            "text/html": [
              "\n",
              "  <div id=\"df-af665e66-e540-4ce1-85d8-c440678f3936\" class=\"colab-df-container\">\n",
              "    <div>\n",
              "<style scoped>\n",
              "    .dataframe tbody tr th:only-of-type {\n",
              "        vertical-align: middle;\n",
              "    }\n",
              "\n",
              "    .dataframe tbody tr th {\n",
              "        vertical-align: top;\n",
              "    }\n",
              "\n",
              "    .dataframe thead th {\n",
              "        text-align: right;\n",
              "    }\n",
              "</style>\n",
              "<table border=\"1\" class=\"dataframe\">\n",
              "  <thead>\n",
              "    <tr style=\"text-align: right;\">\n",
              "      <th></th>\n",
              "      <th>0</th>\n",
              "    </tr>\n",
              "  </thead>\n",
              "  <tbody>\n",
              "    <tr>\n",
              "      <th>count</th>\n",
              "      <td>53462.000000</td>\n",
              "    </tr>\n",
              "    <tr>\n",
              "      <th>mean</th>\n",
              "      <td>0.186656</td>\n",
              "    </tr>\n",
              "    <tr>\n",
              "      <th>std</th>\n",
              "      <td>0.389639</td>\n",
              "    </tr>\n",
              "    <tr>\n",
              "      <th>min</th>\n",
              "      <td>0.000000</td>\n",
              "    </tr>\n",
              "    <tr>\n",
              "      <th>25%</th>\n",
              "      <td>0.000000</td>\n",
              "    </tr>\n",
              "    <tr>\n",
              "      <th>50%</th>\n",
              "      <td>0.000000</td>\n",
              "    </tr>\n",
              "    <tr>\n",
              "      <th>75%</th>\n",
              "      <td>0.000000</td>\n",
              "    </tr>\n",
              "    <tr>\n",
              "      <th>max</th>\n",
              "      <td>1.000000</td>\n",
              "    </tr>\n",
              "  </tbody>\n",
              "</table>\n",
              "</div>\n",
              "    <div class=\"colab-df-buttons\">\n",
              "\n",
              "  <div class=\"colab-df-container\">\n",
              "    <button class=\"colab-df-convert\" onclick=\"convertToInteractive('df-af665e66-e540-4ce1-85d8-c440678f3936')\"\n",
              "            title=\"Convert this dataframe to an interactive table.\"\n",
              "            style=\"display:none;\">\n",
              "\n",
              "  <svg xmlns=\"http://www.w3.org/2000/svg\" height=\"24px\" viewBox=\"0 -960 960 960\">\n",
              "    <path d=\"M120-120v-720h720v720H120Zm60-500h600v-160H180v160Zm220 220h160v-160H400v160Zm0 220h160v-160H400v160ZM180-400h160v-160H180v160Zm440 0h160v-160H620v160ZM180-180h160v-160H180v160Zm440 0h160v-160H620v160Z\"/>\n",
              "  </svg>\n",
              "    </button>\n",
              "\n",
              "  <style>\n",
              "    .colab-df-container {\n",
              "      display:flex;\n",
              "      gap: 12px;\n",
              "    }\n",
              "\n",
              "    .colab-df-convert {\n",
              "      background-color: #E8F0FE;\n",
              "      border: none;\n",
              "      border-radius: 50%;\n",
              "      cursor: pointer;\n",
              "      display: none;\n",
              "      fill: #1967D2;\n",
              "      height: 32px;\n",
              "      padding: 0 0 0 0;\n",
              "      width: 32px;\n",
              "    }\n",
              "\n",
              "    .colab-df-convert:hover {\n",
              "      background-color: #E2EBFA;\n",
              "      box-shadow: 0px 1px 2px rgba(60, 64, 67, 0.3), 0px 1px 3px 1px rgba(60, 64, 67, 0.15);\n",
              "      fill: #174EA6;\n",
              "    }\n",
              "\n",
              "    .colab-df-buttons div {\n",
              "      margin-bottom: 4px;\n",
              "    }\n",
              "\n",
              "    [theme=dark] .colab-df-convert {\n",
              "      background-color: #3B4455;\n",
              "      fill: #D2E3FC;\n",
              "    }\n",
              "\n",
              "    [theme=dark] .colab-df-convert:hover {\n",
              "      background-color: #434B5C;\n",
              "      box-shadow: 0px 1px 3px 1px rgba(0, 0, 0, 0.15);\n",
              "      filter: drop-shadow(0px 1px 2px rgba(0, 0, 0, 0.3));\n",
              "      fill: #FFFFFF;\n",
              "    }\n",
              "  </style>\n",
              "\n",
              "    <script>\n",
              "      const buttonEl =\n",
              "        document.querySelector('#df-af665e66-e540-4ce1-85d8-c440678f3936 button.colab-df-convert');\n",
              "      buttonEl.style.display =\n",
              "        google.colab.kernel.accessAllowed ? 'block' : 'none';\n",
              "\n",
              "      async function convertToInteractive(key) {\n",
              "        const element = document.querySelector('#df-af665e66-e540-4ce1-85d8-c440678f3936');\n",
              "        const dataTable =\n",
              "          await google.colab.kernel.invokeFunction('convertToInteractive',\n",
              "                                                    [key], {});\n",
              "        if (!dataTable) return;\n",
              "\n",
              "        const docLinkHtml = 'Like what you see? Visit the ' +\n",
              "          '<a target=\"_blank\" href=https://colab.research.google.com/notebooks/data_table.ipynb>data table notebook</a>'\n",
              "          + ' to learn more about interactive tables.';\n",
              "        element.innerHTML = '';\n",
              "        dataTable['output_type'] = 'display_data';\n",
              "        await google.colab.output.renderOutput(dataTable, element);\n",
              "        const docLink = document.createElement('div');\n",
              "        docLink.innerHTML = docLinkHtml;\n",
              "        element.appendChild(docLink);\n",
              "      }\n",
              "    </script>\n",
              "  </div>\n",
              "\n",
              "\n",
              "<div id=\"df-5e7e7c9b-5743-4366-ba8f-8c0837940b6d\">\n",
              "  <button class=\"colab-df-quickchart\" onclick=\"quickchart('df-5e7e7c9b-5743-4366-ba8f-8c0837940b6d')\"\n",
              "            title=\"Suggest charts.\"\n",
              "            style=\"display:none;\">\n",
              "\n",
              "<svg xmlns=\"http://www.w3.org/2000/svg\" height=\"24px\"viewBox=\"0 0 24 24\"\n",
              "     width=\"24px\">\n",
              "    <g>\n",
              "        <path d=\"M19 3H5c-1.1 0-2 .9-2 2v14c0 1.1.9 2 2 2h14c1.1 0 2-.9 2-2V5c0-1.1-.9-2-2-2zM9 17H7v-7h2v7zm4 0h-2V7h2v10zm4 0h-2v-4h2v4z\"/>\n",
              "    </g>\n",
              "</svg>\n",
              "  </button>\n",
              "\n",
              "<style>\n",
              "  .colab-df-quickchart {\n",
              "      --bg-color: #E8F0FE;\n",
              "      --fill-color: #1967D2;\n",
              "      --hover-bg-color: #E2EBFA;\n",
              "      --hover-fill-color: #174EA6;\n",
              "      --disabled-fill-color: #AAA;\n",
              "      --disabled-bg-color: #DDD;\n",
              "  }\n",
              "\n",
              "  [theme=dark] .colab-df-quickchart {\n",
              "      --bg-color: #3B4455;\n",
              "      --fill-color: #D2E3FC;\n",
              "      --hover-bg-color: #434B5C;\n",
              "      --hover-fill-color: #FFFFFF;\n",
              "      --disabled-bg-color: #3B4455;\n",
              "      --disabled-fill-color: #666;\n",
              "  }\n",
              "\n",
              "  .colab-df-quickchart {\n",
              "    background-color: var(--bg-color);\n",
              "    border: none;\n",
              "    border-radius: 50%;\n",
              "    cursor: pointer;\n",
              "    display: none;\n",
              "    fill: var(--fill-color);\n",
              "    height: 32px;\n",
              "    padding: 0;\n",
              "    width: 32px;\n",
              "  }\n",
              "\n",
              "  .colab-df-quickchart:hover {\n",
              "    background-color: var(--hover-bg-color);\n",
              "    box-shadow: 0 1px 2px rgba(60, 64, 67, 0.3), 0 1px 3px 1px rgba(60, 64, 67, 0.15);\n",
              "    fill: var(--button-hover-fill-color);\n",
              "  }\n",
              "\n",
              "  .colab-df-quickchart-complete:disabled,\n",
              "  .colab-df-quickchart-complete:disabled:hover {\n",
              "    background-color: var(--disabled-bg-color);\n",
              "    fill: var(--disabled-fill-color);\n",
              "    box-shadow: none;\n",
              "  }\n",
              "\n",
              "  .colab-df-spinner {\n",
              "    border: 2px solid var(--fill-color);\n",
              "    border-color: transparent;\n",
              "    border-bottom-color: var(--fill-color);\n",
              "    animation:\n",
              "      spin 1s steps(1) infinite;\n",
              "  }\n",
              "\n",
              "  @keyframes spin {\n",
              "    0% {\n",
              "      border-color: transparent;\n",
              "      border-bottom-color: var(--fill-color);\n",
              "      border-left-color: var(--fill-color);\n",
              "    }\n",
              "    20% {\n",
              "      border-color: transparent;\n",
              "      border-left-color: var(--fill-color);\n",
              "      border-top-color: var(--fill-color);\n",
              "    }\n",
              "    30% {\n",
              "      border-color: transparent;\n",
              "      border-left-color: var(--fill-color);\n",
              "      border-top-color: var(--fill-color);\n",
              "      border-right-color: var(--fill-color);\n",
              "    }\n",
              "    40% {\n",
              "      border-color: transparent;\n",
              "      border-right-color: var(--fill-color);\n",
              "      border-top-color: var(--fill-color);\n",
              "    }\n",
              "    60% {\n",
              "      border-color: transparent;\n",
              "      border-right-color: var(--fill-color);\n",
              "    }\n",
              "    80% {\n",
              "      border-color: transparent;\n",
              "      border-right-color: var(--fill-color);\n",
              "      border-bottom-color: var(--fill-color);\n",
              "    }\n",
              "    90% {\n",
              "      border-color: transparent;\n",
              "      border-bottom-color: var(--fill-color);\n",
              "    }\n",
              "  }\n",
              "</style>\n",
              "\n",
              "  <script>\n",
              "    async function quickchart(key) {\n",
              "      const quickchartButtonEl =\n",
              "        document.querySelector('#' + key + ' button');\n",
              "      quickchartButtonEl.disabled = true;  // To prevent multiple clicks.\n",
              "      quickchartButtonEl.classList.add('colab-df-spinner');\n",
              "      try {\n",
              "        const charts = await google.colab.kernel.invokeFunction(\n",
              "            'suggestCharts', [key], {});\n",
              "      } catch (error) {\n",
              "        console.error('Error during call to suggestCharts:', error);\n",
              "      }\n",
              "      quickchartButtonEl.classList.remove('colab-df-spinner');\n",
              "      quickchartButtonEl.classList.add('colab-df-quickchart-complete');\n",
              "    }\n",
              "    (() => {\n",
              "      let quickchartButtonEl =\n",
              "        document.querySelector('#df-5e7e7c9b-5743-4366-ba8f-8c0837940b6d button');\n",
              "      quickchartButtonEl.style.display =\n",
              "        google.colab.kernel.accessAllowed ? 'block' : 'none';\n",
              "    })();\n",
              "  </script>\n",
              "</div>\n",
              "    </div>\n",
              "  </div>\n"
            ]
          },
          "metadata": {},
          "execution_count": 52
        }
      ],
      "source": [
        "pred.describe()"
      ]
    },
    {
      "cell_type": "code",
      "execution_count": null,
      "metadata": {
        "id": "sqIrBUdiFiOu"
      },
      "outputs": [],
      "source": []
    },
    {
      "cell_type": "code",
      "execution_count": null,
      "metadata": {
        "colab": {
          "base_uri": "https://localhost:8080/"
        },
        "id": "2HtaFq0ET1GM",
        "outputId": "6da33d16-ce86-428f-dad5-41c6b606f90a"
      },
      "outputs": [
        {
          "output_type": "execute_result",
          "data": {
            "text/plain": [
              "{'algorithm': 'SAMME.R',\n",
              " 'base_estimator': 'deprecated',\n",
              " 'estimator': None,\n",
              " 'learning_rate': 1.0,\n",
              " 'n_estimators': 50,\n",
              " 'random_state': None}"
            ]
          },
          "metadata": {},
          "execution_count": 53
        }
      ],
      "source": [
        "adac = AdaBoostClassifier()\n",
        "adac.get_params()"
      ]
    },
    {
      "cell_type": "code",
      "execution_count": null,
      "metadata": {
        "id": "cTrI4lydXxVB"
      },
      "outputs": [],
      "source": [
        "import optuna"
      ]
    },
    {
      "cell_type": "code",
      "execution_count": null,
      "metadata": {
        "id": "_PdAfL4AUMxh"
      },
      "outputs": [],
      "source": [
        "def objective(trial):\n",
        "  n_estimators = trial.suggest_int('n_estimators', 10, 100)\n",
        "  learning_rate = trial.suggest_float('learning_rate', 0.01, 10, log=True)\n",
        "  algorithm = trial.suggest_categorical(\"algorithm\", ['SAMME', 'SAMME.R'])\n",
        "  random_state = trial.suggest_int('random_state', 0, 10000)\n",
        "\n",
        "\n",
        "  model = AdaBoostClassifier(n_estimators=n_estimators, learning_rate=learning_rate, algorithm=algorithm, random_state=random_state)\n",
        "\n",
        "  model.fit(X_train, y_train)\n",
        "\n",
        "  y_pred = model.predict(X_test)\n",
        "\n",
        "  precision = precision_score(y_test, y_pred, zero_division=0)\n",
        "\n",
        "  recall = recall_score(y_test, y_pred)\n",
        "\n",
        "  recall = math.floor(recall)\n",
        "\n",
        "  if recall < 1:\n",
        "    recall = 0\n",
        "\n",
        "  score = precision * recall\n",
        "\n",
        "  return score"
      ]
    },
    {
      "cell_type": "code",
      "execution_count": null,
      "metadata": {
        "colab": {
          "base_uri": "https://localhost:8080/"
        },
        "id": "BkBQJgb6XuvD",
        "outputId": "9a94ac57-d1b5-4c75-811b-fd6c9175c85f"
      },
      "outputs": [
        {
          "output_type": "stream",
          "name": "stderr",
          "text": [
            "[I 2023-10-04 20:32:24,279] A new study created in memory with name: no-name-811d313e-e231-4a3b-a058-3d3f4ef9ad37\n",
            "[I 2023-10-04 20:32:27,584] Trial 1 finished with value: 0.0 and parameters: {'n_estimators': 19, 'learning_rate': 0.2578009643421916, 'algorithm': 'SAMME', 'random_state': 8855}. Best is trial 1 with value: 0.0.\n",
            "[I 2023-10-04 20:32:31,596] Trial 0 finished with value: 0.0 and parameters: {'n_estimators': 44, 'learning_rate': 0.8996870926299108, 'algorithm': 'SAMME', 'random_state': 5365}. Best is trial 1 with value: 0.0.\n",
            "[I 2023-10-04 20:32:36,375] Trial 2 finished with value: 0.0 and parameters: {'n_estimators': 43, 'learning_rate': 8.876125568100552, 'algorithm': 'SAMME', 'random_state': 933}. Best is trial 1 with value: 0.0.\n",
            "[I 2023-10-04 20:32:40,370] Trial 3 finished with value: 0.0 and parameters: {'n_estimators': 41, 'learning_rate': 0.031901122700467285, 'algorithm': 'SAMME.R', 'random_state': 1160}. Best is trial 1 with value: 0.0.\n",
            "[I 2023-10-04 20:32:43,400] Trial 4 finished with value: 0.0 and parameters: {'n_estimators': 40, 'learning_rate': 0.18585155745278584, 'algorithm': 'SAMME.R', 'random_state': 6631}. Best is trial 1 with value: 0.0.\n",
            "[I 2023-10-04 20:32:47,547] Trial 5 finished with value: 0.0 and parameters: {'n_estimators': 36, 'learning_rate': 0.04222137958695673, 'algorithm': 'SAMME.R', 'random_state': 7740}. Best is trial 1 with value: 0.0.\n",
            "[I 2023-10-04 20:32:53,914] Trial 6 finished with value: 0.0 and parameters: {'n_estimators': 52, 'learning_rate': 0.05855947404856378, 'algorithm': 'SAMME.R', 'random_state': 8502}. Best is trial 1 with value: 0.0.\n",
            "[I 2023-10-04 20:32:59,200] Trial 7 finished with value: 0.0 and parameters: {'n_estimators': 63, 'learning_rate': 0.5311528213095061, 'algorithm': 'SAMME.R', 'random_state': 682}. Best is trial 1 with value: 0.0.\n",
            "[I 2023-10-04 20:33:11,196] Trial 8 finished with value: 0.0 and parameters: {'n_estimators': 96, 'learning_rate': 0.01705438025740717, 'algorithm': 'SAMME', 'random_state': 9100}. Best is trial 1 with value: 0.0.\n",
            "[I 2023-10-04 20:33:14,912] Trial 10 finished with value: 0.0 and parameters: {'n_estimators': 13, 'learning_rate': 0.013961579438741331, 'algorithm': 'SAMME.R', 'random_state': 9661}. Best is trial 1 with value: 0.0.\n",
            "[I 2023-10-04 20:33:17,513] Trial 9 finished with value: 0.0 and parameters: {'n_estimators': 95, 'learning_rate': 0.03512476006280883, 'algorithm': 'SAMME', 'random_state': 6006}. Best is trial 1 with value: 0.0.\n",
            "[I 2023-10-04 20:33:19,258] Trial 12 finished with value: 0.0 and parameters: {'n_estimators': 10, 'learning_rate': 0.8230147289776957, 'algorithm': 'SAMME', 'random_state': 3606}. Best is trial 1 with value: 0.0.\n",
            "[I 2023-10-04 20:33:24,581] Trial 13 finished with value: 0.0 and parameters: {'n_estimators': 21, 'learning_rate': 1.4551450351923942, 'algorithm': 'SAMME', 'random_state': 3997}. Best is trial 1 with value: 0.0.\n",
            "[I 2023-10-04 20:33:30,533] Trial 11 finished with value: 0.0037126715092816787 and parameters: {'n_estimators': 73, 'learning_rate': 1.5083387677097426, 'algorithm': 'SAMME', 'random_state': 4104}. Best is trial 11 with value: 0.0037126715092816787.\n",
            "[I 2023-10-04 20:33:36,766] Trial 14 finished with value: 0.0 and parameters: {'n_estimators': 64, 'learning_rate': 0.21008044829883407, 'algorithm': 'SAMME', 'random_state': 4574}. Best is trial 11 with value: 0.0037126715092816787.\n",
            "[I 2023-10-04 20:33:44,292] Trial 15 finished with value: 0.0 and parameters: {'n_estimators': 74, 'learning_rate': 2.3841431211943176, 'algorithm': 'SAMME', 'random_state': 2982}. Best is trial 11 with value: 0.0037126715092816787.\n",
            "[I 2023-10-04 20:33:51,615] Trial 16 finished with value: 0.0 and parameters: {'n_estimators': 81, 'learning_rate': 2.0848955063911276, 'algorithm': 'SAMME', 'random_state': 2701}. Best is trial 11 with value: 0.0037126715092816787.\n",
            "[I 2023-10-04 20:33:59,517] Trial 17 finished with value: 0.0 and parameters: {'n_estimators': 82, 'learning_rate': 3.2739869502266155, 'algorithm': 'SAMME', 'random_state': 2440}. Best is trial 11 with value: 0.0037126715092816787.\n",
            "[I 2023-10-04 20:34:08,129] Trial 18 finished with value: 0.0 and parameters: {'n_estimators': 82, 'learning_rate': 5.69795964104513, 'algorithm': 'SAMME', 'random_state': 5652}. Best is trial 11 with value: 0.0037126715092816787.\n",
            "[I 2023-10-04 20:34:10,690] Trial 19 finished with value: 0.0 and parameters: {'n_estimators': 58, 'learning_rate': 0.4998214495878133, 'algorithm': 'SAMME', 'random_state': 5917}. Best is trial 11 with value: 0.0037126715092816787.\n",
            "[I 2023-10-04 20:34:15,488] Trial 21 finished with value: 0.0 and parameters: {'n_estimators': 29, 'learning_rate': 1.1212078503433174, 'algorithm': 'SAMME', 'random_state': 7182}. Best is trial 11 with value: 0.0037126715092816787.\n",
            "[I 2023-10-04 20:34:17,254] Trial 20 finished with value: 0.0 and parameters: {'n_estimators': 54, 'learning_rate': 0.8232263494725556, 'algorithm': 'SAMME', 'random_state': 7182}. Best is trial 11 with value: 0.0037126715092816787.\n",
            "[I 2023-10-04 20:34:21,037] Trial 22 finished with value: 0.0 and parameters: {'n_estimators': 26, 'learning_rate': 0.3258540680067131, 'algorithm': 'SAMME', 'random_state': 4992}. Best is trial 11 with value: 0.0037126715092816787.\n",
            "[I 2023-10-04 20:34:23,337] Trial 23 finished with value: 0.0 and parameters: {'n_estimators': 27, 'learning_rate': 0.40623942869482166, 'algorithm': 'SAMME', 'random_state': 4967}. Best is trial 11 with value: 0.0037126715092816787.\n",
            "[I 2023-10-04 20:34:34,710] Trial 24 finished with value: 0.0 and parameters: {'n_estimators': 72, 'learning_rate': 0.10909607217397031, 'algorithm': 'SAMME', 'random_state': 8149}. Best is trial 11 with value: 0.0037126715092816787.\n",
            "[I 2023-10-04 20:34:36,362] Trial 25 finished with value: 0.0 and parameters: {'n_estimators': 70, 'learning_rate': 0.11345427844005901, 'algorithm': 'SAMME', 'random_state': 1831}. Best is trial 11 with value: 0.0037126715092816787.\n",
            "[I 2023-10-04 20:34:42,689] Trial 26 finished with value: 0.0 and parameters: {'n_estimators': 48, 'learning_rate': 1.355878340964147, 'algorithm': 'SAMME', 'random_state': 1998}. Best is trial 11 with value: 0.0037126715092816787.\n",
            "[I 2023-10-04 20:34:44,640] Trial 27 finished with value: 0.0 and parameters: {'n_estimators': 50, 'learning_rate': 1.0983456352456822, 'algorithm': 'SAMME', 'random_state': 9900}. Best is trial 11 with value: 0.0037126715092816787.\n",
            "[I 2023-10-04 20:34:47,221] Trial 28 finished with value: 0.0 and parameters: {'n_estimators': 20, 'learning_rate': 0.6532136375057738, 'algorithm': 'SAMME', 'random_state': 3822}. Best is trial 11 with value: 0.0037126715092816787.\n",
            "[I 2023-10-04 20:34:49,176] Trial 29 finished with value: 0.0 and parameters: {'n_estimators': 18, 'learning_rate': 0.6232053076564857, 'algorithm': 'SAMME', 'random_state': 4153}. Best is trial 11 with value: 0.0037126715092816787.\n",
            "[I 2023-10-04 20:34:54,664] Trial 31 finished with value: 0.0 and parameters: {'n_estimators': 33, 'learning_rate': 5.916485830249887, 'algorithm': 'SAMME', 'random_state': 3223}. Best is trial 11 with value: 0.0037126715092816787.\n",
            "[I 2023-10-04 20:35:03,652] Trial 32 finished with value: 0.0 and parameters: {'n_estimators': 45, 'learning_rate': 6.934492408562669, 'algorithm': 'SAMME', 'random_state': 42}. Best is trial 11 with value: 0.0037126715092816787.\n",
            "[I 2023-10-04 20:35:04,118] Trial 30 finished with value: 0.0 and parameters: {'n_estimators': 90, 'learning_rate': 8.325937247376437, 'algorithm': 'SAMME', 'random_state': 4454}. Best is trial 11 with value: 0.0037126715092816787.\n",
            "[I 2023-10-04 20:35:11,446] Trial 34 finished with value: 0.001182853763274962 and parameters: {'n_estimators': 42, 'learning_rate': 3.5628852199909984, 'algorithm': 'SAMME.R', 'random_state': 6848}. Best is trial 11 with value: 0.0037126715092816787.\n",
            "[I 2023-10-04 20:35:11,524] Trial 33 finished with value: 0.0 and parameters: {'n_estimators': 45, 'learning_rate': 9.094038684643193, 'algorithm': 'SAMME.R', 'random_state': 567}. Best is trial 11 with value: 0.0037126715092816787.\n",
            "[I 2023-10-04 20:35:19,878] Trial 36 finished with value: 0.0 and parameters: {'n_estimators': 39, 'learning_rate': 3.3710943889779923, 'algorithm': 'SAMME.R', 'random_state': 6505}. Best is trial 11 with value: 0.0037126715092816787.\n",
            "[I 2023-10-04 20:35:20,136] Trial 35 finished with value: 0.0 and parameters: {'n_estimators': 41, 'learning_rate': 3.6912131892846287, 'algorithm': 'SAMME.R', 'random_state': 6767}. Best is trial 11 with value: 0.0037126715092816787.\n",
            "[I 2023-10-04 20:35:33,529] Trial 37 finished with value: 0.0 and parameters: {'n_estimators': 60, 'learning_rate': 0.27255848676461675, 'algorithm': 'SAMME.R', 'random_state': 8762}. Best is trial 11 with value: 0.0037126715092816787.\n",
            "[I 2023-10-04 20:35:33,643] Trial 38 finished with value: 0.0 and parameters: {'n_estimators': 60, 'learning_rate': 1.8000786092598353, 'algorithm': 'SAMME.R', 'random_state': 8805}. Best is trial 11 with value: 0.0037126715092816787.\n",
            "[I 2023-10-04 20:35:40,217] Trial 40 finished with value: 0.0 and parameters: {'n_estimators': 34, 'learning_rate': 2.536842062977999, 'algorithm': 'SAMME.R', 'random_state': 5479}. Best is trial 11 with value: 0.0037126715092816787.\n",
            "[I 2023-10-04 20:35:40,724] Trial 39 finished with value: 0.0 and parameters: {'n_estimators': 37, 'learning_rate': 1.905338674887973, 'algorithm': 'SAMME.R', 'random_state': 7774}. Best is trial 11 with value: 0.0037126715092816787.\n",
            "[I 2023-10-04 20:35:49,135] Trial 42 finished with value: 0.0 and parameters: {'n_estimators': 44, 'learning_rate': 4.608511118233703, 'algorithm': 'SAMME.R', 'random_state': 9366}. Best is trial 11 with value: 0.0037126715092816787.\n",
            "[I 2023-10-04 20:35:52,474] Trial 41 finished with value: 0.0 and parameters: {'n_estimators': 65, 'learning_rate': 0.4056946731559855, 'algorithm': 'SAMME.R', 'random_state': 7836}. Best is trial 11 with value: 0.0037126715092816787.\n",
            "[I 2023-10-04 20:36:01,792] Trial 43 finished with value: 0.0 and parameters: {'n_estimators': 67, 'learning_rate': 9.912467689457761, 'algorithm': 'SAMME', 'random_state': 6181}. Best is trial 11 with value: 0.0037126715092816787.\n",
            "[I 2023-10-04 20:36:02,703] Trial 44 finished with value: 0.0 and parameters: {'n_estimators': 53, 'learning_rate': 9.432151883074436, 'algorithm': 'SAMME', 'random_state': 1396}. Best is trial 11 with value: 0.0037126715092816787.\n",
            "[I 2023-10-04 20:36:09,522] Trial 46 finished with value: 0.0 and parameters: {'n_estimators': 32, 'learning_rate': 4.449011126767067, 'algorithm': 'SAMME', 'random_state': 3358}. Best is trial 11 with value: 0.0037126715092816787.\n",
            "[I 2023-10-04 20:36:12,068] Trial 47 finished with value: 0.0 and parameters: {'n_estimators': 15, 'learning_rate': 3.0882748551691885, 'algorithm': 'SAMME', 'random_state': 8288}. Best is trial 11 with value: 0.0037126715092816787.\n",
            "[I 2023-10-04 20:36:12,787] Trial 45 finished with value: 0.0 and parameters: {'n_estimators': 56, 'learning_rate': 4.526450751840996, 'algorithm': 'SAMME', 'random_state': 1215}. Best is trial 11 with value: 0.0037126715092816787.\n",
            "[I 2023-10-04 20:36:15,960] Trial 48 finished with value: 0.0 and parameters: {'n_estimators': 23, 'learning_rate': 2.5466320471113635, 'algorithm': 'SAMME', 'random_state': 7150}. Best is trial 11 with value: 0.0037126715092816787.\n",
            "[I 2023-10-04 20:36:27,793] Trial 49 finished with value: 0.0 and parameters: {'n_estimators': 78, 'learning_rate': 2.5657478320604725, 'algorithm': 'SAMME.R', 'random_state': 7011}. Best is trial 11 with value: 0.0037126715092816787.\n",
            "[I 2023-10-04 20:36:31,077] Trial 50 finished with value: 0.0035920662189598625 and parameters: {'n_estimators': 79, 'learning_rate': 1.4855309150955212, 'algorithm': 'SAMME.R', 'random_state': 6662}. Best is trial 11 with value: 0.0037126715092816787.\n",
            "[I 2023-10-04 20:36:44,004] Trial 51 finished with value: 0.004123711340206186 and parameters: {'n_estimators': 89, 'learning_rate': 1.5129129056884218, 'algorithm': 'SAMME', 'random_state': 6377}. Best is trial 51 with value: 0.004123711340206186.\n",
            "[I 2023-10-04 20:36:46,045] Trial 52 finished with value: 0.003516550722421833 and parameters: {'n_estimators': 77, 'learning_rate': 1.6479238464525408, 'algorithm': 'SAMME.R', 'random_state': 5540}. Best is trial 51 with value: 0.004123711340206186.\n",
            "[I 2023-10-04 20:37:02,449] Trial 53 finished with value: 0.0036755892928485817 and parameters: {'n_estimators': 88, 'learning_rate': 1.633651837312166, 'algorithm': 'SAMME.R', 'random_state': 5403}. Best is trial 51 with value: 0.004123711340206186.\n",
            "[I 2023-10-04 20:37:04,067] Trial 54 finished with value: 0.004010112457501526 and parameters: {'n_estimators': 88, 'learning_rate': 1.5657694777139937, 'algorithm': 'SAMME.R', 'random_state': 5491}. Best is trial 51 with value: 0.004123711340206186.\n",
            "[I 2023-10-04 20:37:19,397] Trial 55 finished with value: 0.004072237960339943 and parameters: {'n_estimators': 89, 'learning_rate': 1.5631841332612488, 'algorithm': 'SAMME.R', 'random_state': 6329}. Best is trial 51 with value: 0.004123711340206186.\n",
            "[I 2023-10-04 20:37:20,644] Trial 56 finished with value: 0.003498364894668796 and parameters: {'n_estimators': 88, 'learning_rate': 1.543270260647019, 'algorithm': 'SAMME.R', 'random_state': 5280}. Best is trial 51 with value: 0.004123711340206186.\n",
            "[I 2023-10-04 20:37:36,117] Trial 57 finished with value: 0.004203216374269006 and parameters: {'n_estimators': 88, 'learning_rate': 1.443173093130548, 'algorithm': 'SAMME.R', 'random_state': 6154}. Best is trial 57 with value: 0.004203216374269006.\n",
            "[I 2023-10-04 20:37:39,019] Trial 58 finished with value: 0.004531573244015368 and parameters: {'n_estimators': 98, 'learning_rate': 0.942880635445594, 'algorithm': 'SAMME.R', 'random_state': 6279}. Best is trial 58 with value: 0.004531573244015368.\n",
            "[I 2023-10-04 20:37:53,090] Trial 59 finished with value: 0.00454320987654321 and parameters: {'n_estimators': 87, 'learning_rate': 1.0096845087307378, 'algorithm': 'SAMME.R', 'random_state': 6186}. Best is trial 59 with value: 0.00454320987654321.\n",
            "[I 2023-10-04 20:37:59,405] Trial 60 finished with value: 0.004348237073447396 and parameters: {'n_estimators': 100, 'learning_rate': 0.9933915482036051, 'algorithm': 'SAMME.R', 'random_state': 6021}. Best is trial 59 with value: 0.00454320987654321.\n",
            "[I 2023-10-04 20:38:13,094] Trial 61 finished with value: 0.004318437852046564 and parameters: {'n_estimators': 100, 'learning_rate': 1.007029318182361, 'algorithm': 'SAMME.R', 'random_state': 6320}. Best is trial 59 with value: 0.00454320987654321.\n",
            "[I 2023-10-04 20:38:17,749] Trial 62 finished with value: 0.004914004914004914 and parameters: {'n_estimators': 97, 'learning_rate': 0.9553151644106619, 'algorithm': 'SAMME.R', 'random_state': 6378}. Best is trial 62 with value: 0.004914004914004914.\n",
            "[I 2023-10-04 20:38:31,834] Trial 63 finished with value: 0.004320871688897238 and parameters: {'n_estimators': 100, 'learning_rate': 1.0103034213505597, 'algorithm': 'SAMME.R', 'random_state': 6195}. Best is trial 62 with value: 0.004914004914004914.\n",
            "[I 2023-10-04 20:38:38,028] Trial 64 finished with value: 0.004506269592476489 and parameters: {'n_estimators': 100, 'learning_rate': 0.9677555317540737, 'algorithm': 'SAMME.R', 'random_state': 5897}. Best is trial 62 with value: 0.004914004914004914.\n",
            "[I 2023-10-04 20:38:52,143] Trial 65 finished with value: 0.004702034140856588 and parameters: {'n_estimators': 100, 'learning_rate': 0.9405131860633638, 'algorithm': 'SAMME.R', 'random_state': 5964}. Best is trial 62 with value: 0.004914004914004914.\n",
            "[I 2023-10-04 20:38:57,170] Trial 66 finished with value: 0.004507152655300804 and parameters: {'n_estimators': 99, 'learning_rate': 1.004354874285144, 'algorithm': 'SAMME.R', 'random_state': 5888}. Best is trial 62 with value: 0.004914004914004914.\n",
            "[I 2023-10-04 20:39:14,810] Trial 67 finished with value: 0.004475143496449071 and parameters: {'n_estimators': 100, 'learning_rate': 0.8145674253289193, 'algorithm': 'SAMME.R', 'random_state': 5989}. Best is trial 62 with value: 0.004914004914004914.\n",
            "[I 2023-10-04 20:39:19,623] Trial 68 finished with value: 0.004389312977099237 and parameters: {'n_estimators': 94, 'learning_rate': 0.7883852894577172, 'algorithm': 'SAMME.R', 'random_state': 5885}. Best is trial 62 with value: 0.004914004914004914.\n",
            "[I 2023-10-04 20:39:34,283] Trial 69 finished with value: 0.004298262007101476 and parameters: {'n_estimators': 94, 'learning_rate': 0.7563935844422152, 'algorithm': 'SAMME.R', 'random_state': 5813}. Best is trial 62 with value: 0.004914004914004914.\n",
            "[I 2023-10-04 20:39:37,238] Trial 70 finished with value: 0.004337576614804338 and parameters: {'n_estimators': 93, 'learning_rate': 0.778897615974956, 'algorithm': 'SAMME.R', 'random_state': 7477}. Best is trial 62 with value: 0.004914004914004914.\n",
            "[I 2023-10-04 20:39:51,715] Trial 71 finished with value: 0.004574383452665076 and parameters: {'n_estimators': 92, 'learning_rate': 0.6628080932821565, 'algorithm': 'SAMME.R', 'random_state': 4886}. Best is trial 62 with value: 0.004914004914004914.\n",
            "[I 2023-10-04 20:39:55,789] Trial 72 finished with value: 0.004876497402735079 and parameters: {'n_estimators': 97, 'learning_rate': 0.5849157490222461, 'algorithm': 'SAMME.R', 'random_state': 4704}. Best is trial 62 with value: 0.004914004914004914.\n",
            "[I 2023-10-04 20:40:11,585] Trial 73 finished with value: 0.00490509703561527 and parameters: {'n_estimators': 97, 'learning_rate': 0.5744742954193927, 'algorithm': 'SAMME.R', 'random_state': 4538}. Best is trial 62 with value: 0.004914004914004914.\n",
            "[I 2023-10-04 20:40:15,414] Trial 74 finished with value: 0.004883227176220807 and parameters: {'n_estimators': 97, 'learning_rate': 0.5779437128192683, 'algorithm': 'SAMME.R', 'random_state': 4648}. Best is trial 62 with value: 0.004914004914004914.\n",
            "[I 2023-10-04 20:40:29,854] Trial 75 finished with value: 0.004768816089570807 and parameters: {'n_estimators': 97, 'learning_rate': 0.5735852410292076, 'algorithm': 'SAMME.R', 'random_state': 4831}. Best is trial 62 with value: 0.004914004914004914.\n",
            "[I 2023-10-04 20:40:31,835] Trial 76 finished with value: 0.004688614820099888 and parameters: {'n_estimators': 85, 'learning_rate': 0.5801477357725352, 'algorithm': 'SAMME.R', 'random_state': 4566}. Best is trial 62 with value: 0.004914004914004914.\n",
            "[I 2023-10-04 20:40:46,141] Trial 77 finished with value: 0.00490876107139046 and parameters: {'n_estimators': 85, 'learning_rate': 0.5291508471216539, 'algorithm': 'SAMME.R', 'random_state': 4530}. Best is trial 62 with value: 0.004914004914004914.\n",
            "[I 2023-10-04 20:40:48,088] Trial 78 finished with value: 0.00497727764553127 and parameters: {'n_estimators': 85, 'learning_rate': 0.5405704390874907, 'algorithm': 'SAMME.R', 'random_state': 4790}. Best is trial 78 with value: 0.00497727764553127.\n",
            "[I 2023-10-04 20:41:03,402] Trial 79 finished with value: 0.004967602591792656 and parameters: {'n_estimators': 85, 'learning_rate': 0.5077807716434918, 'algorithm': 'SAMME.R', 'random_state': 4420}. Best is trial 78 with value: 0.00497727764553127.\n",
            "[I 2023-10-04 20:41:07,754] Trial 80 finished with value: 0.005235602094240838 and parameters: {'n_estimators': 96, 'learning_rate': 0.45658959495086654, 'algorithm': 'SAMME.R', 'random_state': 4217}. Best is trial 80 with value: 0.005235602094240838.\n",
            "[I 2023-10-04 20:41:22,194] Trial 81 finished with value: 0.004782201892088575 and parameters: {'n_estimators': 96, 'learning_rate': 0.5322441266147381, 'algorithm': 'SAMME.R', 'random_state': 4330}. Best is trial 80 with value: 0.005235602094240838.\n",
            "[I 2023-10-04 20:41:25,915] Trial 82 finished with value: 0.0051230649292794295 and parameters: {'n_estimators': 96, 'learning_rate': 0.4767419464266186, 'algorithm': 'SAMME.R', 'random_state': 4279}. Best is trial 80 with value: 0.005235602094240838.\n",
            "[I 2023-10-04 20:41:40,481] Trial 83 finished with value: 0.005139664804469274 and parameters: {'n_estimators': 96, 'learning_rate': 0.46524571022401234, 'algorithm': 'SAMME.R', 'random_state': 4219}. Best is trial 80 with value: 0.005235602094240838.\n",
            "[I 2023-10-04 20:41:44,535] Trial 84 finished with value: 0.005029521102121146 and parameters: {'n_estimators': 91, 'learning_rate': 0.43317233245261394, 'algorithm': 'SAMME.R', 'random_state': 3977}. Best is trial 80 with value: 0.005235602094240838.\n",
            "[I 2023-10-04 20:41:59,553] Trial 85 finished with value: 0.0 and parameters: {'n_estimators': 92, 'learning_rate': 0.4299707884308752, 'algorithm': 'SAMME.R', 'random_state': 3707}. Best is trial 80 with value: 0.005235602094240838.\n",
            "[I 2023-10-04 20:42:01,882] Trial 86 finished with value: 0.0 and parameters: {'n_estimators': 91, 'learning_rate': 0.45683179959254844, 'algorithm': 'SAMME.R', 'random_state': 3752}. Best is trial 80 with value: 0.005235602094240838.\n",
            "[I 2023-10-04 20:42:17,013] Trial 87 finished with value: 0.0 and parameters: {'n_estimators': 91, 'learning_rate': 0.35990794413672605, 'algorithm': 'SAMME.R', 'random_state': 4002}. Best is trial 80 with value: 0.005235602094240838.\n",
            "[I 2023-10-04 20:42:17,975] Trial 88 finished with value: 0.0 and parameters: {'n_estimators': 84, 'learning_rate': 0.33071627785630375, 'algorithm': 'SAMME.R', 'random_state': 4048}. Best is trial 80 with value: 0.005235602094240838.\n",
            "[I 2023-10-04 20:42:33,086] Trial 89 finished with value: 0.0 and parameters: {'n_estimators': 84, 'learning_rate': 0.3064258910503197, 'algorithm': 'SAMME.R', 'random_state': 5175}. Best is trial 80 with value: 0.005235602094240838.\n",
            "[I 2023-10-04 20:42:34,250] Trial 90 finished with value: 0.0 and parameters: {'n_estimators': 85, 'learning_rate': 0.27894850400045923, 'algorithm': 'SAMME.R', 'random_state': 3495}. Best is trial 80 with value: 0.005235602094240838.\n",
            "[I 2023-10-04 20:42:54,282] Trial 91 finished with value: 0.005310551835603787 and parameters: {'n_estimators': 95, 'learning_rate': 0.4603827503325066, 'algorithm': 'SAMME.R', 'random_state': 3476}. Best is trial 91 with value: 0.005310551835603787.\n",
            "[I 2023-10-04 20:42:55,263] Trial 92 finished with value: 0.005046626439934174 and parameters: {'n_estimators': 95, 'learning_rate': 0.4878987345927656, 'algorithm': 'SAMME.R', 'random_state': 3129}. Best is trial 91 with value: 0.005310551835603787.\n",
            "[I 2023-10-04 20:43:12,113] Trial 93 finished with value: 0.0 and parameters: {'n_estimators': 94, 'learning_rate': 0.48146795518664126, 'algorithm': 'SAMME.R', 'random_state': 3124}. Best is trial 91 with value: 0.005310551835603787.\n",
            "[I 2023-10-04 20:43:13,296] Trial 94 finished with value: 0.0 and parameters: {'n_estimators': 95, 'learning_rate': 0.45925999526979705, 'algorithm': 'SAMME.R', 'random_state': 2504}. Best is trial 91 with value: 0.005310551835603787.\n",
            "[I 2023-10-04 20:43:27,653] Trial 95 finished with value: 0.0 and parameters: {'n_estimators': 80, 'learning_rate': 0.372826290013639, 'algorithm': 'SAMME.R', 'random_state': 2950}. Best is trial 91 with value: 0.005310551835603787.\n",
            "[I 2023-10-04 20:43:28,683] Trial 96 finished with value: 0.0 and parameters: {'n_estimators': 80, 'learning_rate': 0.38132442553169726, 'algorithm': 'SAMME.R', 'random_state': 2910}. Best is trial 91 with value: 0.005310551835603787.\n",
            "[I 2023-10-04 20:43:42,403] Trial 97 finished with value: 0.0 and parameters: {'n_estimators': 76, 'learning_rate': 0.23805069244764474, 'algorithm': 'SAMME.R', 'random_state': 3450}. Best is trial 91 with value: 0.005310551835603787.\n",
            "[I 2023-10-04 20:43:45,609] Trial 98 finished with value: 0.0 and parameters: {'n_estimators': 83, 'learning_rate': 0.2354138374918377, 'algorithm': 'SAMME.R', 'random_state': 4267}. Best is trial 91 with value: 0.005310551835603787.\n",
            "[I 2023-10-04 20:44:00,599] Trial 99 finished with value: 0.0045036224789504605 and parameters: {'n_estimators': 86, 'learning_rate': 0.6928252124880465, 'algorithm': 'SAMME.R', 'random_state': 4210}. Best is trial 91 with value: 0.005310551835603787.\n",
            "[I 2023-10-04 20:44:04,413] Trial 100 finished with value: 0.0 and parameters: {'n_estimators': 95, 'learning_rate': 0.42880678218888457, 'algorithm': 'SAMME.R', 'random_state': 3914}. Best is trial 91 with value: 0.005310551835603787.\n",
            "[I 2023-10-04 20:44:17,856] Trial 101 finished with value: 0.0 and parameters: {'n_estimators': 90, 'learning_rate': 0.4188239101638009, 'algorithm': 'SAMME.R', 'random_state': 3880}. Best is trial 91 with value: 0.005310551835603787.\n",
            "[I 2023-10-04 20:44:21,595] Trial 102 finished with value: 0.0047422680412371136 and parameters: {'n_estimators': 90, 'learning_rate': 0.521488080653268, 'algorithm': 'SAMME.R', 'random_state': 5105}. Best is trial 91 with value: 0.005310551835603787.\n",
            "[I 2023-10-04 20:44:35,340] Trial 103 finished with value: 0.004896221394358701 and parameters: {'n_estimators': 92, 'learning_rate': 0.517939097527746, 'algorithm': 'SAMME.R', 'random_state': 5121}. Best is trial 91 with value: 0.005310551835603787.\n",
            "[I 2023-10-04 20:44:40,857] Trial 104 finished with value: 0.005043306654972043 and parameters: {'n_estimators': 93, 'learning_rate': 0.4894935170259169, 'algorithm': 'SAMME.R', 'random_state': 4420}. Best is trial 91 with value: 0.005310551835603787.\n",
            "[I 2023-10-04 20:44:55,097] Trial 105 finished with value: 0.004560777315090224 and parameters: {'n_estimators': 96, 'learning_rate': 0.6782190237647915, 'algorithm': 'SAMME.R', 'random_state': 4427}. Best is trial 91 with value: 0.005310551835603787.\n",
            "[I 2023-10-04 20:44:58,439] Trial 106 finished with value: 0.004400650530948053 and parameters: {'n_estimators': 93, 'learning_rate': 0.6871572422468074, 'algorithm': 'SAMME.R', 'random_state': 3264}. Best is trial 91 with value: 0.005310551835603787.\n",
            "[I 2023-10-04 20:45:11,393] Trial 107 finished with value: 0.0 and parameters: {'n_estimators': 86, 'learning_rate': 0.3331023167513071, 'algorithm': 'SAMME.R', 'random_state': 3193}. Best is trial 91 with value: 0.005310551835603787.\n",
            "[I 2023-10-04 20:45:15,340] Trial 108 finished with value: 0.0 and parameters: {'n_estimators': 87, 'learning_rate': 0.34556059256308086, 'algorithm': 'SAMME.R', 'random_state': 3615}. Best is trial 91 with value: 0.005310551835603787.\n",
            "[I 2023-10-04 20:45:27,349] Trial 109 finished with value: 0.0 and parameters: {'n_estimators': 82, 'learning_rate': 0.48309189669025615, 'algorithm': 'SAMME.R', 'random_state': 3655}. Best is trial 91 with value: 0.005310551835603787.\n",
            "[I 2023-10-04 20:45:31,517] Trial 110 finished with value: 0.0 and parameters: {'n_estimators': 82, 'learning_rate': 0.4822148505219711, 'algorithm': 'SAMME.R', 'random_state': 4773}. Best is trial 91 with value: 0.005310551835603787.\n",
            "[I 2023-10-04 20:45:47,520] Trial 111 finished with value: 0.0 and parameters: {'n_estimators': 98, 'learning_rate': 0.2983607729329898, 'algorithm': 'SAMME.R', 'random_state': 2128}. Best is trial 91 with value: 0.005310551835603787.\n",
            "[I 2023-10-04 20:45:50,817] Trial 112 finished with value: 0.0 and parameters: {'n_estimators': 96, 'learning_rate': 0.3950382259354899, 'algorithm': 'SAMME.R', 'random_state': 4342}. Best is trial 91 with value: 0.005310551835603787.\n",
            "[I 2023-10-04 20:46:06,107] Trial 113 finished with value: 0.004702034140856588 and parameters: {'n_estimators': 98, 'learning_rate': 0.5800587612991664, 'algorithm': 'SAMME.R', 'random_state': 4490}. Best is trial 91 with value: 0.005310551835603787.\n",
            "[I 2023-10-04 20:46:08,923] Trial 114 finished with value: 0.004631027886841841 and parameters: {'n_estimators': 94, 'learning_rate': 0.5900916598516901, 'algorithm': 'SAMME.R', 'random_state': 4526}. Best is trial 91 with value: 0.005310551835603787.\n",
            "[I 2023-10-04 20:46:25,411] Trial 115 finished with value: 0.004631027886841841 and parameters: {'n_estimators': 93, 'learning_rate': 0.6480486586120918, 'algorithm': 'SAMME.R', 'random_state': 4120}. Best is trial 91 with value: 0.005310551835603787.\n",
            "[I 2023-10-04 20:46:29,358] Trial 116 finished with value: 0.004443585780525503 and parameters: {'n_estimators': 91, 'learning_rate': 1.2046575176796528, 'algorithm': 'SAMME.R', 'random_state': 4174}. Best is trial 91 with value: 0.005310551835603787.\n",
            "[I 2023-10-04 20:46:44,127] Trial 117 finished with value: 0.0042616268297202145 and parameters: {'n_estimators': 90, 'learning_rate': 0.8392469600086315, 'algorithm': 'SAMME.R', 'random_state': 4864}. Best is trial 91 with value: 0.005310551835603787.\n",
            "[I 2023-10-04 20:46:47,735] Trial 118 finished with value: 0.004213611798113035 and parameters: {'n_estimators': 98, 'learning_rate': 0.7585348261023774, 'algorithm': 'SAMME.R', 'random_state': 4973}. Best is trial 91 with value: 0.005310551835603787.\n",
            "[I 2023-10-04 20:47:02,581] Trial 119 finished with value: 0.0 and parameters: {'n_estimators': 98, 'learning_rate': 0.39300566529998643, 'algorithm': 'SAMME.R', 'random_state': 3886}. Best is trial 91 with value: 0.005310551835603787.\n",
            "[I 2023-10-04 20:47:06,790] Trial 120 finished with value: 0.0 and parameters: {'n_estimators': 95, 'learning_rate': 0.3878103114265576, 'algorithm': 'SAMME.R', 'random_state': 2633}. Best is trial 91 with value: 0.005310551835603787.\n",
            "[I 2023-10-04 20:47:22,079] Trial 121 finished with value: 0.004801168980273458 and parameters: {'n_estimators': 95, 'learning_rate': 0.514918262911045, 'algorithm': 'SAMME.R', 'random_state': 2785}. Best is trial 91 with value: 0.005310551835603787.\n",
            "[I 2023-10-04 20:47:25,025] Trial 122 finished with value: 0.004896221394358701 and parameters: {'n_estimators': 92, 'learning_rate': 0.5351255450270794, 'algorithm': 'SAMME.R', 'random_state': 5140}. Best is trial 91 with value: 0.005310551835603787.\n",
            "[I 2023-10-04 20:47:39,835] Trial 123 finished with value: 0.004846186262115465 and parameters: {'n_estimators': 93, 'learning_rate': 0.5336721868984327, 'algorithm': 'SAMME.R', 'random_state': 5278}. Best is trial 91 with value: 0.005310551835603787.\n",
            "[I 2023-10-04 20:47:41,960] Trial 124 finished with value: 0.0 and parameters: {'n_estimators': 89, 'learning_rate': 0.4506998060966793, 'algorithm': 'SAMME.R', 'random_state': 4660}. Best is trial 91 with value: 0.005310551835603787.\n",
            "[I 2023-10-04 20:47:56,695] Trial 125 finished with value: 0.0 and parameters: {'n_estimators': 88, 'learning_rate': 0.45024626350608865, 'algorithm': 'SAMME.R', 'random_state': 4460}. Best is trial 91 with value: 0.005310551835603787.\n",
            "[I 2023-10-04 20:47:59,993] Trial 126 finished with value: 0.004584412995814232 and parameters: {'n_estimators': 92, 'learning_rate': 0.6514805581288141, 'algorithm': 'SAMME.R', 'random_state': 3473}. Best is trial 91 with value: 0.005310551835603787.\n",
            "[I 2023-10-04 20:48:15,808] Trial 127 finished with value: 0.0 and parameters: {'n_estimators': 92, 'learning_rate': 0.32065870334876884, 'algorithm': 'SAMME.R', 'random_state': 3444}. Best is trial 91 with value: 0.005310551835603787.\n",
            "[I 2023-10-04 20:48:19,036] Trial 128 finished with value: 0.0 and parameters: {'n_estimators': 96, 'learning_rate': 0.30913063706285676, 'algorithm': 'SAMME.R', 'random_state': 4103}. Best is trial 91 with value: 0.005310551835603787.\n",
            "[I 2023-10-04 20:48:33,952] Trial 129 finished with value: 0.0 and parameters: {'n_estimators': 96, 'learning_rate': 0.2765693236648721, 'algorithm': 'SAMME.R', 'random_state': 5653}. Best is trial 91 with value: 0.005310551835603787.\n",
            "[I 2023-10-04 20:48:37,426] Trial 130 finished with value: 0.0 and parameters: {'n_estimators': 97, 'learning_rate': 0.2541414425449408, 'algorithm': 'SAMME.R', 'random_state': 3811}. Best is trial 91 with value: 0.005310551835603787.\n",
            "[I 2023-10-04 20:48:47,789] Trial 131 finished with value: 0.004442727448329148 and parameters: {'n_estimators': 71, 'learning_rate': 0.8504701718182412, 'algorithm': 'SAMME.R', 'random_state': 3811}. Best is trial 91 with value: 0.005310551835603787.\n",
            "[I 2023-10-04 20:48:56,371] Trial 132 finished with value: 0.004943578721117678 and parameters: {'n_estimators': 91, 'learning_rate': 0.5277741133304789, 'algorithm': 'SAMME.R', 'random_state': 5211}. Best is trial 91 with value: 0.005310551835603787.\n",
            "[I 2023-10-04 20:49:05,415] Trial 133 finished with value: 0.0048889361249867145 and parameters: {'n_estimators': 91, 'learning_rate': 0.5432667131177283, 'algorithm': 'SAMME.R', 'random_state': 5056}. Best is trial 91 with value: 0.005310551835603787.\n",
            "[I 2023-10-04 20:49:15,234] Trial 134 finished with value: 0.004350704624988177 and parameters: {'n_estimators': 87, 'learning_rate': 0.7151656118545024, 'algorithm': 'SAMME.R', 'random_state': 4763}. Best is trial 91 with value: 0.005310551835603787.\n",
            "[I 2023-10-04 20:49:24,729] Trial 135 finished with value: 0.004635227730753728 and parameters: {'n_estimators': 86, 'learning_rate': 0.6282363145803448, 'algorithm': 'SAMME.R', 'random_state': 4753}. Best is trial 91 with value: 0.005310551835603787.\n",
            "[I 2023-10-04 20:49:33,786] Trial 136 finished with value: 0.0 and parameters: {'n_estimators': 94, 'learning_rate': 0.3576089612250054, 'algorithm': 'SAMME.R', 'random_state': 4301}. Best is trial 91 with value: 0.005310551835603787.\n",
            "[I 2023-10-04 20:49:53,562] Trial 137 finished with value: 0.0 and parameters: {'n_estimators': 94, 'learning_rate': 0.36592908737937246, 'algorithm': 'SAMME.R', 'random_state': 4418}. Best is trial 91 with value: 0.005310551835603787.\n",
            "[I 2023-10-04 20:50:03,942] Trial 138 finished with value: 0.0 and parameters: {'n_estimators': 75, 'learning_rate': 0.47418085616742256, 'algorithm': 'SAMME.R', 'random_state': 4005}. Best is trial 91 with value: 0.005310551835603787.\n",
            "[I 2023-10-04 20:50:18,553] Trial 139 finished with value: 0.005232624274826527 and parameters: {'n_estimators': 90, 'learning_rate': 0.4562690817442482, 'algorithm': 'SAMME.R', 'random_state': 5386}. Best is trial 91 with value: 0.005310551835603787.\n",
            "[I 2023-10-04 20:50:23,504] Trial 140 finished with value: 0.004490433424443577 and parameters: {'n_estimators': 89, 'learning_rate': 0.6073410018719622, 'algorithm': 'SAMME.R', 'random_state': 4931}. Best is trial 91 with value: 0.005310551835603787.\n",
            "[I 2023-10-04 20:50:35,742] Trial 141 finished with value: 0.0 and parameters: {'n_estimators': 89, 'learning_rate': 0.4276850841926169, 'algorithm': 'SAMME.R', 'random_state': 5437}. Best is trial 91 with value: 0.005310551835603787.\n",
            "[I 2023-10-04 20:50:43,788] Trial 142 finished with value: 0.0 and parameters: {'n_estimators': 99, 'learning_rate': 0.4069462847529156, 'algorithm': 'SAMME.R', 'random_state': 5204}. Best is trial 91 with value: 0.005310551835603787.\n",
            "[I 2023-10-04 20:50:55,671] Trial 143 finished with value: 0.004866180048661801 and parameters: {'n_estimators': 99, 'learning_rate': 0.5165935544229986, 'algorithm': 'SAMME.R', 'random_state': 4591}. Best is trial 91 with value: 0.005310551835603787.\n",
            "[I 2023-10-04 20:50:59,911] Trial 144 finished with value: 0.004775747508305648 and parameters: {'n_estimators': 84, 'learning_rate': 0.5171535609851045, 'algorithm': 'SAMME.R', 'random_state': 4634}. Best is trial 91 with value: 0.005310551835603787.\n",
            "[I 2023-10-04 20:51:13,765] Trial 145 finished with value: 0.005208333333333333 and parameters: {'n_estimators': 91, 'learning_rate': 0.46601061836563074, 'algorithm': 'SAMME.R', 'random_state': 4140}. Best is trial 91 with value: 0.005310551835603787.\n",
            "[I 2023-10-04 20:51:17,406] Trial 146 finished with value: 0.004399808703969393 and parameters: {'n_estimators': 91, 'learning_rate': 0.7387645360829862, 'algorithm': 'SAMME.R', 'random_state': 4233}. Best is trial 91 with value: 0.005310551835603787.\n",
            "[I 2023-10-04 20:51:31,172] Trial 147 finished with value: 0.004335123927999246 and parameters: {'n_estimators': 91, 'learning_rate': 0.6856266568147228, 'algorithm': 'SAMME.R', 'random_state': 4226}. Best is trial 91 with value: 0.005310551835603787.\n",
            "[I 2023-10-04 20:51:37,482] Trial 148 finished with value: 0.005317919075144509 and parameters: {'n_estimators': 96, 'learning_rate': 0.4357028479442755, 'algorithm': 'SAMME.R', 'random_state': 5676}. Best is trial 148 with value: 0.005317919075144509.\n",
            "[I 2023-10-04 20:51:51,206] Trial 149 finished with value: 0.005147717099373322 and parameters: {'n_estimators': 96, 'learning_rate': 0.4482446252826998, 'algorithm': 'SAMME.R', 'random_state': 5622}. Best is trial 148 with value: 0.005317919075144509.\n",
            "[I 2023-10-04 20:51:55,456] Trial 150 finished with value: 0.0 and parameters: {'n_estimators': 94, 'learning_rate': 0.3395226050276829, 'algorithm': 'SAMME.R', 'random_state': 5639}. Best is trial 148 with value: 0.005317919075144509.\n",
            "[I 2023-10-04 20:52:09,555] Trial 151 finished with value: 0.0 and parameters: {'n_estimators': 95, 'learning_rate': 0.34159401783315213, 'algorithm': 'SAMME.R', 'random_state': 5495}. Best is trial 148 with value: 0.005317919075144509.\n",
            "[I 2023-10-04 20:52:14,640] Trial 152 finished with value: 0.005077823159289105 and parameters: {'n_estimators': 96, 'learning_rate': 0.4631878735409852, 'algorithm': 'SAMME.R', 'random_state': 5587}. Best is trial 148 with value: 0.005317919075144509.\n",
            "[I 2023-10-04 20:52:29,567] Trial 153 finished with value: 0.0 and parameters: {'n_estimators': 97, 'learning_rate': 0.3964008435783946, 'algorithm': 'SAMME.R', 'random_state': 5319}. Best is trial 148 with value: 0.005317919075144509.\n",
            "[I 2023-10-04 20:52:34,302] Trial 154 finished with value: 0.00527825588066552 and parameters: {'n_estimators': 98, 'learning_rate': 0.43457931486529655, 'algorithm': 'SAMME.R', 'random_state': 5691}. Best is trial 148 with value: 0.005317919075144509.\n",
            "[I 2023-10-04 20:52:48,804] Trial 155 finished with value: 0.005266773528738264 and parameters: {'n_estimators': 100, 'learning_rate': 0.45495945565927326, 'algorithm': 'SAMME.R', 'random_state': 5726}. Best is trial 148 with value: 0.005317919075144509.\n",
            "[I 2023-10-04 20:52:53,336] Trial 156 finished with value: 0.0052897884084636615 and parameters: {'n_estimators': 100, 'learning_rate': 0.45755627032948565, 'algorithm': 'SAMME.R', 'random_state': 5572}. Best is trial 148 with value: 0.005317919075144509.\n",
            "[I 2023-10-04 20:53:08,980] Trial 157 finished with value: 0.0052207467937805015 and parameters: {'n_estimators': 100, 'learning_rate': 0.4402179998882317, 'algorithm': 'SAMME.R', 'random_state': 5880}. Best is trial 148 with value: 0.005317919075144509.\n",
            "[I 2023-10-04 20:53:13,829] Trial 158 finished with value: 0.005144263028405279 and parameters: {'n_estimators': 99, 'learning_rate': 0.43241500423901286, 'algorithm': 'SAMME.R', 'random_state': 5843}. Best is trial 148 with value: 0.005317919075144509.\n",
            "[I 2023-10-04 20:53:29,952] Trial 159 finished with value: 0.0 and parameters: {'n_estimators': 100, 'learning_rate': 0.4114698423207423, 'algorithm': 'SAMME.R', 'random_state': 5627}. Best is trial 148 with value: 0.005317919075144509.\n",
            "[I 2023-10-04 20:53:36,030] Trial 160 finished with value: 0.0 and parameters: {'n_estimators': 100, 'learning_rate': 0.2968107803653303, 'algorithm': 'SAMME.R', 'random_state': 5579}. Best is trial 148 with value: 0.005317919075144509.\n",
            "[I 2023-10-04 20:53:51,609] Trial 161 finished with value: 0.0 and parameters: {'n_estimators': 100, 'learning_rate': 0.29066824922400225, 'algorithm': 'SAMME.R', 'random_state': 5761}. Best is trial 148 with value: 0.005317919075144509.\n",
            "[I 2023-10-04 20:53:56,327] Trial 162 finished with value: 0.0052970981114693685 and parameters: {'n_estimators': 99, 'learning_rate': 0.44736854762926603, 'algorithm': 'SAMME.R', 'random_state': 5788}. Best is trial 148 with value: 0.005317919075144509.\n",
            "[I 2023-10-04 20:54:10,735] Trial 163 finished with value: 0.005240373661426293 and parameters: {'n_estimators': 98, 'learning_rate': 0.4383481244897248, 'algorithm': 'SAMME.R', 'random_state': 6086}. Best is trial 148 with value: 0.005317919075144509.\n",
            "[I 2023-10-04 20:54:16,655] Trial 164 finished with value: 0.005320994794679005 and parameters: {'n_estimators': 97, 'learning_rate': 0.45965493670351043, 'algorithm': 'SAMME.R', 'random_state': 5867}. Best is trial 164 with value: 0.005320994794679005.\n",
            "[I 2023-10-04 20:54:31,383] Trial 165 finished with value: 0.005229055359781744 and parameters: {'n_estimators': 98, 'learning_rate': 0.4576107081666267, 'algorithm': 'SAMME.R', 'random_state': 6614}. Best is trial 164 with value: 0.005320994794679005.\n",
            "[I 2023-10-04 20:54:36,007] Trial 166 finished with value: 0.0 and parameters: {'n_estimators': 98, 'learning_rate': 0.3670391484764723, 'algorithm': 'SAMME.R', 'random_state': 6086}. Best is trial 164 with value: 0.005320994794679005.\n",
            "[I 2023-10-04 20:54:50,033] Trial 167 finished with value: 0.0 and parameters: {'n_estimators': 98, 'learning_rate': 0.3750885891781531, 'algorithm': 'SAMME.R', 'random_state': 6507}. Best is trial 164 with value: 0.005320994794679005.\n",
            "[I 2023-10-04 20:54:55,631] Trial 168 finished with value: 0.0 and parameters: {'n_estimators': 99, 'learning_rate': 0.40747466214256234, 'algorithm': 'SAMME.R', 'random_state': 6534}. Best is trial 164 with value: 0.005320994794679005.\n",
            "[I 2023-10-04 20:55:10,463] Trial 169 finished with value: 0.005324074074074074 and parameters: {'n_estimators': 100, 'learning_rate': 0.44503264606936754, 'algorithm': 'SAMME.R', 'random_state': 6846}. Best is trial 169 with value: 0.005324074074074074.\n",
            "[I 2023-10-04 20:55:14,932] Trial 170 finished with value: 0.0052964881980426025 and parameters: {'n_estimators': 98, 'learning_rate': 0.45009266652443947, 'algorithm': 'SAMME.R', 'random_state': 6782}. Best is trial 169 with value: 0.005324074074074074.\n",
            "[I 2023-10-04 20:55:29,026] Trial 171 finished with value: 0.0 and parameters: {'n_estimators': 98, 'learning_rate': 0.33001155798923565, 'algorithm': 'SAMME.R', 'random_state': 6848}. Best is trial 169 with value: 0.005324074074074074.\n",
            "[I 2023-10-04 20:55:34,277] Trial 172 finished with value: 0.0 and parameters: {'n_estimators': 100, 'learning_rate': 0.4304989752268268, 'algorithm': 'SAMME.R', 'random_state': 6900}. Best is trial 169 with value: 0.005324074074074074.\n",
            "[I 2023-10-04 20:55:48,668] Trial 173 finished with value: 0.0 and parameters: {'n_estimators': 100, 'learning_rate': 0.4043116746716789, 'algorithm': 'SAMME.R', 'random_state': 7456}. Best is trial 169 with value: 0.005324074074074074.\n",
            "[I 2023-10-04 20:55:54,103] Trial 174 finished with value: 0.005231434095303082 and parameters: {'n_estimators': 98, 'learning_rate': 0.456563568018606, 'algorithm': 'SAMME.R', 'random_state': 7190}. Best is trial 169 with value: 0.005324074074074074.\n",
            "[I 2023-10-04 20:56:07,777] Trial 175 finished with value: 0.004826356101143636 and parameters: {'n_estimators': 97, 'learning_rate': 0.5870828509761842, 'algorithm': 'SAMME.R', 'random_state': 6689}. Best is trial 169 with value: 0.005324074074074074.\n",
            "[I 2023-10-04 20:56:12,605] Trial 176 finished with value: 0.004594486616060727 and parameters: {'n_estimators': 98, 'learning_rate': 0.5963052907479556, 'algorithm': 'SAMME.R', 'random_state': 6712}. Best is trial 169 with value: 0.005324074074074074.\n",
            "[I 2023-10-04 20:56:26,389] Trial 177 finished with value: 0.0 and parameters: {'n_estimators': 98, 'learning_rate': 0.26433566429519884, 'algorithm': 'SAMME.R', 'random_state': 7368}. Best is trial 169 with value: 0.005324074074074074.\n",
            "[I 2023-10-04 20:56:33,067] Trial 178 finished with value: 0.0 and parameters: {'n_estimators': 100, 'learning_rate': 0.26335225705960696, 'algorithm': 'SAMME.R', 'random_state': 7389}. Best is trial 169 with value: 0.005324074074074074.\n",
            "[I 2023-10-04 20:56:47,110] Trial 179 finished with value: 0.0 and parameters: {'n_estimators': 100, 'learning_rate': 0.34574527995089505, 'algorithm': 'SAMME.R', 'random_state': 6018}. Best is trial 169 with value: 0.005324074074074074.\n",
            "[I 2023-10-04 20:56:53,014] Trial 180 finished with value: 0.005257142857142857 and parameters: {'n_estimators': 96, 'learning_rate': 0.4417411040275155, 'algorithm': 'SAMME.R', 'random_state': 7158}. Best is trial 169 with value: 0.005324074074074074.\n",
            "[I 2023-10-04 20:57:06,283] Trial 181 finished with value: 0.005223711106064047 and parameters: {'n_estimators': 96, 'learning_rate': 0.44940039260947306, 'algorithm': 'SAMME.R', 'random_state': 5796}. Best is trial 169 with value: 0.005324074074074074.\n",
            "[I 2023-10-04 20:57:12,830] Trial 182 finished with value: 0.0053197640800277555 and parameters: {'n_estimators': 96, 'learning_rate': 0.450483220801878, 'algorithm': 'SAMME.R', 'random_state': 5762}. Best is trial 169 with value: 0.005324074074074074.\n",
            "[I 2023-10-04 20:57:26,077] Trial 183 finished with value: 0.005124206305001671 and parameters: {'n_estimators': 96, 'learning_rate': 0.45433205667278886, 'algorithm': 'SAMME.R', 'random_state': 7103}. Best is trial 169 with value: 0.005324074074074074.\n",
            "[I 2023-10-04 20:57:31,011] Trial 184 finished with value: 0.0 and parameters: {'n_estimators': 95, 'learning_rate': 0.3667264984103968, 'algorithm': 'SAMME.R', 'random_state': 6993}. Best is trial 169 with value: 0.005324074074074074.\n",
            "[I 2023-10-04 20:57:44,049] Trial 185 finished with value: 0.0 and parameters: {'n_estimators': 94, 'learning_rate': 0.35606006272467144, 'algorithm': 'SAMME.R', 'random_state': 6340}. Best is trial 169 with value: 0.005324074074074074.\n",
            "[I 2023-10-04 20:57:50,790] Trial 186 finished with value: 0.004636629372039109 and parameters: {'n_estimators': 97, 'learning_rate': 0.6077407169422349, 'algorithm': 'SAMME.R', 'random_state': 6359}. Best is trial 169 with value: 0.005324074074074074.\n",
            "[I 2023-10-04 20:58:04,200] Trial 187 finished with value: 0.004684794785619717 and parameters: {'n_estimators': 97, 'learning_rate': 0.608392669683385, 'algorithm': 'SAMME.R', 'random_state': 6170}. Best is trial 169 with value: 0.005324074074074074.\n",
            "[I 2023-10-04 20:58:09,307] Trial 188 finished with value: 0.005184851217312894 and parameters: {'n_estimators': 98, 'learning_rate': 0.46798466343339523, 'algorithm': 'SAMME.R', 'random_state': 6128}. Best is trial 169 with value: 0.005324074074074074.\n",
            "[I 2023-10-04 20:58:22,820] Trial 189 finished with value: 0.0 and parameters: {'n_estimators': 98, 'learning_rate': 0.48123311261828594, 'algorithm': 'SAMME.R', 'random_state': 7910}. Best is trial 169 with value: 0.005324074074074074.\n",
            "[I 2023-10-04 20:58:27,800] Trial 190 finished with value: 0.0050862450243255196 and parameters: {'n_estimators': 94, 'learning_rate': 0.5000393879953714, 'algorithm': 'SAMME.R', 'random_state': 7724}. Best is trial 169 with value: 0.005324074074074074.\n",
            "[I 2023-10-04 20:58:41,497] Trial 191 finished with value: 0.0 and parameters: {'n_estimators': 94, 'learning_rate': 0.30658980883464265, 'algorithm': 'SAMME.R', 'random_state': 5833}. Best is trial 169 with value: 0.005324074074074074.\n",
            "[I 2023-10-04 20:58:47,379] Trial 192 finished with value: 0.0 and parameters: {'n_estimators': 98, 'learning_rate': 0.403127966062831, 'algorithm': 'SAMME.R', 'random_state': 5862}. Best is trial 169 with value: 0.005324074074074074.\n",
            "[I 2023-10-04 20:59:00,880] Trial 193 finished with value: 0.0 and parameters: {'n_estimators': 98, 'learning_rate': 0.41045000769178863, 'algorithm': 'SAMME.R', 'random_state': 6034}. Best is trial 169 with value: 0.005324074074074074.\n",
            "[I 2023-10-04 20:59:05,663] Trial 194 finished with value: 0.0051230649292794295 and parameters: {'n_estimators': 96, 'learning_rate': 0.46575620409656626, 'algorithm': 'SAMME.R', 'random_state': 6060}. Best is trial 169 with value: 0.005324074074074074.\n",
            "[I 2023-10-04 20:59:19,212] Trial 195 finished with value: 0.004838031131678587 and parameters: {'n_estimators': 96, 'learning_rate': 0.4933231518292304, 'algorithm': 'SAMME.R', 'random_state': 6482}. Best is trial 169 with value: 0.005324074074074074.\n",
            "[I 2023-10-04 20:59:26,085] Trial 196 finished with value: 0.004936681691350075 and parameters: {'n_estimators': 100, 'learning_rate': 0.5453629035284095, 'algorithm': 'SAMME.R', 'random_state': 6499}. Best is trial 169 with value: 0.005324074074074074.\n",
            "[I 2023-10-04 20:59:39,580] Trial 197 finished with value: 0.00474667217005469 and parameters: {'n_estimators': 99, 'learning_rate': 0.5568595855708391, 'algorithm': 'SAMME.R', 'random_state': 7163}. Best is trial 169 with value: 0.005324074074074074.\n",
            "[I 2023-10-04 20:59:43,001] Trial 198 finished with value: 0.0 and parameters: {'n_estimators': 93, 'learning_rate': 0.331533234983861, 'algorithm': 'SAMME', 'random_state': 5394}. Best is trial 169 with value: 0.005324074074074074.\n",
            "[I 2023-10-04 20:59:56,678] Trial 199 finished with value: 0.0 and parameters: {'n_estimators': 95, 'learning_rate': 0.37482446129166475, 'algorithm': 'SAMME', 'random_state': 5374}. Best is trial 169 with value: 0.005324074074074074.\n",
            "[I 2023-10-04 21:00:02,587] Trial 200 finished with value: 0.0 and parameters: {'n_estimators': 95, 'learning_rate': 0.2057001773861759, 'algorithm': 'SAMME.R', 'random_state': 5761}. Best is trial 169 with value: 0.005324074074074074.\n",
            "[I 2023-10-04 21:00:17,100] Trial 201 finished with value: 0.0 and parameters: {'n_estimators': 97, 'learning_rate': 0.4348322997643749, 'algorithm': 'SAMME.R', 'random_state': 6245}. Best is trial 169 with value: 0.005324074074074074.\n",
            "[I 2023-10-04 21:00:22,813] Trial 202 finished with value: 0.0 and parameters: {'n_estimators': 97, 'learning_rate': 0.4439578574812856, 'algorithm': 'SAMME.R', 'random_state': 5750}. Best is trial 169 with value: 0.005324074074074074.\n",
            "[I 2023-10-04 21:00:36,577] Trial 203 finished with value: 0.005371949083265211 and parameters: {'n_estimators': 96, 'learning_rate': 0.4548556398024198, 'algorithm': 'SAMME.R', 'random_state': 5674}. Best is trial 203 with value: 0.005371949083265211.\n",
            "[I 2023-10-04 21:00:43,407] Trial 204 finished with value: 0.005151175811870101 and parameters: {'n_estimators': 100, 'learning_rate': 0.46100603356786796, 'algorithm': 'SAMME.R', 'random_state': 5639}. Best is trial 203 with value: 0.005371949083265211.\n",
            "[I 2023-10-04 21:00:56,913] Trial 205 finished with value: 0.0047956630525437865 and parameters: {'n_estimators': 100, 'learning_rate': 0.6416844285767019, 'algorithm': 'SAMME.R', 'random_state': 5909}. Best is trial 203 with value: 0.005371949083265211.\n",
            "[I 2023-10-04 21:01:01,850] Trial 206 finished with value: 0.004580304689833715 and parameters: {'n_estimators': 98, 'learning_rate': 0.6398366119093594, 'algorithm': 'SAMME.R', 'random_state': 5929}. Best is trial 203 with value: 0.005371949083265211.\n",
            "[I 2023-10-04 21:01:14,660] Trial 207 finished with value: 0.004821802935010482 and parameters: {'n_estimators': 93, 'learning_rate': 0.5403611204809112, 'algorithm': 'SAMME.R', 'random_state': 6762}. Best is trial 203 with value: 0.005371949083265211.\n",
            "[I 2023-10-04 21:01:19,930] Trial 208 finished with value: 0.0 and parameters: {'n_estimators': 93, 'learning_rate': 0.3775330796187944, 'algorithm': 'SAMME.R', 'random_state': 6743}. Best is trial 203 with value: 0.005371949083265211.\n",
            "[I 2023-10-04 21:01:33,373] Trial 209 finished with value: 0.0 and parameters: {'n_estimators': 96, 'learning_rate': 0.3791490871647486, 'algorithm': 'SAMME.R', 'random_state': 6177}. Best is trial 203 with value: 0.005371949083265211.\n",
            "[I 2023-10-04 21:01:39,551] Trial 210 finished with value: 0.0 and parameters: {'n_estimators': 96, 'learning_rate': 0.39896418284556484, 'algorithm': 'SAMME.R', 'random_state': 6147}. Best is trial 203 with value: 0.005371949083265211.\n",
            "[I 2023-10-04 21:01:53,271] Trial 211 finished with value: 0.00474863218746774 and parameters: {'n_estimators': 98, 'learning_rate': 0.4918757286687729, 'algorithm': 'SAMME.R', 'random_state': 5389}. Best is trial 203 with value: 0.005371949083265211.\n",
            "[I 2023-10-04 21:01:58,483] Trial 212 finished with value: 0.005146565227120161 and parameters: {'n_estimators': 100, 'learning_rate': 0.4856446813839725, 'algorithm': 'SAMME.R', 'random_state': 5577}. Best is trial 203 with value: 0.005371949083265211.\n",
            "[I 2023-10-04 21:02:12,167] Trial 213 finished with value: 0.005112247166036897 and parameters: {'n_estimators': 100, 'learning_rate': 0.46660811445024314, 'algorithm': 'SAMME.R', 'random_state': 5652}. Best is trial 203 with value: 0.005371949083265211.\n",
            "[I 2023-10-04 21:02:19,162] Trial 214 finished with value: 0.005195978764260703 and parameters: {'n_estimators': 100, 'learning_rate': 0.4334590017044696, 'algorithm': 'SAMME.R', 'random_state': 5717}. Best is trial 203 with value: 0.005371949083265211.\n",
            "[I 2023-10-04 21:02:32,438] Trial 215 finished with value: 0.0 and parameters: {'n_estimators': 98, 'learning_rate': 0.4266397893407055, 'algorithm': 'SAMME.R', 'random_state': 5768}. Best is trial 203 with value: 0.005371949083265211.\n",
            "[I 2023-10-04 21:02:37,978] Trial 216 finished with value: 0.0 and parameters: {'n_estimators': 98, 'learning_rate': 0.32067360244649346, 'algorithm': 'SAMME.R', 'random_state': 5463}. Best is trial 203 with value: 0.005371949083265211.\n",
            "[I 2023-10-04 21:02:50,708] Trial 217 finished with value: 0.0 and parameters: {'n_estimators': 95, 'learning_rate': 0.32641372126628676, 'algorithm': 'SAMME.R', 'random_state': 5978}. Best is trial 203 with value: 0.005371949083265211.\n",
            "[I 2023-10-04 21:02:57,577] Trial 218 finished with value: 0.0047550134380814554 and parameters: {'n_estimators': 96, 'learning_rate': 0.5561470631371975, 'algorithm': 'SAMME.R', 'random_state': 7239}. Best is trial 203 with value: 0.005371949083265211.\n",
            "[I 2023-10-04 21:03:04,021] Trial 219 finished with value: 0.0 and parameters: {'n_estimators': 67, 'learning_rate': 0.552797516232961, 'algorithm': 'SAMME.R', 'random_state': 7298}. Best is trial 203 with value: 0.005371949083265211.\n",
            "[I 2023-10-04 21:03:16,066] Trial 220 finished with value: 0.0 and parameters: {'n_estimators': 97, 'learning_rate': 0.4137516753954499, 'algorithm': 'SAMME.R', 'random_state': 6966}. Best is trial 203 with value: 0.005371949083265211.\n",
            "[I 2023-10-04 21:03:24,064] Trial 221 finished with value: 0.0 and parameters: {'n_estimators': 97, 'learning_rate': 0.4194342256107779, 'algorithm': 'SAMME.R', 'random_state': 7638}. Best is trial 203 with value: 0.005371949083265211.\n",
            "[I 2023-10-04 21:03:36,646] Trial 222 finished with value: 0.005121924061908473 and parameters: {'n_estimators': 100, 'learning_rate': 0.46989228963165464, 'algorithm': 'SAMME.R', 'random_state': 5775}. Best is trial 203 with value: 0.005371949083265211.\n",
            "[I 2023-10-04 21:03:43,207] Trial 223 finished with value: 0.004815241285460065 and parameters: {'n_estimators': 100, 'learning_rate': 0.4907473859680192, 'algorithm': 'SAMME.R', 'random_state': 5624}. Best is trial 203 with value: 0.005371949083265211.\n",
            "[I 2023-10-04 21:03:56,157] Trial 224 finished with value: 0.005047734006364534 and parameters: {'n_estimators': 100, 'learning_rate': 0.5060819243852094, 'algorithm': 'SAMME.R', 'random_state': 5679}. Best is trial 203 with value: 0.005371949083265211.\n",
            "[I 2023-10-04 21:04:05,461] Trial 225 finished with value: 0.0 and parameters: {'n_estimators': 99, 'learning_rate': 0.36587415600759843, 'algorithm': 'SAMME.R', 'random_state': 5294}. Best is trial 203 with value: 0.005371949083265211.\n",
            "[I 2023-10-04 21:04:17,284] Trial 226 finished with value: 0.0 and parameters: {'n_estimators': 98, 'learning_rate': 0.359821094712888, 'algorithm': 'SAMME.R', 'random_state': 5470}. Best is trial 203 with value: 0.005371949083265211.\n",
            "[I 2023-10-04 21:04:24,113] Trial 227 finished with value: 0.0 and parameters: {'n_estimators': 98, 'learning_rate': 0.019876948305270165, 'algorithm': 'SAMME.R', 'random_state': 6014}. Best is trial 203 with value: 0.005371949083265211.\n",
            "[I 2023-10-04 21:04:35,299] Trial 228 finished with value: 0.0 and parameters: {'n_estimators': 95, 'learning_rate': 0.44121308488852523, 'algorithm': 'SAMME.R', 'random_state': 6034}. Best is trial 203 with value: 0.005371949083265211.\n",
            "[I 2023-10-04 21:04:43,862] Trial 229 finished with value: 0.0 and parameters: {'n_estimators': 95, 'learning_rate': 0.4507765328879341, 'algorithm': 'SAMME.R', 'random_state': 6268}. Best is trial 203 with value: 0.005371949083265211.\n",
            "[I 2023-10-04 21:04:54,682] Trial 230 finished with value: 0.004849762783342119 and parameters: {'n_estimators': 94, 'learning_rate': 0.5760877066846113, 'algorithm': 'SAMME.R', 'random_state': 6313}. Best is trial 203 with value: 0.005371949083265211.\n",
            "[I 2023-10-04 21:05:01,385] Trial 231 finished with value: 0.004762397763743658 and parameters: {'n_estimators': 93, 'learning_rate': 0.6102020096105343, 'algorithm': 'SAMME.R', 'random_state': 6587}. Best is trial 203 with value: 0.005371949083265211.\n",
            "[I 2023-10-04 21:05:12,833] Trial 232 finished with value: 0.0 and parameters: {'n_estimators': 96, 'learning_rate': 0.4277763083211032, 'algorithm': 'SAMME.R', 'random_state': 5540}. Best is trial 203 with value: 0.005371949083265211.\n",
            "[I 2023-10-04 21:05:21,197] Trial 233 finished with value: 0.0 and parameters: {'n_estimators': 96, 'learning_rate': 0.4270516231599246, 'algorithm': 'SAMME.R', 'random_state': 5764}. Best is trial 203 with value: 0.005371949083265211.\n",
            "[I 2023-10-04 21:05:31,518] Trial 234 finished with value: 0.005066079295154185 and parameters: {'n_estimators': 98, 'learning_rate': 0.5065177017927509, 'algorithm': 'SAMME.R', 'random_state': 5769}. Best is trial 203 with value: 0.005371949083265211.\n",
            "[I 2023-10-04 21:05:39,771] Trial 235 finished with value: 0.004885301614273577 and parameters: {'n_estimators': 98, 'learning_rate': 0.5158372725122033, 'algorithm': 'SAMME.R', 'random_state': 5866}. Best is trial 203 with value: 0.005371949083265211.\n",
            "[I 2023-10-04 21:05:51,872] Trial 236 finished with value: 0.0 and parameters: {'n_estimators': 100, 'learning_rate': 0.3744781130669358, 'algorithm': 'SAMME.R', 'random_state': 5490}. Best is trial 203 with value: 0.005371949083265211.\n",
            "[I 2023-10-04 21:05:59,965] Trial 237 finished with value: 0.0 and parameters: {'n_estimators': 100, 'learning_rate': 0.3982037240107828, 'algorithm': 'SAMME.R', 'random_state': 5231}. Best is trial 203 with value: 0.005371949083265211.\n",
            "[I 2023-10-04 21:06:10,263] Trial 238 finished with value: 0.005177847816298964 and parameters: {'n_estimators': 97, 'learning_rate': 0.4534670486437402, 'algorithm': 'SAMME.R', 'random_state': 5227}. Best is trial 203 with value: 0.005371949083265211.\n",
            "[I 2023-10-04 21:06:18,733] Trial 239 finished with value: 0.0 and parameters: {'n_estimators': 96, 'learning_rate': 0.3083370824276504, 'algorithm': 'SAMME.R', 'random_state': 5575}. Best is trial 203 with value: 0.005371949083265211.\n",
            "[I 2023-10-04 21:06:30,349] Trial 240 finished with value: 0.0 and parameters: {'n_estimators': 98, 'learning_rate': 0.3152852674709587, 'algorithm': 'SAMME.R', 'random_state': 5053}. Best is trial 203 with value: 0.005371949083265211.\n",
            "[I 2023-10-04 21:06:37,471] Trial 241 finished with value: 0.004285448108813117 and parameters: {'n_estimators': 98, 'learning_rate': 0.6975648732218847, 'algorithm': 'SAMME.R', 'random_state': 5064}. Best is trial 203 with value: 0.005371949083265211.\n",
            "[I 2023-10-04 21:06:40,442] Trial 242 finished with value: 0.0 and parameters: {'n_estimators': 48, 'learning_rate': 0.4630706651415295, 'algorithm': 'SAMME.R', 'random_state': 5364}. Best is trial 203 with value: 0.005371949083265211.\n",
            "[I 2023-10-04 21:06:57,083] Trial 243 finished with value: 0.0053013714417425375 and parameters: {'n_estimators': 96, 'learning_rate': 0.4513476034190938, 'algorithm': 'SAMME.R', 'random_state': 5334}. Best is trial 203 with value: 0.005371949083265211.\n",
            "[I 2023-10-04 21:06:58,834] Trial 244 finished with value: 0.0 and parameters: {'n_estimators': 96, 'learning_rate': 0.4486887157431566, 'algorithm': 'SAMME.R', 'random_state': 5672}. Best is trial 203 with value: 0.005371949083265211.\n",
            "[I 2023-10-04 21:07:11,322] Trial 246 finished with value: 0.0 and parameters: {'n_estimators': 62, 'learning_rate': 0.5519693982733397, 'algorithm': 'SAMME.R', 'random_state': 7070}. Best is trial 203 with value: 0.005371949083265211.\n",
            "[I 2023-10-04 21:07:15,246] Trial 245 finished with value: 0.004810206002300533 and parameters: {'n_estimators': 94, 'learning_rate': 0.5414434784291, 'algorithm': 'SAMME.R', 'random_state': 6986}. Best is trial 203 with value: 0.005371949083265211.\n",
            "[I 2023-10-04 21:07:26,727] Trial 248 finished with value: 0.0 and parameters: {'n_estimators': 56, 'learning_rate': 0.36916985289403415, 'algorithm': 'SAMME.R', 'random_state': 5354}. Best is trial 203 with value: 0.005371949083265211.\n",
            "[I 2023-10-04 21:07:29,466] Trial 247 finished with value: 0.0 and parameters: {'n_estimators': 94, 'learning_rate': 0.3777365078730917, 'algorithm': 'SAMME.R', 'random_state': 5933}. Best is trial 203 with value: 0.005371949083265211.\n",
            "[I 2023-10-04 21:07:48,843] Trial 249 finished with value: 0.0 and parameters: {'n_estimators': 99, 'learning_rate': 0.4004734098463169, 'algorithm': 'SAMME.R', 'random_state': 5891}. Best is trial 203 with value: 0.005371949083265211.\n",
            "[I 2023-10-04 21:07:51,545] Trial 250 finished with value: 0.00521364615210246 and parameters: {'n_estimators': 99, 'learning_rate': 0.47779219125139183, 'algorithm': 'SAMME.R', 'random_state': 5269}. Best is trial 203 with value: 0.005371949083265211.\n",
            "[I 2023-10-04 21:08:07,334] Trial 251 finished with value: 0.005151175811870101 and parameters: {'n_estimators': 97, 'learning_rate': 0.47133767243179153, 'algorithm': 'SAMME.R', 'random_state': 5242}. Best is trial 203 with value: 0.005371949083265211.\n",
            "[I 2023-10-04 21:08:09,920] Trial 252 finished with value: 0.004929275610801543 and parameters: {'n_estimators': 96, 'learning_rate': 0.50813052214425, 'algorithm': 'SAMME.R', 'random_state': 5153}. Best is trial 203 with value: 0.005371949083265211.\n",
            "[I 2023-10-04 21:08:26,233] Trial 253 finished with value: 0.0049483648881239245 and parameters: {'n_estimators': 97, 'learning_rate': 0.5215089658616585, 'algorithm': 'SAMME.R', 'random_state': 6127}. Best is trial 203 with value: 0.005371949083265211.\n",
            "[I 2023-10-04 21:08:30,040] Trial 254 finished with value: 0.004745203218485661 and parameters: {'n_estimators': 98, 'learning_rate': 0.6055736023620979, 'algorithm': 'SAMME.R', 'random_state': 6169}. Best is trial 203 with value: 0.005371949083265211.\n",
            "[I 2023-10-04 21:08:32,041] Trial 256 finished with value: 0.0 and parameters: {'n_estimators': 11, 'learning_rate': 0.15447748613700135, 'algorithm': 'SAMME', 'random_state': 5489}. Best is trial 203 with value: 0.005371949083265211.\n",
            "[I 2023-10-04 21:08:46,325] Trial 255 finished with value: 0.004734945959855893 and parameters: {'n_estimators': 98, 'learning_rate': 0.6237286282543543, 'algorithm': 'SAMME.R', 'random_state': 5485}. Best is trial 203 with value: 0.005371949083265211.\n",
            "[I 2023-10-04 21:08:49,946] Trial 257 finished with value: 0.0 and parameters: {'n_estimators': 93, 'learning_rate': 0.41797576618292565, 'algorithm': 'SAMME.R', 'random_state': 6606}. Best is trial 203 with value: 0.005371949083265211.\n",
            "[I 2023-10-04 21:09:04,031] Trial 258 finished with value: 0.0 and parameters: {'n_estimators': 92, 'learning_rate': 0.41863058255356567, 'algorithm': 'SAMME.R', 'random_state': 6634}. Best is trial 203 with value: 0.005371949083265211.\n",
            "[I 2023-10-04 21:09:10,375] Trial 259 finished with value: 0.0 and parameters: {'n_estimators': 100, 'learning_rate': 0.3531203037676125, 'algorithm': 'SAMME.R', 'random_state': 5752}. Best is trial 203 with value: 0.005371949083265211.\n",
            "[I 2023-10-04 21:09:24,842] Trial 260 finished with value: 0.0 and parameters: {'n_estimators': 100, 'learning_rate': 0.3656650137058617, 'algorithm': 'SAMME.R', 'random_state': 5802}. Best is trial 203 with value: 0.005371949083265211.\n",
            "[I 2023-10-04 21:09:28,613] Trial 261 finished with value: 0.0 and parameters: {'n_estimators': 95, 'learning_rate': 0.06870841092649853, 'algorithm': 'SAMME.R', 'random_state': 6895}. Best is trial 203 with value: 0.005371949083265211.\n",
            "[I 2023-10-04 21:09:42,980] Trial 262 finished with value: 0.005049950598309364 and parameters: {'n_estimators': 95, 'learning_rate': 0.4817474158294136, 'algorithm': 'SAMME.R', 'random_state': 6866}. Best is trial 203 with value: 0.005371949083265211.\n",
            "[I 2023-10-04 21:09:48,538] Trial 263 finished with value: 0.005278861602019738 and parameters: {'n_estimators': 96, 'learning_rate': 0.478479550245604, 'algorithm': 'SAMME.R', 'random_state': 5025}. Best is trial 203 with value: 0.005371949083265211.\n",
            "[I 2023-10-04 21:10:02,992] Trial 264 finished with value: 0.0047540305911533695 and parameters: {'n_estimators': 97, 'learning_rate': 0.5563816221980578, 'algorithm': 'SAMME.R', 'random_state': 5212}. Best is trial 203 with value: 0.005371949083265211.\n",
            "[I 2023-10-04 21:10:07,310] Trial 265 finished with value: 0.0048122188513442824 and parameters: {'n_estimators': 98, 'learning_rate': 0.5623071375396708, 'algorithm': 'SAMME.R', 'random_state': 4939}. Best is trial 203 with value: 0.005371949083265211.\n",
            "[I 2023-10-04 21:10:21,943] Trial 266 finished with value: 0.004324527592366269 and parameters: {'n_estimators': 99, 'learning_rate': 0.754571005720553, 'algorithm': 'SAMME.R', 'random_state': 6005}. Best is trial 203 with value: 0.005371949083265211.\n",
            "[I 2023-10-04 21:10:25,510] Trial 267 finished with value: 0.0 and parameters: {'n_estimators': 94, 'learning_rate': 0.33685701874311313, 'algorithm': 'SAMME.R', 'random_state': 6087}. Best is trial 203 with value: 0.005371949083265211.\n",
            "[I 2023-10-04 21:10:41,551] Trial 268 finished with value: 0.0 and parameters: {'n_estimators': 94, 'learning_rate': 0.2818504259003425, 'algorithm': 'SAMME.R', 'random_state': 6412}. Best is trial 203 with value: 0.005371949083265211.\n",
            "[I 2023-10-04 21:10:45,081] Trial 269 finished with value: 0.0 and parameters: {'n_estimators': 95, 'learning_rate': 0.4221369911282669, 'algorithm': 'SAMME.R', 'random_state': 6444}. Best is trial 203 with value: 0.005371949083265211.\n",
            "[I 2023-10-04 21:11:00,017] Trial 270 finished with value: 0.0 and parameters: {'n_estimators': 96, 'learning_rate': 0.4099451518243612, 'algorithm': 'SAMME.R', 'random_state': 5408}. Best is trial 203 with value: 0.005371949083265211.\n",
            "[I 2023-10-04 21:11:04,100] Trial 271 finished with value: 0.005018546803403884 and parameters: {'n_estimators': 100, 'learning_rate': 0.4977619557274308, 'algorithm': 'SAMME.R', 'random_state': 7161}. Best is trial 203 with value: 0.005371949083265211.\n",
            "[I 2023-10-04 21:11:20,164] Trial 272 finished with value: 0.004884264174984073 and parameters: {'n_estimators': 100, 'learning_rate': 0.6475981504964314, 'algorithm': 'SAMME.R', 'random_state': 7483}. Best is trial 203 with value: 0.005371949083265211.\n",
            "[I 2023-10-04 21:11:24,463] Trial 273 finished with value: 0.004646934033740782 and parameters: {'n_estimators': 98, 'learning_rate': 0.6077757094588985, 'algorithm': 'SAMME.R', 'random_state': 5720}. Best is trial 203 with value: 0.005371949083265211.\n",
            "[I 2023-10-04 21:11:40,922] Trial 274 finished with value: 0.0 and parameters: {'n_estimators': 98, 'learning_rate': 2.884708493182264, 'algorithm': 'SAMME.R', 'random_state': 5697}. Best is trial 203 with value: 0.005371949083265211.\n",
            "[I 2023-10-04 21:11:43,416] Trial 275 finished with value: 0.0 and parameters: {'n_estimators': 96, 'learning_rate': 0.5135394693741129, 'algorithm': 'SAMME', 'random_state': 5955}. Best is trial 203 with value: 0.005371949083265211.\n",
            "[I 2023-10-04 21:11:57,821] Trial 276 finished with value: 0.0 and parameters: {'n_estimators': 93, 'learning_rate': 0.48939013455597113, 'algorithm': 'SAMME', 'random_state': 5910}. Best is trial 203 with value: 0.005371949083265211.\n",
            "[I 2023-10-04 21:12:02,633] Trial 277 finished with value: 0.0 and parameters: {'n_estimators': 92, 'learning_rate': 0.34952784746844046, 'algorithm': 'SAMME.R', 'random_state': 4998}. Best is trial 203 with value: 0.005371949083265211.\n",
            "[I 2023-10-04 21:12:17,044] Trial 278 finished with value: 0.0 and parameters: {'n_estimators': 92, 'learning_rate': 0.33780142062530893, 'algorithm': 'SAMME.R', 'random_state': 5525}. Best is trial 203 with value: 0.005371949083265211.\n",
            "[I 2023-10-04 21:12:21,037] Trial 279 finished with value: 0.0 and parameters: {'n_estimators': 96, 'learning_rate': 0.4027131368274603, 'algorithm': 'SAMME.R', 'random_state': 5506}. Best is trial 203 with value: 0.005371949083265211.\n",
            "[I 2023-10-04 21:12:35,366] Trial 280 finished with value: 0.0 and parameters: {'n_estimators': 96, 'learning_rate': 0.4060609795796321, 'algorithm': 'SAMME.R', 'random_state': 6237}. Best is trial 203 with value: 0.005371949083265211.\n",
            "[I 2023-10-04 21:12:41,208] Trial 281 finished with value: 0.005068870523415978 and parameters: {'n_estimators': 99, 'learning_rate': 0.46467361133170015, 'algorithm': 'SAMME.R', 'random_state': 4893}. Best is trial 203 with value: 0.005371949083265211.\n",
            "[I 2023-10-04 21:12:55,766] Trial 282 finished with value: 0.005201266395296246 and parameters: {'n_estimators': 99, 'learning_rate': 0.4617013039164195, 'algorithm': 'SAMME.R', 'random_state': 5269}. Best is trial 203 with value: 0.005371949083265211.\n",
            "[I 2023-10-04 21:12:59,919] Trial 283 finished with value: 0.0048972639199403815 and parameters: {'n_estimators': 98, 'learning_rate': 0.5656028065094426, 'algorithm': 'SAMME.R', 'random_state': 5281}. Best is trial 203 with value: 0.005371949083265211.\n",
            "[I 2023-10-04 21:13:05,863] Trial 285 finished with value: 0.0 and parameters: {'n_estimators': 31, 'learning_rate': 0.7191394294365773, 'algorithm': 'SAMME.R', 'random_state': 5343}. Best is trial 203 with value: 0.005371949083265211.\n",
            "[I 2023-10-04 21:13:14,725] Trial 284 finished with value: 0.004898828541001065 and parameters: {'n_estimators': 100, 'learning_rate': 0.5609248898001538, 'algorithm': 'SAMME.R', 'random_state': 5280}. Best is trial 203 with value: 0.005371949083265211.\n",
            "[I 2023-10-04 21:13:25,987] Trial 286 finished with value: 0.0 and parameters: {'n_estimators': 100, 'learning_rate': 0.012034017442996696, 'algorithm': 'SAMME.R', 'random_state': 5059}. Best is trial 203 with value: 0.005371949083265211.\n",
            "[I 2023-10-04 21:13:34,629] Trial 287 finished with value: 0.0 and parameters: {'n_estimators': 97, 'learning_rate': 0.304550538176882, 'algorithm': 'SAMME.R', 'random_state': 5009}. Best is trial 203 with value: 0.005371949083265211.\n",
            "[I 2023-10-04 21:13:44,548] Trial 288 finished with value: 0.0 and parameters: {'n_estimators': 97, 'learning_rate': 0.2900691674084445, 'algorithm': 'SAMME.R', 'random_state': 9158}. Best is trial 203 with value: 0.005371949083265211.\n",
            "[I 2023-10-04 21:13:52,844] Trial 289 finished with value: 0.0 and parameters: {'n_estimators': 95, 'learning_rate': 0.3814533325434567, 'algorithm': 'SAMME.R', 'random_state': 5644}. Best is trial 203 with value: 0.005371949083265211.\n",
            "[I 2023-10-04 21:14:04,332] Trial 290 finished with value: 0.0 and parameters: {'n_estimators': 95, 'learning_rate': 2.233956052789996, 'algorithm': 'SAMME.R', 'random_state': 5605}. Best is trial 203 with value: 0.005371949083265211.\n",
            "[I 2023-10-04 21:14:10,647] Trial 291 finished with value: 0.0 and parameters: {'n_estimators': 94, 'learning_rate': 0.45650304555063764, 'algorithm': 'SAMME.R', 'random_state': 5535}. Best is trial 203 with value: 0.005371949083265211.\n",
            "[I 2023-10-04 21:14:16,302] Trial 293 finished with value: 0.0 and parameters: {'n_estimators': 23, 'learning_rate': 0.44198355959788355, 'algorithm': 'SAMME.R', 'random_state': 5874}. Best is trial 203 with value: 0.005371949083265211.\n",
            "[I 2023-10-04 21:14:23,198] Trial 292 finished with value: 0.00533828478588836 and parameters: {'n_estimators': 99, 'learning_rate': 0.44872600918071853, 'algorithm': 'SAMME.R', 'random_state': 5890}. Best is trial 203 with value: 0.005371949083265211.\n",
            "[I 2023-10-04 21:14:35,009] Trial 294 finished with value: 0.004988612948704045 and parameters: {'n_estimators': 99, 'learning_rate': 0.5066826492465805, 'algorithm': 'SAMME.R', 'random_state': 7130}. Best is trial 203 with value: 0.005371949083265211.\n",
            "[I 2023-10-04 21:14:41,906] Trial 295 finished with value: 0.004617546677374022 and parameters: {'n_estimators': 90, 'learning_rate': 0.6562696205777313, 'algorithm': 'SAMME.R', 'random_state': 6820}. Best is trial 203 with value: 0.005371949083265211.\n",
            "[I 2023-10-04 21:14:53,548] Trial 296 finished with value: 0.0 and parameters: {'n_estimators': 90, 'learning_rate': 0.37784580955318525, 'algorithm': 'SAMME.R', 'random_state': 4767}. Best is trial 203 with value: 0.005371949083265211.\n",
            "[I 2023-10-04 21:15:00,225] Trial 297 finished with value: 0.0 and parameters: {'n_estimators': 97, 'learning_rate': 0.3672964708778095, 'algorithm': 'SAMME.R', 'random_state': 5349}. Best is trial 203 with value: 0.005371949083265211.\n",
            "[I 2023-10-04 21:15:13,531] Trial 298 finished with value: 0.004591276574508434 and parameters: {'n_estimators': 97, 'learning_rate': 0.8370886144650295, 'algorithm': 'SAMME.R', 'random_state': 5367}. Best is trial 203 with value: 0.005371949083265211.\n",
            "[I 2023-10-04 21:15:22,228] Trial 299 finished with value: 0.004919786096256685 and parameters: {'n_estimators': 98, 'learning_rate': 0.5195830051146786, 'algorithm': 'SAMME.R', 'random_state': 7582}. Best is trial 203 with value: 0.005371949083265211.\n",
            "[I 2023-10-04 21:15:31,206] Trial 300 finished with value: 0.0 and parameters: {'n_estimators': 93, 'learning_rate': 7.84022158704442, 'algorithm': 'SAMME.R', 'random_state': 7519}. Best is trial 203 with value: 0.005371949083265211.\n",
            "[I 2023-10-04 21:15:39,985] Trial 301 finished with value: 0.004870817450232952 and parameters: {'n_estimators': 93, 'learning_rate': 0.5783358724812011, 'algorithm': 'SAMME.R', 'random_state': 5862}. Best is trial 203 with value: 0.005371949083265211.\n",
            "[I 2023-10-04 21:15:50,686] Trial 302 finished with value: 0.004808697470206983 and parameters: {'n_estimators': 95, 'learning_rate': 0.5924373600566419, 'algorithm': 'SAMME.R', 'random_state': 5850}. Best is trial 203 with value: 0.005371949083265211.\n",
            "[I 2023-10-04 21:15:58,075] Trial 303 finished with value: 0.00451068837026868 and parameters: {'n_estimators': 95, 'learning_rate': 1.246753257952618, 'algorithm': 'SAMME.R', 'random_state': 668}. Best is trial 203 with value: 0.005371949083265211.\n",
            "[I 2023-10-04 21:16:09,388] Trial 304 finished with value: 0.005141388174807198 and parameters: {'n_estimators': 99, 'learning_rate': 0.433274090713494, 'algorithm': 'SAMME.R', 'random_state': 7260}. Best is trial 203 with value: 0.005371949083265211.\n",
            "[I 2023-10-04 21:16:18,517] Trial 305 finished with value: 0.005131637661758144 and parameters: {'n_estimators': 99, 'learning_rate': 0.4538936164448728, 'algorithm': 'SAMME.R', 'random_state': 5131}. Best is trial 203 with value: 0.005371949083265211.\n",
            "[I 2023-10-04 21:16:29,609] Trial 306 finished with value: 0.0 and parameters: {'n_estimators': 98, 'learning_rate': 0.3335617961671754, 'algorithm': 'SAMME.R', 'random_state': 5147}. Best is trial 203 with value: 0.005371949083265211.\n",
            "[I 2023-10-04 21:16:36,688] Trial 307 finished with value: 0.0 and parameters: {'n_estimators': 97, 'learning_rate': 0.34056411639898343, 'algorithm': 'SAMME.R', 'random_state': 237}. Best is trial 203 with value: 0.005371949083265211.\n",
            "[I 2023-10-04 21:16:47,742] Trial 308 finished with value: 0.004815241285460065 and parameters: {'n_estimators': 96, 'learning_rate': 0.5135744242985272, 'algorithm': 'SAMME.R', 'random_state': 6320}. Best is trial 203 with value: 0.005371949083265211.\n",
            "[I 2023-10-04 21:16:57,321] Trial 309 finished with value: 0.004925053533190578 and parameters: {'n_estimators': 100, 'learning_rate': 0.513054184436904, 'algorithm': 'SAMME.R', 'random_state': 6317}. Best is trial 203 with value: 0.005371949083265211.\n",
            "[I 2023-10-04 21:16:58,485] Trial 310 finished with value: 0.0 and parameters: {'n_estimators': 52, 'learning_rate': 0.25613162457853417, 'algorithm': 'SAMME.R', 'random_state': 6703}. Best is trial 203 with value: 0.005371949083265211.\n",
            "[I 2023-10-04 21:17:04,281] Trial 311 finished with value: 0.0 and parameters: {'n_estimators': 39, 'learning_rate': 0.38527629620316395, 'algorithm': 'SAMME.R', 'random_state': 9984}. Best is trial 203 with value: 0.005371949083265211.\n",
            "[I 2023-10-04 21:17:16,128] Trial 312 finished with value: 0.0032920632648679596 and parameters: {'n_estimators': 94, 'learning_rate': 1.9547283706260694, 'algorithm': 'SAMME.R', 'random_state': 3612}. Best is trial 203 with value: 0.005371949083265211.\n",
            "[I 2023-10-04 21:17:24,063] Trial 313 finished with value: 0.0 and parameters: {'n_estimators': 94, 'learning_rate': 4.885801701024644, 'algorithm': 'SAMME.R', 'random_state': 3611}. Best is trial 203 with value: 0.005371949083265211.\n",
            "[I 2023-10-04 21:17:35,144] Trial 314 finished with value: 0.0 and parameters: {'n_estimators': 97, 'learning_rate': 0.6653370753054686, 'algorithm': 'SAMME', 'random_state': 6041}. Best is trial 203 with value: 0.005371949083265211.\n",
            "[I 2023-10-04 21:17:42,200] Trial 315 finished with value: 0.0 and parameters: {'n_estimators': 100, 'learning_rate': 0.6802172198964109, 'algorithm': 'SAMME', 'random_state': 2363}. Best is trial 203 with value: 0.005371949083265211.\n",
            "[I 2023-10-04 21:17:54,129] Trial 316 finished with value: 0.0 and parameters: {'n_estimators': 100, 'learning_rate': 6.3732792227021555, 'algorithm': 'SAMME.R', 'random_state': 5651}. Best is trial 203 with value: 0.005371949083265211.\n",
            "[I 2023-10-04 21:18:00,720] Trial 317 finished with value: 0.0 and parameters: {'n_estimators': 91, 'learning_rate': 3.6541922420747843, 'algorithm': 'SAMME.R', 'random_state': 5559}. Best is trial 203 with value: 0.005371949083265211.\n",
            "[I 2023-10-04 21:18:13,055] Trial 318 finished with value: 0.0 and parameters: {'n_estimators': 96, 'learning_rate': 0.4174763492010663, 'algorithm': 'SAMME.R', 'random_state': 5482}. Best is trial 203 with value: 0.005371949083265211.\n",
            "[I 2023-10-04 21:18:21,038] Trial 319 finished with value: 0.0 and parameters: {'n_estimators': 96, 'learning_rate': 0.412966447248035, 'algorithm': 'SAMME.R', 'random_state': 7946}. Best is trial 203 with value: 0.005371949083265211.\n",
            "[I 2023-10-04 21:18:33,621] Trial 320 finished with value: 0.005010347456704063 and parameters: {'n_estimators': 97, 'learning_rate': 0.475328540851717, 'algorithm': 'SAMME.R', 'random_state': 6921}. Best is trial 203 with value: 0.005371949083265211.\n",
            "[I 2023-10-04 21:18:41,080] Trial 321 finished with value: 0.005093002657218778 and parameters: {'n_estimators': 98, 'learning_rate': 0.47676480882439076, 'algorithm': 'SAMME.R', 'random_state': 3245}. Best is trial 203 with value: 0.005371949083265211.\n",
            "[I 2023-10-04 21:18:53,620] Trial 322 finished with value: 0.0 and parameters: {'n_estimators': 98, 'learning_rate': 0.22229910449449197, 'algorithm': 'SAMME.R', 'random_state': 6055}. Best is trial 203 with value: 0.005371949083265211.\n",
            "[I 2023-10-04 21:18:58,564] Trial 323 finished with value: 0.005192459645558189 and parameters: {'n_estimators': 92, 'learning_rate': 0.5517002747052098, 'algorithm': 'SAMME.R', 'random_state': 6096}. Best is trial 203 with value: 0.005371949083265211.\n",
            "[I 2023-10-04 21:19:11,494] Trial 324 finished with value: 0.005003262997607135 and parameters: {'n_estimators': 92, 'learning_rate': 0.5495547701703896, 'algorithm': 'SAMME.R', 'random_state': 5734}. Best is trial 203 with value: 0.005371949083265211.\n",
            "[I 2023-10-04 21:19:16,631] Trial 325 finished with value: 0.0 and parameters: {'n_estimators': 95, 'learning_rate': 0.3010650691055036, 'algorithm': 'SAMME.R', 'random_state': 5782}. Best is trial 203 with value: 0.005371949083265211.\n",
            "[I 2023-10-04 21:19:29,509] Trial 326 finished with value: 0.0 and parameters: {'n_estimators': 95, 'learning_rate': 0.03603021585694666, 'algorithm': 'SAMME.R', 'random_state': 4868}. Best is trial 203 with value: 0.005371949083265211.\n",
            "[I 2023-10-04 21:19:37,029] Trial 327 finished with value: 0.0 and parameters: {'n_estimators': 100, 'learning_rate': 0.018092029028680612, 'algorithm': 'SAMME.R', 'random_state': 4832}. Best is trial 203 with value: 0.005371949083265211.\n",
            "[I 2023-10-04 21:19:50,123] Trial 328 finished with value: 0.0 and parameters: {'n_estimators': 100, 'learning_rate': 0.40350834900169713, 'algorithm': 'SAMME.R', 'random_state': 6529}. Best is trial 203 with value: 0.005371949083265211.\n",
            "[I 2023-10-04 21:19:50,591] Trial 329 finished with value: 0.0 and parameters: {'n_estimators': 69, 'learning_rate': 0.37635180555097364, 'algorithm': 'SAMME.R', 'random_state': 5356}. Best is trial 203 with value: 0.005371949083265211.\n",
            "[I 2023-10-04 21:20:08,811] Trial 330 finished with value: 0.0 and parameters: {'n_estimators': 98, 'learning_rate': 0.35116467703193194, 'algorithm': 'SAMME.R', 'random_state': 2980}. Best is trial 203 with value: 0.005371949083265211.\n",
            "[I 2023-10-04 21:20:09,178] Trial 331 finished with value: 0.0051912876650490915 and parameters: {'n_estimators': 98, 'learning_rate': 0.46097334188157096, 'algorithm': 'SAMME.R', 'random_state': 3000}. Best is trial 203 with value: 0.005371949083265211.\n",
            "[I 2023-10-04 21:20:28,937] Trial 332 finished with value: 0.004415434824342484 and parameters: {'n_estimators': 98, 'learning_rate': 1.712053656458133, 'algorithm': 'SAMME.R', 'random_state': 7242}. Best is trial 203 with value: 0.005371949083265211.\n",
            "[I 2023-10-04 21:20:29,060] Trial 333 finished with value: 0.004726674886970818 and parameters: {'n_estimators': 96, 'learning_rate': 0.6186069952935334, 'algorithm': 'SAMME.R', 'random_state': 7059}. Best is trial 203 with value: 0.005371949083265211.\n",
            "[I 2023-10-04 21:20:43,353] Trial 335 finished with value: 0.0 and parameters: {'n_estimators': 73, 'learning_rate': 0.0728679709407902, 'algorithm': 'SAMME.R', 'random_state': 5178}. Best is trial 203 with value: 0.005371949083265211.\n",
            "[I 2023-10-04 21:20:46,482] Trial 336 finished with value: 0.0 and parameters: {'n_estimators': 17, 'learning_rate': 0.45676973173656926, 'algorithm': 'SAMME.R', 'random_state': 5919}. Best is trial 203 with value: 0.005371949083265211.\n",
            "[I 2023-10-04 21:20:47,448] Trial 334 finished with value: 0.004705400981996726 and parameters: {'n_estimators': 96, 'learning_rate': 0.6091367943531607, 'algorithm': 'SAMME.R', 'random_state': 5449}. Best is trial 203 with value: 0.005371949083265211.\n",
            "[I 2023-10-04 21:21:04,567] Trial 337 finished with value: 0.004417130785481083 and parameters: {'n_estimators': 93, 'learning_rate': 0.7483187200196798, 'algorithm': 'SAMME.R', 'random_state': 5552}. Best is trial 203 with value: 0.005371949083265211.\n",
            "[I 2023-10-04 21:21:06,635] Trial 338 finished with value: 0.004585326953748007 and parameters: {'n_estimators': 94, 'learning_rate': 0.7990612200360864, 'algorithm': 'SAMME.R', 'random_state': 5702}. Best is trial 203 with value: 0.005371949083265211.\n",
            "[I 2023-10-04 21:21:24,635] Trial 339 finished with value: 0.0 and parameters: {'n_estimators': 99, 'learning_rate': 0.022382016331854018, 'algorithm': 'SAMME.R', 'random_state': 5753}. Best is trial 203 with value: 0.005371949083265211.\n",
            "[I 2023-10-04 21:21:25,733] Trial 340 finished with value: 0.004971897968006917 and parameters: {'n_estimators': 99, 'learning_rate': 0.5118311089826239, 'algorithm': 'SAMME.R', 'random_state': 6188}. Best is trial 203 with value: 0.005371949083265211.\n",
            "[I 2023-10-04 21:21:45,819] Trial 341 finished with value: 0.004925053533190578 and parameters: {'n_estimators': 100, 'learning_rate': 0.5201950305451609, 'algorithm': 'SAMME.R', 'random_state': 6240}. Best is trial 203 with value: 0.005371949083265211.\n",
            "[I 2023-10-04 21:21:46,842] Trial 342 finished with value: 0.0 and parameters: {'n_estimators': 97, 'learning_rate': 0.3172037322435992, 'algorithm': 'SAMME.R', 'random_state': 6734}. Best is trial 203 with value: 0.005371949083265211.\n",
            "[I 2023-10-04 21:22:05,169] Trial 343 finished with value: 0.0 and parameters: {'n_estimators': 97, 'learning_rate': 0.32410319647902386, 'algorithm': 'SAMME.R', 'random_state': 5297}. Best is trial 203 with value: 0.005371949083265211.\n",
            "[I 2023-10-04 21:22:05,396] Trial 344 finished with value: 0.0 and parameters: {'n_estimators': 94, 'learning_rate': 0.4031924716826688, 'algorithm': 'SAMME.R', 'random_state': 5271}. Best is trial 203 with value: 0.005371949083265211.\n",
            "[I 2023-10-04 21:22:23,006] Trial 345 finished with value: 0.0 and parameters: {'n_estimators': 94, 'learning_rate': 0.3982545679226021, 'algorithm': 'SAMME.R', 'random_state': 5023}. Best is trial 203 with value: 0.005371949083265211.\n",
            "[I 2023-10-04 21:22:23,764] Trial 346 finished with value: 0.0 and parameters: {'n_estimators': 96, 'learning_rate': 0.1698826824056999, 'algorithm': 'SAMME.R', 'random_state': 5036}. Best is trial 203 with value: 0.005371949083265211.\n",
            "[I 2023-10-04 21:22:42,886] Trial 347 finished with value: 0.00523381499601775 and parameters: {'n_estimators': 96, 'learning_rate': 0.45797553154337933, 'algorithm': 'SAMME.R', 'random_state': 5575}. Best is trial 203 with value: 0.005371949083265211.\n",
            "[I 2023-10-04 21:22:43,955] Trial 348 finished with value: 0.0051912876650490915 and parameters: {'n_estimators': 98, 'learning_rate': 0.4611111684138831, 'algorithm': 'SAMME.R', 'random_state': 5949}. Best is trial 203 with value: 0.005371949083265211.\n",
            "[I 2023-10-04 21:23:00,169] Trial 349 finished with value: 0.0 and parameters: {'n_estimators': 91, 'learning_rate': 0.44547717307964996, 'algorithm': 'SAMME.R', 'random_state': 6019}. Best is trial 203 with value: 0.005371949083265211.\n",
            "[I 2023-10-04 21:23:01,372] Trial 350 finished with value: 0.0 and parameters: {'n_estimators': 91, 'learning_rate': 0.3623349996742879, 'algorithm': 'SAMME.R', 'random_state': 5595}. Best is trial 203 with value: 0.005371949083265211.\n",
            "[I 2023-10-04 21:23:19,031] Trial 351 finished with value: 0.0 and parameters: {'n_estimators': 95, 'learning_rate': 0.3656475449422325, 'algorithm': 'SAMME.R', 'random_state': 5578}. Best is trial 203 with value: 0.005371949083265211.\n",
            "[I 2023-10-04 21:23:20,908] Trial 352 finished with value: 0.00484108608713955 and parameters: {'n_estimators': 95, 'learning_rate': 0.557246108508824, 'algorithm': 'SAMME.R', 'random_state': 6479}. Best is trial 203 with value: 0.005371949083265211.\n",
            "[I 2023-10-04 21:23:36,818] Trial 353 finished with value: 0.0 and parameters: {'n_estimators': 93, 'learning_rate': 0.11935956507185083, 'algorithm': 'SAMME', 'random_state': 5817}. Best is trial 203 with value: 0.005371949083265211.\n",
            "[I 2023-10-04 21:23:37,802] Trial 354 finished with value: 0.0 and parameters: {'n_estimators': 88, 'learning_rate': 0.05410985574225618, 'algorithm': 'SAMME.R', 'random_state': 5836}. Best is trial 203 with value: 0.005371949083265211.\n",
            "[I 2023-10-04 21:23:55,286] Trial 355 finished with value: 0.0 and parameters: {'n_estimators': 97, 'learning_rate': 0.2522206895174958, 'algorithm': 'SAMME.R', 'random_state': 7054}. Best is trial 203 with value: 0.005371949083265211.\n",
            "[I 2023-10-04 21:23:56,127] Trial 356 finished with value: 0.0 and parameters: {'n_estimators': 97, 'learning_rate': 0.27282974809949206, 'algorithm': 'SAMME.R', 'random_state': 6861}. Best is trial 203 with value: 0.005371949083265211.\n",
            "[I 2023-10-04 21:24:15,067] Trial 357 finished with value: 0.004819277108433735 and parameters: {'n_estimators': 96, 'learning_rate': 0.515694387400446, 'algorithm': 'SAMME.R', 'random_state': 7378}. Best is trial 203 with value: 0.005371949083265211.\n",
            "[I 2023-10-04 21:24:16,657] Trial 358 finished with value: 0.004939332116396435 and parameters: {'n_estimators': 100, 'learning_rate': 0.5435086933387596, 'algorithm': 'SAMME.R', 'random_state': 5499}. Best is trial 203 with value: 0.005371949083265211.\n",
            "[I 2023-10-04 21:24:33,901] Trial 359 finished with value: 0.0 and parameters: {'n_estimators': 100, 'learning_rate': 0.40766129406082646, 'algorithm': 'SAMME.R', 'random_state': 1313}. Best is trial 203 with value: 0.005371949083265211.\n",
            "[I 2023-10-04 21:24:34,444] Trial 360 finished with value: 0.0 and parameters: {'n_estimators': 93, 'learning_rate': 0.41118076063988374, 'algorithm': 'SAMME.R', 'random_state': 6078}. Best is trial 203 with value: 0.005371949083265211.\n",
            "[I 2023-10-04 21:24:54,730] Trial 361 finished with value: 0.004530680587018616 and parameters: {'n_estimators': 93, 'learning_rate': 0.6542291669712353, 'algorithm': 'SAMME.R', 'random_state': 5992}. Best is trial 203 with value: 0.005371949083265211.\n",
            "[I 2023-10-04 21:24:56,179] Trial 362 finished with value: 0.004702514823144551 and parameters: {'n_estimators': 98, 'learning_rate': 0.6701291843056852, 'algorithm': 'SAMME.R', 'random_state': 5807}. Best is trial 203 with value: 0.005371949083265211.\n",
            "[I 2023-10-04 21:25:13,276] Trial 363 finished with value: 0.005147717099373322 and parameters: {'n_estimators': 98, 'learning_rate': 0.47274583995228514, 'algorithm': 'SAMME.R', 'random_state': 5700}. Best is trial 203 with value: 0.005371949083265211.\n",
            "[I 2023-10-04 21:25:14,486] Trial 364 finished with value: 0.005196565747853593 and parameters: {'n_estimators': 96, 'learning_rate': 0.4835206083223031, 'algorithm': 'SAMME.R', 'random_state': 5456}. Best is trial 203 with value: 0.005371949083265211.\n",
            "[I 2023-10-04 21:25:26,361] Trial 366 finished with value: 0.0 and parameters: {'n_estimators': 59, 'learning_rate': 0.33567750036878574, 'algorithm': 'SAMME.R', 'random_state': 6675}. Best is trial 203 with value: 0.005371949083265211.\n",
            "[I 2023-10-04 21:25:31,951] Trial 365 finished with value: 0.0 and parameters: {'n_estimators': 95, 'learning_rate': 2.463927720757254, 'algorithm': 'SAMME.R', 'random_state': 6351}. Best is trial 203 with value: 0.005371949083265211.\n",
            "[I 2023-10-04 21:25:45,088] Trial 367 finished with value: 0.004893617021276595 and parameters: {'n_estimators': 95, 'learning_rate': 0.579035491444069, 'algorithm': 'SAMME.R', 'random_state': 6367}. Best is trial 203 with value: 0.005371949083265211.\n",
            "[I 2023-10-04 21:25:51,341] Trial 368 finished with value: 0.004852832577276084 and parameters: {'n_estimators': 98, 'learning_rate': 0.5829226159318388, 'algorithm': 'SAMME.R', 'random_state': 3347}. Best is trial 203 with value: 0.005371949083265211.\n",
            "[I 2023-10-04 21:26:04,868] Trial 369 finished with value: 0.0 and parameters: {'n_estimators': 98, 'learning_rate': 0.4239996235806917, 'algorithm': 'SAMME.R', 'random_state': 4652}. Best is trial 203 with value: 0.005371949083265211.\n",
            "[I 2023-10-04 21:26:09,349] Trial 370 finished with value: 0.0 and parameters: {'n_estimators': 100, 'learning_rate': 0.41839501271171203, 'algorithm': 'SAMME', 'random_state': 5651}. Best is trial 203 with value: 0.005371949083265211.\n",
            "[I 2023-10-04 21:26:23,009] Trial 371 finished with value: 0.0 and parameters: {'n_estimators': 100, 'learning_rate': 0.294635969103025, 'algorithm': 'SAMME', 'random_state': 5426}. Best is trial 203 with value: 0.005371949083265211.\n",
            "[I 2023-10-04 21:26:29,407] Trial 372 finished with value: 0.0 and parameters: {'n_estimators': 96, 'learning_rate': 0.2985490087806741, 'algorithm': 'SAMME.R', 'random_state': 5414}. Best is trial 203 with value: 0.005371949083265211.\n",
            "[I 2023-10-04 21:26:41,658] Trial 373 finished with value: 0.0 and parameters: {'n_estimators': 89, 'learning_rate': 0.3673917712866866, 'algorithm': 'SAMME.R', 'random_state': 5926}. Best is trial 203 with value: 0.005371949083265211.\n",
            "[I 2023-10-04 21:26:47,095] Trial 374 finished with value: 0.0 and parameters: {'n_estimators': 92, 'learning_rate': 0.36118196905133626, 'algorithm': 'SAMME.R', 'random_state': 5910}. Best is trial 203 with value: 0.005371949083265211.\n",
            "[I 2023-10-04 21:26:59,227] Trial 375 finished with value: 0.0 and parameters: {'n_estimators': 92, 'learning_rate': 0.010277384983687165, 'algorithm': 'SAMME.R', 'random_state': 7293}. Best is trial 203 with value: 0.005371949083265211.\n",
            "[I 2023-10-04 21:27:06,950] Trial 376 finished with value: 0.004991319444444444 and parameters: {'n_estimators': 97, 'learning_rate': 0.500587386788675, 'algorithm': 'SAMME.R', 'random_state': 6147}. Best is trial 203 with value: 0.005371949083265211.\n",
            "[I 2023-10-04 21:27:18,501] Trial 377 finished with value: 0.004991319444444444 and parameters: {'n_estimators': 97, 'learning_rate': 0.5007763150301634, 'algorithm': 'SAMME.R', 'random_state': 3787}. Best is trial 203 with value: 0.005371949083265211.\n",
            "[I 2023-10-04 21:27:24,923] Trial 378 finished with value: 0.0 and parameters: {'n_estimators': 94, 'learning_rate': 7.819742642725793, 'algorithm': 'SAMME.R', 'random_state': 3944}. Best is trial 203 with value: 0.005371949083265211.\n",
            "[I 2023-10-04 21:27:37,194] Trial 379 finished with value: 0.0 and parameters: {'n_estimators': 94, 'learning_rate': 0.4367509244167114, 'algorithm': 'SAMME.R', 'random_state': 5608}. Best is trial 203 with value: 0.005371949083265211.\n",
            "[I 2023-10-04 21:27:43,986] Trial 380 finished with value: 0.005246350364963503 and parameters: {'n_estimators': 99, 'learning_rate': 0.43348580886037075, 'algorithm': 'SAMME.R', 'random_state': 5651}. Best is trial 203 with value: 0.005371949083265211.\n",
            "[I 2023-10-04 21:27:55,848] Trial 381 finished with value: 0.004771289285343844 and parameters: {'n_estimators': 99, 'learning_rate': 0.8538720557219005, 'algorithm': 'SAMME.R', 'random_state': 6931}. Best is trial 203 with value: 0.005371949083265211.\n",
            "[I 2023-10-04 21:28:05,922] Trial 382 finished with value: 0.0 and parameters: {'n_estimators': 100, 'learning_rate': 0.3841744036696227, 'algorithm': 'SAMME.R', 'random_state': 5750}. Best is trial 203 with value: 0.005371949083265211.\n",
            "[I 2023-10-04 21:28:17,853] Trial 383 finished with value: 0.005420054200542005 and parameters: {'n_estimators': 100, 'learning_rate': 0.39347040350419427, 'algorithm': 'SAMME.R', 'random_state': 5702}. Best is trial 383 with value: 0.005420054200542005.\n",
            "[I 2023-10-04 21:28:25,996] Trial 384 finished with value: 0.0 and parameters: {'n_estimators': 98, 'learning_rate': 0.3357535640973862, 'algorithm': 'SAMME.R', 'random_state': 5181}. Best is trial 383 with value: 0.005420054200542005.\n",
            "[I 2023-10-04 21:28:36,656] Trial 385 finished with value: 0.0 and parameters: {'n_estimators': 98, 'learning_rate': 9.134907056563666, 'algorithm': 'SAMME.R', 'random_state': 6174}. Best is trial 383 with value: 0.005420054200542005.\n",
            "[I 2023-10-04 21:28:42,914] Trial 387 finished with value: 0.0 and parameters: {'n_estimators': 27, 'learning_rate': 0.4027520844615519, 'algorithm': 'SAMME.R', 'random_state': 5751}. Best is trial 383 with value: 0.005420054200542005.\n",
            "[I 2023-10-04 21:28:45,002] Trial 386 finished with value: 0.0 and parameters: {'n_estimators': 100, 'learning_rate': 0.21543379495215056, 'algorithm': 'SAMME.R', 'random_state': 6144}. Best is trial 383 with value: 0.005420054200542005.\n",
            "[I 2023-10-04 21:29:01,073] Trial 388 finished with value: 0.0 and parameters: {'n_estimators': 96, 'learning_rate': 5.100431767033839, 'algorithm': 'SAMME.R', 'random_state': 5939}. Best is trial 383 with value: 0.005420054200542005.\n",
            "[I 2023-10-04 21:29:04,111] Trial 389 finished with value: 0.0 and parameters: {'n_estimators': 96, 'learning_rate': 0.335414652380074, 'algorithm': 'SAMME.R', 'random_state': 5881}. Best is trial 383 with value: 0.005420054200542005.\n",
            "[I 2023-10-04 21:29:21,647] Trial 390 finished with value: 0.0 and parameters: {'n_estimators': 100, 'learning_rate': 0.3321422229774738, 'algorithm': 'SAMME.R', 'random_state': 5585}. Best is trial 383 with value: 0.005420054200542005.\n",
            "[I 2023-10-04 21:29:23,947] Trial 391 finished with value: 0.005324690357680287 and parameters: {'n_estimators': 100, 'learning_rate': 0.4345471732788832, 'algorithm': 'SAMME.R', 'random_state': 1698}. Best is trial 383 with value: 0.005420054200542005.\n",
            "[I 2023-10-04 21:29:28,286] Trial 392 finished with value: 0.0 and parameters: {'n_estimators': 37, 'learning_rate': 0.44425515803283516, 'algorithm': 'SAMME.R', 'random_state': 5642}. Best is trial 383 with value: 0.005420054200542005.\n",
            "[I 2023-10-04 21:29:42,513] Trial 393 finished with value: 0.005183098591549295 and parameters: {'n_estimators': 98, 'learning_rate': 0.5526480498184365, 'algorithm': 'SAMME.R', 'random_state': 153}. Best is trial 383 with value: 0.005420054200542005.\n",
            "[I 2023-10-04 21:29:48,341] Trial 394 finished with value: 0.004529342260732572 and parameters: {'n_estimators': 98, 'learning_rate': 1.0030988001060195, 'algorithm': 'SAMME.R', 'random_state': 175}. Best is trial 383 with value: 0.005420054200542005.\n",
            "[I 2023-10-04 21:30:02,406] Trial 395 finished with value: 0.0 and parameters: {'n_estimators': 96, 'learning_rate': 0.39378606019094897, 'algorithm': 'SAMME.R', 'random_state': 2079}. Best is trial 383 with value: 0.005420054200542005.\n",
            "[I 2023-10-04 21:30:06,835] Trial 396 finished with value: 0.0 and parameters: {'n_estimators': 96, 'learning_rate': 0.39423525451443564, 'algorithm': 'SAMME.R', 'random_state': 1019}. Best is trial 383 with value: 0.005420054200542005.\n",
            "[I 2023-10-04 21:30:20,701] Trial 397 finished with value: 0.0 and parameters: {'n_estimators': 95, 'learning_rate': 0.28146158672977334, 'algorithm': 'SAMME.R', 'random_state': 948}. Best is trial 383 with value: 0.005420054200542005.\n",
            "[I 2023-10-04 21:30:27,644] Trial 398 finished with value: 0.004887897141642759 and parameters: {'n_estimators': 100, 'learning_rate': 0.5219303448571337, 'algorithm': 'SAMME.R', 'random_state': 6598}. Best is trial 383 with value: 0.005420054200542005.\n",
            "[I 2023-10-04 21:30:41,127] Trial 399 finished with value: 0.004974048442906574 and parameters: {'n_estimators': 100, 'learning_rate': 0.5055375019660816, 'algorithm': 'SAMME.R', 'random_state': 2718}. Best is trial 383 with value: 0.005420054200542005.\n",
            "[I 2023-10-04 21:30:46,309] Trial 400 finished with value: 0.004576203740549145 and parameters: {'n_estimators': 98, 'learning_rate': 0.6173838781415012, 'algorithm': 'SAMME.R', 'random_state': 1814}. Best is trial 383 with value: 0.005420054200542005.\n",
            "[I 2023-10-04 21:30:59,860] Trial 401 finished with value: 0.004645057053418156 and parameters: {'n_estimators': 98, 'learning_rate': 0.6083191793086584, 'algorithm': 'SAMME.R', 'random_state': 5474}. Best is trial 383 with value: 0.005420054200542005.\n",
            "[I 2023-10-04 21:31:06,537] Trial 402 finished with value: 0.0 and parameters: {'n_estimators': 98, 'learning_rate': 2.905442498323905, 'algorithm': 'SAMME.R', 'random_state': 5430}. Best is trial 383 with value: 0.005420054200542005.\n",
            "[I 2023-10-04 21:31:19,843] Trial 403 finished with value: 0.0 and parameters: {'n_estimators': 94, 'learning_rate': 2.774701348875246, 'algorithm': 'SAMME.R', 'random_state': 5379}. Best is trial 383 with value: 0.005420054200542005.\n",
            "[I 2023-10-04 21:31:26,087] Trial 404 finished with value: 0.0 and parameters: {'n_estimators': 94, 'learning_rate': 0.015199341951542229, 'algorithm': 'SAMME.R', 'random_state': 2421}. Best is trial 383 with value: 0.005420054200542005.\n",
            "[I 2023-10-04 21:31:39,281] Trial 405 finished with value: 0.0 and parameters: {'n_estimators': 96, 'learning_rate': 0.4468302389537258, 'algorithm': 'SAMME.R', 'random_state': 7120}. Best is trial 383 with value: 0.005420054200542005.\n",
            "[I 2023-10-04 21:31:44,292] Trial 406 finished with value: 0.0 and parameters: {'n_estimators': 96, 'learning_rate': 0.4467222129076249, 'algorithm': 'SAMME.R', 'random_state': 7008}. Best is trial 383 with value: 0.005420054200542005.\n",
            "[I 2023-10-04 21:31:57,756] Trial 407 finished with value: 0.0 and parameters: {'n_estimators': 97, 'learning_rate': 0.3635209848494801, 'algorithm': 'SAMME.R', 'random_state': 5702}. Best is trial 383 with value: 0.005420054200542005.\n",
            "[I 2023-10-04 21:32:04,794] Trial 408 finished with value: 0.0 and parameters: {'n_estimators': 100, 'learning_rate': 0.3714787299069461, 'algorithm': 'SAMME.R', 'random_state': 1683}. Best is trial 383 with value: 0.005420054200542005.\n",
            "[I 2023-10-04 21:32:18,122] Trial 409 finished with value: 0.0 and parameters: {'n_estimators': 100, 'learning_rate': 0.022808567338218746, 'algorithm': 'SAMME.R', 'random_state': 6787}. Best is trial 383 with value: 0.005420054200542005.\n",
            "[I 2023-10-04 21:32:23,501] Trial 410 finished with value: 0.00431357839459865 and parameters: {'n_estimators': 98, 'learning_rate': 0.7065291614154784, 'algorithm': 'SAMME.R', 'random_state': 6392}. Best is trial 383 with value: 0.005420054200542005.\n",
            "[I 2023-10-04 21:32:35,804] Trial 411 finished with value: 0.0 and parameters: {'n_estimators': 98, 'learning_rate': 3.4373831962332293, 'algorithm': 'SAMME', 'random_state': 6458}. Best is trial 383 with value: 0.005420054200542005.\n",
            "[I 2023-10-04 21:32:42,511] Trial 412 finished with value: 0.0 and parameters: {'n_estimators': 95, 'learning_rate': 0.48960663092856377, 'algorithm': 'SAMME', 'random_state': 5983}. Best is trial 383 with value: 0.005420054200542005.\n",
            "[I 2023-10-04 21:32:55,457] Trial 413 finished with value: 0.0 and parameters: {'n_estimators': 95, 'learning_rate': 0.24446986270925206, 'algorithm': 'SAMME.R', 'random_state': 5176}. Best is trial 383 with value: 0.005420054200542005.\n",
            "[I 2023-10-04 21:33:00,363] Trial 414 finished with value: 0.0 and parameters: {'n_estimators': 93, 'learning_rate': 0.42477320101222577, 'algorithm': 'SAMME.R', 'random_state': 5103}. Best is trial 383 with value: 0.005420054200542005.\n",
            "[I 2023-10-04 21:33:03,044] Trial 415 finished with value: 0.0040896159317211946 and parameters: {'n_estimators': 43, 'learning_rate': 1.3029938153859768, 'algorithm': 'SAMME.R', 'random_state': 7708}. Best is trial 383 with value: 0.005420054200542005.\n",
            "[I 2023-10-04 21:33:20,014] Trial 416 finished with value: 0.0 and parameters: {'n_estimators': 97, 'learning_rate': 0.04022016638622557, 'algorithm': 'SAMME.R', 'random_state': 5674}. Best is trial 383 with value: 0.005420054200542005.\n",
            "[I 2023-10-04 21:33:22,914] Trial 417 finished with value: 0.004992944751980897 and parameters: {'n_estimators': 97, 'learning_rate': 0.5443467456122861, 'algorithm': 'SAMME.R', 'random_state': 5604}. Best is trial 383 with value: 0.005420054200542005.\n",
            "[I 2023-10-04 21:33:39,310] Trial 418 finished with value: 0.004830917874396135 and parameters: {'n_estimators': 99, 'learning_rate': 0.5415108154916567, 'algorithm': 'SAMME.R', 'random_state': 5526}. Best is trial 383 with value: 0.005420054200542005.\n",
            "[I 2023-10-04 21:33:41,926] Trial 419 finished with value: 0.0 and parameters: {'n_estimators': 100, 'learning_rate': 0.3138817409020904, 'algorithm': 'SAMME.R', 'random_state': 5824}. Best is trial 383 with value: 0.005420054200542005.\n",
            "[I 2023-10-04 21:33:54,852] Trial 421 finished with value: 0.0 and parameters: {'n_estimators': 65, 'learning_rate': 0.45265422458186505, 'algorithm': 'SAMME.R', 'random_state': 6054}. Best is trial 383 with value: 0.005420054200542005.\n",
            "[I 2023-10-04 21:33:58,912] Trial 420 finished with value: 0.0 and parameters: {'n_estimators': 100, 'learning_rate': 7.128569089594135, 'algorithm': 'SAMME.R', 'random_state': 5883}. Best is trial 383 with value: 0.005420054200542005.\n",
            "[I 2023-10-04 21:34:14,661] Trial 422 finished with value: 0.0 and parameters: {'n_estimators': 96, 'learning_rate': 0.04963262617536163, 'algorithm': 'SAMME.R', 'random_state': 6217}. Best is trial 383 with value: 0.005420054200542005.\n",
            "[I 2023-10-04 21:34:18,085] Trial 423 finished with value: 0.0 and parameters: {'n_estimators': 96, 'learning_rate': 0.18048715532997572, 'algorithm': 'SAMME.R', 'random_state': 7323}. Best is trial 383 with value: 0.005420054200542005.\n",
            "[I 2023-10-04 21:34:29,880] Trial 424 finished with value: 0.0 and parameters: {'n_estimators': 78, 'learning_rate': 1.958195237607719, 'algorithm': 'SAMME.R', 'random_state': 1669}. Best is trial 383 with value: 0.005420054200542005.\n",
            "[I 2023-10-04 21:34:37,334] Trial 425 finished with value: 0.0 and parameters: {'n_estimators': 93, 'learning_rate': 0.3858463904710545, 'algorithm': 'SAMME.R', 'random_state': 5337}. Best is trial 383 with value: 0.005420054200542005.\n",
            "[I 2023-10-04 21:34:49,227] Trial 426 finished with value: 0.0 and parameters: {'n_estimators': 93, 'learning_rate': 0.3918372452934229, 'algorithm': 'SAMME.R', 'random_state': 6623}. Best is trial 383 with value: 0.005420054200542005.\n",
            "[I 2023-10-04 21:34:57,525] Trial 427 finished with value: 0.00514714109880273 and parameters: {'n_estimators': 98, 'learning_rate': 0.4739774631806853, 'algorithm': 'SAMME.R', 'random_state': 6620}. Best is trial 383 with value: 0.005420054200542005.\n",
            "[I 2023-10-04 21:35:09,186] Trial 428 finished with value: 0.0 and parameters: {'n_estimators': 98, 'learning_rate': 0.13621788364316836, 'algorithm': 'SAMME.R', 'random_state': 5777}. Best is trial 383 with value: 0.005420054200542005.\n",
            "[I 2023-10-04 21:35:16,220] Trial 429 finished with value: 0.0 and parameters: {'n_estimators': 98, 'learning_rate': 9.811522394727257, 'algorithm': 'SAMME.R', 'random_state': 5756}. Best is trial 383 with value: 0.005420054200542005.\n",
            "[I 2023-10-04 21:35:27,412] Trial 430 finished with value: 0.004731536720839333 and parameters: {'n_estimators': 95, 'learning_rate': 0.6052312733682085, 'algorithm': 'SAMME.R', 'random_state': 5480}. Best is trial 383 with value: 0.005420054200542005.\n",
            "[I 2023-10-04 21:35:35,864] Trial 431 finished with value: 0.004846186262115465 and parameters: {'n_estimators': 95, 'learning_rate': 0.6278901569445637, 'algorithm': 'SAMME.R', 'random_state': 5441}. Best is trial 383 with value: 0.005420054200542005.\n",
            "[I 2023-10-04 21:35:48,054] Trial 432 finished with value: 0.004716497487952425 and parameters: {'n_estimators': 100, 'learning_rate': 1.0864513305213317, 'algorithm': 'SAMME.R', 'random_state': 521}. Best is trial 383 with value: 0.005420054200542005.\n",
            "[I 2023-10-04 21:35:53,130] Trial 433 finished with value: 0.0 and parameters: {'n_estimators': 90, 'learning_rate': 0.31454265290011885, 'algorithm': 'SAMME.R', 'random_state': 4911}. Best is trial 383 with value: 0.005420054200542005.\n",
            "[I 2023-10-04 21:36:05,333] Trial 434 finished with value: 0.0 and parameters: {'n_estimators': 90, 'learning_rate': 0.34344920896456455, 'algorithm': 'SAMME.R', 'random_state': 4956}. Best is trial 383 with value: 0.005420054200542005.\n",
            "[I 2023-10-04 21:36:12,865] Trial 435 finished with value: 0.0 and parameters: {'n_estimators': 97, 'learning_rate': 0.4284077794502159, 'algorithm': 'SAMME.R', 'random_state': 6075}. Best is trial 383 with value: 0.005420054200542005.\n",
            "[I 2023-10-04 21:36:23,752] Trial 436 finished with value: 0.004369300911854103 and parameters: {'n_estimators': 97, 'learning_rate': 0.7255622026368628, 'algorithm': 'SAMME.R', 'random_state': 6113}. Best is trial 383 with value: 0.005420054200542005.\n",
            "[I 2023-10-04 21:36:31,998] Trial 437 finished with value: 0.0 and parameters: {'n_estimators': 98, 'learning_rate': 0.02763918723163183, 'algorithm': 'SAMME.R', 'random_state': 6843}. Best is trial 383 with value: 0.005420054200542005.\n",
            "[I 2023-10-04 21:36:33,652] Trial 438 finished with value: 0.0 and parameters: {'n_estimators': 47, 'learning_rate': 0.506424722322248, 'algorithm': 'SAMME.R', 'random_state': 6888}. Best is trial 383 with value: 0.005420054200542005.\n",
            "[I 2023-10-04 21:36:41,647] Trial 439 finished with value: 0.0 and parameters: {'n_estimators': 46, 'learning_rate': 0.5137384427421577, 'algorithm': 'SAMME.R', 'random_state': 7104}. Best is trial 383 with value: 0.005420054200542005.\n",
            "[I 2023-10-04 21:36:53,335] Trial 440 finished with value: 0.0 and parameters: {'n_estimators': 94, 'learning_rate': 0.4460786620856468, 'algorithm': 'SAMME.R', 'random_state': 1520}. Best is trial 383 with value: 0.005420054200542005.\n",
            "[I 2023-10-04 21:37:02,111] Trial 441 finished with value: 0.0 and parameters: {'n_estimators': 100, 'learning_rate': 5.268031736075104, 'algorithm': 'SAMME.R', 'random_state': 5219}. Best is trial 383 with value: 0.005420054200542005.\n",
            "[I 2023-10-04 21:37:13,985] Trial 442 finished with value: 0.0 and parameters: {'n_estimators': 100, 'learning_rate': 0.3652069244917429, 'algorithm': 'SAMME.R', 'random_state': 5276}. Best is trial 383 with value: 0.005420054200542005.\n",
            "[I 2023-10-04 21:37:21,991] Trial 443 finished with value: 0.0 and parameters: {'n_estimators': 96, 'learning_rate': 0.39920466486561207, 'algorithm': 'SAMME.R', 'random_state': 5656}. Best is trial 383 with value: 0.005420054200542005.\n",
            "[I 2023-10-04 21:37:32,514] Trial 444 finished with value: 0.0 and parameters: {'n_estimators': 96, 'learning_rate': 0.415166889814868, 'algorithm': 'SAMME.R', 'random_state': 7470}. Best is trial 383 with value: 0.005420054200542005.\n",
            "[I 2023-10-04 21:37:39,672] Trial 445 finished with value: 0.0 and parameters: {'n_estimators': 92, 'learning_rate': 0.2745870488330232, 'algorithm': 'SAMME.R', 'random_state': 7430}. Best is trial 383 with value: 0.005420054200542005.\n",
            "[I 2023-10-04 21:37:53,026] Trial 446 finished with value: 0.0 and parameters: {'n_estimators': 92, 'learning_rate': 0.26966169824975783, 'algorithm': 'SAMME.R', 'random_state': 8153}. Best is trial 383 with value: 0.005420054200542005.\n",
            "[I 2023-10-04 21:37:59,932] Trial 447 finished with value: 0.005039439088518843 and parameters: {'n_estimators': 98, 'learning_rate': 0.5632618439229604, 'algorithm': 'SAMME.R', 'random_state': 6320}. Best is trial 383 with value: 0.005420054200542005.\n",
            "[I 2023-10-04 21:38:10,759] Trial 448 finished with value: 0.00384969453510754 and parameters: {'n_estimators': 98, 'learning_rate': 1.7534470751987088, 'algorithm': 'SAMME', 'random_state': 6304}. Best is trial 383 with value: 0.005420054200542005.\n",
            "[I 2023-10-04 21:38:18,397] Trial 449 finished with value: 0.004052506387102458 and parameters: {'n_estimators': 94, 'learning_rate': 1.564919079090424, 'algorithm': 'SAMME', 'random_state': 5930}. Best is trial 383 with value: 0.005420054200542005.\n",
            "[I 2023-10-04 21:38:30,423] Trial 450 finished with value: 0.005124206305001671 and parameters: {'n_estimators': 95, 'learning_rate': 0.4661529737803352, 'algorithm': 'SAMME.R', 'random_state': 5856}. Best is trial 383 with value: 0.005420054200542005.\n",
            "[I 2023-10-04 21:38:37,224] Trial 451 finished with value: 0.0 and parameters: {'n_estimators': 99, 'learning_rate': 0.013897917092096443, 'algorithm': 'SAMME.R', 'random_state': 5561}. Best is trial 383 with value: 0.005420054200542005.\n",
            "[I 2023-10-04 21:38:49,397] Trial 452 finished with value: 0.0 and parameters: {'n_estimators': 99, 'learning_rate': 0.35251043067003945, 'algorithm': 'SAMME.R', 'random_state': 5480}. Best is trial 383 with value: 0.005420054200542005.\n",
            "[I 2023-10-04 21:38:57,197] Trial 453 finished with value: 0.004743246030109301 and parameters: {'n_estimators': 97, 'learning_rate': 0.8761226186053893, 'algorithm': 'SAMME.R', 'random_state': 5647}. Best is trial 383 with value: 0.005420054200542005.\n",
            "[I 2023-10-04 21:39:08,856] Trial 454 finished with value: 0.0 and parameters: {'n_estimators': 96, 'learning_rate': 6.6883191048862685, 'algorithm': 'SAMME.R', 'random_state': 8544}. Best is trial 383 with value: 0.005420054200542005.\n",
            "[I 2023-10-04 21:39:15,140] Trial 455 finished with value: 0.0 and parameters: {'n_estimators': 94, 'learning_rate': 0.22479314785870919, 'algorithm': 'SAMME.R', 'random_state': 5332}. Best is trial 383 with value: 0.005420054200542005.\n",
            "[I 2023-10-04 21:39:28,279] Trial 456 finished with value: 0.0 and parameters: {'n_estimators': 100, 'learning_rate': 0.08289332108294267, 'algorithm': 'SAMME.R', 'random_state': 6017}. Best is trial 383 with value: 0.005420054200542005.\n",
            "[I 2023-10-04 21:39:34,870] Trial 457 finished with value: 0.004848740381574786 and parameters: {'n_estimators': 100, 'learning_rate': 0.49572995737358166, 'algorithm': 'SAMME.R', 'random_state': 5960}. Best is trial 383 with value: 0.005420054200542005.\n",
            "[I 2023-10-04 21:39:47,608] Trial 458 finished with value: 0.004954227248249865 and parameters: {'n_estimators': 97, 'learning_rate': 0.5037231767400647, 'algorithm': 'SAMME.R', 'random_state': 5882}. Best is trial 383 with value: 0.005420054200542005.\n",
            "[I 2023-10-04 21:39:55,902] Trial 459 finished with value: 0.0 and parameters: {'n_estimators': 97, 'learning_rate': 3.5555467128823537, 'algorithm': 'SAMME.R', 'random_state': 4673}. Best is trial 383 with value: 0.005420054200542005.\n",
            "[I 2023-10-04 21:40:08,467] Trial 460 finished with value: 0.0047550134380814554 and parameters: {'n_estimators': 95, 'learning_rate': 0.5808329587192606, 'algorithm': 'SAMME.R', 'random_state': 2194}. Best is trial 383 with value: 0.005420054200542005.\n",
            "[I 2023-10-04 21:40:13,969] Trial 461 finished with value: 0.0 and parameters: {'n_estimators': 94, 'learning_rate': 0.08463597135856939, 'algorithm': 'SAMME.R', 'random_state': 5088}. Best is trial 383 with value: 0.005420054200542005.\n",
            "[I 2023-10-04 21:40:27,212] Trial 462 finished with value: 0.0 and parameters: {'n_estimators': 98, 'learning_rate': 0.4296557504511337, 'algorithm': 'SAMME.R', 'random_state': 7126}. Best is trial 383 with value: 0.005420054200542005.\n",
            "[I 2023-10-04 21:40:34,103] Trial 463 finished with value: 0.0 and parameters: {'n_estimators': 98, 'learning_rate': 0.426802388566638, 'algorithm': 'SAMME.R', 'random_state': 9727}. Best is trial 383 with value: 0.005420054200542005.\n",
            "[I 2023-10-04 21:40:47,612] Trial 464 finished with value: 0.004341670599339311 and parameters: {'n_estimators': 99, 'learning_rate': 0.7242788274416928, 'algorithm': 'SAMME.R', 'random_state': 5709}. Best is trial 383 with value: 0.005420054200542005.\n",
            "[I 2023-10-04 21:40:54,766] Trial 465 finished with value: 0.0 and parameters: {'n_estimators': 100, 'learning_rate': 0.04314465235154354, 'algorithm': 'SAMME.R', 'random_state': 5787}. Best is trial 383 with value: 0.005420054200542005.\n",
            "[I 2023-10-04 21:41:07,511] Trial 466 finished with value: 0.0 and parameters: {'n_estimators': 96, 'learning_rate': 0.3159380016668282, 'algorithm': 'SAMME.R', 'random_state': 5516}. Best is trial 383 with value: 0.005420054200542005.\n",
            "[I 2023-10-04 21:41:14,601] Trial 467 finished with value: 0.0 and parameters: {'n_estimators': 96, 'learning_rate': 0.3318130764521247, 'algorithm': 'SAMME.R', 'random_state': 5383}. Best is trial 383 with value: 0.005420054200542005.\n",
            "[I 2023-10-04 21:41:26,652] Trial 468 finished with value: 0.0 and parameters: {'n_estimators': 92, 'learning_rate': 0.3701578043822997, 'algorithm': 'SAMME.R', 'random_state': 5340}. Best is trial 383 with value: 0.005420054200542005.\n",
            "[I 2023-10-04 21:41:32,275] Trial 469 finished with value: 0.0 and parameters: {'n_estimators': 92, 'learning_rate': 0.38060507871302685, 'algorithm': 'SAMME.R', 'random_state': 6643}. Best is trial 383 with value: 0.005420054200542005.\n",
            "[I 2023-10-04 21:41:45,285] Trial 470 finished with value: 0.0050328227571115975 and parameters: {'n_estimators': 98, 'learning_rate': 0.5635745039469073, 'algorithm': 'SAMME.R', 'random_state': 6707}. Best is trial 383 with value: 0.005420054200542005.\n",
            "[I 2023-10-04 21:41:52,555] Trial 471 finished with value: 0.005172607668953109 and parameters: {'n_estimators': 98, 'learning_rate': 0.5540342675535156, 'algorithm': 'SAMME.R', 'random_state': 5614}. Best is trial 383 with value: 0.005420054200542005.\n",
            "[I 2023-10-04 21:42:04,072] Trial 472 finished with value: 0.0049483648881239245 and parameters: {'n_estimators': 94, 'learning_rate': 0.47489046211889224, 'algorithm': 'SAMME.R', 'random_state': 6257}. Best is trial 383 with value: 0.005420054200542005.\n",
            "[I 2023-10-04 21:42:10,406] Trial 473 finished with value: 0.0 and parameters: {'n_estimators': 94, 'learning_rate': 3.8962389392330694, 'algorithm': 'SAMME.R', 'random_state': 6156}. Best is trial 383 with value: 0.005420054200542005.\n",
            "[I 2023-10-04 21:42:15,971] Trial 474 finished with value: 0.0 and parameters: {'n_estimators': 62, 'learning_rate': 0.4555608697599086, 'algorithm': 'SAMME.R', 'random_state': 6112}. Best is trial 383 with value: 0.005420054200542005.\n",
            "[I 2023-10-04 21:42:29,685] Trial 475 finished with value: 0.004561681872272907 and parameters: {'n_estimators': 100, 'learning_rate': 0.6362512709797898, 'algorithm': 'SAMME.R', 'random_state': 5127}. Best is trial 383 with value: 0.005420054200542005.\n",
            "[I 2023-10-04 21:42:36,202] Trial 476 finished with value: 0.004600920184036807 and parameters: {'n_estimators': 100, 'learning_rate': 0.6667507764194692, 'algorithm': 'SAMME.R', 'random_state': 6479}. Best is trial 383 with value: 0.005420054200542005.\n",
            "[I 2023-10-04 21:42:49,417] Trial 477 finished with value: 0.0 and parameters: {'n_estimators': 96, 'learning_rate': 4.418580868145247, 'algorithm': 'SAMME.R', 'random_state': 7216}. Best is trial 383 with value: 0.005420054200542005.\n",
            "[I 2023-10-04 21:42:54,460] Trial 478 finished with value: 0.0 and parameters: {'n_estimators': 96, 'learning_rate': 0.3995925569681202, 'algorithm': 'SAMME.R', 'random_state': 5717}. Best is trial 383 with value: 0.005420054200542005.\n",
            "[I 2023-10-04 21:43:09,996] Trial 479 finished with value: 0.0 and parameters: {'n_estimators': 97, 'learning_rate': 0.3982045666588911, 'algorithm': 'SAMME.R', 'random_state': 5771}. Best is trial 383 with value: 0.005420054200542005.\n",
            "[I 2023-10-04 21:43:16,252] Trial 480 finished with value: 0.0047906686107061025 and parameters: {'n_estimators': 98, 'learning_rate': 1.161158962695848, 'algorithm': 'SAMME.R', 'random_state': 5524}. Best is trial 383 with value: 0.005420054200542005.\n",
            "[I 2023-10-04 21:43:29,629] Trial 481 finished with value: 0.00495796507868075 and parameters: {'n_estimators': 98, 'learning_rate': 0.5019110342546195, 'algorithm': 'SAMME.R', 'random_state': 5512}. Best is trial 383 with value: 0.005420054200542005.\n",
            "[I 2023-10-04 21:43:34,411] Trial 482 finished with value: 0.005031721723911617 and parameters: {'n_estimators': 95, 'learning_rate': 0.5079203673968414, 'algorithm': 'SAMME.R', 'random_state': 5224}. Best is trial 383 with value: 0.005420054200542005.\n",
            "[I 2023-10-04 21:43:47,698] Trial 483 finished with value: 0.0 and parameters: {'n_estimators': 94, 'learning_rate': 0.1891996193770404, 'algorithm': 'SAMME.R', 'random_state': 6976}. Best is trial 383 with value: 0.005420054200542005.\n",
            "[I 2023-10-04 21:43:54,039] Trial 484 finished with value: 0.0 and parameters: {'n_estimators': 100, 'learning_rate': 0.029982188963575043, 'algorithm': 'SAMME', 'random_state': 4857}. Best is trial 383 with value: 0.005420054200542005.\n",
            "[I 2023-10-04 21:44:09,034] Trial 485 finished with value: 0.0 and parameters: {'n_estimators': 100, 'learning_rate': 0.3032451608106827, 'algorithm': 'SAMME', 'random_state': 5950}. Best is trial 383 with value: 0.005420054200542005.\n",
            "[I 2023-10-04 21:44:14,034] Trial 486 finished with value: 0.004796163069544364 and parameters: {'n_estimators': 96, 'learning_rate': 1.4060392606137189, 'algorithm': 'SAMME.R', 'random_state': 2590}. Best is trial 383 with value: 0.005420054200542005.\n",
            "[I 2023-10-04 21:44:27,509] Trial 487 finished with value: 0.0 and parameters: {'n_estimators': 96, 'learning_rate': 2.073278117794412, 'algorithm': 'SAMME.R', 'random_state': 1166}. Best is trial 383 with value: 0.005420054200542005.\n",
            "[I 2023-10-04 21:44:34,015] Trial 488 finished with value: 0.005236794171220401 and parameters: {'n_estimators': 98, 'learning_rate': 0.44329913757300676, 'algorithm': 'SAMME.R', 'random_state': 5777}. Best is trial 383 with value: 0.005420054200542005.\n",
            "[I 2023-10-04 21:44:39,011] Trial 489 finished with value: 0.0 and parameters: {'n_estimators': 56, 'learning_rate': 0.44364461819790724, 'algorithm': 'SAMME.R', 'random_state': 5850}. Best is trial 383 with value: 0.005420054200542005.\n",
            "[I 2023-10-04 21:44:52,610] Trial 490 finished with value: 0.005238583304862772 and parameters: {'n_estimators': 98, 'learning_rate': 0.44274543803710564, 'algorithm': 'SAMME.R', 'random_state': 5692}. Best is trial 383 with value: 0.005420054200542005.\n",
            "[I 2023-10-04 21:44:59,068] Trial 491 finished with value: 0.0 and parameters: {'n_estimators': 98, 'learning_rate': 0.35862060021058295, 'algorithm': 'SAMME.R', 'random_state': 5648}. Best is trial 383 with value: 0.005420054200542005.\n",
            "[I 2023-10-04 21:45:12,813] Trial 492 finished with value: 0.0 and parameters: {'n_estimators': 98, 'learning_rate': 0.3415822792610698, 'algorithm': 'SAMME.R', 'random_state': 5339}. Best is trial 383 with value: 0.005420054200542005.\n",
            "[I 2023-10-04 21:45:18,159] Trial 493 finished with value: 0.0 and parameters: {'n_estimators': 99, 'learning_rate': 2.522328213566262, 'algorithm': 'SAMME.R', 'random_state': 5307}. Best is trial 383 with value: 0.005420054200542005.\n",
            "[I 2023-10-04 21:45:31,702] Trial 494 finished with value: 0.004997827031725337 and parameters: {'n_estimators': 100, 'learning_rate': 0.5743548038493518, 'algorithm': 'SAMME.R', 'random_state': 5011}. Best is trial 383 with value: 0.005420054200542005.\n",
            "[I 2023-10-04 21:45:38,364] Trial 495 finished with value: 0.005088495575221239 and parameters: {'n_estimators': 100, 'learning_rate': 0.5519141026758212, 'algorithm': 'SAMME.R', 'random_state': 5022}. Best is trial 383 with value: 0.005420054200542005.\n",
            "[I 2023-10-04 21:45:51,196] Trial 496 finished with value: 0.0 and parameters: {'n_estimators': 97, 'learning_rate': 0.41651569176991393, 'algorithm': 'SAMME.R', 'random_state': 5621}. Best is trial 383 with value: 0.005420054200542005.\n",
            "[I 2023-10-04 21:45:57,099] Trial 497 finished with value: 0.0 and parameters: {'n_estimators': 97, 'learning_rate': 0.41641647755301847, 'algorithm': 'SAMME.R', 'random_state': 7647}. Best is trial 383 with value: 0.005420054200542005.\n",
            "[I 2023-10-04 21:46:09,534] Trial 498 finished with value: 0.004415011037527594 and parameters: {'n_estimators': 93, 'learning_rate': 0.7916440717315042, 'algorithm': 'SAMME.R', 'random_state': 5976}. Best is trial 383 with value: 0.005420054200542005.\n",
            "[I 2023-10-04 21:46:17,656] Trial 499 finished with value: 0.0 and parameters: {'n_estimators': 93, 'learning_rate': 0.2594766683595343, 'algorithm': 'SAMME.R', 'random_state': 5989}. Best is trial 383 with value: 0.005420054200542005.\n",
            "[I 2023-10-04 21:46:28,376] Trial 500 finished with value: 0.004935092801201588 and parameters: {'n_estimators': 91, 'learning_rate': 0.4810566065470409, 'algorithm': 'SAMME.R', 'random_state': 5523}. Best is trial 383 with value: 0.005420054200542005.\n",
            "[I 2023-10-04 21:46:36,713] Trial 501 finished with value: 0.0 and parameters: {'n_estimators': 98, 'learning_rate': 0.1207132914120229, 'algorithm': 'SAMME.R', 'random_state': 5551}. Best is trial 383 with value: 0.005420054200542005.\n",
            "[I 2023-10-04 21:46:48,248] Trial 502 finished with value: 0.0 and parameters: {'n_estimators': 95, 'learning_rate': 0.29669670482861693, 'algorithm': 'SAMME.R', 'random_state': 410}. Best is trial 383 with value: 0.005420054200542005.\n",
            "[I 2023-10-04 21:46:54,693] Trial 503 finished with value: 0.0 and parameters: {'n_estimators': 95, 'learning_rate': 0.3070641248458549, 'algorithm': 'SAMME.R', 'random_state': 5799}. Best is trial 383 with value: 0.005420054200542005.\n",
            "[I 2023-10-04 21:47:08,788] Trial 504 finished with value: 0.0 and parameters: {'n_estimators': 99, 'learning_rate': 8.620529332600853, 'algorithm': 'SAMME.R', 'random_state': 5719}. Best is trial 383 with value: 0.005420054200542005.\n",
            "[I 2023-10-04 21:47:16,489] Trial 505 finished with value: 0.0 and parameters: {'n_estimators': 99, 'learning_rate': 0.3685181659842551, 'algorithm': 'SAMME.R', 'random_state': 5186}. Best is trial 383 with value: 0.005420054200542005.\n",
            "[I 2023-10-04 21:47:28,886] Trial 506 finished with value: 0.00453783170563283 and parameters: {'n_estimators': 98, 'learning_rate': 0.9269477918003783, 'algorithm': 'SAMME.R', 'random_state': 5208}. Best is trial 383 with value: 0.005420054200542005.\n",
            "[I 2023-10-04 21:47:35,203] Trial 507 finished with value: 0.00514886948735169 and parameters: {'n_estimators': 97, 'learning_rate': 0.4738569979136336, 'algorithm': 'SAMME.R', 'random_state': 5375}. Best is trial 383 with value: 0.005420054200542005.\n",
            "[I 2023-10-04 21:47:47,310] Trial 508 finished with value: 0.004523107177974435 and parameters: {'n_estimators': 96, 'learning_rate': 0.6559924265543707, 'algorithm': 'SAMME.R', 'random_state': 5412}. Best is trial 383 with value: 0.005420054200542005.\n",
            "[I 2023-10-04 21:47:55,714] Trial 509 finished with value: 0.004752066115702479 and parameters: {'n_estimators': 100, 'learning_rate': 0.5917496630111346, 'algorithm': 'SAMME.R', 'random_state': 4568}. Best is trial 383 with value: 0.005420054200542005.\n",
            "[I 2023-10-04 21:48:07,855] Trial 510 finished with value: 0.0 and parameters: {'n_estimators': 100, 'learning_rate': 6.026029944727264, 'algorithm': 'SAMME.R', 'random_state': 5704}. Best is trial 383 with value: 0.005420054200542005.\n",
            "[I 2023-10-04 21:48:13,856] Trial 511 finished with value: 0.0 and parameters: {'n_estimators': 94, 'learning_rate': 0.391029357957074, 'algorithm': 'SAMME.R', 'random_state': 5782}. Best is trial 383 with value: 0.005420054200542005.\n",
            "[I 2023-10-04 21:48:25,784] Trial 512 finished with value: 0.0 and parameters: {'n_estimators': 94, 'learning_rate': 0.3997148305639434, 'algorithm': 'SAMME.R', 'random_state': 6110}. Best is trial 383 with value: 0.005420054200542005.\n",
            "[I 2023-10-04 21:48:33,886] Trial 513 finished with value: 0.0049488972565895645 and parameters: {'n_estimators': 97, 'learning_rate': 0.5218443985518368, 'algorithm': 'SAMME.R', 'random_state': 6128}. Best is trial 383 with value: 0.005420054200542005.\n",
            "[I 2023-10-04 21:48:45,685] Trial 514 finished with value: 0.0 and parameters: {'n_estimators': 97, 'learning_rate': 0.05364936240234021, 'algorithm': 'SAMME.R', 'random_state': 7868}. Best is trial 383 with value: 0.005420054200542005.\n",
            "[I 2023-10-04 21:48:52,656] Trial 515 finished with value: 0.005228461013866788 and parameters: {'n_estimators': 98, 'learning_rate': 0.4718796715326789, 'algorithm': 'SAMME.R', 'random_state': 5532}. Best is trial 383 with value: 0.005420054200542005.\n",
            "[I 2023-10-04 21:48:59,592] Trial 516 finished with value: 0.0 and parameters: {'n_estimators': 70, 'learning_rate': 0.44359042052219294, 'algorithm': 'SAMME.R', 'random_state': 4789}. Best is trial 383 with value: 0.005420054200542005.\n",
            "[I 2023-10-04 21:49:07,452] Trial 517 finished with value: 0.0 and parameters: {'n_estimators': 75, 'learning_rate': 0.3558330199252999, 'algorithm': 'SAMME.R', 'random_state': 5874}. Best is trial 383 with value: 0.005420054200542005.\n",
            "[I 2023-10-04 21:49:17,689] Trial 518 finished with value: 0.0 and parameters: {'n_estimators': 95, 'learning_rate': 0.19424910109190865, 'algorithm': 'SAMME.R', 'random_state': 5869}. Best is trial 383 with value: 0.005420054200542005.\n",
            "[I 2023-10-04 21:49:27,986] Trial 519 finished with value: 0.004883227176220807 and parameters: {'n_estimators': 90, 'learning_rate': 0.5168317519428494, 'algorithm': 'SAMME.R', 'random_state': 5596}. Best is trial 383 with value: 0.005420054200542005.\n",
            "[I 2023-10-04 21:49:31,981] Trial 521 finished with value: 0.0 and parameters: {'n_estimators': 22, 'learning_rate': 0.2261010176710818, 'algorithm': 'SAMME.R', 'random_state': 7324}. Best is trial 383 with value: 0.005420054200542005.\n",
            "[I 2023-10-04 21:49:38,155] Trial 520 finished with value: 0.005144263028405279 and parameters: {'n_estimators': 90, 'learning_rate': 0.5553900776953181, 'algorithm': 'SAMME.R', 'random_state': 7354}. Best is trial 383 with value: 0.005420054200542005.\n",
            "[I 2023-10-04 21:49:52,408] Trial 522 finished with value: 0.005221339387060159 and parameters: {'n_estimators': 100, 'learning_rate': 0.4425369012263673, 'algorithm': 'SAMME.R', 'random_state': 5187}. Best is trial 383 with value: 0.005420054200542005.\n",
            "[I 2023-10-04 21:49:57,257] Trial 523 finished with value: 0.005200090436355415 and parameters: {'n_estimators': 100, 'learning_rate': 0.4331087519552067, 'algorithm': 'SAMME.R', 'random_state': 5416}. Best is trial 383 with value: 0.005420054200542005.\n",
            "[I 2023-10-04 21:50:12,249] Trial 524 finished with value: 0.0 and parameters: {'n_estimators': 96, 'learning_rate': 0.3422457971753483, 'algorithm': 'SAMME.R', 'random_state': 5414}. Best is trial 383 with value: 0.005420054200542005.\n",
            "[I 2023-10-04 21:50:18,958] Trial 525 finished with value: 0.0 and parameters: {'n_estimators': 96, 'learning_rate': 0.13260655113556663, 'algorithm': 'SAMME.R', 'random_state': 5671}. Best is trial 383 with value: 0.005420054200542005.\n",
            "[I 2023-10-04 21:50:31,362] Trial 526 finished with value: 0.0 and parameters: {'n_estimators': 92, 'learning_rate': 0.06851463089216776, 'algorithm': 'SAMME.R', 'random_state': 5967}. Best is trial 383 with value: 0.005420054200542005.\n",
            "[I 2023-10-04 21:50:37,637] Trial 527 finished with value: 0.0 and parameters: {'n_estimators': 98, 'learning_rate': 0.010645872143507498, 'algorithm': 'SAMME.R', 'random_state': 5993}. Best is trial 383 with value: 0.005420054200542005.\n",
            "[I 2023-10-04 21:50:49,237] Trial 528 finished with value: 0.0 and parameters: {'n_estimators': 98, 'learning_rate': 0.7184742002016257, 'algorithm': 'SAMME', 'random_state': 6312}. Best is trial 383 with value: 0.005420054200542005.\n",
            "[I 2023-10-04 21:50:57,874] Trial 529 finished with value: 0.0 and parameters: {'n_estimators': 98, 'learning_rate': 0.16885161308753507, 'algorithm': 'SAMME.R', 'random_state': 5745}. Best is trial 383 with value: 0.005420054200542005.\n",
            "[I 2023-10-04 21:51:08,668] Trial 530 finished with value: 0.004571201430984796 and parameters: {'n_estimators': 95, 'learning_rate': 0.6293075767475671, 'algorithm': 'SAMME.R', 'random_state': 2824}. Best is trial 383 with value: 0.005420054200542005.\n",
            "[I 2023-10-04 21:51:15,926] Trial 531 finished with value: 0.0043437204910292725 and parameters: {'n_estimators': 95, 'learning_rate': 0.6344159741135493, 'algorithm': 'SAMME.R', 'random_state': 5040}. Best is trial 383 with value: 0.005420054200542005.\n",
            "[I 2023-10-04 21:51:26,854] Trial 532 finished with value: 0.0 and parameters: {'n_estimators': 93, 'learning_rate': 0.38790248797887694, 'algorithm': 'SAMME.R', 'random_state': 5078}. Best is trial 383 with value: 0.005420054200542005.\n",
            "[I 2023-10-04 21:51:36,425] Trial 533 finished with value: 0.004962243797195253 and parameters: {'n_estimators': 100, 'learning_rate': 0.5086351264383036, 'algorithm': 'SAMME.R', 'random_state': 4456}. Best is trial 383 with value: 0.005420054200542005.\n",
            "[I 2023-10-04 21:51:37,941] Trial 534 finished with value: 0.0 and parameters: {'n_estimators': 53, 'learning_rate': 0.4978054720849212, 'algorithm': 'SAMME.R', 'random_state': 5491}. Best is trial 383 with value: 0.005420054200542005.\n",
            "[I 2023-10-04 21:51:54,898] Trial 535 finished with value: 0.0 and parameters: {'n_estimators': 97, 'learning_rate': 0.02959088600165377, 'algorithm': 'SAMME.R', 'random_state': 5547}. Best is trial 383 with value: 0.005420054200542005.\n",
            "[I 2023-10-04 21:51:56,325] Trial 536 finished with value: 0.0 and parameters: {'n_estimators': 97, 'learning_rate': 0.3284468139253629, 'algorithm': 'SAMME.R', 'random_state': 792}. Best is trial 383 with value: 0.005420054200542005.\n",
            "[I 2023-10-04 21:52:02,487] Trial 537 finished with value: 0.0 and parameters: {'n_estimators': 34, 'learning_rate': 0.33726349065145966, 'algorithm': 'SAMME.R', 'random_state': 6194}. Best is trial 383 with value: 0.005420054200542005.\n",
            "[I 2023-10-04 21:52:16,738] Trial 538 finished with value: 0.0 and parameters: {'n_estimators': 99, 'learning_rate': 0.42053396689998895, 'algorithm': 'SAMME.R', 'random_state': 6156}. Best is trial 383 with value: 0.005420054200542005.\n",
            "[I 2023-10-04 21:52:21,268] Trial 539 finished with value: 0.0 and parameters: {'n_estimators': 99, 'learning_rate': 0.034905309127004125, 'algorithm': 'SAMME.R', 'random_state': 3478}. Best is trial 383 with value: 0.005420054200542005.\n",
            "[I 2023-10-04 21:52:34,493] Trial 540 finished with value: 0.0 and parameters: {'n_estimators': 93, 'learning_rate': 0.14471884648378205, 'algorithm': 'SAMME.R', 'random_state': 3176}. Best is trial 383 with value: 0.005420054200542005.\n",
            "[I 2023-10-04 21:52:36,888] Trial 541 finished with value: 0.0 and parameters: {'n_estimators': 80, 'learning_rate': 0.28875060729354424, 'algorithm': 'SAMME.R', 'random_state': 5768}. Best is trial 383 with value: 0.005420054200542005.\n",
            "[I 2023-10-04 21:52:52,206] Trial 542 finished with value: 0.0 and parameters: {'n_estimators': 88, 'learning_rate': 0.4630970640142603, 'algorithm': 'SAMME', 'random_state': 5280}. Best is trial 383 with value: 0.005420054200542005.\n",
            "[I 2023-10-04 21:52:57,133] Trial 543 finished with value: 0.0 and parameters: {'n_estimators': 96, 'learning_rate': 0.46065511515841473, 'algorithm': 'SAMME', 'random_state': 5863}. Best is trial 383 with value: 0.005420054200542005.\n",
            "[I 2023-10-04 21:53:12,126] Trial 544 finished with value: 0.0 and parameters: {'n_estimators': 96, 'learning_rate': 0.38076981983039515, 'algorithm': 'SAMME.R', 'random_state': 4769}. Best is trial 383 with value: 0.005420054200542005.\n",
            "[I 2023-10-04 21:53:17,747] Trial 545 finished with value: 0.0 and parameters: {'n_estimators': 100, 'learning_rate': 0.37487330228935123, 'algorithm': 'SAMME.R', 'random_state': 4771}. Best is trial 383 with value: 0.005420054200542005.\n",
            "[I 2023-10-04 21:53:32,781] Trial 546 finished with value: 0.005046072838964458 and parameters: {'n_estimators': 100, 'learning_rate': 0.5534078254270399, 'algorithm': 'SAMME.R', 'random_state': 5584}. Best is trial 383 with value: 0.005420054200542005.\n",
            "[I 2023-10-04 21:53:38,144] Trial 547 finished with value: 0.004177640541276905 and parameters: {'n_estimators': 98, 'learning_rate': 1.366622694030379, 'algorithm': 'SAMME.R', 'random_state': 5642}. Best is trial 383 with value: 0.005420054200542005.\n",
            "[I 2023-10-04 21:53:52,339] Trial 548 finished with value: 0.004666734300497109 and parameters: {'n_estimators': 94, 'learning_rate': 0.7863180031442097, 'algorithm': 'SAMME.R', 'random_state': 5380}. Best is trial 383 with value: 0.005420054200542005.\n",
            "[I 2023-10-04 21:53:56,509] Trial 549 finished with value: 0.004761904761904762 and parameters: {'n_estimators': 95, 'learning_rate': 0.5583968867393854, 'algorithm': 'SAMME.R', 'random_state': 5342}. Best is trial 383 with value: 0.005420054200542005.\n",
            "[I 2023-10-04 21:54:11,128] Trial 550 finished with value: 0.0 and parameters: {'n_estimators': 98, 'learning_rate': 0.025558769762121708, 'algorithm': 'SAMME.R', 'random_state': 6423}. Best is trial 383 with value: 0.005420054200542005.\n",
            "[I 2023-10-04 21:54:15,909] Trial 551 finished with value: 0.0 and parameters: {'n_estimators': 98, 'learning_rate': 2.277329773765771, 'algorithm': 'SAMME.R', 'random_state': 1925}. Best is trial 383 with value: 0.005420054200542005.\n",
            "[I 2023-10-04 21:54:31,183] Trial 552 finished with value: 0.0 and parameters: {'n_estimators': 97, 'learning_rate': 0.09686237997857226, 'algorithm': 'SAMME.R', 'random_state': 5869}. Best is trial 383 with value: 0.005420054200542005.\n",
            "[I 2023-10-04 21:54:35,049] Trial 553 finished with value: 0.0 and parameters: {'n_estimators': 96, 'learning_rate': 0.24642123868457913, 'algorithm': 'SAMME.R', 'random_state': 6030}. Best is trial 383 with value: 0.005420054200542005.\n",
            "[I 2023-10-04 21:54:49,464] Trial 554 finished with value: 0.0 and parameters: {'n_estimators': 95, 'learning_rate': 0.41793884485167554, 'algorithm': 'SAMME.R', 'random_state': 7551}. Best is trial 383 with value: 0.005420054200542005.\n",
            "[I 2023-10-04 21:54:52,804] Trial 555 finished with value: 0.0 and parameters: {'n_estimators': 93, 'learning_rate': 2.914175437441178, 'algorithm': 'SAMME.R', 'random_state': 7088}. Best is trial 383 with value: 0.005420054200542005.\n",
            "[I 2023-10-04 21:55:07,311] Trial 556 finished with value: 0.004548600810837536 and parameters: {'n_estimators': 93, 'learning_rate': 1.7996038449684617, 'algorithm': 'SAMME.R', 'random_state': 7030}. Best is trial 383 with value: 0.005420054200542005.\n",
            "[I 2023-10-04 21:55:13,301] Trial 557 finished with value: 0.0 and parameters: {'n_estimators': 100, 'learning_rate': 0.10379008359474677, 'algorithm': 'SAMME.R', 'random_state': 4163}. Best is trial 383 with value: 0.005420054200542005.\n",
            "[I 2023-10-04 21:55:27,876] Trial 558 finished with value: 0.00493138936535163 and parameters: {'n_estimators': 100, 'learning_rate': 0.5117500499960567, 'algorithm': 'SAMME.R', 'random_state': 5656}. Best is trial 383 with value: 0.005420054200542005.\n",
            "[I 2023-10-04 21:55:32,028] Trial 559 finished with value: 0.005052169137836354 and parameters: {'n_estimators': 98, 'learning_rate': 0.4843427657323056, 'algorithm': 'SAMME.R', 'random_state': 5676}. Best is trial 383 with value: 0.005420054200542005.\n",
            "[I 2023-10-04 21:55:46,565] Trial 560 finished with value: 0.0 and parameters: {'n_estimators': 98, 'learning_rate': 5.636973660630959, 'algorithm': 'SAMME.R', 'random_state': 2201}. Best is trial 383 with value: 0.005420054200542005.\n",
            "[I 2023-10-04 21:55:51,679] Trial 561 finished with value: 0.0 and parameters: {'n_estimators': 91, 'learning_rate': 5.382857514819395, 'algorithm': 'SAMME.R', 'random_state': 5965}. Best is trial 383 with value: 0.005420054200542005.\n",
            "[I 2023-10-04 21:56:08,071] Trial 562 finished with value: 0.0 and parameters: {'n_estimators': 96, 'learning_rate': 0.4078697019615161, 'algorithm': 'SAMME.R', 'random_state': 5964}. Best is trial 383 with value: 0.005420054200542005.\n",
            "[I 2023-10-04 21:56:11,160] Trial 563 finished with value: 0.0 and parameters: {'n_estimators': 96, 'learning_rate': 0.3604127493210821, 'algorithm': 'SAMME.R', 'random_state': 5161}. Best is trial 383 with value: 0.005420054200542005.\n",
            "[I 2023-10-04 21:56:28,159] Trial 564 finished with value: 0.0 and parameters: {'n_estimators': 97, 'learning_rate': 0.3273796923570411, 'algorithm': 'SAMME.R', 'random_state': 5175}. Best is trial 383 with value: 0.005420054200542005.\n",
            "[I 2023-10-04 21:56:33,160] Trial 565 finished with value: 0.0 and parameters: {'n_estimators': 98, 'learning_rate': 0.04427482251672065, 'algorithm': 'SAMME.R', 'random_state': 5445}. Best is trial 383 with value: 0.005420054200542005.\n",
            "[I 2023-10-04 21:56:48,672] Trial 566 finished with value: 0.004937211548781796 and parameters: {'n_estimators': 99, 'learning_rate': 0.5879152376892548, 'algorithm': 'SAMME.R', 'random_state': 5476}. Best is trial 383 with value: 0.005420054200542005.\n",
            "[I 2023-10-04 21:56:51,118] Trial 567 finished with value: 0.00486309335024844 and parameters: {'n_estimators': 94, 'learning_rate': 0.5781671930790631, 'algorithm': 'SAMME.R', 'random_state': 6289}. Best is trial 383 with value: 0.005420054200542005.\n",
            "[I 2023-10-04 21:57:06,671] Trial 568 finished with value: 0.005247547342003194 and parameters: {'n_estimators': 94, 'learning_rate': 0.44745647940649386, 'algorithm': 'SAMME.R', 'random_state': 6297}. Best is trial 383 with value: 0.005420054200542005.\n",
            "[I 2023-10-04 21:57:11,114] Trial 569 finished with value: 0.005313005313005313 and parameters: {'n_estimators': 100, 'learning_rate': 0.4481279104460167, 'algorithm': 'SAMME.R', 'random_state': 5790}. Best is trial 383 with value: 0.005420054200542005.\n",
            "[I 2023-10-04 21:57:25,812] Trial 570 finished with value: 0.0 and parameters: {'n_estimators': 91, 'learning_rate': 0.4298983423031037, 'algorithm': 'SAMME.R', 'random_state': 6363}. Best is trial 383 with value: 0.005420054200542005.\n",
            "[I 2023-10-04 21:57:30,631] Trial 571 finished with value: 0.0 and parameters: {'n_estimators': 100, 'learning_rate': 0.4267386868710445, 'algorithm': 'SAMME.R', 'random_state': 6413}. Best is trial 383 with value: 0.005420054200542005.\n",
            "[I 2023-10-04 21:57:44,831] Trial 572 finished with value: 0.0 and parameters: {'n_estimators': 100, 'learning_rate': 4.617588638760363, 'algorithm': 'SAMME.R', 'random_state': 6193}. Best is trial 383 with value: 0.005420054200542005.\n",
            "[I 2023-10-04 21:57:50,279] Trial 573 finished with value: 0.0 and parameters: {'n_estimators': 100, 'learning_rate': 0.28335233638201474, 'algorithm': 'SAMME.R', 'random_state': 6170}. Best is trial 383 with value: 0.005420054200542005.\n",
            "[I 2023-10-04 21:58:04,136] Trial 574 finished with value: 0.0 and parameters: {'n_estimators': 95, 'learning_rate': 0.29750653311480724, 'algorithm': 'SAMME.R', 'random_state': 6122}. Best is trial 383 with value: 0.005420054200542005.\n",
            "[I 2023-10-04 21:58:09,159] Trial 575 finished with value: 0.004215156235682214 and parameters: {'n_estimators': 95, 'learning_rate': 0.7071723214725791, 'algorithm': 'SAMME.R', 'random_state': 5990}. Best is trial 383 with value: 0.005420054200542005.\n",
            "[I 2023-10-04 21:58:23,398] Trial 576 finished with value: 0.0044375844105730275 and parameters: {'n_estimators': 97, 'learning_rate': 0.6904443558849446, 'algorithm': 'SAMME.R', 'random_state': 5874}. Best is trial 383 with value: 0.005420054200542005.\n",
            "[I 2023-10-04 21:58:27,709] Trial 577 finished with value: 0.0 and parameters: {'n_estimators': 98, 'learning_rate': 0.012546467871919856, 'algorithm': 'SAMME.R', 'random_state': 5834}. Best is trial 383 with value: 0.005420054200542005.\n",
            "[I 2023-10-04 21:58:42,231] Trial 578 finished with value: 0.0 and parameters: {'n_estimators': 98, 'learning_rate': 0.09355644637187013, 'algorithm': 'SAMME.R', 'random_state': 6555}. Best is trial 383 with value: 0.005420054200542005.\n",
            "[I 2023-10-04 21:58:46,310] Trial 580 finished with value: 0.0 and parameters: {'n_estimators': 13, 'learning_rate': 0.49608200079736287, 'algorithm': 'SAMME.R', 'random_state': 5784}. Best is trial 383 with value: 0.005420054200542005.\n",
            "[I 2023-10-04 21:58:47,959] Trial 579 finished with value: 0.004965993738529634 and parameters: {'n_estimators': 98, 'learning_rate': 0.5100145405354339, 'algorithm': 'SAMME.R', 'random_state': 6590}. Best is trial 383 with value: 0.005420054200542005.\n",
            "[I 2023-10-04 21:59:06,014] Trial 581 finished with value: 0.0 and parameters: {'n_estimators': 100, 'learning_rate': 0.37677849214339004, 'algorithm': 'SAMME', 'random_state': 6057}. Best is trial 383 with value: 0.005420054200542005.\n",
            "[I 2023-10-04 21:59:06,649] Trial 582 finished with value: 0.0 and parameters: {'n_estimators': 94, 'learning_rate': 0.37285782835653963, 'algorithm': 'SAMME', 'random_state': 6150}. Best is trial 383 with value: 0.005420054200542005.\n",
            "[I 2023-10-04 21:59:26,053] Trial 583 finished with value: 0.0 and parameters: {'n_estimators': 94, 'learning_rate': 0.0582270285507567, 'algorithm': 'SAMME.R', 'random_state': 6235}. Best is trial 383 with value: 0.005420054200542005.\n",
            "[I 2023-10-04 21:59:27,942] Trial 584 finished with value: 0.005223711106064047 and parameters: {'n_estimators': 96, 'learning_rate': 0.44919573966412873, 'algorithm': 'SAMME.R', 'random_state': 5720}. Best is trial 383 with value: 0.005420054200542005.\n",
            "[I 2023-10-04 21:59:45,476] Trial 585 finished with value: 0.0 and parameters: {'n_estimators': 96, 'learning_rate': 0.01578454502270413, 'algorithm': 'SAMME.R', 'random_state': 5794}. Best is trial 383 with value: 0.005420054200542005.\n",
            "[I 2023-10-04 21:59:46,566] Trial 586 finished with value: 0.0 and parameters: {'n_estimators': 96, 'learning_rate': 0.3450918045562611, 'algorithm': 'SAMME.R', 'random_state': 5809}. Best is trial 383 with value: 0.005420054200542005.\n",
            "[I 2023-10-04 22:00:05,612] Trial 588 finished with value: 0.0 and parameters: {'n_estimators': 92, 'learning_rate': 0.1639089592806649, 'algorithm': 'SAMME.R', 'random_state': 6435}. Best is trial 383 with value: 0.005420054200542005.\n",
            "[I 2023-10-04 22:00:06,207] Trial 587 finished with value: 0.0 and parameters: {'n_estimators': 100, 'learning_rate': 0.3418118290298622, 'algorithm': 'SAMME.R', 'random_state': 5928}. Best is trial 383 with value: 0.005420054200542005.\n",
            "[I 2023-10-04 22:00:24,830] Trial 589 finished with value: 0.004114490161001789 and parameters: {'n_estimators': 100, 'learning_rate': 1.262071289447511, 'algorithm': 'SAMME.R', 'random_state': 5603}. Best is trial 383 with value: 0.005420054200542005.\n",
            "[I 2023-10-04 22:00:25,039] Trial 590 finished with value: 0.004215928879112822 and parameters: {'n_estimators': 98, 'learning_rate': 1.2601570922089929, 'algorithm': 'SAMME.R', 'random_state': 5564}. Best is trial 383 with value: 0.005420054200542005.\n",
            "[I 2023-10-04 22:00:44,356] Trial 592 finished with value: 0.004743735175827575 and parameters: {'n_estimators': 97, 'learning_rate': 0.6028874061743332, 'algorithm': 'SAMME.R', 'random_state': 6080}. Best is trial 383 with value: 0.005420054200542005.\n",
            "[I 2023-10-04 22:00:44,870] Trial 591 finished with value: 0.0047461824184894755 and parameters: {'n_estimators': 98, 'learning_rate': 0.6047231395986676, 'algorithm': 'SAMME.R', 'random_state': 6034}. Best is trial 383 with value: 0.005420054200542005.\n",
            "[I 2023-10-04 22:01:03,107] Trial 594 finished with value: 0.0 and parameters: {'n_estimators': 94, 'learning_rate': 0.41400313630643865, 'algorithm': 'SAMME.R', 'random_state': 5677}. Best is trial 383 with value: 0.005420054200542005.\n",
            "[I 2023-10-04 22:01:03,783] Trial 593 finished with value: 0.005117365669151185 and parameters: {'n_estimators': 99, 'learning_rate': 0.46272949446568856, 'algorithm': 'SAMME.R', 'random_state': 5697}. Best is trial 383 with value: 0.005420054200542005.\n",
            "[I 2023-10-04 22:01:21,992] Trial 595 finished with value: 0.0 and parameters: {'n_estimators': 99, 'learning_rate': 0.026371632369085726, 'algorithm': 'SAMME.R', 'random_state': 6754}. Best is trial 383 with value: 0.005420054200542005.\n",
            "[I 2023-10-04 22:01:22,250] Trial 596 finished with value: 0.004832440382393109 and parameters: {'n_estimators': 96, 'learning_rate': 0.5112230906457758, 'algorithm': 'SAMME.R', 'random_state': 6310}. Best is trial 383 with value: 0.005420054200542005.\n",
            "[I 2023-10-04 22:01:35,280] Trial 597 finished with value: 0.0 and parameters: {'n_estimators': 67, 'learning_rate': 0.5182069493511761, 'algorithm': 'SAMME.R', 'random_state': 6388}. Best is trial 383 with value: 0.005420054200542005.\n",
            "[I 2023-10-04 22:01:41,481] Trial 598 finished with value: 0.004532912889239259 and parameters: {'n_estimators': 92, 'learning_rate': 0.8533299417731254, 'algorithm': 'SAMME.R', 'random_state': 5927}. Best is trial 383 with value: 0.005420054200542005.\n",
            "[I 2023-10-04 22:01:54,375] Trial 599 finished with value: 0.0 and parameters: {'n_estimators': 92, 'learning_rate': 0.3989843112751698, 'algorithm': 'SAMME.R', 'random_state': 1355}. Best is trial 383 with value: 0.005420054200542005.\n",
            "[I 2023-10-04 22:02:00,023] Trial 600 finished with value: 0.0 and parameters: {'n_estimators': 97, 'learning_rate': 0.40017868150837266, 'algorithm': 'SAMME.R', 'random_state': 5371}. Best is trial 383 with value: 0.005420054200542005.\n",
            "[I 2023-10-04 22:02:14,282] Trial 601 finished with value: 0.00533457033515018 and parameters: {'n_estimators': 97, 'learning_rate': 0.45481000326703763, 'algorithm': 'SAMME.R', 'random_state': 5418}. Best is trial 383 with value: 0.005420054200542005.\n",
            "[I 2023-10-04 22:02:21,472] Trial 602 finished with value: 0.0 and parameters: {'n_estimators': 95, 'learning_rate': 0.4587356513920096, 'algorithm': 'SAMME.R', 'random_state': 5549}. Best is trial 383 with value: 0.005420054200542005.\n",
            "[I 2023-10-04 22:02:36,455] Trial 603 finished with value: 0.005329625767581972 and parameters: {'n_estimators': 100, 'learning_rate': 0.5462479987185589, 'algorithm': 'SAMME.R', 'random_state': 5262}. Best is trial 383 with value: 0.005420054200542005.\n",
            "[I 2023-10-04 22:02:42,238] Trial 604 finished with value: 0.0 and parameters: {'n_estimators': 100, 'learning_rate': 0.3206111711220279, 'algorithm': 'SAMME.R', 'random_state': 4883}. Best is trial 383 with value: 0.005420054200542005.\n",
            "[I 2023-10-04 22:02:55,532] Trial 605 finished with value: 0.004639903167238249 and parameters: {'n_estimators': 100, 'learning_rate': 0.631468062116812, 'algorithm': 'SAMME.R', 'random_state': 4916}. Best is trial 383 with value: 0.005420054200542005.\n",
            "[I 2023-10-04 22:03:02,765] Trial 606 finished with value: 0.005231434095303082 and parameters: {'n_estimators': 100, 'learning_rate': 0.5472077851878429, 'algorithm': 'SAMME.R', 'random_state': 5172}. Best is trial 383 with value: 0.005420054200542005.\n",
            "[I 2023-10-04 22:03:16,196] Trial 607 finished with value: 0.00495582848524025 and parameters: {'n_estimators': 100, 'learning_rate': 0.5491602245262294, 'algorithm': 'SAMME.R', 'random_state': 5278}. Best is trial 383 with value: 0.005420054200542005.\n",
            "[I 2023-10-04 22:03:21,408] Trial 608 finished with value: 0.0 and parameters: {'n_estimators': 98, 'learning_rate': 0.22495372148463924, 'algorithm': 'SAMME.R', 'random_state': 5282}. Best is trial 383 with value: 0.005420054200542005.\n",
            "[I 2023-10-04 22:03:34,842] Trial 609 finished with value: 0.004590818363273453 and parameters: {'n_estimators': 98, 'learning_rate': 0.9620521793936501, 'algorithm': 'SAMME.R', 'random_state': 5444}. Best is trial 383 with value: 0.005420054200542005.\n",
            "[I 2023-10-04 22:03:41,673] Trial 610 finished with value: 0.004666260904848854 and parameters: {'n_estimators': 98, 'learning_rate': 0.6682114616373215, 'algorithm': 'SAMME.R', 'random_state': 5433}. Best is trial 383 with value: 0.005420054200542005.\n",
            "[I 2023-10-04 22:03:55,293] Trial 611 finished with value: 0.004353586977096347 and parameters: {'n_estimators': 98, 'learning_rate': 0.7535507160320304, 'algorithm': 'SAMME.R', 'random_state': 5068}. Best is trial 383 with value: 0.005420054200542005.\n",
            "[I 2023-10-04 22:04:00,713] Trial 612 finished with value: 0.004362670713201821 and parameters: {'n_estimators': 100, 'learning_rate': 0.7579703323205547, 'algorithm': 'SAMME.R', 'random_state': 5034}. Best is trial 383 with value: 0.005420054200542005.\n",
            "[I 2023-10-04 22:04:04,270] Trial 613 finished with value: 0.0 and parameters: {'n_estimators': 51, 'learning_rate': 0.031224612678776287, 'algorithm': 'SAMME.R', 'random_state': 5842}. Best is trial 383 with value: 0.005420054200542005.\n",
            "[I 2023-10-04 22:04:20,081] Trial 614 finished with value: 0.0 and parameters: {'n_estimators': 97, 'learning_rate': 0.47258442023421926, 'algorithm': 'SAMME.R', 'random_state': 5785}. Best is trial 383 with value: 0.005420054200542005.\n",
            "[I 2023-10-04 22:04:24,374] Trial 615 finished with value: 0.0 and parameters: {'n_estimators': 98, 'learning_rate': 0.03512627891384671, 'algorithm': 'SAMME.R', 'random_state': 5666}. Best is trial 383 with value: 0.005420054200542005.\n",
            "[I 2023-10-04 22:04:40,033] Trial 616 finished with value: 0.0 and parameters: {'n_estimators': 100, 'learning_rate': 0.104833954731444, 'algorithm': 'SAMME.R', 'random_state': 5616}. Best is trial 383 with value: 0.005420054200542005.\n",
            "[I 2023-10-04 22:04:43,208] Trial 617 finished with value: 0.0 and parameters: {'n_estimators': 100, 'learning_rate': 0.2693321526115604, 'algorithm': 'SAMME.R', 'random_state': 6861}. Best is trial 383 with value: 0.005420054200542005.\n",
            "[I 2023-10-04 22:04:58,367] Trial 618 finished with value: 0.0 and parameters: {'n_estimators': 96, 'learning_rate': 0.26750190193481005, 'algorithm': 'SAMME.R', 'random_state': 6032}. Best is trial 383 with value: 0.005420054200542005.\n",
            "[I 2023-10-04 22:05:02,128] Trial 619 finished with value: 0.0 and parameters: {'n_estimators': 96, 'learning_rate': 0.37639034349358347, 'algorithm': 'SAMME', 'random_state': 6025}. Best is trial 383 with value: 0.005420054200542005.\n",
            "[I 2023-10-04 22:05:18,621] Trial 620 finished with value: 0.0 and parameters: {'n_estimators': 98, 'learning_rate': 0.01595182741931886, 'algorithm': 'SAMME.R', 'random_state': 5320}. Best is trial 383 with value: 0.005420054200542005.\n",
            "[I 2023-10-04 22:05:20,939] Trial 621 finished with value: 0.0 and parameters: {'n_estimators': 98, 'learning_rate': 0.08190456064033233, 'algorithm': 'SAMME.R', 'random_state': 5319}. Best is trial 383 with value: 0.005420054200542005.\n",
            "[I 2023-10-04 22:05:41,482] Trial 622 finished with value: 0.004689092762487258 and parameters: {'n_estimators': 94, 'learning_rate': 0.537855925656513, 'algorithm': 'SAMME.R', 'random_state': 5468}. Best is trial 383 with value: 0.005420054200542005.\n",
            "[I 2023-10-04 22:05:43,534] Trial 623 finished with value: 0.0 and parameters: {'n_estimators': 94, 'learning_rate': 0.0467073841922422, 'algorithm': 'SAMME.R', 'random_state': 6256}. Best is trial 383 with value: 0.005420054200542005.\n",
            "[I 2023-10-04 22:06:00,536] Trial 624 finished with value: 0.0 and parameters: {'n_estimators': 100, 'learning_rate': 3.2224584333566324, 'algorithm': 'SAMME.R', 'random_state': 5780}. Best is trial 383 with value: 0.005420054200542005.\n",
            "[I 2023-10-04 22:06:02,428] Trial 625 finished with value: 0.0 and parameters: {'n_estimators': 100, 'learning_rate': 0.03919878797575273, 'algorithm': 'SAMME.R', 'random_state': 5825}. Best is trial 383 with value: 0.005420054200542005.\n",
            "[I 2023-10-04 22:06:20,411] Trial 626 finished with value: 0.0 and parameters: {'n_estimators': 97, 'learning_rate': 0.03671519464706935, 'algorithm': 'SAMME.R', 'random_state': 6514}. Best is trial 383 with value: 0.005420054200542005.\n",
            "[I 2023-10-04 22:06:22,401] Trial 627 finished with value: 0.0 and parameters: {'n_estimators': 97, 'learning_rate': 0.42634710721333047, 'algorithm': 'SAMME.R', 'random_state': 5575}. Best is trial 383 with value: 0.005420054200542005.\n",
            "[I 2023-10-04 22:06:39,044] Trial 628 finished with value: 0.005302593659942363 and parameters: {'n_estimators': 96, 'learning_rate': 0.4344870119163559, 'algorithm': 'SAMME.R', 'random_state': 5635}. Best is trial 383 with value: 0.005420054200542005.\n",
            "[I 2023-10-04 22:06:40,635] Trial 629 finished with value: 0.0 and parameters: {'n_estimators': 96, 'learning_rate': 0.06867457378202166, 'algorithm': 'SAMME.R', 'random_state': 5989}. Best is trial 383 with value: 0.005420054200542005.\n",
            "[I 2023-10-04 22:06:44,933] Trial 630 finished with value: 0.0 and parameters: {'n_estimators': 31, 'learning_rate': 6.115868906026586, 'algorithm': 'SAMME.R', 'random_state': 5103}. Best is trial 383 with value: 0.005420054200542005.\n",
            "[I 2023-10-04 22:06:59,373] Trial 631 finished with value: 0.003983718714817701 and parameters: {'n_estimators': 94, 'learning_rate': 1.5914726086502484, 'algorithm': 'SAMME.R', 'random_state': 5116}. Best is trial 383 with value: 0.005420054200542005.\n",
            "[I 2023-10-04 22:07:04,169] Trial 632 finished with value: 0.0 and parameters: {'n_estimators': 94, 'learning_rate': 7.739554447071474, 'algorithm': 'SAMME.R', 'random_state': 5495}. Best is trial 383 with value: 0.005420054200542005.\n",
            "[I 2023-10-04 22:07:18,063] Trial 633 finished with value: 0.0 and parameters: {'n_estimators': 95, 'learning_rate': 0.328834390550736, 'algorithm': 'SAMME.R', 'random_state': 5456}. Best is trial 383 with value: 0.005420054200542005.\n",
            "[I 2023-10-04 22:07:22,526] Trial 634 finished with value: 0.0 and parameters: {'n_estimators': 96, 'learning_rate': 0.3495771298973119, 'algorithm': 'SAMME.R', 'random_state': 5256}. Best is trial 383 with value: 0.005420054200542005.\n",
            "[I 2023-10-04 22:07:36,495] Trial 635 finished with value: 0.004548600810837536 and parameters: {'n_estimators': 96, 'learning_rate': 1.0201223603415812, 'algorithm': 'SAMME.R', 'random_state': 5632}. Best is trial 383 with value: 0.005420054200542005.\n",
            "[I 2023-10-04 22:07:42,984] Trial 636 finished with value: 0.0035971223021582736 and parameters: {'n_estimators': 99, 'learning_rate': 1.915209912561937, 'algorithm': 'SAMME.R', 'random_state': 5652}. Best is trial 383 with value: 0.005420054200542005.\n",
            "[I 2023-10-04 22:07:57,001] Trial 637 finished with value: 0.005075582036853139 and parameters: {'n_estimators': 99, 'learning_rate': 0.4976781922993867, 'algorithm': 'SAMME.R', 'random_state': 6764}. Best is trial 383 with value: 0.005420054200542005.\n",
            "[I 2023-10-04 22:08:00,844] Trial 638 finished with value: 0.0 and parameters: {'n_estimators': 98, 'learning_rate': 0.021174141911354288, 'algorithm': 'SAMME', 'random_state': 6138}. Best is trial 383 with value: 0.005420054200542005.\n",
            "[I 2023-10-04 22:08:14,847] Trial 639 finished with value: 0.0 and parameters: {'n_estimators': 98, 'learning_rate': 0.6100943841922994, 'algorithm': 'SAMME', 'random_state': 6219}. Best is trial 383 with value: 0.005420054200542005.\n",
            "[I 2023-10-04 22:08:19,467] Trial 640 finished with value: 0.0 and parameters: {'n_estimators': 92, 'learning_rate': 6.662679433544181, 'algorithm': 'SAMME.R', 'random_state': 5874}. Best is trial 383 with value: 0.005420054200542005.\n",
            "[I 2023-10-04 22:08:34,163] Trial 641 finished with value: 0.0 and parameters: {'n_estimators': 92, 'learning_rate': 0.3773132030365939, 'algorithm': 'SAMME.R', 'random_state': 5952}. Best is trial 383 with value: 0.005420054200542005.\n",
            "[I 2023-10-04 22:08:34,518] Trial 642 finished with value: 0.0 and parameters: {'n_estimators': 72, 'learning_rate': 0.3958998736590786, 'algorithm': 'SAMME.R', 'random_state': 5308}. Best is trial 383 with value: 0.005420054200542005.\n",
            "[I 2023-10-04 22:08:52,285] Trial 643 finished with value: 0.005248146035367941 and parameters: {'n_estimators': 95, 'learning_rate': 0.43708419570778073, 'algorithm': 'SAMME.R', 'random_state': 5334}. Best is trial 383 with value: 0.005420054200542005.\n",
            "[I 2023-10-04 22:08:52,868] Trial 644 finished with value: 0.0051385165326184095 and parameters: {'n_estimators': 95, 'learning_rate': 0.4623414416425868, 'algorithm': 'SAMME.R', 'random_state': 4953}. Best is trial 383 with value: 0.005420054200542005.\n",
            "[I 2023-10-04 22:09:13,501] Trial 645 finished with value: 0.004815745393634841 and parameters: {'n_estimators': 93, 'learning_rate': 0.5299945097823697, 'algorithm': 'SAMME.R', 'random_state': 4822}. Best is trial 383 with value: 0.005420054200542005.\n",
            "[I 2023-10-04 22:09:13,539] Trial 646 finished with value: 0.004857957545675362 and parameters: {'n_estimators': 90, 'learning_rate': 0.5434678531646736, 'algorithm': 'SAMME.R', 'random_state': 4651}. Best is trial 383 with value: 0.005420054200542005.\n",
            "[I 2023-10-04 22:09:32,457] Trial 647 finished with value: 0.0 and parameters: {'n_estimators': 90, 'learning_rate': 0.3148452224442564, 'algorithm': 'SAMME.R', 'random_state': 5197}. Best is trial 383 with value: 0.005420054200542005.\n",
            "[I 2023-10-04 22:09:33,258] Trial 648 finished with value: 0.0 and parameters: {'n_estimators': 94, 'learning_rate': 0.32036053534884945, 'algorithm': 'SAMME.R', 'random_state': 5199}. Best is trial 383 with value: 0.005420054200542005.\n",
            "[I 2023-10-04 22:09:50,396] Trial 649 finished with value: 0.0 and parameters: {'n_estimators': 94, 'learning_rate': 0.4076651008210719, 'algorithm': 'SAMME.R', 'random_state': 5426}. Best is trial 383 with value: 0.005420054200542005.\n",
            "[I 2023-10-04 22:09:51,530] Trial 650 finished with value: 0.0 and parameters: {'n_estimators': 96, 'learning_rate': 4.359715722872222, 'algorithm': 'SAMME.R', 'random_state': 4952}. Best is trial 383 with value: 0.005420054200542005.\n",
            "[I 2023-10-04 22:10:10,797] Trial 651 finished with value: 0.004671947999187487 and parameters: {'n_estimators': 96, 'learning_rate': 0.6041922657329291, 'algorithm': 'SAMME.R', 'random_state': 4964}. Best is trial 383 with value: 0.005420054200542005.\n",
            "[I 2023-10-04 22:10:11,765] Trial 652 finished with value: 0.004677173360447382 and parameters: {'n_estimators': 96, 'learning_rate': 0.6075561096248273, 'algorithm': 'SAMME.R', 'random_state': 5386}. Best is trial 383 with value: 0.005420054200542005.\n",
            "[I 2023-10-04 22:10:29,683] Trial 653 finished with value: 0.0 and parameters: {'n_estimators': 100, 'learning_rate': 0.12088824633897213, 'algorithm': 'SAMME.R', 'random_state': 5416}. Best is trial 383 with value: 0.005420054200542005.\n",
            "[I 2023-10-04 22:10:30,823] Trial 654 finished with value: 0.004817762882279012 and parameters: {'n_estimators': 100, 'learning_rate': 0.4895253615974137, 'algorithm': 'SAMME.R', 'random_state': 5559}. Best is trial 383 with value: 0.005420054200542005.\n",
            "[I 2023-10-04 22:10:35,016] Trial 656 finished with value: 0.0 and parameters: {'n_estimators': 18, 'learning_rate': 0.38103414042860745, 'algorithm': 'SAMME.R', 'random_state': 5641}. Best is trial 383 with value: 0.005420054200542005.\n",
            "[I 2023-10-04 22:10:48,445] Trial 655 finished with value: 0.0 and parameters: {'n_estimators': 93, 'learning_rate': 0.05443962502121437, 'algorithm': 'SAMME.R', 'random_state': 5548}. Best is trial 383 with value: 0.005420054200542005.\n",
            "[I 2023-10-04 22:10:53,378] Trial 657 finished with value: 0.0 and parameters: {'n_estimators': 93, 'learning_rate': 0.013551706837596407, 'algorithm': 'SAMME.R', 'random_state': 6479}. Best is trial 383 with value: 0.005420054200542005.\n",
            "[I 2023-10-04 22:11:07,860] Trial 658 finished with value: 0.0 and parameters: {'n_estimators': 97, 'learning_rate': 0.19964816076341588, 'algorithm': 'SAMME.R', 'random_state': 2354}. Best is trial 383 with value: 0.005420054200542005.\n",
            "[I 2023-10-04 22:11:11,834] Trial 659 finished with value: 0.005228461013866788 and parameters: {'n_estimators': 97, 'learning_rate': 0.4403317400032788, 'algorithm': 'SAMME.R', 'random_state': 5825}. Best is trial 383 with value: 0.005420054200542005.\n",
            "[I 2023-10-04 22:11:26,556] Trial 660 finished with value: 0.005187774895680614 and parameters: {'n_estimators': 98, 'learning_rate': 0.4690237278268162, 'algorithm': 'SAMME.R', 'random_state': 5239}. Best is trial 383 with value: 0.005420054200542005.\n",
            "[I 2023-10-04 22:11:30,135] Trial 661 finished with value: 0.0049082373026035 and parameters: {'n_estimators': 87, 'learning_rate': 0.4930532598029722, 'algorithm': 'SAMME.R', 'random_state': 5252}. Best is trial 383 with value: 0.005420054200542005.\n",
            "[I 2023-10-04 22:11:46,111] Trial 662 finished with value: 0.004539623013914931 and parameters: {'n_estimators': 95, 'learning_rate': 0.6762188954628313, 'algorithm': 'SAMME.R', 'random_state': 6805}. Best is trial 383 with value: 0.005420054200542005.\n",
            "[I 2023-10-04 22:11:48,310] Trial 663 finished with value: 0.004741779198020823 and parameters: {'n_estimators': 95, 'learning_rate': 0.671447384039923, 'algorithm': 'SAMME.R', 'random_state': 6057}. Best is trial 383 with value: 0.005420054200542005.\n",
            "[I 2023-10-04 22:12:04,161] Trial 665 finished with value: 0.0 and parameters: {'n_estimators': 82, 'learning_rate': 0.3745502165398565, 'algorithm': 'SAMME.R', 'random_state': 6276}. Best is trial 383 with value: 0.005420054200542005.\n",
            "[I 2023-10-04 22:12:05,259] Trial 664 finished with value: 0.0 and parameters: {'n_estimators': 100, 'learning_rate': 0.36710874033890045, 'algorithm': 'SAMME.R', 'random_state': 1638}. Best is trial 383 with value: 0.005420054200542005.\n",
            "[I 2023-10-04 22:12:27,996] Trial 666 finished with value: 0.0 and parameters: {'n_estimators': 100, 'learning_rate': 0.011754681070929284, 'algorithm': 'SAMME.R', 'random_state': 5868}. Best is trial 383 with value: 0.005420054200542005.\n",
            "[I 2023-10-04 22:12:28,570] Trial 667 finished with value: 0.0 and parameters: {'n_estimators': 98, 'learning_rate': 2.5020234130910586, 'algorithm': 'SAMME.R', 'random_state': 5763}. Best is trial 383 with value: 0.005420054200542005.\n",
            "[I 2023-10-04 22:12:47,327] Trial 668 finished with value: 0.0 and parameters: {'n_estimators': 98, 'learning_rate': 0.1811238124523228, 'algorithm': 'SAMME.R', 'random_state': 5717}. Best is trial 383 with value: 0.005420054200542005.\n",
            "[I 2023-10-04 22:12:47,417] Trial 669 finished with value: 0.0 and parameters: {'n_estimators': 97, 'learning_rate': 0.4229804312644326, 'algorithm': 'SAMME.R', 'random_state': 5473}. Best is trial 383 with value: 0.005420054200542005.\n",
            "[I 2023-10-04 22:13:05,884] Trial 670 finished with value: 0.0 and parameters: {'n_estimators': 92, 'learning_rate': 0.42386979797170776, 'algorithm': 'SAMME.R', 'random_state': 6610}. Best is trial 383 with value: 0.005420054200542005.\n",
            "[I 2023-10-04 22:13:06,524] Trial 671 finished with value: 0.0 and parameters: {'n_estimators': 95, 'learning_rate': 2.127059795592676, 'algorithm': 'SAMME.R', 'random_state': 781}. Best is trial 383 with value: 0.005420054200542005.\n",
            "[I 2023-10-04 22:13:24,059] Trial 672 finished with value: 0.0 and parameters: {'n_estimators': 95, 'learning_rate': 0.2909694600917898, 'algorithm': 'SAMME.R', 'random_state': 5159}. Best is trial 383 with value: 0.005420054200542005.\n",
            "[I 2023-10-04 22:13:25,345] Trial 673 finished with value: 0.004779717373233583 and parameters: {'n_estimators': 99, 'learning_rate': 0.5556278802172193, 'algorithm': 'SAMME.R', 'random_state': 6955}. Best is trial 383 with value: 0.005420054200542005.\n",
            "[I 2023-10-04 22:13:44,305] Trial 674 finished with value: 0.004961708553554094 and parameters: {'n_estimators': 99, 'learning_rate': 0.550615701189971, 'algorithm': 'SAMME.R', 'random_state': 6044}. Best is trial 383 with value: 0.005420054200542005.\n",
            "[I 2023-10-04 22:13:45,447] Trial 675 finished with value: 0.003676176776152801 and parameters: {'n_estimators': 97, 'learning_rate': 1.467800351684784, 'algorithm': 'SAMME.R', 'random_state': 6046}. Best is trial 383 with value: 0.005420054200542005.\n",
            "[I 2023-10-04 22:14:01,923] Trial 676 finished with value: 0.0 and parameters: {'n_estimators': 97, 'learning_rate': 0.4979260530959284, 'algorithm': 'SAMME', 'random_state': 5521}. Best is trial 383 with value: 0.005420054200542005.\n",
            "[I 2023-10-04 22:14:04,331] Trial 677 finished with value: 0.005145413870246085 and parameters: {'n_estimators': 100, 'learning_rate': 0.4861375543008717, 'algorithm': 'SAMME.R', 'random_state': 5564}. Best is trial 383 with value: 0.005420054200542005.\n",
            "[I 2023-10-04 22:14:20,417] Trial 678 finished with value: 0.0 and parameters: {'n_estimators': 93, 'learning_rate': 0.015452122143475768, 'algorithm': 'SAMME.R', 'random_state': 5034}. Best is trial 383 with value: 0.005420054200542005.\n",
            "[I 2023-10-04 22:14:23,664] Trial 679 finished with value: 0.004718432659759976 and parameters: {'n_estimators': 93, 'learning_rate': 0.8915164819306398, 'algorithm': 'SAMME.R', 'random_state': 5009}. Best is trial 383 with value: 0.005420054200542005.\n",
            "[I 2023-10-04 22:14:35,872] Trial 681 finished with value: 0.0 and parameters: {'n_estimators': 60, 'learning_rate': 0.3456580798481561, 'algorithm': 'SAMME.R', 'random_state': 6281}. Best is trial 383 with value: 0.005420054200542005.\n",
            "[I 2023-10-04 22:14:39,576] Trial 680 finished with value: 0.0 and parameters: {'n_estimators': 96, 'learning_rate': 8.90423102363218, 'algorithm': 'SAMME.R', 'random_state': 6310}. Best is trial 383 with value: 0.005420054200542005.\n",
            "[I 2023-10-04 22:14:54,329] Trial 682 finished with value: 0.0 and parameters: {'n_estimators': 96, 'learning_rate': 0.4154920098563418, 'algorithm': 'SAMME.R', 'random_state': 5328}. Best is trial 383 with value: 0.005420054200542005.\n",
            "[I 2023-10-04 22:14:58,254] Trial 683 finished with value: 0.0 and parameters: {'n_estimators': 98, 'learning_rate': 0.407152735757418, 'algorithm': 'SAMME.R', 'random_state': 27}. Best is trial 383 with value: 0.005420054200542005.\n",
            "[I 2023-10-04 22:15:13,562] Trial 684 finished with value: 0.0 and parameters: {'n_estimators': 98, 'learning_rate': 0.15188902605976753, 'algorithm': 'SAMME.R', 'random_state': 5836}. Best is trial 383 with value: 0.005420054200542005.\n",
            "[I 2023-10-04 22:15:20,387] Trial 685 finished with value: 0.0 and parameters: {'n_estimators': 100, 'learning_rate': 0.04374363069247093, 'algorithm': 'SAMME.R', 'random_state': 5890}. Best is trial 383 with value: 0.005420054200542005.\n",
            "[I 2023-10-04 22:15:36,825] Trial 686 finished with value: 0.0 and parameters: {'n_estimators': 100, 'learning_rate': 0.2988476674248262, 'algorithm': 'SAMME.R', 'random_state': 5633}. Best is trial 383 with value: 0.005420054200542005.\n",
            "[I 2023-10-04 22:15:39,856] Trial 687 finished with value: 0.0 and parameters: {'n_estimators': 91, 'learning_rate': 0.2578166998417512, 'algorithm': 'SAMME.R', 'random_state': 5644}. Best is trial 383 with value: 0.005420054200542005.\n",
            "[I 2023-10-04 22:15:56,054] Trial 688 finished with value: 0.0 and parameters: {'n_estimators': 91, 'learning_rate': 0.022777145468072826, 'algorithm': 'SAMME.R', 'random_state': 5367}. Best is trial 383 with value: 0.005420054200542005.\n",
            "[I 2023-10-04 22:15:59,019] Trial 689 finished with value: 0.0 and parameters: {'n_estimators': 95, 'learning_rate': 0.12526766643300521, 'algorithm': 'SAMME.R', 'random_state': 5377}. Best is trial 383 with value: 0.005420054200542005.\n",
            "[I 2023-10-04 22:16:14,252] Trial 690 finished with value: 0.0 and parameters: {'n_estimators': 95, 'learning_rate': 0.08050066246400538, 'algorithm': 'SAMME.R', 'random_state': 7118}. Best is trial 383 with value: 0.005420054200542005.\n",
            "[I 2023-10-04 22:16:17,674] Trial 691 finished with value: 0.0 and parameters: {'n_estimators': 98, 'learning_rate': 0.3460187329410101, 'algorithm': 'SAMME.R', 'random_state': 7158}. Best is trial 383 with value: 0.005420054200542005.\n",
            "[I 2023-10-04 22:16:26,276] Trial 693 finished with value: 0.0 and parameters: {'n_estimators': 40, 'learning_rate': 0.5696467147074386, 'algorithm': 'SAMME.R', 'random_state': 5923}. Best is trial 383 with value: 0.005420054200542005.\n",
            "[I 2023-10-04 22:16:33,318] Trial 692 finished with value: 0.00495582848524025 and parameters: {'n_estimators': 98, 'learning_rate': 0.5746459384812119, 'algorithm': 'SAMME.R', 'random_state': 5934}. Best is trial 383 with value: 0.005420054200542005.\n",
            "[I 2023-10-04 22:16:44,753] Trial 694 finished with value: 0.005174935313308583 and parameters: {'n_estimators': 97, 'learning_rate': 0.4624343098913961, 'algorithm': 'SAMME.R', 'random_state': 6136}. Best is trial 383 with value: 0.005420054200542005.\n",
            "[I 2023-10-04 22:16:51,463] Trial 695 finished with value: 0.0 and parameters: {'n_estimators': 94, 'learning_rate': 0.46432411832795656, 'algorithm': 'SAMME', 'random_state': 8910}. Best is trial 383 with value: 0.005420054200542005.\n",
            "[I 2023-10-04 22:17:03,277] Trial 696 finished with value: 0.0 and parameters: {'n_estimators': 94, 'learning_rate': 0.3674093844161477, 'algorithm': 'SAMME', 'random_state': 6438}. Best is trial 383 with value: 0.005420054200542005.\n",
            "[I 2023-10-04 22:17:10,533] Trial 697 finished with value: 0.0 and parameters: {'n_estimators': 100, 'learning_rate': 0.018413868847574053, 'algorithm': 'SAMME.R', 'random_state': 5703}. Best is trial 383 with value: 0.005420054200542005.\n",
            "[I 2023-10-04 22:17:22,346] Trial 698 finished with value: 0.0 and parameters: {'n_estimators': 100, 'learning_rate': 0.41676023583327565, 'algorithm': 'SAMME.R', 'random_state': 4683}. Best is trial 383 with value: 0.005420054200542005.\n",
            "[I 2023-10-04 22:17:30,527] Trial 699 finished with value: 0.0 and parameters: {'n_estimators': 96, 'learning_rate': 0.4135305052047057, 'algorithm': 'SAMME.R', 'random_state': 5466}. Best is trial 383 with value: 0.005420054200542005.\n",
            "[I 2023-10-04 22:17:42,085] Trial 700 finished with value: 0.004789670970428988 and parameters: {'n_estimators': 96, 'learning_rate': 1.0983761724179706, 'algorithm': 'SAMME.R', 'random_state': 1103}. Best is trial 383 with value: 0.005420054200542005.\n",
            "[I 2023-10-04 22:17:49,233] Trial 701 finished with value: 0.0 and parameters: {'n_estimators': 98, 'learning_rate': 0.023337577971681924, 'algorithm': 'SAMME.R', 'random_state': 6639}. Best is trial 383 with value: 0.005420054200542005.\n",
            "[I 2023-10-04 22:18:00,882] Trial 702 finished with value: 0.004981050351922036 and parameters: {'n_estimators': 98, 'learning_rate': 0.5219167900033598, 'algorithm': 'SAMME.R', 'random_state': 6689}. Best is trial 383 with value: 0.005420054200542005.\n",
            "[I 2023-10-04 22:18:09,312] Trial 703 finished with value: 0.0 and parameters: {'n_estimators': 98, 'learning_rate': 7.208208968212317, 'algorithm': 'SAMME.R', 'random_state': 5234}. Best is trial 383 with value: 0.005420054200542005.\n",
            "[I 2023-10-04 22:18:22,072] Trial 704 finished with value: 0.004627301076350468 and parameters: {'n_estimators': 100, 'learning_rate': 0.6741074454528242, 'algorithm': 'SAMME.R', 'random_state': 5189}. Best is trial 383 with value: 0.005420054200542005.\n",
            "[I 2023-10-04 22:18:29,777] Trial 705 finished with value: 0.004762397763743658 and parameters: {'n_estimators': 100, 'learning_rate': 0.675544999348197, 'algorithm': 'SAMME.R', 'random_state': 5760}. Best is trial 383 with value: 0.005420054200542005.\n",
            "[I 2023-10-04 22:18:42,934] Trial 706 finished with value: 0.0 and parameters: {'n_estimators': 94, 'learning_rate': 0.32020322085222697, 'algorithm': 'SAMME.R', 'random_state': 5737}. Best is trial 383 with value: 0.005420054200542005.\n",
            "[I 2023-10-04 22:18:50,576] Trial 707 finished with value: 0.004502740798747063 and parameters: {'n_estimators': 93, 'learning_rate': 0.8071077878046323, 'algorithm': 'SAMME.R', 'random_state': 410}. Best is trial 383 with value: 0.005420054200542005.\n",
            "[I 2023-10-04 22:19:00,059] Trial 708 finished with value: 0.0 and parameters: {'n_estimators': 89, 'learning_rate': 9.906811684916878, 'algorithm': 'SAMME.R', 'random_state': 1919}. Best is trial 383 with value: 0.005420054200542005.\n",
            "[I 2023-10-04 22:19:09,002] Trial 709 finished with value: 0.0 and parameters: {'n_estimators': 96, 'learning_rate': 0.029271521928419336, 'algorithm': 'SAMME.R', 'random_state': 9416}. Best is trial 383 with value: 0.005420054200542005.\n",
            "[I 2023-10-04 22:19:12,994] Trial 710 finished with value: 0.0 and parameters: {'n_estimators': 64, 'learning_rate': 0.05779973020899031, 'algorithm': 'SAMME.R', 'random_state': 5446}. Best is trial 383 with value: 0.005420054200542005.\n",
            "[I 2023-10-04 22:19:27,589] Trial 711 finished with value: 0.0 and parameters: {'n_estimators': 97, 'learning_rate': 2.3635659291674886, 'algorithm': 'SAMME.R', 'random_state': 5560}. Best is trial 383 with value: 0.005420054200542005.\n",
            "[I 2023-10-04 22:19:32,911] Trial 712 finished with value: 0.0 and parameters: {'n_estimators': 97, 'learning_rate': 0.20950224014572313, 'algorithm': 'SAMME.R', 'random_state': 6172}. Best is trial 383 with value: 0.005420054200542005.\n",
            "[I 2023-10-04 22:19:47,599] Trial 713 finished with value: 0.004975124378109453 and parameters: {'n_estimators': 96, 'learning_rate': 0.49658900402996875, 'algorithm': 'SAMME.R', 'random_state': 5985}. Best is trial 383 with value: 0.005420054200542005.\n",
            "[I 2023-10-04 22:19:50,946] Trial 714 finished with value: 0.0 and parameters: {'n_estimators': 95, 'learning_rate': 0.07218464068616116, 'algorithm': 'SAMME.R', 'random_state': 5953}. Best is trial 383 with value: 0.005420054200542005.\n",
            "[I 2023-10-04 22:20:06,406] Trial 715 finished with value: 0.0 and parameters: {'n_estimators': 99, 'learning_rate': 0.016569840438215966, 'algorithm': 'SAMME.R', 'random_state': 6916}. Best is trial 383 with value: 0.005420054200542005.\n",
            "[I 2023-10-04 22:20:11,509] Trial 716 finished with value: 0.0 and parameters: {'n_estimators': 99, 'learning_rate': 0.3783068612911805, 'algorithm': 'SAMME.R', 'random_state': 6877}. Best is trial 383 with value: 0.005420054200542005.\n",
            "[I 2023-10-04 22:20:26,525] Trial 717 finished with value: 0.0 and parameters: {'n_estimators': 98, 'learning_rate': 0.35858215305044006, 'algorithm': 'SAMME.R', 'random_state': 4911}. Best is trial 383 with value: 0.005420054200542005.\n",
            "[I 2023-10-04 22:20:29,118] Trial 718 finished with value: 0.0 and parameters: {'n_estimators': 92, 'learning_rate': 0.44684791909210236, 'algorithm': 'SAMME.R', 'random_state': 2594}. Best is trial 383 with value: 0.005420054200542005.\n",
            "[I 2023-10-04 22:20:36,330] Trial 719 finished with value: 0.0 and parameters: {'n_estimators': 49, 'learning_rate': 0.04943966597151316, 'algorithm': 'SAMME.R', 'random_state': 5678}. Best is trial 383 with value: 0.005420054200542005.\n",
            "[I 2023-10-04 22:20:48,828] Trial 720 finished with value: 0.004843634832052227 and parameters: {'n_estimators': 100, 'learning_rate': 0.5397248964137279, 'algorithm': 'SAMME.R', 'random_state': 5612}. Best is trial 383 with value: 0.005420054200542005.\n",
            "[I 2023-10-04 22:20:55,705] Trial 721 finished with value: 0.0 and parameters: {'n_estimators': 100, 'learning_rate': 8.449247808136189, 'algorithm': 'SAMME.R', 'random_state': 5270}. Best is trial 383 with value: 0.005420054200542005.\n",
            "[I 2023-10-04 22:21:00,441] Trial 723 finished with value: 0.0 and parameters: {'n_estimators': 26, 'learning_rate': 0.5997014539854175, 'algorithm': 'SAMME.R', 'random_state': 5075}. Best is trial 383 with value: 0.005420054200542005.\n",
            "[I 2023-10-04 22:21:08,028] Trial 722 finished with value: 0.0 and parameters: {'n_estimators': 95, 'learning_rate': 0.02597161572837913, 'algorithm': 'SAMME.R', 'random_state': 5093}. Best is trial 383 with value: 0.005420054200542005.\n",
            "[I 2023-10-04 22:21:21,614] Trial 724 finished with value: 0.005087932750801902 and parameters: {'n_estimators': 95, 'learning_rate': 0.46131372932282516, 'algorithm': 'SAMME.R', 'random_state': 6178}. Best is trial 383 with value: 0.005420054200542005.\n",
            "[I 2023-10-04 22:21:28,963] Trial 725 finished with value: 0.005253540429419826 and parameters: {'n_estimators': 97, 'learning_rate': 0.47833170716093715, 'algorithm': 'SAMME.R', 'random_state': 6131}. Best is trial 383 with value: 0.005420054200542005.\n",
            "[I 2023-10-04 22:21:31,300] Trial 726 finished with value: 0.0 and parameters: {'n_estimators': 44, 'learning_rate': 0.24784155669559255, 'algorithm': 'SAMME.R', 'random_state': 5430}. Best is trial 383 with value: 0.005420054200542005.\n",
            "[I 2023-10-04 22:21:50,139] Trial 727 finished with value: 0.0 and parameters: {'n_estimators': 97, 'learning_rate': 0.15415651425469967, 'algorithm': 'SAMME.R', 'random_state': 6453}. Best is trial 383 with value: 0.005420054200542005.\n",
            "[I 2023-10-04 22:21:50,806] Trial 728 finished with value: 0.004852832577276084 and parameters: {'n_estimators': 93, 'learning_rate': 0.5318854364447235, 'algorithm': 'SAMME.R', 'random_state': 6445}. Best is trial 383 with value: 0.005420054200542005.\n",
            "[I 2023-10-04 22:22:07,917] Trial 729 finished with value: 0.0048162496073709555 and parameters: {'n_estimators': 92, 'learning_rate': 0.5218222798367277, 'algorithm': 'SAMME.R', 'random_state': 5816}. Best is trial 383 with value: 0.005420054200542005.\n",
            "[I 2023-10-04 22:22:09,941] Trial 730 finished with value: 0.004778227900695959 and parameters: {'n_estimators': 97, 'learning_rate': 0.491243294039985, 'algorithm': 'SAMME.R', 'random_state': 5731}. Best is trial 383 with value: 0.005420054200542005.\n",
            "[I 2023-10-04 22:22:27,951] Trial 731 finished with value: 0.0 and parameters: {'n_estimators': 97, 'learning_rate': 0.4116307579239539, 'algorithm': 'SAMME.R', 'random_state': 5516}. Best is trial 383 with value: 0.005420054200542005.\n",
            "[I 2023-10-04 22:22:28,882] Trial 732 finished with value: 0.0 and parameters: {'n_estimators': 94, 'learning_rate': 0.39697964755445125, 'algorithm': 'SAMME.R', 'random_state': 4428}. Best is trial 383 with value: 0.005420054200542005.\n",
            "[I 2023-10-04 22:22:45,001] Trial 733 finished with value: 0.0 and parameters: {'n_estimators': 94, 'learning_rate': 0.7376117353050651, 'algorithm': 'SAMME', 'random_state': 5337}. Best is trial 383 with value: 0.005420054200542005.\n",
            "[I 2023-10-04 22:22:46,332] Trial 734 finished with value: 0.0 and parameters: {'n_estimators': 96, 'learning_rate': 0.6221324851598181, 'algorithm': 'SAMME', 'random_state': 5306}. Best is trial 383 with value: 0.005420054200542005.\n",
            "[I 2023-10-04 22:23:04,721] Trial 735 finished with value: 0.0 and parameters: {'n_estimators': 98, 'learning_rate': 0.3192903448728075, 'algorithm': 'SAMME.R', 'random_state': 6007}. Best is trial 383 with value: 0.005420054200542005.\n",
            "[I 2023-10-04 22:23:07,049] Trial 736 finished with value: 0.0 and parameters: {'n_estimators': 99, 'learning_rate': 0.30238354577093546, 'algorithm': 'SAMME.R', 'random_state': 6067}. Best is trial 383 with value: 0.005420054200542005.\n",
            "[I 2023-10-04 22:23:23,798] Trial 737 finished with value: 0.005131637661758144 and parameters: {'n_estimators': 99, 'learning_rate': 0.45398879697735106, 'algorithm': 'SAMME.R', 'random_state': 4835}. Best is trial 383 with value: 0.005420054200542005.\n",
            "[I 2023-10-04 22:23:25,463] Trial 738 finished with value: 0.0052142371344366355 and parameters: {'n_estimators': 96, 'learning_rate': 0.4329543932167651, 'algorithm': 'SAMME.R', 'random_state': 4885}. Best is trial 383 with value: 0.005420054200542005.\n",
            "[I 2023-10-04 22:23:42,624] Trial 739 finished with value: 0.004688136975132491 and parameters: {'n_estimators': 96, 'learning_rate': 1.2168769949597946, 'algorithm': 'SAMME.R', 'random_state': 5785}. Best is trial 383 with value: 0.005420054200542005.\n",
            "[I 2023-10-04 22:23:45,903] Trial 740 finished with value: 0.004833963850357293 and parameters: {'n_estimators': 100, 'learning_rate': 0.5923305446377388, 'algorithm': 'SAMME.R', 'random_state': 2874}. Best is trial 383 with value: 0.005420054200542005.\n",
            "[I 2023-10-04 22:24:02,884] Trial 741 finished with value: 0.0 and parameters: {'n_estimators': 100, 'learning_rate': 0.36062150799142384, 'algorithm': 'SAMME.R', 'random_state': 6272}. Best is trial 383 with value: 0.005420054200542005.\n",
            "[I 2023-10-04 22:24:04,526] Trial 742 finished with value: 0.0 and parameters: {'n_estimators': 98, 'learning_rate': 0.012642586617460637, 'algorithm': 'SAMME.R', 'random_state': 5587}. Best is trial 383 with value: 0.005420054200542005.\n",
            "[I 2023-10-04 22:24:24,748] Trial 743 finished with value: 0.004904574048406014 and parameters: {'n_estimators': 98, 'learning_rate': 0.5046404795003684, 'algorithm': 'SAMME.R', 'random_state': 7273}. Best is trial 383 with value: 0.005420054200542005.\n",
            "[I 2023-10-04 22:24:25,050] Trial 744 finished with value: 0.004784191367654706 and parameters: {'n_estimators': 91, 'learning_rate': 0.5081429283304886, 'algorithm': 'SAMME.R', 'random_state': 5546}. Best is trial 383 with value: 0.005420054200542005.\n",
            "[I 2023-10-04 22:24:42,115] Trial 745 finished with value: 0.0 and parameters: {'n_estimators': 91, 'learning_rate': 4.826811835698877, 'algorithm': 'SAMME.R', 'random_state': 5847}. Best is trial 383 with value: 0.005420054200542005.\n",
            "[I 2023-10-04 22:24:43,032] Trial 746 finished with value: 0.0 and parameters: {'n_estimators': 94, 'learning_rate': 0.3867190694876794, 'algorithm': 'SAMME.R', 'random_state': 5896}. Best is trial 383 with value: 0.005420054200542005.\n",
            "[I 2023-10-04 22:25:01,754] Trial 747 finished with value: 0.0 and parameters: {'n_estimators': 94, 'learning_rate': 0.3774822396477161, 'algorithm': 'SAMME.R', 'random_state': 5148}. Best is trial 383 with value: 0.005420054200542005.\n",
            "[I 2023-10-04 22:25:02,962] Trial 748 finished with value: 0.004742756985256212 and parameters: {'n_estimators': 96, 'learning_rate': 0.6039491880588651, 'algorithm': 'SAMME.R', 'random_state': 5163}. Best is trial 383 with value: 0.005420054200542005.\n",
            "[I 2023-10-04 22:25:21,672] Trial 749 finished with value: 0.004668155063933428 and parameters: {'n_estimators': 96, 'learning_rate': 0.6056115178416226, 'algorithm': 'SAMME.R', 'random_state': 5451}. Best is trial 383 with value: 0.005420054200542005.\n",
            "[I 2023-10-04 22:25:23,259] Trial 750 finished with value: 0.005284926470588236 and parameters: {'n_estimators': 98, 'learning_rate': 0.4353771988114109, 'algorithm': 'SAMME.R', 'random_state': 5422}. Best is trial 383 with value: 0.005420054200542005.\n",
            "[I 2023-10-04 22:25:40,411] Trial 751 finished with value: 0.005288572085536905 and parameters: {'n_estimators': 98, 'learning_rate': 0.44025993831548027, 'algorithm': 'SAMME.R', 'random_state': 6245}. Best is trial 383 with value: 0.005420054200542005.\n",
            "[I 2023-10-04 22:25:41,052] Trial 752 finished with value: 0.0 and parameters: {'n_estimators': 93, 'learning_rate': 0.47810401655590123, 'algorithm': 'SAMME.R', 'random_state': 5307}. Best is trial 383 with value: 0.005420054200542005.\n",
            "[I 2023-10-04 22:26:00,566] Trial 753 finished with value: 0.0 and parameters: {'n_estimators': 98, 'learning_rate': 0.2793152736911696, 'algorithm': 'SAMME.R', 'random_state': 5335}. Best is trial 383 with value: 0.005420054200542005.\n",
            "[I 2023-10-04 22:26:01,321] Trial 754 finished with value: 0.0 and parameters: {'n_estimators': 98, 'learning_rate': 6.386821035542462, 'algorithm': 'SAMME.R', 'random_state': 4993}. Best is trial 383 with value: 0.005420054200542005.\n",
            "[I 2023-10-04 22:26:19,583] Trial 755 finished with value: 0.0 and parameters: {'n_estimators': 100, 'learning_rate': 0.3351742070050378, 'algorithm': 'SAMME.R', 'random_state': 5042}. Best is trial 383 with value: 0.005420054200542005.\n",
            "[I 2023-10-04 22:26:20,308] Trial 756 finished with value: 0.0011835842017239161 and parameters: {'n_estimators': 100, 'learning_rate': 3.4427877683185404, 'algorithm': 'SAMME.R', 'random_state': 7506}. Best is trial 383 with value: 0.005420054200542005.\n",
            "[I 2023-10-04 22:26:39,166] Trial 757 finished with value: 0.0044834307992202725 and parameters: {'n_estimators': 97, 'learning_rate': 0.8496087616537298, 'algorithm': 'SAMME.R', 'random_state': 5508}. Best is trial 383 with value: 0.005420054200542005.\n",
            "[I 2023-10-04 22:26:40,434] Trial 758 finished with value: 0.0 and parameters: {'n_estimators': 98, 'learning_rate': 0.08996214123705469, 'algorithm': 'SAMME.R', 'random_state': 5513}. Best is trial 383 with value: 0.005420054200542005.\n",
            "[I 2023-10-04 22:26:58,109] Trial 759 finished with value: 0.0 and parameters: {'n_estimators': 97, 'learning_rate': 0.42142110286027723, 'algorithm': 'SAMME.R', 'random_state': 4664}. Best is trial 383 with value: 0.005420054200542005.\n",
            "[I 2023-10-04 22:26:58,824] Trial 760 finished with value: 0.0 and parameters: {'n_estimators': 96, 'learning_rate': 3.7357018826428825, 'algorithm': 'SAMME.R', 'random_state': 4709}. Best is trial 383 with value: 0.005420054200542005.\n",
            "[I 2023-10-04 22:27:19,355] Trial 761 finished with value: 0.0 and parameters: {'n_estimators': 100, 'learning_rate': 0.22829181150587066, 'algorithm': 'SAMME.R', 'random_state': 5733}. Best is trial 383 with value: 0.005420054200542005.\n",
            "[I 2023-10-04 22:27:21,014] Trial 762 finished with value: 0.0049515608180839615 and parameters: {'n_estimators': 100, 'learning_rate': 0.5353685523403342, 'algorithm': 'SAMME.R', 'random_state': 5788}. Best is trial 383 with value: 0.005420054200542005.\n",
            "[I 2023-10-04 22:27:38,717] Trial 763 finished with value: 0.0 and parameters: {'n_estimators': 98, 'learning_rate': 0.10146037944374446, 'algorithm': 'SAMME.R', 'random_state': 5246}. Best is trial 383 with value: 0.005420054200542005.\n",
            "[I 2023-10-04 22:27:39,763] Trial 764 finished with value: 0.004279467857475114 and parameters: {'n_estimators': 98, 'learning_rate': 0.6984210400769476, 'algorithm': 'SAMME.R', 'random_state': 1529}. Best is trial 383 with value: 0.005420054200542005.\n",
            "[I 2023-10-04 22:27:59,506] Trial 765 finished with value: 0.0 and parameters: {'n_estimators': 95, 'learning_rate': 0.34498836937307165, 'algorithm': 'SAMME.R', 'random_state': 6107}. Best is trial 383 with value: 0.005420054200542005.\n",
            "[I 2023-10-04 22:28:01,187] Trial 766 finished with value: 0.0 and parameters: {'n_estimators': 96, 'learning_rate': 0.3567873336317919, 'algorithm': 'SAMME.R', 'random_state': 6158}. Best is trial 383 with value: 0.005420054200542005.\n",
            "[I 2023-10-04 22:28:18,330] Trial 767 finished with value: 0.0032640317888313346 and parameters: {'n_estimators': 96, 'learning_rate': 1.8731717906875307, 'algorithm': 'SAMME.R', 'random_state': 5617}. Best is trial 383 with value: 0.005420054200542005.\n",
            "[I 2023-10-04 22:28:19,920] Trial 768 finished with value: 0.005228461013866788 and parameters: {'n_estimators': 98, 'learning_rate': 0.4579582464219521, 'algorithm': 'SAMME.R', 'random_state': 5443}. Best is trial 383 with value: 0.005420054200542005.\n",
            "[I 2023-10-04 22:28:37,028] Trial 769 finished with value: 0.0 and parameters: {'n_estimators': 98, 'learning_rate': 0.44389277492877627, 'algorithm': 'SAMME.R', 'random_state': 5409}. Best is trial 383 with value: 0.005420054200542005.\n",
            "[I 2023-10-04 22:28:40,589] Trial 770 finished with value: 0.0 and parameters: {'n_estimators': 100, 'learning_rate': 0.037241263747427825, 'algorithm': 'SAMME.R', 'random_state': 5928}. Best is trial 383 with value: 0.005420054200542005.\n",
            "[I 2023-10-04 22:28:57,467] Trial 771 finished with value: 0.005231434095303082 and parameters: {'n_estimators': 100, 'learning_rate': 0.5466816476597542, 'algorithm': 'SAMME.R', 'random_state': 6796}. Best is trial 383 with value: 0.005420054200542005.\n",
            "[I 2023-10-04 22:28:58,037] Trial 772 finished with value: 0.0 and parameters: {'n_estimators': 95, 'learning_rate': 0.01993807471620196, 'algorithm': 'SAMME', 'random_state': 6734}. Best is trial 383 with value: 0.005420054200542005.\n",
            "[I 2023-10-04 22:29:14,531] Trial 773 finished with value: 0.0 and parameters: {'n_estimators': 95, 'learning_rate': 0.406628340815221, 'algorithm': 'SAMME', 'random_state': 7029}. Best is trial 383 with value: 0.005420054200542005.\n",
            "[I 2023-10-04 22:29:16,756] Trial 774 finished with value: 0.0 and parameters: {'n_estimators': 97, 'learning_rate': 0.03324503145508219, 'algorithm': 'SAMME.R', 'random_state': 5640}. Best is trial 383 with value: 0.005420054200542005.\n",
            "[I 2023-10-04 22:29:28,489] Trial 776 finished with value: 0.0 and parameters: {'n_estimators': 58, 'learning_rate': 0.2988877318325424, 'algorithm': 'SAMME.R', 'random_state': 5945}. Best is trial 383 with value: 0.005420054200542005.\n",
            "[I 2023-10-04 22:29:34,803] Trial 775 finished with value: 0.0 and parameters: {'n_estimators': 97, 'learning_rate': 0.29094379861476555, 'algorithm': 'SAMME.R', 'random_state': 5712}. Best is trial 383 with value: 0.005420054200542005.\n",
            "[I 2023-10-04 22:29:48,711] Trial 777 finished with value: 0.005034475210681843 and parameters: {'n_estimators': 98, 'learning_rate': 0.4971059084340404, 'algorithm': 'SAMME.R', 'random_state': 5172}. Best is trial 383 with value: 0.005420054200542005.\n",
            "[I 2023-10-04 22:29:49,962] Trial 778 finished with value: 0.004744224422442244 and parameters: {'n_estimators': 77, 'learning_rate': 0.4920188758166749, 'algorithm': 'SAMME.R', 'random_state': 5158}. Best is trial 383 with value: 0.005420054200542005.\n",
            "[I 2023-10-04 22:30:06,711] Trial 779 finished with value: 0.0 and parameters: {'n_estimators': 93, 'learning_rate': 0.3887921350148042, 'algorithm': 'SAMME.R', 'random_state': 5319}. Best is trial 383 with value: 0.005420054200542005.\n",
            "[I 2023-10-04 22:30:08,024] Trial 780 finished with value: 0.004823825503355705 and parameters: {'n_estimators': 94, 'learning_rate': 0.6423483671156353, 'algorithm': 'SAMME.R', 'random_state': 6501}. Best is trial 383 with value: 0.005420054200542005.\n",
            "[I 2023-10-04 22:30:28,219] Trial 781 finished with value: 0.004802672791814575 and parameters: {'n_estimators': 100, 'learning_rate': 0.6405283024164684, 'algorithm': 'SAMME.R', 'random_state': 5850}. Best is trial 383 with value: 0.005420054200542005.\n",
            "[I 2023-10-04 22:30:30,213] Trial 782 finished with value: 0.0044141637078975145 and parameters: {'n_estimators': 99, 'learning_rate': 1.0730313415532786, 'algorithm': 'SAMME.R', 'random_state': 5824}. Best is trial 383 with value: 0.005420054200542005.\n",
            "[I 2023-10-04 22:30:47,627] Trial 783 finished with value: 0.005247547342003194 and parameters: {'n_estimators': 98, 'learning_rate': 0.547300260390692, 'algorithm': 'SAMME.R', 'random_state': 6273}. Best is trial 383 with value: 0.005420054200542005.\n",
            "[I 2023-10-04 22:30:48,580] Trial 784 finished with value: 0.004997827031725337 and parameters: {'n_estimators': 96, 'learning_rate': 0.5616786791282161, 'algorithm': 'SAMME.R', 'random_state': 7240}. Best is trial 383 with value: 0.005420054200542005.\n",
            "[I 2023-10-04 22:31:04,951] Trial 786 finished with value: 0.0 and parameters: {'n_estimators': 84, 'learning_rate': 0.4006552754663949, 'algorithm': 'SAMME.R', 'random_state': 5544}. Best is trial 383 with value: 0.005420054200542005.\n",
            "[I 2023-10-04 22:31:05,822] Trial 785 finished with value: 0.0 and parameters: {'n_estimators': 96, 'learning_rate': 2.708380037554904, 'algorithm': 'SAMME.R', 'random_state': 7303}. Best is trial 383 with value: 0.005420054200542005.\n",
            "[I 2023-10-04 22:31:26,307] Trial 787 finished with value: 0.0 and parameters: {'n_estimators': 96, 'learning_rate': 0.06605231607303311, 'algorithm': 'SAMME.R', 'random_state': 6016}. Best is trial 383 with value: 0.005420054200542005.\n",
            "[I 2023-10-04 22:31:28,046] Trial 788 finished with value: 0.0 and parameters: {'n_estimators': 100, 'learning_rate': 0.33839160176036903, 'algorithm': 'SAMME.R', 'random_state': 6043}. Best is trial 383 with value: 0.005420054200542005.\n",
            "[I 2023-10-04 22:31:45,010] Trial 790 finished with value: 0.0 and parameters: {'n_estimators': 89, 'learning_rate': 5.231095091031836, 'algorithm': 'SAMME.R', 'random_state': 5404}. Best is trial 383 with value: 0.005420054200542005.\n",
            "[I 2023-10-04 22:31:45,475] Trial 789 finished with value: 0.0 and parameters: {'n_estimators': 100, 'learning_rate': 0.02042881348846211, 'algorithm': 'SAMME.R', 'random_state': 4984}. Best is trial 383 with value: 0.005420054200542005.\n",
            "[I 2023-10-04 22:32:04,598] Trial 792 finished with value: 0.0051494458748460765 and parameters: {'n_estimators': 92, 'learning_rate': 0.45247713562904823, 'algorithm': 'SAMME.R', 'random_state': 5665}. Best is trial 383 with value: 0.005420054200542005.\n",
            "[I 2023-10-04 22:32:05,449] Trial 791 finished with value: 0.0 and parameters: {'n_estimators': 98, 'learning_rate': 0.06604007294395639, 'algorithm': 'SAMME.R', 'random_state': 4950}. Best is trial 383 with value: 0.005420054200542005.\n",
            "[I 2023-10-04 22:32:23,214] Trial 793 finished with value: 0.0 and parameters: {'n_estimators': 98, 'learning_rate': 0.3878944067266726, 'algorithm': 'SAMME.R', 'random_state': 5557}. Best is trial 383 with value: 0.005420054200542005.\n",
            "[I 2023-10-04 22:32:23,499] Trial 794 finished with value: 0.0 and parameters: {'n_estimators': 94, 'learning_rate': 2.2564152282177625, 'algorithm': 'SAMME.R', 'random_state': 5578}. Best is trial 383 with value: 0.005420054200542005.\n",
            "[I 2023-10-04 22:32:42,151] Trial 795 finished with value: 0.0 and parameters: {'n_estimators': 94, 'learning_rate': 0.17360073577678187, 'algorithm': 'SAMME.R', 'random_state': 5257}. Best is trial 383 with value: 0.005420054200542005.\n",
            "[I 2023-10-04 22:32:42,906] Trial 796 finished with value: 0.004180677996909934 and parameters: {'n_estimators': 95, 'learning_rate': 0.754497185974466, 'algorithm': 'SAMME.R', 'random_state': 6597}. Best is trial 383 with value: 0.005420054200542005.\n",
            "[I 2023-10-04 22:33:01,443] Trial 797 finished with value: 0.004242759638443091 and parameters: {'n_estimators': 98, 'learning_rate': 0.7300602673978107, 'algorithm': 'SAMME.R', 'random_state': 7742}. Best is trial 383 with value: 0.005420054200542005.\n",
            "[I 2023-10-04 22:33:01,922] Trial 798 finished with value: 0.0 and parameters: {'n_estimators': 98, 'learning_rate': 0.06296393208312026, 'algorithm': 'SAMME.R', 'random_state': 7705}. Best is trial 383 with value: 0.005420054200542005.\n",
            "[I 2023-10-04 22:33:22,887] Trial 799 finished with value: 0.00506775366310455 and parameters: {'n_estimators': 97, 'learning_rate': 0.4655841823109782, 'algorithm': 'SAMME.R', 'random_state': 6210}. Best is trial 383 with value: 0.005420054200542005.\n",
            "[I 2023-10-04 22:33:24,032] Trial 800 finished with value: 0.00513106525376464 and parameters: {'n_estimators': 100, 'learning_rate': 0.464775034134176, 'algorithm': 'SAMME.R', 'random_state': 2161}. Best is trial 383 with value: 0.005420054200542005.\n",
            "[I 2023-10-04 22:33:29,577] Trial 801 finished with value: 0.0 and parameters: {'n_estimators': 36, 'learning_rate': 0.42765149863292373, 'algorithm': 'SAMME.R', 'random_state': 5757}. Best is trial 383 with value: 0.005420054200542005.\n",
            "[I 2023-10-04 22:33:36,453] Trial 803 finished with value: 0.0 and parameters: {'n_estimators': 29, 'learning_rate': 0.11109158198237964, 'algorithm': 'SAMME.R', 'random_state': 3675}. Best is trial 383 with value: 0.005420054200542005.\n",
            "[I 2023-10-04 22:33:39,325] Trial 804 finished with value: 0.0 and parameters: {'n_estimators': 15, 'learning_rate': 0.05937035149017802, 'algorithm': 'SAMME.R', 'random_state': 5411}. Best is trial 383 with value: 0.005420054200542005.\n",
            "[I 2023-10-04 22:33:42,562] Trial 802 finished with value: 0.0 and parameters: {'n_estimators': 96, 'learning_rate': 0.3394230064644953, 'algorithm': 'SAMME.R', 'random_state': 5787}. Best is trial 383 with value: 0.005420054200542005.\n",
            "[I 2023-10-04 22:33:57,658] Trial 805 finished with value: 0.0040571529370259304 and parameters: {'n_estimators': 96, 'learning_rate': 1.6185026583487945, 'algorithm': 'SAMME.R', 'random_state': 3175}. Best is trial 383 with value: 0.005420054200542005.\n",
            "[I 2023-10-04 22:34:00,437] Trial 806 finished with value: 0.004654928152195912 and parameters: {'n_estimators': 92, 'learning_rate': 0.8957043780775421, 'algorithm': 'SAMME.R', 'random_state': 8054}. Best is trial 383 with value: 0.005420054200542005.\n",
            "[I 2023-10-04 22:34:19,759] Trial 808 finished with value: 0.004919786096256685 and parameters: {'n_estimators': 74, 'learning_rate': 0.536451921574362, 'algorithm': 'SAMME.R', 'random_state': 5983}. Best is trial 383 with value: 0.005420054200542005.\n",
            "[I 2023-10-04 22:34:21,760] Trial 807 finished with value: 0.0050739024928303554 and parameters: {'n_estimators': 99, 'learning_rate': 0.5458464282310114, 'algorithm': 'SAMME.R', 'random_state': 6079}. Best is trial 383 with value: 0.005420054200542005.\n",
            "[I 2023-10-04 22:34:38,706] Trial 809 finished with value: 0.0 and parameters: {'n_estimators': 99, 'learning_rate': 0.25334455567970204, 'algorithm': 'SAMME.R', 'random_state': 5148}. Best is trial 383 with value: 0.005420054200542005.\n",
            "[I 2023-10-04 22:34:39,943] Trial 810 finished with value: 0.0 and parameters: {'n_estimators': 100, 'learning_rate': 0.23765349854927403, 'algorithm': 'SAMME', 'random_state': 5225}. Best is trial 383 with value: 0.005420054200542005.\n",
            "[I 2023-10-04 22:34:57,934] Trial 811 finished with value: 0.0 and parameters: {'n_estimators': 95, 'learning_rate': 0.38140713042209873, 'algorithm': 'SAMME.R', 'random_state': 7020}. Best is trial 383 with value: 0.005420054200542005.\n",
            "[I 2023-10-04 22:34:59,679] Trial 812 finished with value: 0.0 and parameters: {'n_estimators': 95, 'learning_rate': 0.14723557152618116, 'algorithm': 'SAMME.R', 'random_state': 6398}. Best is trial 383 with value: 0.005420054200542005.\n",
            "[I 2023-10-04 22:35:17,049] Trial 813 finished with value: 0.0 and parameters: {'n_estimators': 97, 'learning_rate': 0.4185237071673156, 'algorithm': 'SAMME.R', 'random_state': 5673}. Best is trial 383 with value: 0.005420054200542005.\n",
            "[I 2023-10-04 22:35:18,182] Trial 814 finished with value: 0.0 and parameters: {'n_estimators': 97, 'learning_rate': 0.42041423343148493, 'algorithm': 'SAMME.R', 'random_state': 5643}. Best is trial 383 with value: 0.005420054200542005.\n",
            "[I 2023-10-04 22:35:34,955] Trial 815 finished with value: 0.004949962337243086 and parameters: {'n_estimators': 93, 'learning_rate': 0.496425185186788, 'algorithm': 'SAMME.R', 'random_state': 5425}. Best is trial 383 with value: 0.005420054200542005.\n",
            "[I 2023-10-04 22:35:36,228] Trial 816 finished with value: 0.0 and parameters: {'n_estimators': 93, 'learning_rate': 0.32538752044280006, 'algorithm': 'SAMME.R', 'random_state': 5361}. Best is trial 383 with value: 0.005420054200542005.\n",
            "[I 2023-10-04 22:35:55,482] Trial 817 finished with value: 0.0 and parameters: {'n_estimators': 100, 'learning_rate': 0.018913460266434215, 'algorithm': 'SAMME.R', 'random_state': 5887}. Best is trial 383 with value: 0.005420054200542005.\n",
            "[I 2023-10-04 22:35:57,104] Trial 818 finished with value: 0.004870817450232952 and parameters: {'n_estimators': 100, 'learning_rate': 0.600194347077605, 'algorithm': 'SAMME.R', 'random_state': 4850}. Best is trial 383 with value: 0.005420054200542005.\n",
            "[I 2023-10-04 22:36:16,195] Trial 819 finished with value: 0.004772279282083204 and parameters: {'n_estimators': 98, 'learning_rate': 0.5705737889894997, 'algorithm': 'SAMME.R', 'random_state': 4719}. Best is trial 383 with value: 0.005420054200542005.\n",
            "[I 2023-10-04 22:36:18,306] Trial 820 finished with value: 0.0 and parameters: {'n_estimators': 98, 'learning_rate': 0.3608631432555546, 'algorithm': 'SAMME.R', 'random_state': 6185}. Best is trial 383 with value: 0.005420054200542005.\n",
            "[I 2023-10-04 22:36:28,075] Trial 822 finished with value: 0.0 and parameters: {'n_estimators': 54, 'learning_rate': 0.4752055941208031, 'algorithm': 'SAMME.R', 'random_state': 5814}. Best is trial 383 with value: 0.005420054200542005.\n",
            "[I 2023-10-04 22:36:36,232] Trial 821 finished with value: 0.0 and parameters: {'n_estimators': 97, 'learning_rate': 0.3547717295664715, 'algorithm': 'SAMME.R', 'random_state': 5873}. Best is trial 383 with value: 0.005420054200542005.\n",
            "[I 2023-10-04 22:36:47,907] Trial 823 finished with value: 0.0 and parameters: {'n_estimators': 96, 'learning_rate': 0.018428032481121105, 'algorithm': 'SAMME.R', 'random_state': 5542}. Best is trial 383 with value: 0.005420054200542005.\n",
            "[I 2023-10-04 22:36:54,425] Trial 824 finished with value: 0.005145989484282358 and parameters: {'n_estimators': 95, 'learning_rate': 0.4798675589723104, 'algorithm': 'SAMME.R', 'random_state': 5522}. Best is trial 383 with value: 0.005420054200542005.\n",
            "[I 2023-10-04 22:37:06,192] Trial 825 finished with value: 0.0 and parameters: {'n_estimators': 95, 'learning_rate': 0.4173708057863029, 'algorithm': 'SAMME.R', 'random_state': 5052}. Best is trial 383 with value: 0.005420054200542005.\n",
            "[I 2023-10-04 22:37:16,223] Trial 826 finished with value: 0.0 and parameters: {'n_estimators': 98, 'learning_rate': 0.40271070918651475, 'algorithm': 'SAMME.R', 'random_state': 4512}. Best is trial 383 with value: 0.005420054200542005.\n",
            "[I 2023-10-04 22:37:27,246] Trial 827 finished with value: 0.0 and parameters: {'n_estimators': 99, 'learning_rate': 0.6403763845668442, 'algorithm': 'SAMME', 'random_state': 5307}. Best is trial 383 with value: 0.005420054200542005.\n",
            "[I 2023-10-04 22:37:34,584] Trial 828 finished with value: 0.0 and parameters: {'n_estimators': 100, 'learning_rate': 0.6419341373875874, 'algorithm': 'SAMME', 'random_state': 6343}. Best is trial 383 with value: 0.005420054200542005.\n",
            "[I 2023-10-04 22:37:46,539] Trial 829 finished with value: 0.0 and parameters: {'n_estimators': 100, 'learning_rate': 0.2893232811413765, 'algorithm': 'SAMME.R', 'random_state': 6293}. Best is trial 383 with value: 0.005420054200542005.\n",
            "[I 2023-10-04 22:37:53,413] Trial 830 finished with value: 0.004906666666666667 and parameters: {'n_estimators': 91, 'learning_rate': 0.5047454681982964, 'algorithm': 'SAMME.R', 'random_state': 6654}. Best is trial 383 with value: 0.005420054200542005.\n",
            "[I 2023-10-04 22:38:04,030] Trial 831 finished with value: 0.004915055027246501 and parameters: {'n_estimators': 91, 'learning_rate': 0.5088156160365054, 'algorithm': 'SAMME.R', 'random_state': 5709}. Best is trial 383 with value: 0.005420054200542005.\n",
            "[I 2023-10-04 22:38:12,076] Trial 832 finished with value: 0.0 and parameters: {'n_estimators': 97, 'learning_rate': 0.07935800037253546, 'algorithm': 'SAMME.R', 'random_state': 6058}. Best is trial 383 with value: 0.005420054200542005.\n",
            "[I 2023-10-04 22:38:24,382] Trial 833 finished with value: 0.00458852867830424 and parameters: {'n_estimators': 97, 'learning_rate': 0.9446089503028353, 'algorithm': 'SAMME.R', 'random_state': 6007}. Best is trial 383 with value: 0.005420054200542005.\n",
            "[I 2023-10-04 22:38:29,892] Trial 834 finished with value: 0.0 and parameters: {'n_estimators': 93, 'learning_rate': 0.016811571960648922, 'algorithm': 'SAMME.R', 'random_state': 6924}. Best is trial 383 with value: 0.005420054200542005.\n",
            "[I 2023-10-04 22:38:38,169] Trial 835 finished with value: 0.0 and parameters: {'n_estimators': 69, 'learning_rate': 2.956172123375031, 'algorithm': 'SAMME.R', 'random_state': 5421}. Best is trial 383 with value: 0.005420054200542005.\n",
            "[I 2023-10-04 22:38:51,206] Trial 836 finished with value: 0.003978894559294179 and parameters: {'n_estimators': 94, 'learning_rate': 1.7313184070674892, 'algorithm': 'SAMME.R', 'random_state': 5419}. Best is trial 383 with value: 0.005420054200542005.\n",
            "[I 2023-10-04 22:38:57,989] Trial 837 finished with value: 0.0 and parameters: {'n_estimators': 94, 'learning_rate': 0.05028791540261251, 'algorithm': 'SAMME.R', 'random_state': 2445}. Best is trial 383 with value: 0.005420054200542005.\n",
            "[I 2023-10-04 22:39:10,217] Trial 838 finished with value: 0.0 and parameters: {'n_estimators': 98, 'learning_rate': 0.11382215142356895, 'algorithm': 'SAMME.R', 'random_state': 5711}. Best is trial 383 with value: 0.005420054200542005.\n",
            "[I 2023-10-04 22:39:18,150] Trial 839 finished with value: 0.0 and parameters: {'n_estimators': 98, 'learning_rate': 0.01084594941446681, 'algorithm': 'SAMME.R', 'random_state': 5647}. Best is trial 383 with value: 0.005420054200542005.\n",
            "[I 2023-10-04 22:39:30,026] Trial 840 finished with value: 0.0 and parameters: {'n_estimators': 96, 'learning_rate': 0.37281052988859, 'algorithm': 'SAMME.R', 'random_state': 3412}. Best is trial 383 with value: 0.005420054200542005.\n",
            "[I 2023-10-04 22:39:36,714] Trial 841 finished with value: 0.0 and parameters: {'n_estimators': 96, 'learning_rate': 0.3751261951054985, 'algorithm': 'SAMME.R', 'random_state': 7445}. Best is trial 383 with value: 0.005420054200542005.\n",
            "[I 2023-10-04 22:39:49,073] Trial 842 finished with value: 0.0 and parameters: {'n_estimators': 100, 'learning_rate': 0.013113191951419112, 'algorithm': 'SAMME.R', 'random_state': 5149}. Best is trial 383 with value: 0.005420054200542005.\n",
            "[I 2023-10-04 22:39:56,997] Trial 843 finished with value: 0.00524515393386545 and parameters: {'n_estimators': 99, 'learning_rate': 0.4466603235611375, 'algorithm': 'SAMME.R', 'random_state': 5129}. Best is trial 383 with value: 0.005420054200542005.\n",
            "[I 2023-10-04 22:40:11,265] Trial 844 finished with value: 0.005224304372515616 and parameters: {'n_estimators': 98, 'learning_rate': 0.44753529665879965, 'algorithm': 'SAMME.R', 'random_state': 1811}. Best is trial 383 with value: 0.005420054200542005.\n",
            "[I 2023-10-04 22:40:17,515] Trial 845 finished with value: 0.004765357919817673 and parameters: {'n_estimators': 98, 'learning_rate': 0.5587829993879536, 'algorithm': 'SAMME.R', 'random_state': 5971}. Best is trial 383 with value: 0.005420054200542005.\n",
            "[I 2023-10-04 22:40:29,576] Trial 846 finished with value: 0.0 and parameters: {'n_estimators': 96, 'learning_rate': 6.8523627392501725, 'algorithm': 'SAMME.R', 'random_state': 5866}. Best is trial 383 with value: 0.005420054200542005.\n",
            "[I 2023-10-04 22:40:37,260] Trial 847 finished with value: 0.0 and parameters: {'n_estimators': 95, 'learning_rate': 0.02360505405459306, 'algorithm': 'SAMME.R', 'random_state': 5834}. Best is trial 383 with value: 0.005420054200542005.\n",
            "[I 2023-10-04 22:40:50,200] Trial 848 finished with value: 0.0 and parameters: {'n_estimators': 100, 'learning_rate': 0.31930234940336666, 'algorithm': 'SAMME.R', 'random_state': 5556}. Best is trial 383 with value: 0.005420054200542005.\n",
            "[I 2023-10-04 22:40:56,259] Trial 849 finished with value: 0.0 and parameters: {'n_estimators': 100, 'learning_rate': 0.029936629776483554, 'algorithm': 'SAMME.R', 'random_state': 8543}. Best is trial 383 with value: 0.005420054200542005.\n",
            "[I 2023-10-04 22:41:07,238] Trial 850 finished with value: 0.004796163069544364 and parameters: {'n_estimators': 88, 'learning_rate': 0.5215363995303269, 'algorithm': 'SAMME.R', 'random_state': 3019}. Best is trial 383 with value: 0.005420054200542005.\n",
            "[I 2023-10-04 22:41:09,247] Trial 852 finished with value: 0.001182853763274962 and parameters: {'n_estimators': 10, 'learning_rate': 4.034738117240098, 'algorithm': 'SAMME.R', 'random_state': 4888}. Best is trial 383 with value: 0.005420054200542005.\n",
            "[I 2023-10-04 22:41:12,967] Trial 853 finished with value: 0.0 and parameters: {'n_estimators': 20, 'learning_rate': 0.7838473522328936, 'algorithm': 'SAMME.R', 'random_state': 6582}. Best is trial 383 with value: 0.005420054200542005.\n",
            "[I 2023-10-04 22:41:15,193] Trial 851 finished with value: 0.0 and parameters: {'n_estimators': 93, 'learning_rate': 4.036057750086154, 'algorithm': 'SAMME.R', 'random_state': 5306}. Best is trial 383 with value: 0.005420054200542005.\n",
            "[I 2023-10-04 22:41:32,312] Trial 854 finished with value: 0.0 and parameters: {'n_estimators': 93, 'learning_rate': 0.4237870985215702, 'algorithm': 'SAMME.R', 'random_state': 6135}. Best is trial 383 with value: 0.005420054200542005.\n",
            "[I 2023-10-04 22:41:34,302] Trial 855 finished with value: 0.004827369083849302 and parameters: {'n_estimators': 97, 'learning_rate': 1.1811293078089136, 'algorithm': 'SAMME.R', 'random_state': 6100}. Best is trial 383 with value: 0.005420054200542005.\n",
            "[I 2023-10-04 22:41:52,551] Trial 856 finished with value: 0.0 and parameters: {'n_estimators': 97, 'learning_rate': 0.32218943252520377, 'algorithm': 'SAMME.R', 'random_state': 5570}. Best is trial 383 with value: 0.005420054200542005.\n",
            "[I 2023-10-04 22:41:54,223] Trial 857 finished with value: 0.0 and parameters: {'n_estimators': 95, 'learning_rate': 0.3344281229497712, 'algorithm': 'SAMME.R', 'random_state': 5652}. Best is trial 383 with value: 0.005420054200542005.\n",
            "[I 2023-10-04 22:42:12,391] Trial 858 finished with value: 0.0 and parameters: {'n_estimators': 95, 'learning_rate': 4.955874593247471, 'algorithm': 'SAMME.R', 'random_state': 4029}. Best is trial 383 with value: 0.005420054200542005.\n",
            "[I 2023-10-04 22:42:14,470] Trial 859 finished with value: 0.0 and parameters: {'n_estimators': 98, 'learning_rate': 5.755222543161597, 'algorithm': 'SAMME.R', 'random_state': 7108}. Best is trial 383 with value: 0.005420054200542005.\n",
            "[I 2023-10-04 22:42:31,188] Trial 860 finished with value: 0.00486309335024844 and parameters: {'n_estimators': 98, 'learning_rate': 0.5867184789708803, 'algorithm': 'SAMME.R', 'random_state': 5335}. Best is trial 383 with value: 0.005420054200542005.\n",
            "[I 2023-10-04 22:42:33,519] Trial 861 finished with value: 0.005047180162387536 and parameters: {'n_estimators': 100, 'learning_rate': 0.4876914573585408, 'algorithm': 'SAMME.R', 'random_state': 923}. Best is trial 383 with value: 0.005420054200542005.\n",
            "[I 2023-10-04 22:42:51,547] Trial 862 finished with value: 0.005112815382905413 and parameters: {'n_estimators': 100, 'learning_rate': 0.46607273803334964, 'algorithm': 'SAMME.R', 'random_state': 6365}. Best is trial 383 with value: 0.005420054200542005.\n",
            "[I 2023-10-04 22:42:53,320] Trial 863 finished with value: 0.0 and parameters: {'n_estimators': 96, 'learning_rate': 9.310370662290422, 'algorithm': 'SAMME.R', 'random_state': 6404}. Best is trial 383 with value: 0.005420054200542005.\n",
            "[I 2023-10-04 22:43:11,766] Trial 864 finished with value: 0.0 and parameters: {'n_estimators': 96, 'learning_rate': 0.09665414976052099, 'algorithm': 'SAMME.R', 'random_state': 1261}. Best is trial 383 with value: 0.005420054200542005.\n",
            "[I 2023-10-04 22:43:13,755] Trial 865 finished with value: 0.0 and parameters: {'n_estimators': 98, 'learning_rate': 0.27095985703451275, 'algorithm': 'SAMME.R', 'random_state': 5869}. Best is trial 383 with value: 0.005420054200542005.\n",
            "[I 2023-10-04 22:43:29,463] Trial 866 finished with value: 0.0 and parameters: {'n_estimators': 98, 'learning_rate': 2.8221316797781553, 'algorithm': 'SAMME', 'random_state': 5831}. Best is trial 383 with value: 0.005420054200542005.\n",
            "[I 2023-10-04 22:43:31,285] Trial 867 finished with value: 0.0 and parameters: {'n_estimators': 94, 'learning_rate': 0.6890463302780793, 'algorithm': 'SAMME', 'random_state': 6848}. Best is trial 383 with value: 0.005420054200542005.\n",
            "[I 2023-10-04 22:43:48,263] Trial 868 finished with value: 0.0 and parameters: {'n_estimators': 90, 'learning_rate': 0.20888664548691516, 'algorithm': 'SAMME.R', 'random_state': 6820}. Best is trial 383 with value: 0.005420054200542005.\n",
            "[I 2023-10-04 22:43:50,176] Trial 869 finished with value: 0.0 and parameters: {'n_estimators': 92, 'learning_rate': 0.4135282617266044, 'algorithm': 'SAMME.R', 'random_state': 5070}. Best is trial 383 with value: 0.005420054200542005.\n",
            "[I 2023-10-04 22:44:07,209] Trial 870 finished with value: 0.0 and parameters: {'n_estimators': 100, 'learning_rate': 0.3733823209084448, 'algorithm': 'SAMME.R', 'random_state': 5047}. Best is trial 383 with value: 0.005420054200542005.\n",
            "[I 2023-10-04 22:44:09,399] Trial 871 finished with value: 0.0 and parameters: {'n_estimators': 100, 'learning_rate': 0.3787316109184428, 'algorithm': 'SAMME.R', 'random_state': 5439}. Best is trial 383 with value: 0.005420054200542005.\n",
            "[I 2023-10-04 22:44:26,950] Trial 872 finished with value: 0.004822308418073173 and parameters: {'n_estimators': 96, 'learning_rate': 0.5596787437635136, 'algorithm': 'SAMME.R', 'random_state': 5481}. Best is trial 383 with value: 0.005420054200542005.\n",
            "[I 2023-10-04 22:44:29,430] Trial 873 finished with value: 0.005061619718309859 and parameters: {'n_estimators': 96, 'learning_rate': 0.5533110349827923, 'algorithm': 'SAMME.R', 'random_state': 5681}. Best is trial 383 with value: 0.005420054200542005.\n",
            "[I 2023-10-04 22:44:47,061] Trial 874 finished with value: 0.0 and parameters: {'n_estimators': 98, 'learning_rate': 7.352951383870045, 'algorithm': 'SAMME.R', 'random_state': 5655}. Best is trial 383 with value: 0.005420054200542005.\n",
            "[I 2023-10-04 22:44:49,718] Trial 875 finished with value: 0.0 and parameters: {'n_estimators': 98, 'learning_rate': 0.4414166096699381, 'algorithm': 'SAMME.R', 'random_state': 5297}. Best is trial 383 with value: 0.005420054200542005.\n",
            "[I 2023-10-04 22:45:06,186] Trial 876 finished with value: 0.005350081414282391 and parameters: {'n_estimators': 94, 'learning_rate': 0.4526964122087997, 'algorithm': 'SAMME.R', 'random_state': 6122}. Best is trial 383 with value: 0.005420054200542005.\n",
            "[I 2023-10-04 22:45:09,364] Trial 877 finished with value: 0.0 and parameters: {'n_estimators': 94, 'learning_rate': 0.012184476881254624, 'algorithm': 'SAMME.R', 'random_state': 6214}. Best is trial 383 with value: 0.005420054200542005.\n",
            "[I 2023-10-04 22:45:24,603] Trial 878 finished with value: 0.005083434633661178 and parameters: {'n_estimators': 94, 'learning_rate': 0.500477265685571, 'algorithm': 'SAMME.R', 'random_state': 6225}. Best is trial 383 with value: 0.005420054200542005.\n",
            "[I 2023-10-04 22:45:28,255] Trial 879 finished with value: 0.004650222401940962 and parameters: {'n_estimators': 99, 'learning_rate': 0.6594240256698123, 'algorithm': 'SAMME.R', 'random_state': 6215}. Best is trial 383 with value: 0.005420054200542005.\n",
            "[I 2023-10-04 22:45:43,828] Trial 880 finished with value: 0.004544107478020349 and parameters: {'n_estimators': 99, 'learning_rate': 0.6893483799317413, 'algorithm': 'SAMME.R', 'random_state': 6032}. Best is trial 383 with value: 0.005420054200542005.\n",
            "[I 2023-10-04 22:45:48,257] Trial 881 finished with value: 0.0 and parameters: {'n_estimators': 97, 'learning_rate': 0.3875769985018684, 'algorithm': 'SAMME.R', 'random_state': 6407}. Best is trial 383 with value: 0.005420054200542005.\n",
            "[I 2023-10-04 22:46:05,368] Trial 882 finished with value: 0.0 and parameters: {'n_estimators': 97, 'learning_rate': 0.4029196402631919, 'algorithm': 'SAMME.R', 'random_state': 6429}. Best is trial 383 with value: 0.005420054200542005.\n",
            "[I 2023-10-04 22:46:08,506] Trial 883 finished with value: 0.0 and parameters: {'n_estimators': 97, 'learning_rate': 0.042507470403807396, 'algorithm': 'SAMME.R', 'random_state': 6528}. Best is trial 383 with value: 0.005420054200542005.\n",
            "[I 2023-10-04 22:46:23,094] Trial 884 finished with value: 0.0 and parameters: {'n_estimators': 92, 'learning_rate': 0.08202494287991417, 'algorithm': 'SAMME.R', 'random_state': 6030}. Best is trial 383 with value: 0.005420054200542005.\n",
            "[I 2023-10-04 22:46:26,227] Trial 885 finished with value: 0.0 and parameters: {'n_estimators': 86, 'learning_rate': 0.042782717735851926, 'algorithm': 'SAMME.R', 'random_state': 6034}. Best is trial 383 with value: 0.005420054200542005.\n",
            "[I 2023-10-04 22:46:43,623] Trial 886 finished with value: 0.005048842059049501 and parameters: {'n_estimators': 100, 'learning_rate': 0.5009604677905354, 'algorithm': 'SAMME.R', 'random_state': 6207}. Best is trial 383 with value: 0.005420054200542005.\n",
            "[I 2023-10-04 22:46:45,810] Trial 887 finished with value: 0.005247547342003194 and parameters: {'n_estimators': 100, 'learning_rate': 0.4832871004568643, 'algorithm': 'SAMME.R', 'random_state': 6703}. Best is trial 383 with value: 0.005420054200542005.\n",
            "[I 2023-10-04 22:47:01,844] Trial 888 finished with value: 0.0 and parameters: {'n_estimators': 95, 'learning_rate': 0.3213303328879959, 'algorithm': 'SAMME.R', 'random_state': 5923}. Best is trial 383 with value: 0.005420054200542005.\n",
            "[I 2023-10-04 22:47:04,143] Trial 889 finished with value: 0.0 and parameters: {'n_estimators': 95, 'learning_rate': 0.06023771351521928, 'algorithm': 'SAMME.R', 'random_state': 5782}. Best is trial 383 with value: 0.005420054200542005.\n",
            "[I 2023-10-04 22:47:10,196] Trial 891 finished with value: 0.0 and parameters: {'n_estimators': 25, 'learning_rate': 0.5708110133197086, 'algorithm': 'SAMME.R', 'random_state': 4337}. Best is trial 383 with value: 0.005420054200542005.\n",
            "[I 2023-10-04 22:47:22,379] Trial 890 finished with value: 0.0 and parameters: {'n_estimators': 98, 'learning_rate': 0.035761625316961906, 'algorithm': 'SAMME.R', 'random_state': 549}. Best is trial 383 with value: 0.005420054200542005.\n",
            "[I 2023-10-04 22:47:30,754] Trial 892 finished with value: 0.005322841934737329 and parameters: {'n_estimators': 98, 'learning_rate': 0.4375226522867216, 'algorithm': 'SAMME.R', 'random_state': 5920}. Best is trial 383 with value: 0.005420054200542005.\n",
            "[I 2023-10-04 22:47:42,400] Trial 893 finished with value: 0.0 and parameters: {'n_estimators': 97, 'learning_rate': 0.281944496642348, 'algorithm': 'SAMME.R', 'random_state': 5971}. Best is trial 383 with value: 0.005420054200542005.\n",
            "[I 2023-10-04 22:47:51,375] Trial 894 finished with value: 0.0 and parameters: {'n_estimators': 100, 'learning_rate': 0.2767087472042907, 'algorithm': 'SAMME.R', 'random_state': 5856}. Best is trial 383 with value: 0.005420054200542005.\n",
            "[I 2023-10-04 22:48:03,111] Trial 895 finished with value: 0.0 and parameters: {'n_estimators': 100, 'learning_rate': 0.3511299701746649, 'algorithm': 'SAMME.R', 'random_state': 5779}. Best is trial 383 with value: 0.005420054200542005.\n",
            "[I 2023-10-04 22:48:10,116] Trial 896 finished with value: 0.0 and parameters: {'n_estimators': 99, 'learning_rate': 0.3640884982918157, 'algorithm': 'SAMME.R', 'random_state': 5695}. Best is trial 383 with value: 0.005420054200542005.\n",
            "[I 2023-10-04 22:48:21,842] Trial 897 finished with value: 0.0 and parameters: {'n_estimators': 98, 'learning_rate': 0.426198351271404, 'algorithm': 'SAMME.R', 'random_state': 5759}. Best is trial 383 with value: 0.005420054200542005.\n",
            "[I 2023-10-04 22:48:30,394] Trial 898 finished with value: 0.00444659255679072 and parameters: {'n_estimators': 98, 'learning_rate': 1.0387469751997993, 'algorithm': 'SAMME.R', 'random_state': 5565}. Best is trial 383 with value: 0.005420054200542005.\n",
            "[I 2023-10-04 22:48:41,758] Trial 899 finished with value: 0.0 and parameters: {'n_estimators': 96, 'learning_rate': 2.1365316953759113, 'algorithm': 'SAMME.R', 'random_state': 5595}. Best is trial 383 with value: 0.005420054200542005.\n",
            "[I 2023-10-04 22:48:48,555] Trial 900 finished with value: 0.005093566603919832 and parameters: {'n_estimators': 95, 'learning_rate': 0.442540211721787, 'algorithm': 'SAMME.R', 'random_state': 5959}. Best is trial 383 with value: 0.005420054200542005.\n",
            "[I 2023-10-04 22:49:01,101] Trial 901 finished with value: 0.0 and parameters: {'n_estimators': 93, 'learning_rate': 0.4208263126349061, 'algorithm': 'SAMME.R', 'random_state': 5931}. Best is trial 383 with value: 0.005420054200542005.\n",
            "[I 2023-10-04 22:49:09,601] Trial 902 finished with value: 0.004750103263114415 and parameters: {'n_estimators': 93, 'learning_rate': 0.6142377888599233, 'algorithm': 'SAMME.R', 'random_state': 5959}. Best is trial 383 with value: 0.005420054200542005.\n",
            "[I 2023-10-04 22:49:20,737] Trial 903 finished with value: 0.0 and parameters: {'n_estimators': 100, 'learning_rate': 0.1946094395095188, 'algorithm': 'SAMME', 'random_state': 7262}. Best is trial 383 with value: 0.005420054200542005.\n",
            "[I 2023-10-04 22:49:28,750] Trial 904 finished with value: 0.00480066791901482 and parameters: {'n_estimators': 100, 'learning_rate': 0.5194300538391251, 'algorithm': 'SAMME.R', 'random_state': 5747}. Best is trial 383 with value: 0.005420054200542005.\n",
            "[I 2023-10-04 22:49:34,119] Trial 905 finished with value: 0.0 and parameters: {'n_estimators': 67, 'learning_rate': 0.07719488349825065, 'algorithm': 'SAMME.R', 'random_state': 5502}. Best is trial 383 with value: 0.005420054200542005.\n",
            "[I 2023-10-04 22:49:48,868] Trial 906 finished with value: 0.0 and parameters: {'n_estimators': 97, 'learning_rate': 0.32889342975980973, 'algorithm': 'SAMME.R', 'random_state': 6990}. Best is trial 383 with value: 0.005420054200542005.\n",
            "[I 2023-10-04 22:49:52,439] Trial 907 finished with value: 0.0 and parameters: {'n_estimators': 96, 'learning_rate': 0.3434192765559411, 'algorithm': 'SAMME.R', 'random_state': 7029}. Best is trial 383 with value: 0.005420054200542005.\n",
            "[I 2023-10-04 22:50:07,333] Trial 908 finished with value: 0.0 and parameters: {'n_estimators': 96, 'learning_rate': 4.27878703573563, 'algorithm': 'SAMME.R', 'random_state': 6172}. Best is trial 383 with value: 0.005420054200542005.\n",
            "[I 2023-10-04 22:50:12,774] Trial 909 finished with value: 0.0 and parameters: {'n_estimators': 98, 'learning_rate': 0.02754647446350052, 'algorithm': 'SAMME.R', 'random_state': 6202}. Best is trial 383 with value: 0.005420054200542005.\n",
            "[I 2023-10-04 22:50:29,313] Trial 910 finished with value: 0.004791167586709718 and parameters: {'n_estimators': 98, 'learning_rate': 0.8191433181763164, 'algorithm': 'SAMME.R', 'random_state': 5502}. Best is trial 383 with value: 0.005420054200542005.\n",
            "[I 2023-10-04 22:50:33,115] Trial 911 finished with value: 0.0 and parameters: {'n_estimators': 98, 'learning_rate': 0.38754300665509395, 'algorithm': 'SAMME.R', 'random_state': 5696}. Best is trial 383 with value: 0.005420054200542005.\n",
            "[I 2023-10-04 22:50:47,253] Trial 912 finished with value: 0.004198229442365611 and parameters: {'n_estimators': 94, 'learning_rate': 1.2697579121770677, 'algorithm': 'SAMME.R', 'random_state': 5746}. Best is trial 383 with value: 0.005420054200542005.\n",
            "[I 2023-10-04 22:50:51,447] Trial 913 finished with value: 0.0050739024928303554 and parameters: {'n_estimators': 90, 'learning_rate': 0.4844192566494198, 'algorithm': 'SAMME.R', 'random_state': 6510}. Best is trial 383 with value: 0.005420054200542005.\n",
            "[I 2023-10-04 22:51:07,687] Trial 914 finished with value: 0.005121924061908473 and parameters: {'n_estimators': 100, 'learning_rate': 0.46990632100959406, 'algorithm': 'SAMME.R', 'random_state': 6600}. Best is trial 383 with value: 0.005420054200542005.\n",
            "[I 2023-10-04 22:51:11,001] Trial 915 finished with value: 0.004938801803736311 and parameters: {'n_estimators': 100, 'learning_rate': 0.5754424287812461, 'algorithm': 'SAMME.R', 'random_state': 5246}. Best is trial 383 with value: 0.005420054200542005.\n",
            "[I 2023-10-04 22:51:26,074] Trial 916 finished with value: 0.004773765047737651 and parameters: {'n_estimators': 96, 'learning_rate': 0.5731259739289717, 'algorithm': 'SAMME.R', 'random_state': 5289}. Best is trial 383 with value: 0.005420054200542005.\n",
            "[I 2023-10-04 22:51:30,084] Trial 917 finished with value: 0.0 and parameters: {'n_estimators': 96, 'learning_rate': 0.2387204519851056, 'algorithm': 'SAMME.R', 'random_state': 5912}. Best is trial 383 with value: 0.005420054200542005.\n",
            "[I 2023-10-04 22:51:46,342] Trial 918 finished with value: 0.003435143006496901 and parameters: {'n_estimators': 98, 'learning_rate': 1.4468142438035987, 'algorithm': 'SAMME.R', 'random_state': 2727}. Best is trial 383 with value: 0.005420054200542005.\n",
            "[I 2023-10-04 22:51:48,751] Trial 919 finished with value: 0.0 and parameters: {'n_estimators': 92, 'learning_rate': 0.4013411871141735, 'algorithm': 'SAMME.R', 'random_state': 5569}. Best is trial 383 with value: 0.005420054200542005.\n",
            "[I 2023-10-04 22:52:05,993] Trial 920 finished with value: 0.0 and parameters: {'n_estimators': 94, 'learning_rate': 0.015372344425643478, 'algorithm': 'SAMME.R', 'random_state': 7470}. Best is trial 383 with value: 0.005420054200542005.\n",
            "[I 2023-10-04 22:52:07,375] Trial 921 finished with value: 0.0 and parameters: {'n_estimators': 94, 'learning_rate': 0.444706390675552, 'algorithm': 'SAMME', 'random_state': 6111}. Best is trial 383 with value: 0.005420054200542005.\n",
            "[I 2023-10-04 22:52:25,365] Trial 922 finished with value: 0.0 and parameters: {'n_estimators': 98, 'learning_rate': 0.4418955268910936, 'algorithm': 'SAMME', 'random_state': 5920}. Best is trial 383 with value: 0.005420054200542005.\n",
            "[I 2023-10-04 22:52:27,733] Trial 923 finished with value: 0.0 and parameters: {'n_estimators': 98, 'learning_rate': 0.17144769977838512, 'algorithm': 'SAMME.R', 'random_state': 5833}. Best is trial 383 with value: 0.005420054200542005.\n",
            "[I 2023-10-04 22:52:44,138] Trial 924 finished with value: 0.0 and parameters: {'n_estimators': 99, 'learning_rate': 0.37179592644330156, 'algorithm': 'SAMME.R', 'random_state': 5417}. Best is trial 383 with value: 0.005420054200542005.\n",
            "[I 2023-10-04 22:52:46,945] Trial 925 finished with value: 0.0 and parameters: {'n_estimators': 100, 'learning_rate': 0.2989332810642026, 'algorithm': 'SAMME.R', 'random_state': 5456}. Best is trial 383 with value: 0.005420054200542005.\n",
            "[I 2023-10-04 22:52:59,843] Trial 926 finished with value: 0.0 and parameters: {'n_estimators': 81, 'learning_rate': 0.13078523497097652, 'algorithm': 'SAMME.R', 'random_state': 6324}. Best is trial 383 with value: 0.005420054200542005.\n",
            "[I 2023-10-04 22:53:08,585] Trial 927 finished with value: 0.0 and parameters: {'n_estimators': 96, 'learning_rate': 1.75975234931186, 'algorithm': 'SAMME.R', 'random_state': 5612}. Best is trial 383 with value: 0.005420054200542005.\n",
            "[I 2023-10-04 22:53:21,557] Trial 928 finished with value: 0.005069429138197046 and parameters: {'n_estimators': 96, 'learning_rate': 0.5264157188689347, 'algorithm': 'SAMME.R', 'random_state': 5708}. Best is trial 383 with value: 0.005420054200542005.\n",
            "[I 2023-10-04 22:53:26,937] Trial 929 finished with value: 0.005025674642193816 and parameters: {'n_estimators': 96, 'learning_rate': 0.5098803753203747, 'algorithm': 'SAMME.R', 'random_state': 6034}. Best is trial 383 with value: 0.005420054200542005.\n",
            "[I 2023-10-04 22:53:39,844] Trial 930 finished with value: 0.004623115577889447 and parameters: {'n_estimators': 95, 'learning_rate': 0.6622602042667316, 'algorithm': 'SAMME.R', 'random_state': 5983}. Best is trial 383 with value: 0.005420054200542005.\n",
            "[I 2023-10-04 22:53:47,137] Trial 931 finished with value: 0.004740313272877164 and parameters: {'n_estimators': 98, 'learning_rate': 0.6220482876708368, 'algorithm': 'SAMME.R', 'random_state': 4732}. Best is trial 383 with value: 0.005420054200542005.\n",
            "[I 2023-10-04 22:53:59,127] Trial 932 finished with value: 0.0 and parameters: {'n_estimators': 92, 'learning_rate': 0.3853679955024976, 'algorithm': 'SAMME.R', 'random_state': 5766}. Best is trial 383 with value: 0.005420054200542005.\n",
            "[I 2023-10-04 22:54:04,831] Trial 933 finished with value: 0.0 and parameters: {'n_estimators': 92, 'learning_rate': 0.39428206072804706, 'algorithm': 'SAMME.R', 'random_state': 5208}. Best is trial 383 with value: 0.005420054200542005.\n",
            "[I 2023-10-04 22:54:18,209] Trial 934 finished with value: 0.0 and parameters: {'n_estimators': 100, 'learning_rate': 0.3168943599529472, 'algorithm': 'SAMME.R', 'random_state': 3828}. Best is trial 383 with value: 0.005420054200542005.\n",
            "[I 2023-10-04 22:54:25,465] Trial 935 finished with value: 0.004199762622112664 and parameters: {'n_estimators': 100, 'learning_rate': 0.7425944435770431, 'algorithm': 'SAMME.R', 'random_state': 7231}. Best is trial 383 with value: 0.005420054200542005.\n",
            "[I 2023-10-04 22:54:38,076] Trial 936 finished with value: 0.005291005291005291 and parameters: {'n_estimators': 98, 'learning_rate': 0.46255837044440723, 'algorithm': 'SAMME.R', 'random_state': 4970}. Best is trial 383 with value: 0.005420054200542005.\n",
            "[I 2023-10-04 22:54:45,479] Trial 937 finished with value: 0.005259547221587012 and parameters: {'n_estimators': 98, 'learning_rate': 0.4493323238275671, 'algorithm': 'SAMME.R', 'random_state': 5533}. Best is trial 383 with value: 0.005420054200542005.\n",
            "[I 2023-10-04 22:54:58,843] Trial 938 finished with value: 0.004627301076350468 and parameters: {'n_estimators': 98, 'learning_rate': 0.5233833296988726, 'algorithm': 'SAMME.R', 'random_state': 3997}. Best is trial 383 with value: 0.005420054200542005.\n",
            "[I 2023-10-04 22:55:06,213] Trial 939 finished with value: 0.004669576692721551 and parameters: {'n_estimators': 99, 'learning_rate': 0.5228876057271808, 'algorithm': 'SAMME.R', 'random_state': 1420}. Best is trial 383 with value: 0.005420054200542005.\n",
            "[I 2023-10-04 22:55:19,336] Trial 940 finished with value: 0.004939332116396435 and parameters: {'n_estimators': 100, 'learning_rate': 0.5749157433888312, 'algorithm': 'SAMME.R', 'random_state': 3319}. Best is trial 383 with value: 0.005420054200542005.\n",
            "[I 2023-10-04 22:55:25,295] Trial 941 finished with value: 0.0 and parameters: {'n_estimators': 100, 'learning_rate': 0.047301270810686545, 'algorithm': 'SAMME.R', 'random_state': 4631}. Best is trial 383 with value: 0.005420054200542005.\n",
            "[I 2023-10-04 22:55:37,911] Trial 942 finished with value: 0.0 and parameters: {'n_estimators': 97, 'learning_rate': 0.02369695481066969, 'algorithm': 'SAMME.R', 'random_state': 2236}. Best is trial 383 with value: 0.005420054200542005.\n",
            "[I 2023-10-04 22:55:45,455] Trial 943 finished with value: 0.0 and parameters: {'n_estimators': 97, 'learning_rate': 0.013537334712075232, 'algorithm': 'SAMME.R', 'random_state': 5362}. Best is trial 383 with value: 0.005420054200542005.\n",
            "[I 2023-10-04 22:55:46,952] Trial 944 finished with value: 0.0 and parameters: {'n_estimators': 41, 'learning_rate': 0.34756781566475775, 'algorithm': 'SAMME.R', 'random_state': 4389}. Best is trial 383 with value: 0.005420054200542005.\n",
            "[I 2023-10-04 22:56:02,693] Trial 945 finished with value: 0.0 and parameters: {'n_estimators': 79, 'learning_rate': 4.02570448406871, 'algorithm': 'SAMME.R', 'random_state': 4847}. Best is trial 383 with value: 0.005420054200542005.\n",
            "[I 2023-10-04 22:56:07,538] Trial 946 finished with value: 0.005289180177072554 and parameters: {'n_estimators': 98, 'learning_rate': 0.4396790198167469, 'algorithm': 'SAMME.R', 'random_state': 4899}. Best is trial 383 with value: 0.005420054200542005.\n",
            "[I 2023-10-04 22:56:21,493] Trial 947 finished with value: 0.0 and parameters: {'n_estimators': 98, 'learning_rate': 0.19440204132089084, 'algorithm': 'SAMME.R', 'random_state': 4995}. Best is trial 383 with value: 0.005420054200542005.\n",
            "[I 2023-10-04 22:56:27,121] Trial 948 finished with value: 0.0 and parameters: {'n_estimators': 94, 'learning_rate': 0.4203746757633643, 'algorithm': 'SAMME.R', 'random_state': 4587}. Best is trial 383 with value: 0.005420054200542005.\n",
            "[I 2023-10-04 22:56:41,101] Trial 949 finished with value: 0.0 and parameters: {'n_estimators': 94, 'learning_rate': 0.4232238357309289, 'algorithm': 'SAMME.R', 'random_state': 4760}. Best is trial 383 with value: 0.005420054200542005.\n",
            "[I 2023-10-04 22:56:45,438] Trial 950 finished with value: 0.005187774895680614 and parameters: {'n_estimators': 95, 'learning_rate': 0.4720087525644961, 'algorithm': 'SAMME.R', 'random_state': 4796}. Best is trial 383 with value: 0.005420054200542005.\n",
            "[I 2023-10-04 22:56:59,409] Trial 951 finished with value: 0.0 and parameters: {'n_estimators': 96, 'learning_rate': 0.05190928023988988, 'algorithm': 'SAMME.R', 'random_state': 4794}. Best is trial 383 with value: 0.005420054200542005.\n",
            "[I 2023-10-04 22:57:03,830] Trial 952 finished with value: 0.0 and parameters: {'n_estimators': 96, 'learning_rate': 0.36281922931961724, 'algorithm': 'SAMME.R', 'random_state': 4984}. Best is trial 383 with value: 0.005420054200542005.\n",
            "[I 2023-10-04 22:57:18,690] Trial 953 finished with value: 0.0 and parameters: {'n_estimators': 97, 'learning_rate': 4.920382316768174, 'algorithm': 'SAMME.R', 'random_state': 4294}. Best is trial 383 with value: 0.005420054200542005.\n",
            "[I 2023-10-04 22:57:23,831] Trial 954 finished with value: 0.0047461824184894755 and parameters: {'n_estimators': 97, 'learning_rate': 0.6191386034783416, 'algorithm': 'SAMME.R', 'random_state': 4558}. Best is trial 383 with value: 0.005420054200542005.\n",
            "[I 2023-10-04 22:57:39,767] Trial 955 finished with value: 0.0 and parameters: {'n_estimators': 98, 'learning_rate': 3.131347095194923, 'algorithm': 'SAMME.R', 'random_state': 4957}. Best is trial 383 with value: 0.005420054200542005.\n",
            "[I 2023-10-04 22:57:44,938] Trial 956 finished with value: 0.0 and parameters: {'n_estimators': 98, 'learning_rate': 6.718654740886924, 'algorithm': 'SAMME.R', 'random_state': 4170}. Best is trial 383 with value: 0.005420054200542005.\n",
            "[I 2023-10-04 22:57:59,156] Trial 957 finished with value: 0.0 and parameters: {'n_estimators': 95, 'learning_rate': 7.604677239969529, 'algorithm': 'SAMME.R', 'random_state': 5045}. Best is trial 383 with value: 0.005420054200542005.\n",
            "[I 2023-10-04 22:58:03,836] Trial 958 finished with value: 0.0 and parameters: {'n_estimators': 95, 'learning_rate': 0.29249034302187416, 'algorithm': 'SAMME.R', 'random_state': 3676}. Best is trial 383 with value: 0.005420054200542005.\n",
            "[I 2023-10-04 22:58:17,495] Trial 959 finished with value: 0.0 and parameters: {'n_estimators': 94, 'learning_rate': 0.2612587274606511, 'algorithm': 'SAMME.R', 'random_state': 5173}. Best is trial 383 with value: 0.005420054200542005.\n",
            "[I 2023-10-04 22:58:22,770] Trial 960 finished with value: 0.0 and parameters: {'n_estimators': 99, 'learning_rate': 0.10925773832893931, 'algorithm': 'SAMME.R', 'random_state': 5189}. Best is trial 383 with value: 0.005420054200542005.\n",
            "[I 2023-10-04 22:58:35,421] Trial 961 finished with value: 0.0 and parameters: {'n_estimators': 99, 'learning_rate': 0.48118815181437086, 'algorithm': 'SAMME', 'random_state': 5047}. Best is trial 383 with value: 0.005420054200542005.\n",
            "[I 2023-10-04 22:58:42,345] Trial 962 finished with value: 0.0 and parameters: {'n_estimators': 99, 'learning_rate': 1.0409480499892896, 'algorithm': 'SAMME', 'random_state': 324}. Best is trial 383 with value: 0.005420054200542005.\n",
            "[I 2023-10-04 22:58:56,974] Trial 963 finished with value: 0.004505828190812028 and parameters: {'n_estimators': 97, 'learning_rate': 0.9094868907434018, 'algorithm': 'SAMME.R', 'random_state': 4843}. Best is trial 383 with value: 0.005420054200542005.\n",
            "[I 2023-10-04 22:59:02,398] Trial 964 finished with value: 0.005449591280653951 and parameters: {'n_estimators': 97, 'learning_rate': 0.39665047957140376, 'algorithm': 'SAMME.R', 'random_state': 4897}. Best is trial 964 with value: 0.005449591280653951.\n",
            "[I 2023-10-04 22:59:14,740] Trial 965 finished with value: 0.0038890767669935745 and parameters: {'n_estimators': 93, 'learning_rate': 1.4967715798325132, 'algorithm': 'SAMME.R', 'random_state': 5195}. Best is trial 964 with value: 0.005449591280653951.\n",
            "[I 2023-10-04 22:59:21,779] Trial 966 finished with value: 0.0 and parameters: {'n_estimators': 93, 'learning_rate': 2.0149509661213063, 'algorithm': 'SAMME.R', 'random_state': 4478}. Best is trial 964 with value: 0.005449591280653951.\n",
            "[I 2023-10-04 22:59:34,018] Trial 967 finished with value: 0.0 and parameters: {'n_estimators': 91, 'learning_rate': 8.04101660939403, 'algorithm': 'SAMME.R', 'random_state': 4824}. Best is trial 964 with value: 0.005449591280653951.\n",
            "[I 2023-10-04 22:59:39,951] Trial 968 finished with value: 0.0 and parameters: {'n_estimators': 95, 'learning_rate': 0.03725064243770665, 'algorithm': 'SAMME.R', 'random_state': 4940}. Best is trial 964 with value: 0.005449591280653951.\n",
            "[I 2023-10-04 22:59:52,434] Trial 969 finished with value: 0.0 and parameters: {'n_estimators': 96, 'learning_rate': 0.3527462484267731, 'algorithm': 'SAMME.R', 'random_state': 4593}. Best is trial 964 with value: 0.005449591280653951.\n",
            "[I 2023-10-04 23:00:00,145] Trial 970 finished with value: 0.0 and parameters: {'n_estimators': 97, 'learning_rate': 0.32927004342838917, 'algorithm': 'SAMME.R', 'random_state': 4506}. Best is trial 964 with value: 0.005449591280653951.\n",
            "[I 2023-10-04 23:00:12,434] Trial 971 finished with value: 0.0 and parameters: {'n_estimators': 97, 'learning_rate': 0.32513724798066856, 'algorithm': 'SAMME.R', 'random_state': 4546}. Best is trial 964 with value: 0.005449591280653951.\n",
            "[I 2023-10-04 23:00:19,402] Trial 972 finished with value: 0.0 and parameters: {'n_estimators': 100, 'learning_rate': 0.40106379700656297, 'algorithm': 'SAMME.R', 'random_state': 5001}. Best is trial 964 with value: 0.005449591280653951.\n",
            "[I 2023-10-04 23:00:31,529] Trial 973 finished with value: 0.0 and parameters: {'n_estimators': 100, 'learning_rate': 0.025749457733498283, 'algorithm': 'SAMME.R', 'random_state': 4377}. Best is trial 964 with value: 0.005449591280653951.\n",
            "[I 2023-10-04 23:00:39,005] Trial 974 finished with value: 0.0 and parameters: {'n_estimators': 94, 'learning_rate': 2.624623118452997, 'algorithm': 'SAMME.R', 'random_state': 4758}. Best is trial 964 with value: 0.005449591280653951.\n",
            "[I 2023-10-04 23:00:51,960] Trial 975 finished with value: 0.005047180162387536 and parameters: {'n_estimators': 89, 'learning_rate': 0.46040859443944604, 'algorithm': 'SAMME.R', 'random_state': 4891}. Best is trial 964 with value: 0.005449591280653951.\n",
            "[I 2023-10-04 23:00:57,831] Trial 976 finished with value: 0.004857444561774023 and parameters: {'n_estimators': 90, 'learning_rate': 0.53665708081151, 'algorithm': 'SAMME.R', 'random_state': 4683}. Best is trial 964 with value: 0.005449591280653951.\n",
            "[I 2023-10-04 23:01:10,156] Trial 977 finished with value: 0.0 and parameters: {'n_estimators': 95, 'learning_rate': 0.23073188142386242, 'algorithm': 'SAMME.R', 'random_state': 2973}. Best is trial 964 with value: 0.005449591280653951.\n",
            "[I 2023-10-04 23:01:17,072] Trial 978 finished with value: 0.004348237073447396 and parameters: {'n_estimators': 96, 'learning_rate': 0.7877625514967519, 'algorithm': 'SAMME.R', 'random_state': 2047}. Best is trial 964 with value: 0.005449591280653951.\n",
            "[I 2023-10-04 23:01:29,020] Trial 979 finished with value: 0.0 and parameters: {'n_estimators': 98, 'learning_rate': 0.3845857993470671, 'algorithm': 'SAMME.R', 'random_state': 8278}. Best is trial 964 with value: 0.005449591280653951.\n",
            "[I 2023-10-04 23:01:38,135] Trial 980 finished with value: 0.0 and parameters: {'n_estimators': 98, 'learning_rate': 0.38752907392859953, 'algorithm': 'SAMME.R', 'random_state': 5081}. Best is trial 964 with value: 0.005449591280653951.\n",
            "[I 2023-10-04 23:01:44,154] Trial 981 finished with value: 0.0 and parameters: {'n_estimators': 63, 'learning_rate': 0.1435180165416825, 'algorithm': 'SAMME.R', 'random_state': 5113}. Best is trial 964 with value: 0.005449591280653951.\n",
            "[I 2023-10-04 23:01:56,614] Trial 982 finished with value: 0.005370067709549381 and parameters: {'n_estimators': 93, 'learning_rate': 0.4714455546709103, 'algorithm': 'SAMME.R', 'random_state': 5170}. Best is trial 964 with value: 0.005449591280653951.\n",
            "[I 2023-10-04 23:02:02,915] Trial 983 finished with value: 0.005089621597698606 and parameters: {'n_estimators': 96, 'learning_rate': 0.48541781364693937, 'algorithm': 'SAMME.R', 'random_state': 5340}. Best is trial 964 with value: 0.005449591280653951.\n",
            "[I 2023-10-04 23:02:15,249] Trial 984 finished with value: 0.005235602094240838 and parameters: {'n_estimators': 92, 'learning_rate': 0.4424738150593154, 'algorithm': 'SAMME.R', 'random_state': 5234}. Best is trial 964 with value: 0.005449591280653951.\n",
            "[I 2023-10-04 23:02:20,564] Trial 985 finished with value: 0.0 and parameters: {'n_estimators': 92, 'learning_rate': 0.032054339107444825, 'algorithm': 'SAMME.R', 'random_state': 5241}. Best is trial 964 with value: 0.005449591280653951.\n",
            "[I 2023-10-04 23:02:26,960] Trial 986 finished with value: 0.0 and parameters: {'n_estimators': 57, 'learning_rate': 0.5812807821659604, 'algorithm': 'SAMME.R', 'random_state': 5306}. Best is trial 964 with value: 0.005449591280653951.\n",
            "[I 2023-10-04 23:02:40,061] Trial 987 finished with value: 0.004659171477767649 and parameters: {'n_estimators': 93, 'learning_rate': 0.5986170465917264, 'algorithm': 'SAMME.R', 'random_state': 3558}. Best is trial 964 with value: 0.005449591280653951.\n",
            "[I 2023-10-04 23:02:44,573] Trial 988 finished with value: 0.0 and parameters: {'n_estimators': 91, 'learning_rate': 0.0895811384711214, 'algorithm': 'SAMME.R', 'random_state': 4952}. Best is trial 964 with value: 0.005449591280653951.\n",
            "[I 2023-10-04 23:02:56,767] Trial 989 finished with value: 0.0 and parameters: {'n_estimators': 87, 'learning_rate': 0.3143457332507276, 'algorithm': 'SAMME.R', 'random_state': 5465}. Best is trial 964 with value: 0.005449591280653951.\n",
            "[I 2023-10-04 23:03:01,963] Trial 990 finished with value: 0.004272710384543935 and parameters: {'n_estimators': 88, 'learning_rate': 0.7038793002734279, 'algorithm': 'SAMME.R', 'random_state': 5370}. Best is trial 964 with value: 0.005449591280653951.\n",
            "[I 2023-10-04 23:03:14,672] Trial 991 finished with value: 0.0 and parameters: {'n_estimators': 94, 'learning_rate': 0.010052395542590483, 'algorithm': 'SAMME.R', 'random_state': 6415}. Best is trial 964 with value: 0.005449591280653951.\n",
            "[I 2023-10-04 23:03:21,233] Trial 992 finished with value: 0.0 and parameters: {'n_estimators': 94, 'learning_rate': 0.42766514958739976, 'algorithm': 'SAMME.R', 'random_state': 6357}. Best is trial 964 with value: 0.005449591280653951.\n",
            "[I 2023-10-04 23:03:36,803] Trial 993 finished with value: 0.0 and parameters: {'n_estimators': 100, 'learning_rate': 0.4161126110861832, 'algorithm': 'SAMME.R', 'random_state': 5120}. Best is trial 964 with value: 0.005449591280653951.\n",
            "[I 2023-10-04 23:03:42,347] Trial 994 finished with value: 0.004893617021276595 and parameters: {'n_estimators': 100, 'learning_rate': 0.5243118778089635, 'algorithm': 'SAMME.R', 'random_state': 5166}. Best is trial 964 with value: 0.005449591280653951.\n",
            "[I 2023-10-04 23:03:49,379] Trial 995 finished with value: 0.0 and parameters: {'n_estimators': 61, 'learning_rate': 0.011097147304102679, 'algorithm': 'SAMME.R', 'random_state': 5605}. Best is trial 964 with value: 0.005449591280653951.\n",
            "[I 2023-10-04 23:04:01,904] Trial 996 finished with value: 0.0 and parameters: {'n_estimators': 97, 'learning_rate': 3.8528895461900747, 'algorithm': 'SAMME.R', 'random_state': 5509}. Best is trial 964 with value: 0.005449591280653951.\n",
            "[I 2023-10-04 23:04:08,397] Trial 997 finished with value: 0.0 and parameters: {'n_estimators': 98, 'learning_rate': 0.042064814667203604, 'algorithm': 'SAMME.R', 'random_state': 5465}. Best is trial 964 with value: 0.005449591280653951.\n",
            "[I 2023-10-04 23:04:20,535] Trial 998 finished with value: 0.0 and parameters: {'n_estimators': 98, 'learning_rate': 0.3577755641515177, 'algorithm': 'SAMME.R', 'random_state': 6150}. Best is trial 964 with value: 0.005449591280653951.\n",
            "[I 2023-10-04 23:04:26,168] Trial 999 finished with value: 0.0 and parameters: {'n_estimators': 95, 'learning_rate': 0.3578110821643321, 'algorithm': 'SAMME.R', 'random_state': 1770}. Best is trial 964 with value: 0.005449591280653951.\n"
          ]
        }
      ],
      "source": [
        "study = optuna.create_study(\n",
        "    direction='maximize',\n",
        "    sampler=optuna.samplers.TPESampler(),\n",
        "    pruner=optuna.pruners.HyperbandPruner()\n",
        ")\n",
        "study.optimize(objective, n_trials=1000, n_jobs=2)"
      ]
    },
    {
      "cell_type": "code",
      "execution_count": null,
      "metadata": {
        "colab": {
          "base_uri": "https://localhost:8080/"
        },
        "id": "vWcyKWk09OO9",
        "outputId": "e0c36b17-9fc8-4d02-db23-41e3272aeac5"
      },
      "outputs": [
        {
          "output_type": "stream",
          "name": "stdout",
          "text": [
            "Melhor hyperparâmetros:  {'n_estimators': 97, 'learning_rate': 0.39665047957140376, 'algorithm': 'SAMME.R', 'random_state': 4897}\n",
            "melhor Score:  0.005449591280653951\n"
          ]
        }
      ],
      "source": [
        "best_params = study.best_params\n",
        "best_score = study.best_value\n",
        "print('Melhor hyperparâmetros: ', best_params)\n",
        "print('melhor Score: ', best_score)"
      ]
    },
    {
      "cell_type": "code",
      "execution_count": null,
      "metadata": {
        "colab": {
          "base_uri": "https://localhost:8080/",
          "height": 767
        },
        "id": "4sk-axxakh7v",
        "outputId": "976fff89-8f79-4020-b548-a1b30ad6ed94"
      },
      "outputs": [
        {
          "output_type": "stream",
          "name": "stdout",
          "text": [
            "Precision: 0.005449591280653951\n",
            "Accuracy: 0.8429725786539972\n",
            "Confusion Matrix:\n",
            "[[45021  8395]\n",
            " [    0    46]]\n",
            "Classification Report:\n",
            "              precision    recall  f1-score   support\n",
            "\n",
            "         0.0       1.00      0.84      0.91     53416\n",
            "         1.0       0.01      1.00      0.01        46\n",
            "\n",
            "    accuracy                           0.84     53462\n",
            "   macro avg       0.50      0.92      0.46     53462\n",
            "weighted avg       1.00      0.84      0.91     53462\n",
            "\n"
          ]
        },
        {
          "output_type": "display_data",
          "data": {
            "text/plain": [
              "<Figure size 640x480 with 1 Axes>"
            ],
            "image/png": "[encoded data removed]"
          },
          "metadata": {}
        },
        {
          "output_type": "stream",
          "name": "stdout",
          "text": [
            "======================================================================\n",
            "======================================================================\n"
          ]
        }
      ],
      "source": [
        "model = AdaBoostClassifier(n_estimators= 97, learning_rate= 0.39665047957140376, algorithm= 'SAMME.R', random_state= 4897)\n",
        "\n",
        "model.fit(X_train, y_train)\n",
        "y_pred = model.predict(X_test)\n",
        "\n",
        "accuracy = accuracy_score(y_test, y_pred)\n",
        "confusion = confusion_matrix(y_test, y_pred)\n",
        "classification_rep = classification_report(y_test, y_pred)\n",
        "precision = precision_score(y_test, y_pred)\n",
        "\n",
        "print(f'Precision: {precision}')\n",
        "print(f'Accuracy: {accuracy}')\n",
        "print(f'Confusion Matrix:\\n{confusion}')\n",
        "print(f'Classification Report:\\n{classification_rep}')\n",
        "\n",
        "\n",
        "fpr, tpr, thresholds = roc_curve(y_test, y_pred)\n",
        "roc_auc = auc(fpr, tpr)\n",
        "\n",
        "# Plote a curva ROC\n",
        "plt.figure()\n",
        "plt.plot(fpr, tpr, color='darkorange', lw=2, label='Curva ROC (area = {:.2f})'.format(roc_auc))\n",
        "plt.plot([0, 1], [0, 1], color='navy', lw=2, linestyle='--')\n",
        "plt.xlim([0.0, 1.0])\n",
        "plt.ylim([0.0, 1.05])\n",
        "plt.xlabel('Taxa de Falso Positivo')\n",
        "plt.ylabel('Taxa de Verdadeiro Positivo')\n",
        "plt.title('Curva ROC')\n",
        "plt.legend(loc=\"lower right\")\n",
        "plt.show()\n",
        "print('=' * 70)\n",
        "print('=' * 70)"
      ]
    }
  ],
  "metadata": {
    "colab": {
      "provenance": []
    },
    "kernelspec": {
      "display_name": "Python 3",
      "name": "python3"
    },
    "language_info": {
      "codemirror_mode": {
        "name": "ipython",
        "version": 3
      },
      "file_extension": ".py",
      "mimetype": "text/x-python",
      "name": "python",
      "nbconvert_exporter": "python",
      "pygments_lexer": "ipython3",
      "version": "3.10.5"
    }
  },
  "nbformat": 4,
  "nbformat_minor": 0
}
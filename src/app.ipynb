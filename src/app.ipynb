{
 "cells": [
  {
   "cell_type": "code",
   "execution_count": null,
   "metadata": {},
   "outputs": [],
   "source": [
    "import pandas as pd\n",
    "import numpy as np"
   ]
  },
  {
   "cell_type": "code",
   "execution_count": null,
   "metadata": {},
   "outputs": [],
   "source": [
    "def funcao_matriz(arquivos, data_inicio, data_fim):\n",
    "    \n",
    "    df = transformando_em_df(arquivos)\n",
    "\n",
    "    df = separando_por_meses_selecionados(df, data_inicio, data_fim)\n",
    "\n",
    "    df = agregar_subordinadas_senior(df)\n",
    "\n",
    "    df = agregar_por_prazo(df)\n",
    "\n",
    "    df = somar_ativos_em_uma_coluna(df)\n",
    "\n",
    "    df = criando_coluna_provisao(df)\n",
    "\n",
    "    df = manter_colunas_selecionadas(df)\n",
    "\n",
    "    df, linhas_liquidadas = eliminando_linhas_liquidadas(df)\n",
    "\n",
    "    df = substituindo_valores_nulos_de_algumas_colunas(df)\n",
    "\n",
    "    df, linhas_com_nulos = eliminando_linhas_com_valores_nulos(df)\n",
    "\n",
    "    df = label_encoder(df)\n",
    "\n",
    "    df_predict = criando_dfPredict(df)\n",
    "\n",
    "    df_predict = minmax_scaler(df_predict)\n",
    "\n",
    "    y_pred = predictModel(df_predict)\n",
    "\n",
    "    df = criando_coluna_com_predicao(df, y_pred)\n",
    "\n",
    "    df = filtrando_linhas_em_alerta(df)\n",
    "\n",
    "    df, linhas_liquidadas, linhas_com_nulos = selecionando_valores_relevantes_para_o_site(df, linhas_liquidadas, linhas_com_nulos)\n",
    "\n",
    "    df_array, linhas_liquidadas_array, linhas_com_nulos_array = criando_arrays_para_cada_df(df, linhas_liquidadas, linhas_com_nulos)\n",
    "\n",
    "    return df_array, linhas_liquidadas_array, linhas_com_nulos_array\n"
   ]
  },
  {
   "cell_type": "code",
   "execution_count": null,
   "metadata": {},
   "outputs": [],
   "source": [
    "def transformando_em_df(arquivos):\n",
    "    df_1 = pd.read_csv(arquivos[1])\n",
    "    df_2 = pd.read_csv(arquivos[0])\n",
    "    df = pd.merge(df_1, df_2, on='SK_Documento', how='inner')\n",
    "\n",
    "    return df\n",
    "    "
   ]
  },
  {
   "cell_type": "code",
   "execution_count": null,
   "metadata": {},
   "outputs": [],
   "source": [
    "from datetime import datetime\n",
    "\n",
    "def ajustando_data_do_dataframe(row):\n",
    "    numeros = row.split('-')\n",
    "\n",
    "    ano = numeros[0]\n",
    "\n",
    "    mes = numeros[1]\n",
    "\n",
    "    nova_data = f'{ano}-{mes}'\n",
    "\n",
    "    return nova_data\n",
    "    \n",
    "\n",
    "\n",
    "def separando_por_meses_selecionados(df, data_inicial, data_final):\n",
    "    \n",
    "    data_inicial = datetime.strptime(data_inicial, \"%Y-%m\")\n",
    "    data_final = datetime.strptime(data_final, \"%Y-%m\")\n",
    "\n",
    "    datas_entre = []\n",
    "\n",
    "    while data_inicial <= data_final:\n",
    "        datas_entre.append(data_inicial.strftime(\"%Y-%m\"))\n",
    "        if data_inicial.month == 12:\n",
    "            data_inicial = datetime(data_inicial.year + 1, 1, 1)\n",
    "        else:\n",
    "            data_inicial = datetime(data_inicial.year, data_inicial.month + 1, 1)\n",
    "\n",
    "\n",
    "\n",
    "    df['Data_Competencia'] = df['Data_Competencia'].apply(ajustando_data_do_dataframe)\n",
    "\n",
    "\n",
    "    df['Data_Competencia'] = pd.to_datetime(df['Data_Competencia'], format='%Y-%m')\n",
    "\n",
    "    df = df[df['Data_Competencia'].dt.strftime('%Y-%m').isin(datas_entre)]\n",
    "\n",
    "    \n",
    "\n",
    "    return df\n",
    "        "
   ]
  },
  {
   "cell_type": "code",
   "execution_count": null,
   "metadata": {},
   "outputs": [],
   "source": [
    "def agregar_subordinadas_senior(df):\n",
    "  df.loc[df['Classe_Serie'].str.contains(\"sub\", case=False), 'Classe_Serie'] = \"Subordinada\"\n",
    "  df.loc[df['Classe_Serie'].str.contains(\"nior\", case=False), 'Classe_Serie'] = \"Senior\"\n",
    "\n",
    "  classe_serie_types = [\"Subordinada\", \"Senior\"]\n",
    "  cols_to_sum = [\"Numero_Cotistas\", \"Quantidade_Cotas\", \"Valor_Cota\", \"Rentabilidade\", \"Valor_Total_Captado\", \"Quantidade_Cotas_Emitidas\", \"Valor_Total_Resgates\", \"Quantidade_Cotas_Resgatadas\", \"Valor_A_Pagar\", \"Quantidade_Cotas_A_Resgatar\", \"Valor_Amortizado_Cota\", \"Valor_Total_Amortizacao\", \"Desempenho_Esperado\", \"Desempenho_Realizado\"]\n",
    "  for classe_serie_type in classe_serie_types:\n",
    "    for col in cols_to_sum:\n",
    "      df[col + \"_\" + classe_serie_type] = df[df['Classe_Serie'] == classe_serie_type].groupby('ID_Documento')[col].transform('sum')\n",
    "\n",
    "  df.drop(cols_to_sum, axis=1, inplace=True)\n",
    "  df = df.drop_duplicates()\n",
    "\n",
    "  df = df.groupby(\"ID_Documento\", as_index=False).agg(\"first\")\n",
    "\n",
    "  return df\n",
    "\n",
    "\n"
   ]
  },
  {
   "cell_type": "code",
   "execution_count": null,
   "metadata": {},
   "outputs": [],
   "source": [
    "def agregar_por_prazo(df):\n",
    "    df['Carteira_Direitos_Aquisicao_Prazo_CP'] = df['Carteira_Direitos_Aquisicao_Prazo_1_30_dias'] + df['Carteira_Direitos_Aquisicao_Prazo_31_60_Dias'] + df['Carteira_Direitos_Aquisicao_Prazo_61_90_Dias']\n",
    "    df['Carteira_Direitos_Aquisicao_Prazo_MP'] = df['Carteira_Direitos_Aquisicao_Prazo_91_120_Dias'] + df['Carteira_Direitos_Aquisicao_Prazo_121_150_Dias'] + df['Carteira_Direitos_Aquisicao_Prazo_151_180_Dias'] + df['Carteira_Direitos_Aquisicao_Prazo_181_360_Dias']\n",
    "    df['Carteira_Direitos_Aquisicao_Prazo_LP'] = df['Carteira_Direitos_Aquisicao_Prazo_361_720_Dias'] + df['Carteira_Direitos_Aquisicao_Prazo_721_1080_Dias'] + df['Carteira_Direitos_Aquisicao_Prazo_Acima_1080_Dias']\n",
    "    df['Carteira_Direitos_Aquisicao_Inadimplentes_CP'] = df['Carteira_Direitos_Aquisicao_Inadimplentes_1_30_Dias'] + df['Carteira_Direitos_Aquisicao_Inadimplentes_31_60_Dias'] + df['Carteira_Direitos_Aquisicao_Inadimplentes_61_90_Dias']\n",
    "    df['Carteira_Direitos_Aquisicao_Inadimplentes_MP'] = df['Carteira_Direitos_Aquisicao_Inadimplentes_91_120_Dias'] + df['Carteira_Direitos_Aquisicao_Inadimplentes_121_150_Dias'] + df['Carteira_Direitos_Aquisicao_Inadimplentes_151_180_Dias'] + df['Carteira_Direitos_Aquisicao_Inadimplentes_181_360_Dias']\n",
    "    df['Carteira_Direitos_Aquisicao_Inadimplentes_LP'] = df['Carteira_Direitos_Aquisicao_Inadimplentes_361_720_Dias'] + df['Carteira_Direitos_Aquisicao_Inadimplentes_721_1080_Dias'] + df['Carteira_Direitos_Aquisicao_Inadimplentes_Acima_1080_Dias']\n",
    "    df['Carteira_Direitos_Aquisicao_Pagos_CP'] = df['Carteira_Direitos_Aquisicao_Pagos_1_30_Dias'] + df['Carteira_Direitos_Aquisicao_Pagos_31_60_Dias'] + df['Carteira_Direitos_Aquisicao_Pagos_61_90_Dias']\n",
    "    df['Carteira_Direitos_Aquisicao_Pagos_MP'] = df['Carteira_Direitos_Aquisicao_Pagos_91_120_Dias'] + df['Carteira_Direitos_Aquisicao_Pagos_121_150_Dias'] + df['Carteira_Direitos_Aquisicao_Pagos_151_180_Dias'] + df['Carteira_Direitos_Aquisicao_Pagos_181_360_Dias']\n",
    "    df['Carteira_Direitos_Aquisicao_Pagos_LP'] = df['Carteira_Direitos_Aquisicao_Pagos_361_720_Dias'] + df['Carteira_Direitos_Aquisicao_Pagos_721_1080_Dias'] + df['Carteira_Direitos_Aquisicao_Pagos_Acima_1080_Dias']\n",
    "    df['Carteira_Direitos_Sem_Aquisicao_Prazo_CP'] = df['Carteira_Direitos_Sem_Aquisicao_Prazo_1_30_dias'] + df['Carteira_Direitos_Sem_Aquisicao_Prazo_31_60_Dias'] + df['Carteira_Direitos_Sem_Aquisicao_Prazo_61_90_Dias']\n",
    "    df['Carteira_Direitos_Sem_Aquisicao_Prazo_MP'] = df['Carteira_Direitos_Sem_Aquisicao_Prazo_91_120_Dias'] + df['Carteira_Direitos_Sem_Aquisicao_Prazo_121_150_Dias'] + df['Carteira_Direitos_Sem_Aquisicao_Prazo_151_180_Dias'] + df['Carteira_Direitos_Sem_Aquisicao_Prazo_181_360_Dias']\n",
    "    df['Carteira_Direitos_Sem_Aquisicao_Prazo_LP'] = df['Carteira_Direitos_Sem_Aquisicao_Prazo_361_720_Dias'] + df['Carteira_Direitos_Sem_Aquisicao_Prazo_721_1080_Dias'] + df['Carteira_Direitos_Sem_Aquisicao_Prazo_Acima_1080_Dias']\n",
    "    df['Carteira_Direitos_Sem_Aquisicao_Inadimplentes_CP'] = df['Carteira_Direitos_Sem_Aquisicao_Inadimplentes_1_30_Dias'] + df['Carteira_Direitos_Sem_Aquisicao_Inadimplentes_31_60_Dias'] + df['Carteira_Direitos_Sem_Aquisicao_Inadimplentes_61_90_Dias']\n",
    "    df['Carteira_Direitos_Sem_Aquisicao_Inadimplentes_MP'] = df['Carteira_Direitos_Sem_Aquisicao_Inadimplentes_91_120_Dias'] + df['Carteira_Direitos_Sem_Aquisicao_Inadimplentes_121_150_Dias'] + df['Carteira_Direitos_Sem_Aquisicao_Inadimplentes_151_180_Dias'] + df['Carteira_Direitos_Sem_Aquisicao_Inadimplentes_181_360_Dias']\n",
    "    df['Carteira_Direitos_Sem_Aquisicao_Inadimplentes_LP'] = df['Carteira_Direitos_Sem_Aquisicao_Inadimplentes_361_720_Dias'] + df['Carteira_Direitos_Sem_Aquisicao_Inadimplentes_721_1080_Dias'] + df['Carteira_Direitos_Sem_Aquisicao_Inadimplentes_Acima_1080_Dias']\n",
    "    df['Carteira_Direitos_Sem_Aquisicao_Pagos_CP'] = df['Carteira_Direitos_Sem_Aquisicao_Pagos_1_30_Dias'] + df['Carteira_Direitos_Sem_Aquisicao_Pagos_31_60_Dias'] + df['Carteira_Direitos_Sem_Aquisicao_Pagos_61_90_Dias']\n",
    "    df['Carteira_Direitos_Sem_Aquisicao_Pagos_MP'] = df['Carteira_Direitos_Sem_Aquisicao_Pagos_91_120_Dias'] + df['Carteira_Direitos_Sem_Aquisicao_Pagos_121_150_Dias'] + df['Carteira_Direitos_Sem_Aquisicao_Pagos_151_180_Dias'] + df['Carteira_Direitos_Sem_Aquisicao_Pagos_181_360_Dias']\n",
    "    df['Carteira_Direitos_Sem_Aquisicao_Pagos_LP'] = df['Carteira_Direitos_Sem_Aquisicao_Pagos_361_720_Dias'] + df['Carteira_Direitos_Sem_Aquisicao_Pagos_721_1080_Dias'] + df['Carteira_Direitos_Sem_Aquisicao_Pagos_Acima_1080_Dias']\n",
    "    df['Liquidez_CP'] = df['Liquidez_Ate_30_Dias'] + df['Liquidez_Ate_60_Dias'] + df['Liquidez_Ate_90_Dias']\n",
    "    df['Liquidez_MP'] = df['Liquidez_Ate_180_Dias'] + df['Liquidez_Ate_360_Dias']\n",
    "    df['Liquidez_LP'] = df['Liquidez_Acima_360_Dias']\n",
    "    \n",
    "    agg_cols_to_drop = ['Carteira_Direitos_Aquisicao_Prazo_1_30_dias', 'Carteira_Direitos_Aquisicao_Prazo_31_60_Dias', 'Carteira_Direitos_Aquisicao_Prazo_61_90_Dias', 'Carteira_Direitos_Aquisicao_Prazo_91_120_Dias', 'Carteira_Direitos_Aquisicao_Prazo_121_150_Dias', 'Carteira_Direitos_Aquisicao_Prazo_151_180_Dias', 'Carteira_Direitos_Aquisicao_Prazo_181_360_Dias', 'Carteira_Direitos_Aquisicao_Prazo_361_720_Dias', 'Carteira_Direitos_Aquisicao_Prazo_721_1080_Dias', 'Carteira_Direitos_Aquisicao_Prazo_Acima_1080_Dias', 'Carteira_Direitos_Aquisicao_Inadimplentes_1_30_Dias', 'Carteira_Direitos_Aquisicao_Inadimplentes_31_60_Dias', 'Carteira_Direitos_Aquisicao_Inadimplentes_61_90_Dias', 'Carteira_Direitos_Aquisicao_Inadimplentes_91_120_Dias', 'Carteira_Direitos_Aquisicao_Inadimplentes_121_150_Dias', 'Carteira_Direitos_Aquisicao_Inadimplentes_151_180_Dias', 'Carteira_Direitos_Aquisicao_Inadimplentes_181_360_Dias', 'Carteira_Direitos_Aquisicao_Inadimplentes_361_720_Dias', 'Carteira_Direitos_Aquisicao_Inadimplentes_721_1080_Dias', 'Carteira_Direitos_Aquisicao_Inadimplentes_Acima_1080_Dias', 'Carteira_Direitos_Aquisicao_Pagos_1_30_Dias', 'Carteira_Direitos_Aquisicao_Pagos_31_60_Dias', 'Carteira_Direitos_Aquisicao_Pagos_61_90_Dias', 'Carteira_Direitos_Aquisicao_Pagos_91_120_Dias', 'Carteira_Direitos_Aquisicao_Pagos_121_150_Dias', 'Carteira_Direitos_Aquisicao_Pagos_151_180_Dias', 'Carteira_Direitos_Aquisicao_Pagos_181_360_Dias', 'Carteira_Direitos_Aquisicao_Pagos_361_720_Dias', 'Carteira_Direitos_Aquisicao_Pagos_721_1080_Dias', 'Carteira_Direitos_Aquisicao_Pagos_Acima_1080_Dias', 'Carteira_Direitos_Sem_Aquisicao_Prazo_1_30_dias', 'Carteira_Direitos_Sem_Aquisicao_Prazo_31_60_Dias', 'Carteira_Direitos_Sem_Aquisicao_Prazo_61_90_Dias', 'Carteira_Direitos_Sem_Aquisicao_Prazo_91_120_Dias', 'Carteira_Direitos_Sem_Aquisicao_Prazo_121_150_Dias', 'Carteira_Direitos_Sem_Aquisicao_Prazo_151_180_Dias', 'Carteira_Direitos_Sem_Aquisicao_Prazo_181_360_Dias', 'Carteira_Direitos_Sem_Aquisicao_Prazo_361_720_Dias', 'Carteira_Direitos_Sem_Aquisicao_Prazo_721_1080_Dias', 'Carteira_Direitos_Sem_Aquisicao_Prazo_Acima_1080_Dias', 'Carteira_Direitos_Sem_Aquisicao_Inadimplentes_1_30_Dias', 'Carteira_Direitos_Sem_Aquisicao_Inadimplentes_31_60_Dias', 'Carteira_Direitos_Sem_Aquisicao_Inadimplentes_61_90_Dias', 'Carteira_Direitos_Sem_Aquisicao_Inadimplentes_91_120_Dias', 'Carteira_Direitos_Sem_Aquisicao_Inadimplentes_121_150_Dias', 'Carteira_Direitos_Sem_Aquisicao_Inadimplentes_151_180_Dias', 'Carteira_Direitos_Sem_Aquisicao_Inadimplentes_181_360_Dias', 'Carteira_Direitos_Sem_Aquisicao_Inadimplentes_361_720_Dias', 'Carteira_Direitos_Sem_Aquisicao_Inadimplentes_721_1080_Dias', 'Carteira_Direitos_Sem_Aquisicao_Inadimplentes_Acima_1080_Dias', 'Carteira_Direitos_Sem_Aquisicao_Pagos_1_30_Dias', 'Carteira_Direitos_Sem_Aquisicao_Pagos_31_60_Dias', 'Carteira_Direitos_Sem_Aquisicao_Pagos_61_90_Dias', 'Carteira_Direitos_Sem_Aquisicao_Pagos_91_120_Dias', 'Carteira_Direitos_Sem_Aquisicao_Pagos_121_150_Dias', 'Carteira_Direitos_Sem_Aquisicao_Pagos_151_180_Dias', 'Carteira_Direitos_Sem_Aquisicao_Pagos_181_360_Dias', 'Carteira_Direitos_Sem_Aquisicao_Pagos_361_720_Dias', 'Carteira_Direitos_Sem_Aquisicao_Pagos_721_1080_Dias', 'Carteira_Direitos_Sem_Aquisicao_Pagos_Acima_1080_Dias', 'Liquidez_Ate_30_Dias', 'Liquidez_Ate_60_Dias', 'Liquidez_Ate_90_Dias', 'Liquidez_Ate_180_Dias', 'Liquidez_Ate_360_Dias', 'Liquidez_Acima_360_Dias']\n",
    "    df.drop(agg_cols_to_drop, axis=1, inplace=True)\n",
    "\n",
    "    return df"
   ]
  },
  {
   "cell_type": "code",
   "execution_count": null,
   "metadata": {},
   "outputs": [],
   "source": [
    "def somar_ativos_em_uma_coluna(df):\n",
    "    ativos_drop = [\"Ativo_Valores_Mobiliarios\", \"Ativo_Titulos_Federais\", \"Ativo_CDB\", \"Ativo_Operacoes_Compromissadas\", \"Ativo_Outros_Ativos_Renda_Fixa\", \"Ativo_Cotas_FIDC\", \"Ativo_Warrants\", \"Ativo_Posicao_Derivativos\", \"Ativo_Mercado_Termo\", \"Ativo_Mercado_Opcoes\", \"Ativo_Mercado_Futuro\", \"Ativo_Diferencial_Swap\", \"Ativo_Depositos_Margem\", \"Ativo_Debentures\", \"Ativo_CRI\", \"Ativo_Notas_Promissorias\", \"Ativo_Letras Financeiras\", \"Ativo_Cotas_Fundos_ICVM_555\", \"Ativo_Outros_Valores_Mobiliarios\", \"Ativo_Cotas_FIDC_NP\", \"Ativo_Provisao_Debentures_CRI_NP_LF\", \"Ativo_Provisao_Cotas_FIDC\", \"Ativo_Provisao_Outros_Ativos\"]\n",
    "\n",
    "    for ativo in ativos_drop:\n",
    "      df[\"Ativo_Outros\"] = df[\"Ativo_Outros\"] +  df[ativo]\n",
    "\n",
    "    df = df.drop(ativos_drop, axis=1)\n",
    "\n",
    "    return df"
   ]
  },
  {
   "cell_type": "code",
   "execution_count": null,
   "metadata": {},
   "outputs": [],
   "source": [
    "def criando_coluna_provisao(df):\n",
    "    df[\"Provisao\"] = df[\"Ativo_Direitos_Aquisicao_Provisao_Reducao\"] + df[\"Ativo_Direitos_Sem_Aquisicao_Provisao_Reducao\"]\n",
    "\n",
    "    return df"
   ]
  },
  {
   "cell_type": "code",
   "execution_count": null,
   "metadata": {},
   "outputs": [],
   "source": [
    "def manter_colunas_selecionadas(df):\n",
    "    columns_to_keep = [\"Data_Competencia\", \"CNPJ\", 'Nome_Fundo', \"CNPJ_Administrador\", \"Forma_Condominio\", \"Patrimonio_Liquido\", \"Carteira_Direitos_Aquisicao_Inadimplentes_CP\", \"Carteira_Direitos_Aquisicao_Inadimplentes_MP\", \"Carteira_Direitos_Aquisicao_Inadimplentes_LP\", \"Carteira_Direitos_Sem_Aquisicao_Inadimplentes_CP\", \"Carteira_Direitos_Sem_Aquisicao_Inadimplentes_MP\", \"Carteira_Direitos_Sem_Aquisicao_Inadimplentes_LP\", \"Liquidez_CP\", \"Liquidez_MP\", \"Liquidez_LP\", \"Carteira_Financeiro\", \"Provisao\", \"Quantidade_Cotas_Senior\", \"Valor_Cota_Senior\", \"Rentabilidade_Senior\", \"Valor_Total_Captado_Senior\", \"Valor_Total_Resgates_Senior\", \"Valor_A_Pagar_Senior\", \"Quantidade_Cotas_A_Resgatar_Senior\", \"Valor_Amortizado_Cota_Senior\", \"Valor_Total_Amortizacao_Senior\", \"Desempenho_Esperado_Senior\", \"Desempenho_Realizado_Senior\", \"Quantidade_Cotas_Subordinada\", \"Valor_Cota_Subordinada\", \"Rentabilidade_Subordinada\", \"Valor_Total_Captado_Subordinada\", \"Valor_Total_Resgates_Subordinada\", \"Valor_A_Pagar_Subordinada\", \"Quantidade_Cotas_A_Resgatar_Subordinada\", \"Valor_Amortizado_Cota_Subordinada\", \"Valor_Total_Amortizacao_Subordinada\", \"Desempenho_Esperado_Subordinada\", \"Desempenho_Realizado_Subordinada\"]\n",
    "    df = df[columns_to_keep]\n",
    "\n",
    "    return df"
   ]
  },
  {
   "cell_type": "code",
   "execution_count": null,
   "metadata": {},
   "outputs": [],
   "source": [
    "def eliminando_linhas_liquidadas(df):\n",
    "    colunas = df.columns.tolist()\n",
    "    colunas_padrao = ['CNPJ', 'Nome_Fundo', 'Data_Competencia', 'CNPJ_Administrador', 'Forma_Condominio']\n",
    "    for colunasP in colunas_padrao:\n",
    "      colunas.remove(colunasP)\n",
    "    \n",
    "    linhas_liquidadas = df[df[colunas].eq(0).all(axis=1)]\n",
    "\n",
    "    df = df.drop(linhas_liquidadas.index)\n",
    "\n",
    "    return df, linhas_liquidadas"
   ]
  },
  {
   "cell_type": "code",
   "execution_count": null,
   "metadata": {},
   "outputs": [],
   "source": [
    "def substituindo_valores_nulos_de_algumas_colunas(df):\n",
    "    colunas = ['Carteira_Direitos_Aquisicao_Inadimplentes_CP', 'Carteira_Direitos_Aquisicao_Inadimplentes_MP', 'Carteira_Direitos_Aquisicao_Inadimplentes_LP', 'Carteira_Direitos_Sem_Aquisicao_Inadimplentes_CP', 'Carteira_Direitos_Sem_Aquisicao_Inadimplentes_MP', 'Carteira_Direitos_Sem_Aquisicao_Inadimplentes_LP', 'Liquidez_CP', 'Liquidez_MP', 'Liquidez_LP']\n",
    "    for coluna in colunas:\n",
    "      df[coluna] = df[coluna].fillna(0)\n",
    "\n",
    "    return df"
   ]
  },
  {
   "cell_type": "code",
   "execution_count": null,
   "metadata": {},
   "outputs": [],
   "source": [
    "def eliminando_linhas_com_valores_nulos(df):\n",
    "    linhas_com_nulos = df[df.isnull().any(axis=1)]\n",
    "    df = df.dropna()\n",
    "    \n",
    "    return df, linhas_com_nulos"
   ]
  },
  {
   "cell_type": "code",
   "execution_count": null,
   "metadata": {},
   "outputs": [],
   "source": [
    "from sklearn.preprocessing import LabelEncoder\n",
    "\n",
    "def label_encoder(df):\n",
    "    var_mod =['Forma_Condominio']\n",
    "    le = LabelEncoder()\n",
    "    for i in var_mod:\n",
    "      df[i] = le.fit_transform(df[i])\n",
    "\n",
    "    return df"
   ]
  },
  {
   "cell_type": "code",
   "execution_count": null,
   "metadata": {},
   "outputs": [],
   "source": [
    "def criando_dfPredict(df):\n",
    "\n",
    "    df_predict = df.drop(['Nome_Fundo', 'CNPJ', 'CNPJ_Administrador', 'Data_Competencia'], axis=1)\n",
    "\n",
    "    return df_predict"
   ]
  },
  {
   "cell_type": "code",
   "execution_count": null,
   "metadata": {},
   "outputs": [],
   "source": [
    "from sklearn.preprocessing import MinMaxScaler\n",
    "\n",
    "def minmax_scaler(df):\n",
    "    scaler = MinMaxScaler()\n",
    "    df = scaler.fit_transform(df)\n",
    "\n",
    "    return df"
   ]
  },
  {
   "cell_type": "code",
   "execution_count": null,
   "metadata": {},
   "outputs": [],
   "source": [
    "import treelite\n",
    "\n",
    "def predictModel(df):\n",
    "    checkpoint_path = './modeloPreditivo/RandomForestClassifier.tl'\n",
    "    tl_model = treelite.Model.deserialize(checkpoint_path)\n",
    "    y_pred = treelite.gtil.predict(tl_model, df, pred_margin=True)\n",
    "\n",
    "    return y_pred\n",
    "    "
   ]
  },
  {
   "cell_type": "code",
   "execution_count": null,
   "metadata": {},
   "outputs": [],
   "source": [
    "def criando_coluna_com_predicao(df, y_pred):\n",
    "    df['y_pred'] = y_pred[:, 1]\n",
    "\n",
    "    return df"
   ]
  },
  {
   "cell_type": "code",
   "execution_count": null,
   "metadata": {},
   "outputs": [],
   "source": [
    "def filtrando_linhas_em_alerta(df):\n",
    "    filtro = df['y_pred'] >= 0.5\n",
    "\n",
    "    df = df[filtro]\n",
    "\n",
    "    return df"
   ]
  },
  {
   "cell_type": "code",
   "execution_count": null,
   "metadata": {},
   "outputs": [],
   "source": [
    "def selecionando_valores_relevantes_para_o_site(df1, df2, df3):\n",
    "    colunas_para_o_site = ['Nome_Fundo', 'CNPJ']\n",
    "\n",
    "    df1 = df1[colunas_para_o_site]\n",
    "    df2 = df2[colunas_para_o_site]\n",
    "    df3 = df3[colunas_para_o_site]\n",
    "\n",
    "    return df1, df2, df3"
   ]
  },
  {
   "cell_type": "code",
   "execution_count": null,
   "metadata": {},
   "outputs": [],
   "source": [
    "def criando_arrays_para_cada_df(df1, df2, df3):\n",
    "    df1_array = []\n",
    "\n",
    "    for index, row in df1.iterrows():\n",
    "        array_da_linha = row.tolist()\n",
    "        df1_array.append(array_da_linha)\n",
    "\n",
    "\n",
    "    df2_array = []\n",
    "\n",
    "    for index, row in df2.iterrows():\n",
    "        array_da_linha = row.tolist()\n",
    "        df2_array.append(array_da_linha)\n",
    "        \n",
    "\n",
    "    df3_array = []\n",
    "\n",
    "    for index, row in df3.iterrows():\n",
    "        array_da_linha = row.tolist()\n",
    "        df3_array.append(array_da_linha)\n",
    "\n",
    "\n",
    "    return df1_array, df2_array, df3_array\n",
    "\n",
    "    "
   ]
  },
  {
   "cell_type": "code",
   "execution_count": null,
   "metadata": {},
   "outputs": [],
   "source": [
    "from flask import Flask, render_template, request,  jsonify\n",
    "app = Flask(__name__, template_folder='templates')\n",
    "@app.route(\"/\", methods = ['Get','POST'])\n",
    "def home_get():\n",
    "    if request.method == 'GET':\n",
    "        return render_template('index.html')\n",
    "    if request.method == 'POST':\n",
    "        arquivos = request.files.getlist(\"arquivos\")\n",
    "        mes_inicial = request.form.get(\"mes_inicial\")\n",
    "        mes_final = request.form.get(\"mes_final\")\n",
    "\n",
    "        principal_array, liquidadas_array, nulos_array = funcao_matriz(arquivos, mes_inicial, mes_final)\n",
    "\n",
    "        return render_template(\"index_predict.html\", principal_array = principal_array, liquidadas_array = liquidadas_array, nulos_array = nulos_array)\n",
    "\n",
    "@app.route(\"/quemSomos\")\n",
    "def quemSomos():\n",
    "    return render_template('quemSomos.html')\n",
    "\n",
    "@app.route(\"/contato\")\n",
    "def contato():\n",
    "    return render_template('contato.html')\n",
    "\n",
    "\n",
    "\n",
    "if __name__ == \"__main__\":\n",
    "    app.run()"
   ]
  }
 ],
 "metadata": {
  "kernelspec": {
   "display_name": "Python 3",
   "language": "python",
   "name": "python3"
  },
  "language_info": {
   "codemirror_mode": {
    "name": "ipython",
    "version": 3
   },
   "file_extension": ".py",
   "mimetype": "text/x-python",
   "name": "python",
   "nbconvert_exporter": "python",
   "pygments_lexer": "ipython3",
   "version": "3.11.0"
  },
  "orig_nbformat": 4
 },
 "nbformat": 4,
 "nbformat_minor": 2
}
